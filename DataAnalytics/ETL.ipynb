{
 "cells": [
  {
   "cell_type": "markdown",
   "metadata": {},
   "source": [
    "La idea es hacer un Dataframe por archivo e ir explorandolos y limpiando de a poco."
   ]
  },
  {
   "cell_type": "code",
   "execution_count": 215,
   "metadata": {},
   "outputs": [],
   "source": [
    "import pandas as pd"
   ]
  },
  {
   "cell_type": "markdown",
   "metadata": {},
   "source": [
    "Establezco la ruta de mi archivo .csv para crear el dataframe y poder explorarlo."
   ]
  },
  {
   "cell_type": "code",
   "execution_count": 216,
   "metadata": {},
   "outputs": [],
   "source": [
    "ruta1 = 'Data/data_1.csv'"
   ]
  },
  {
   "cell_type": "code",
   "execution_count": 217,
   "metadata": {},
   "outputs": [],
   "source": [
    "df_1 = pd.read_csv(ruta1)"
   ]
  },
  {
   "cell_type": "code",
   "execution_count": 218,
   "metadata": {},
   "outputs": [
    {
     "data": {
      "text/html": [
       "<div>\n",
       "<style scoped>\n",
       "    .dataframe tbody tr th:only-of-type {\n",
       "        vertical-align: middle;\n",
       "    }\n",
       "\n",
       "    .dataframe tbody tr th {\n",
       "        vertical-align: top;\n",
       "    }\n",
       "\n",
       "    .dataframe thead th {\n",
       "        text-align: right;\n",
       "    }\n",
       "</style>\n",
       "<table border=\"1\" class=\"dataframe\">\n",
       "  <thead>\n",
       "    <tr style=\"text-align: right;\">\n",
       "      <th></th>\n",
       "      <th>Año</th>\n",
       "      <th>Trimestre</th>\n",
       "      <th>Provincia</th>\n",
       "      <th>Accesos por cada 100 hogares</th>\n",
       "      <th>Unnamed: 4</th>\n",
       "      <th>Unnamed: 5</th>\n",
       "      <th>Unnamed: 6</th>\n",
       "    </tr>\n",
       "  </thead>\n",
       "  <tbody>\n",
       "    <tr>\n",
       "      <th>0</th>\n",
       "      <td>2022</td>\n",
       "      <td>4</td>\n",
       "      <td>Buenos Aires</td>\n",
       "      <td>78,94</td>\n",
       "      <td>NaN</td>\n",
       "      <td>NaN</td>\n",
       "      <td>NaN</td>\n",
       "    </tr>\n",
       "    <tr>\n",
       "      <th>1</th>\n",
       "      <td>2022</td>\n",
       "      <td>4</td>\n",
       "      <td>Capital Federal</td>\n",
       "      <td>122,73</td>\n",
       "      <td>NaN</td>\n",
       "      <td>NaN</td>\n",
       "      <td>NaN</td>\n",
       "    </tr>\n",
       "    <tr>\n",
       "      <th>2</th>\n",
       "      <td>2022</td>\n",
       "      <td>4</td>\n",
       "      <td>Catamarca</td>\n",
       "      <td>65,77</td>\n",
       "      <td>NaN</td>\n",
       "      <td>NaN</td>\n",
       "      <td>NaN</td>\n",
       "    </tr>\n",
       "    <tr>\n",
       "      <th>3</th>\n",
       "      <td>2022</td>\n",
       "      <td>4</td>\n",
       "      <td>Chaco</td>\n",
       "      <td>43,62</td>\n",
       "      <td>NaN</td>\n",
       "      <td>NaN</td>\n",
       "      <td>NaN</td>\n",
       "    </tr>\n",
       "    <tr>\n",
       "      <th>4</th>\n",
       "      <td>2022</td>\n",
       "      <td>4</td>\n",
       "      <td>Chubut</td>\n",
       "      <td>85,57</td>\n",
       "      <td>NaN</td>\n",
       "      <td>NaN</td>\n",
       "      <td>NaN</td>\n",
       "    </tr>\n",
       "  </tbody>\n",
       "</table>\n",
       "</div>"
      ],
      "text/plain": [
       "    Año  Trimestre        Provincia Accesos por cada 100 hogares  Unnamed: 4  \\\n",
       "0  2022          4     Buenos Aires                        78,94         NaN   \n",
       "1  2022          4  Capital Federal                       122,73         NaN   \n",
       "2  2022          4        Catamarca                        65,77         NaN   \n",
       "3  2022          4            Chaco                        43,62         NaN   \n",
       "4  2022          4           Chubut                        85,57         NaN   \n",
       "\n",
       "   Unnamed: 5  Unnamed: 6  \n",
       "0         NaN         NaN  \n",
       "1         NaN         NaN  \n",
       "2         NaN         NaN  \n",
       "3         NaN         NaN  \n",
       "4         NaN         NaN  "
      ]
     },
     "execution_count": 218,
     "metadata": {},
     "output_type": "execute_result"
    }
   ],
   "source": [
    "df_1.head()"
   ]
  },
  {
   "cell_type": "code",
   "execution_count": 220,
   "metadata": {},
   "outputs": [
    {
     "data": {
      "text/plain": [
       "Año                               int64\n",
       "Trimestre                         int64\n",
       "Provincia                        object\n",
       "Accesos por cada 100 hogares     object\n",
       "Unnamed: 4                      float64\n",
       "Unnamed: 5                      float64\n",
       "Unnamed: 6                      float64\n",
       "dtype: object"
      ]
     },
     "execution_count": 220,
     "metadata": {},
     "output_type": "execute_result"
    }
   ],
   "source": [
    "df_1.dtypes"
   ]
  },
  {
   "cell_type": "markdown",
   "metadata": {},
   "source": [
    "Las columnas 'Unnamed:' 4,5 y 6 parecen no tener nada. Voy a explorarlas a ver si tienen algún valor."
   ]
  },
  {
   "cell_type": "code",
   "execution_count": 1,
   "metadata": {},
   "outputs": [
    {
     "ename": "NameError",
     "evalue": "name 'df_1' is not defined",
     "output_type": "error",
     "traceback": [
      "\u001b[1;31m---------------------------------------------------------------------------\u001b[0m",
      "\u001b[1;31mNameError\u001b[0m                                 Traceback (most recent call last)",
      "Cell \u001b[1;32mIn[1], line 1\u001b[0m\n\u001b[1;32m----> 1\u001b[0m df_1[\u001b[39m'\u001b[39m\u001b[39mUnnamed: 4\u001b[39m\u001b[39m'\u001b[39m]\u001b[39m.\u001b[39misnull()\u001b[39m.\u001b[39msum()\n",
      "\u001b[1;31mNameError\u001b[0m: name 'df_1' is not defined"
     ]
    }
   ],
   "source": [
    "df_1['Unnamed: 4'].isnull().sum()"
   ]
  },
  {
   "cell_type": "code",
   "execution_count": 222,
   "metadata": {},
   "outputs": [
    {
     "data": {
      "text/plain": [
       "864"
      ]
     },
     "execution_count": 222,
     "metadata": {},
     "output_type": "execute_result"
    }
   ],
   "source": [
    "df_1['Unnamed: 5'].isnull().sum()"
   ]
  },
  {
   "cell_type": "code",
   "execution_count": 223,
   "metadata": {},
   "outputs": [
    {
     "data": {
      "text/plain": [
       "864"
      ]
     },
     "execution_count": 223,
     "metadata": {},
     "output_type": "execute_result"
    }
   ],
   "source": [
    "df_1['Unnamed: 6'].isnull().sum()"
   ]
  },
  {
   "cell_type": "markdown",
   "metadata": {},
   "source": [
    "Las voy a borrar porque solo tienen valores nulos."
   ]
  },
  {
   "cell_type": "code",
   "execution_count": 224,
   "metadata": {},
   "outputs": [],
   "source": [
    "df_1.drop(['Unnamed: 4', 'Unnamed: 5', 'Unnamed: 6'], axis=1, inplace= True)"
   ]
  },
  {
   "cell_type": "code",
   "execution_count": 225,
   "metadata": {},
   "outputs": [
    {
     "data": {
      "text/html": [
       "<div>\n",
       "<style scoped>\n",
       "    .dataframe tbody tr th:only-of-type {\n",
       "        vertical-align: middle;\n",
       "    }\n",
       "\n",
       "    .dataframe tbody tr th {\n",
       "        vertical-align: top;\n",
       "    }\n",
       "\n",
       "    .dataframe thead th {\n",
       "        text-align: right;\n",
       "    }\n",
       "</style>\n",
       "<table border=\"1\" class=\"dataframe\">\n",
       "  <thead>\n",
       "    <tr style=\"text-align: right;\">\n",
       "      <th></th>\n",
       "      <th>Año</th>\n",
       "      <th>Trimestre</th>\n",
       "      <th>Provincia</th>\n",
       "      <th>Accesos por cada 100 hogares</th>\n",
       "    </tr>\n",
       "  </thead>\n",
       "  <tbody>\n",
       "    <tr>\n",
       "      <th>0</th>\n",
       "      <td>2022</td>\n",
       "      <td>4</td>\n",
       "      <td>Buenos Aires</td>\n",
       "      <td>78,94</td>\n",
       "    </tr>\n",
       "    <tr>\n",
       "      <th>1</th>\n",
       "      <td>2022</td>\n",
       "      <td>4</td>\n",
       "      <td>Capital Federal</td>\n",
       "      <td>122,73</td>\n",
       "    </tr>\n",
       "    <tr>\n",
       "      <th>2</th>\n",
       "      <td>2022</td>\n",
       "      <td>4</td>\n",
       "      <td>Catamarca</td>\n",
       "      <td>65,77</td>\n",
       "    </tr>\n",
       "    <tr>\n",
       "      <th>3</th>\n",
       "      <td>2022</td>\n",
       "      <td>4</td>\n",
       "      <td>Chaco</td>\n",
       "      <td>43,62</td>\n",
       "    </tr>\n",
       "    <tr>\n",
       "      <th>4</th>\n",
       "      <td>2022</td>\n",
       "      <td>4</td>\n",
       "      <td>Chubut</td>\n",
       "      <td>85,57</td>\n",
       "    </tr>\n",
       "  </tbody>\n",
       "</table>\n",
       "</div>"
      ],
      "text/plain": [
       "    Año  Trimestre        Provincia Accesos por cada 100 hogares\n",
       "0  2022          4     Buenos Aires                        78,94\n",
       "1  2022          4  Capital Federal                       122,73\n",
       "2  2022          4        Catamarca                        65,77\n",
       "3  2022          4            Chaco                        43,62\n",
       "4  2022          4           Chubut                        85,57"
      ]
     },
     "execution_count": 225,
     "metadata": {},
     "output_type": "execute_result"
    }
   ],
   "source": [
    "df_1.head()"
   ]
  },
  {
   "cell_type": "code",
   "execution_count": 226,
   "metadata": {},
   "outputs": [
    {
     "data": {
      "text/plain": [
       "0      2022\n",
       "1      2022\n",
       "2      2022\n",
       "3      2022\n",
       "4      2022\n",
       "       ... \n",
       "859    2014\n",
       "860    2014\n",
       "861    2014\n",
       "862    2014\n",
       "863    2014\n",
       "Name: Año, Length: 864, dtype: int64"
      ]
     },
     "execution_count": 226,
     "metadata": {},
     "output_type": "execute_result"
    }
   ],
   "source": [
    "df_1['Año']"
   ]
  },
  {
   "cell_type": "markdown",
   "metadata": {},
   "source": [
    "Voy a explorar las otras columnas. Primero, a ver si cuántos valores nulos tienen."
   ]
  },
  {
   "cell_type": "code",
   "execution_count": 227,
   "metadata": {},
   "outputs": [
    {
     "data": {
      "text/plain": [
       "0"
      ]
     },
     "execution_count": 227,
     "metadata": {},
     "output_type": "execute_result"
    }
   ],
   "source": [
    "df_1['Año'].isnull().sum()"
   ]
  },
  {
   "cell_type": "code",
   "execution_count": 47,
   "metadata": {},
   "outputs": [
    {
     "data": {
      "text/plain": [
       "0"
      ]
     },
     "execution_count": 47,
     "metadata": {},
     "output_type": "execute_result"
    }
   ],
   "source": [
    "df_1['Trimestre'].isnull().sum()"
   ]
  },
  {
   "cell_type": "code",
   "execution_count": 54,
   "metadata": {},
   "outputs": [
    {
     "data": {
      "text/plain": [
       "0"
      ]
     },
     "execution_count": 54,
     "metadata": {},
     "output_type": "execute_result"
    }
   ],
   "source": [
    "df_1['Provincia'].isnull().sum()"
   ]
  },
  {
   "cell_type": "markdown",
   "metadata": {},
   "source": [
    "Por suerte las otras columnas no tienen nulos. Voy a cambiar el tipo de dato de 'acceso por cada 100 hogares' a float. Primero, tengo que reemplazar las comas por puntos."
   ]
  },
  {
   "cell_type": "code",
   "execution_count": 228,
   "metadata": {},
   "outputs": [],
   "source": [
    "df_1['Accesos por cada 100 hogares'] = df_1['Accesos por cada 100 hogares'].str.replace(',', '.', regex=True)"
   ]
  },
  {
   "cell_type": "code",
   "execution_count": 229,
   "metadata": {},
   "outputs": [],
   "source": [
    "df_1['Accesos por cada 100 hogares'] = df_1['Accesos por cada 100 hogares'].astype(float)"
   ]
  },
  {
   "cell_type": "code",
   "execution_count": 230,
   "metadata": {},
   "outputs": [
    {
     "data": {
      "text/plain": [
       "numpy.float64"
      ]
     },
     "execution_count": 230,
     "metadata": {},
     "output_type": "execute_result"
    }
   ],
   "source": [
    "type(df_1['Accesos por cada 100 hogares'][0])"
   ]
  },
  {
   "cell_type": "markdown",
   "metadata": {},
   "source": [
    "Búsqueda de datos duplicados. En este caso lo importante es que no haya más de una fila con una combinación de Año-Trimestre-Provincia."
   ]
  },
  {
   "cell_type": "code",
   "execution_count": 231,
   "metadata": {},
   "outputs": [
    {
     "data": {
      "text/html": [
       "<div>\n",
       "<style scoped>\n",
       "    .dataframe tbody tr th:only-of-type {\n",
       "        vertical-align: middle;\n",
       "    }\n",
       "\n",
       "    .dataframe tbody tr th {\n",
       "        vertical-align: top;\n",
       "    }\n",
       "\n",
       "    .dataframe thead th {\n",
       "        text-align: right;\n",
       "    }\n",
       "</style>\n",
       "<table border=\"1\" class=\"dataframe\">\n",
       "  <thead>\n",
       "    <tr style=\"text-align: right;\">\n",
       "      <th></th>\n",
       "      <th>Año</th>\n",
       "      <th>Trimestre</th>\n",
       "      <th>Provincia</th>\n",
       "      <th>Accesos por cada 100 hogares</th>\n",
       "    </tr>\n",
       "  </thead>\n",
       "  <tbody>\n",
       "  </tbody>\n",
       "</table>\n",
       "</div>"
      ],
      "text/plain": [
       "Empty DataFrame\n",
       "Columns: [Año, Trimestre, Provincia, Accesos por cada 100 hogares]\n",
       "Index: []"
      ]
     },
     "execution_count": 231,
     "metadata": {},
     "output_type": "execute_result"
    }
   ],
   "source": [
    "columnas = ['Año', 'Trimestre', 'Provincia']\n",
    "\n",
    "duplicados = df_1.duplicated(subset=columnas)\n",
    "\n",
    "filas_duplicadas = df_1[duplicados]\n",
    "\n",
    "filas_duplicadas"
   ]
  },
  {
   "cell_type": "markdown",
   "metadata": {},
   "source": [
    "No hay valores duplicados."
   ]
  },
  {
   "cell_type": "markdown",
   "metadata": {},
   "source": [
    "Tengo que cambiar el nombre a las columnas para estandarizarlas."
   ]
  },
  {
   "cell_type": "code",
   "execution_count": 232,
   "metadata": {},
   "outputs": [],
   "source": [
    "df_1['anio'] = df_1['Año']\n",
    "df_1['trimestre'] = df_1['Trimestre']\n",
    "df_1['provincia'] = df_1['Provincia']\n",
    "df_1['accesos_por_cada_100_hogares'] = df_1['Accesos por cada 100 hogares']"
   ]
  },
  {
   "cell_type": "code",
   "execution_count": 235,
   "metadata": {},
   "outputs": [
    {
     "data": {
      "text/html": [
       "<div>\n",
       "<style scoped>\n",
       "    .dataframe tbody tr th:only-of-type {\n",
       "        vertical-align: middle;\n",
       "    }\n",
       "\n",
       "    .dataframe tbody tr th {\n",
       "        vertical-align: top;\n",
       "    }\n",
       "\n",
       "    .dataframe thead th {\n",
       "        text-align: right;\n",
       "    }\n",
       "</style>\n",
       "<table border=\"1\" class=\"dataframe\">\n",
       "  <thead>\n",
       "    <tr style=\"text-align: right;\">\n",
       "      <th></th>\n",
       "      <th>anio</th>\n",
       "      <th>trimestre</th>\n",
       "      <th>provincia</th>\n",
       "      <th>accesos_por_cada_100_hogares</th>\n",
       "    </tr>\n",
       "  </thead>\n",
       "  <tbody>\n",
       "    <tr>\n",
       "      <th>0</th>\n",
       "      <td>2022</td>\n",
       "      <td>4</td>\n",
       "      <td>Buenos Aires</td>\n",
       "      <td>78.94</td>\n",
       "    </tr>\n",
       "    <tr>\n",
       "      <th>1</th>\n",
       "      <td>2022</td>\n",
       "      <td>4</td>\n",
       "      <td>Capital Federal</td>\n",
       "      <td>122.73</td>\n",
       "    </tr>\n",
       "    <tr>\n",
       "      <th>2</th>\n",
       "      <td>2022</td>\n",
       "      <td>4</td>\n",
       "      <td>Catamarca</td>\n",
       "      <td>65.77</td>\n",
       "    </tr>\n",
       "    <tr>\n",
       "      <th>3</th>\n",
       "      <td>2022</td>\n",
       "      <td>4</td>\n",
       "      <td>Chaco</td>\n",
       "      <td>43.62</td>\n",
       "    </tr>\n",
       "    <tr>\n",
       "      <th>4</th>\n",
       "      <td>2022</td>\n",
       "      <td>4</td>\n",
       "      <td>Chubut</td>\n",
       "      <td>85.57</td>\n",
       "    </tr>\n",
       "  </tbody>\n",
       "</table>\n",
       "</div>"
      ],
      "text/plain": [
       "   anio  trimestre        provincia  accesos_por_cada_100_hogares\n",
       "0  2022          4     Buenos Aires                         78.94\n",
       "1  2022          4  Capital Federal                        122.73\n",
       "2  2022          4        Catamarca                         65.77\n",
       "3  2022          4            Chaco                         43.62\n",
       "4  2022          4           Chubut                         85.57"
      ]
     },
     "execution_count": 235,
     "metadata": {},
     "output_type": "execute_result"
    }
   ],
   "source": [
    "df_1.head()"
   ]
  },
  {
   "cell_type": "code",
   "execution_count": 234,
   "metadata": {},
   "outputs": [],
   "source": [
    "df_1.drop(['Año', 'Trimestre', 'Provincia', 'Accesos por cada 100 hogares'], axis=1, inplace= True)"
   ]
  },
  {
   "cell_type": "markdown",
   "metadata": {},
   "source": [
    "Voy a pasar todas las letras a minúsulas y sacar los acentos."
   ]
  },
  {
   "cell_type": "code",
   "execution_count": 237,
   "metadata": {},
   "outputs": [],
   "source": [
    "import unicodedata\n",
    "\n",
    "for column in df_1.columns:\n",
    "    if df_1[column].dtype == 'object':\n",
    "        df_1[column] = df_1[column].str.lower().apply(lambda x: unicodedata.normalize('NFKD', x).encode('ASCII', 'ignore').decode('utf-8'))"
   ]
  },
  {
   "cell_type": "code",
   "execution_count": null,
   "metadata": {},
   "outputs": [],
   "source": [
    "df_1[df_1['provincia'] == 'tucuman']"
   ]
  },
  {
   "cell_type": "code",
   "execution_count": 525,
   "metadata": {},
   "outputs": [],
   "source": [
    "df_1.to_csv('df_1.csv', index=False)"
   ]
  },
  {
   "cell_type": "markdown",
   "metadata": {},
   "source": [
    "# Data_2"
   ]
  },
  {
   "cell_type": "code",
   "execution_count": 2,
   "metadata": {},
   "outputs": [],
   "source": [
    "import pandas as pd"
   ]
  },
  {
   "cell_type": "code",
   "execution_count": 3,
   "metadata": {},
   "outputs": [],
   "source": [
    "ruta2 = 'Data/data_2.csv'"
   ]
  },
  {
   "cell_type": "code",
   "execution_count": 4,
   "metadata": {},
   "outputs": [],
   "source": [
    "df_2 = pd.read_csv(ruta2)"
   ]
  },
  {
   "cell_type": "code",
   "execution_count": 7,
   "metadata": {},
   "outputs": [
    {
     "data": {
      "text/html": [
       "<div>\n",
       "<style scoped>\n",
       "    .dataframe tbody tr th:only-of-type {\n",
       "        vertical-align: middle;\n",
       "    }\n",
       "\n",
       "    .dataframe tbody tr th {\n",
       "        vertical-align: top;\n",
       "    }\n",
       "\n",
       "    .dataframe thead th {\n",
       "        text-align: right;\n",
       "    }\n",
       "</style>\n",
       "<table border=\"1\" class=\"dataframe\">\n",
       "  <thead>\n",
       "    <tr style=\"text-align: right;\">\n",
       "      <th></th>\n",
       "      <th>Año</th>\n",
       "      <th>Trimestre</th>\n",
       "      <th>Accesos por cada 100 hogares</th>\n",
       "      <th>Accesos por cada 100 hab</th>\n",
       "      <th>Periodo</th>\n",
       "    </tr>\n",
       "  </thead>\n",
       "  <tbody>\n",
       "    <tr>\n",
       "      <th>0</th>\n",
       "      <td>2022</td>\n",
       "      <td>4</td>\n",
       "      <td>77,21</td>\n",
       "      <td>24,15</td>\n",
       "      <td>Oct-Dic 2022</td>\n",
       "    </tr>\n",
       "    <tr>\n",
       "      <th>1</th>\n",
       "      <td>2022</td>\n",
       "      <td>3</td>\n",
       "      <td>76,64</td>\n",
       "      <td>23,95</td>\n",
       "      <td>Jul-Sept 2022</td>\n",
       "    </tr>\n",
       "    <tr>\n",
       "      <th>2</th>\n",
       "      <td>2022</td>\n",
       "      <td>2</td>\n",
       "      <td>75,97</td>\n",
       "      <td>23,72</td>\n",
       "      <td>Abr-Jun 2022</td>\n",
       "    </tr>\n",
       "    <tr>\n",
       "      <th>3</th>\n",
       "      <td>2022</td>\n",
       "      <td>1</td>\n",
       "      <td>73,88</td>\n",
       "      <td>23,05</td>\n",
       "      <td>Ene-Mar 2022</td>\n",
       "    </tr>\n",
       "    <tr>\n",
       "      <th>4</th>\n",
       "      <td>2021</td>\n",
       "      <td>4</td>\n",
       "      <td>73,18</td>\n",
       "      <td>22,81</td>\n",
       "      <td>Oct-Dic 2021</td>\n",
       "    </tr>\n",
       "  </tbody>\n",
       "</table>\n",
       "</div>"
      ],
      "text/plain": [
       "    Año  Trimestre Accesos por cada 100 hogares Accesos por cada 100 hab  \\\n",
       "0  2022          4                        77,21                    24,15   \n",
       "1  2022          3                        76,64                    23,95   \n",
       "2  2022          2                        75,97                    23,72   \n",
       "3  2022          1                        73,88                    23,05   \n",
       "4  2021          4                        73,18                    22,81   \n",
       "\n",
       "         Periodo  \n",
       "0   Oct-Dic 2022  \n",
       "1  Jul-Sept 2022  \n",
       "2   Abr-Jun 2022  \n",
       "3   Ene-Mar 2022  \n",
       "4   Oct-Dic 2021  "
      ]
     },
     "execution_count": 7,
     "metadata": {},
     "output_type": "execute_result"
    }
   ],
   "source": [
    "df_2.head()"
   ]
  },
  {
   "cell_type": "code",
   "execution_count": 58,
   "metadata": {},
   "outputs": [
    {
     "data": {
      "text/plain": [
       "Año                               int64\n",
       "Trimestre                         int64\n",
       "Accesos por cada 100 hogares    float64\n",
       "Accesos por cada 100 hab        float64\n",
       "Periodo                          object\n",
       "dtype: object"
      ]
     },
     "execution_count": 58,
     "metadata": {},
     "output_type": "execute_result"
    }
   ],
   "source": [
    "df_2.dtypes"
   ]
  },
  {
   "cell_type": "markdown",
   "metadata": {},
   "source": [
    "Luego de hacer el dataframe con el segundo archivo .csv, voy a revisar las columnas, en particular, si tienen datos nulos."
   ]
  },
  {
   "cell_type": "code",
   "execution_count": 5,
   "metadata": {},
   "outputs": [
    {
     "data": {
      "text/plain": [
       "Año                             0\n",
       "Trimestre                       0\n",
       "Accesos por cada 100 hogares    0\n",
       "Accesos por cada 100 hab        0\n",
       "Periodo                         0\n",
       "dtype: int64"
      ]
     },
     "execution_count": 5,
     "metadata": {},
     "output_type": "execute_result"
    }
   ],
   "source": [
    "# No hay datos nulos\n",
    "df_2.isnull().sum()"
   ]
  },
  {
   "cell_type": "markdown",
   "metadata": {},
   "source": [
    "Nuevamente voy a cambiar el tipo de dato de las columnas 'Accesos por cada 100 hogares' y 'Accesos por cada 100 hab', pero primero tengo que reemplazar las comas por puntos."
   ]
  },
  {
   "cell_type": "code",
   "execution_count": 22,
   "metadata": {},
   "outputs": [
    {
     "data": {
      "text/plain": [
       "(36, 5)"
      ]
     },
     "execution_count": 22,
     "metadata": {},
     "output_type": "execute_result"
    }
   ],
   "source": [
    "df_2.shape"
   ]
  },
  {
   "cell_type": "markdown",
   "metadata": {},
   "source": [
    "Reemplazo las comas por puntos para pasarlas a tipo de dato float sin problemas."
   ]
  },
  {
   "cell_type": "code",
   "execution_count": 14,
   "metadata": {},
   "outputs": [],
   "source": [
    "df_2['Accesos por cada 100 hogares'] = df_2['Accesos por cada 100 hogares'].str.replace(',', '.', regex=True)"
   ]
  },
  {
   "cell_type": "code",
   "execution_count": 15,
   "metadata": {},
   "outputs": [],
   "source": [
    "df_2['Accesos por cada 100 hogares'] = df_2['Accesos por cada 100 hogares'].astype(float)"
   ]
  },
  {
   "cell_type": "code",
   "execution_count": 16,
   "metadata": {},
   "outputs": [],
   "source": [
    "df_2['Accesos por cada 100 hab'] = df_2['Accesos por cada 100 hab'].str.replace(',', '.', regex=True)"
   ]
  },
  {
   "cell_type": "code",
   "execution_count": 17,
   "metadata": {},
   "outputs": [],
   "source": [
    "df_2['Accesos por cada 100 hab'] = df_2['Accesos por cada 100 hab'].astype(float)"
   ]
  },
  {
   "cell_type": "code",
   "execution_count": 18,
   "metadata": {},
   "outputs": [
    {
     "data": {
      "text/html": [
       "<div>\n",
       "<style scoped>\n",
       "    .dataframe tbody tr th:only-of-type {\n",
       "        vertical-align: middle;\n",
       "    }\n",
       "\n",
       "    .dataframe tbody tr th {\n",
       "        vertical-align: top;\n",
       "    }\n",
       "\n",
       "    .dataframe thead th {\n",
       "        text-align: right;\n",
       "    }\n",
       "</style>\n",
       "<table border=\"1\" class=\"dataframe\">\n",
       "  <thead>\n",
       "    <tr style=\"text-align: right;\">\n",
       "      <th></th>\n",
       "      <th>Año</th>\n",
       "      <th>Trimestre</th>\n",
       "      <th>Accesos por cada 100 hogares</th>\n",
       "      <th>Accesos por cada 100 hab</th>\n",
       "      <th>Periodo</th>\n",
       "    </tr>\n",
       "  </thead>\n",
       "  <tbody>\n",
       "    <tr>\n",
       "      <th>0</th>\n",
       "      <td>2022</td>\n",
       "      <td>4</td>\n",
       "      <td>77.21</td>\n",
       "      <td>24.15</td>\n",
       "      <td>Oct-Dic 2022</td>\n",
       "    </tr>\n",
       "    <tr>\n",
       "      <th>1</th>\n",
       "      <td>2022</td>\n",
       "      <td>3</td>\n",
       "      <td>76.64</td>\n",
       "      <td>23.95</td>\n",
       "      <td>Jul-Sept 2022</td>\n",
       "    </tr>\n",
       "    <tr>\n",
       "      <th>2</th>\n",
       "      <td>2022</td>\n",
       "      <td>2</td>\n",
       "      <td>75.97</td>\n",
       "      <td>23.72</td>\n",
       "      <td>Abr-Jun 2022</td>\n",
       "    </tr>\n",
       "    <tr>\n",
       "      <th>3</th>\n",
       "      <td>2022</td>\n",
       "      <td>1</td>\n",
       "      <td>73.88</td>\n",
       "      <td>23.05</td>\n",
       "      <td>Ene-Mar 2022</td>\n",
       "    </tr>\n",
       "    <tr>\n",
       "      <th>4</th>\n",
       "      <td>2021</td>\n",
       "      <td>4</td>\n",
       "      <td>73.18</td>\n",
       "      <td>22.81</td>\n",
       "      <td>Oct-Dic 2021</td>\n",
       "    </tr>\n",
       "  </tbody>\n",
       "</table>\n",
       "</div>"
      ],
      "text/plain": [
       "    Año  Trimestre  Accesos por cada 100 hogares  Accesos por cada 100 hab  \\\n",
       "0  2022          4                         77.21                     24.15   \n",
       "1  2022          3                         76.64                     23.95   \n",
       "2  2022          2                         75.97                     23.72   \n",
       "3  2022          1                         73.88                     23.05   \n",
       "4  2021          4                         73.18                     22.81   \n",
       "\n",
       "         Periodo  \n",
       "0   Oct-Dic 2022  \n",
       "1  Jul-Sept 2022  \n",
       "2   Abr-Jun 2022  \n",
       "3   Ene-Mar 2022  \n",
       "4   Oct-Dic 2021  "
      ]
     },
     "execution_count": 18,
     "metadata": {},
     "output_type": "execute_result"
    }
   ],
   "source": [
    "df_2.head()"
   ]
  },
  {
   "cell_type": "code",
   "execution_count": 21,
   "metadata": {},
   "outputs": [
    {
     "data": {
      "text/plain": [
       "(numpy.float64, numpy.float64)"
      ]
     },
     "execution_count": 21,
     "metadata": {},
     "output_type": "execute_result"
    }
   ],
   "source": [
    "type(df_2['Accesos por cada 100 hab'][0]), type(df_2['Accesos por cada 100 hab'][0])"
   ]
  },
  {
   "cell_type": "markdown",
   "metadata": {},
   "source": [
    "Búsqueda de datos duplicados. En este caso lo importante es que no haya una combinación repetida de Año-Trimestre"
   ]
  },
  {
   "cell_type": "code",
   "execution_count": 149,
   "metadata": {},
   "outputs": [
    {
     "data": {
      "text/html": [
       "<div>\n",
       "<style scoped>\n",
       "    .dataframe tbody tr th:only-of-type {\n",
       "        vertical-align: middle;\n",
       "    }\n",
       "\n",
       "    .dataframe tbody tr th {\n",
       "        vertical-align: top;\n",
       "    }\n",
       "\n",
       "    .dataframe thead th {\n",
       "        text-align: right;\n",
       "    }\n",
       "</style>\n",
       "<table border=\"1\" class=\"dataframe\">\n",
       "  <thead>\n",
       "    <tr style=\"text-align: right;\">\n",
       "      <th></th>\n",
       "      <th>Año</th>\n",
       "      <th>Trimestre</th>\n",
       "      <th>Accesos por cada 100 hogares</th>\n",
       "      <th>Accesos por cada 100 hab</th>\n",
       "      <th>Periodo</th>\n",
       "    </tr>\n",
       "  </thead>\n",
       "  <tbody>\n",
       "  </tbody>\n",
       "</table>\n",
       "</div>"
      ],
      "text/plain": [
       "Empty DataFrame\n",
       "Columns: [Año, Trimestre, Accesos por cada 100 hogares, Accesos por cada 100 hab, Periodo]\n",
       "Index: []"
      ]
     },
     "execution_count": 149,
     "metadata": {},
     "output_type": "execute_result"
    }
   ],
   "source": [
    "columnas = ['Año', 'Trimestre']\n",
    "\n",
    "duplicados = df_2.duplicated(subset=columnas)\n",
    "\n",
    "filas_duplicadas = df_2[duplicados]\n",
    "\n",
    "filas_duplicadas"
   ]
  },
  {
   "cell_type": "markdown",
   "metadata": {},
   "source": [
    "No hay datos duplicados."
   ]
  },
  {
   "cell_type": "markdown",
   "metadata": {},
   "source": [
    "Voy a pasar todos los valores a minúsculas y sacar los acentos."
   ]
  },
  {
   "cell_type": "code",
   "execution_count": 242,
   "metadata": {},
   "outputs": [],
   "source": [
    "import unicodedata\n",
    "\n",
    "for column in df_2.columns:\n",
    "    if df_2[column].dtype == 'object':\n",
    "        df_2[column] = df_2[column].str.lower().apply(lambda x: unicodedata.normalize('NFKD', x).encode('ASCII', 'ignore').decode('utf-8'))"
   ]
  },
  {
   "cell_type": "code",
   "execution_count": 243,
   "metadata": {},
   "outputs": [
    {
     "data": {
      "text/html": [
       "<div>\n",
       "<style scoped>\n",
       "    .dataframe tbody tr th:only-of-type {\n",
       "        vertical-align: middle;\n",
       "    }\n",
       "\n",
       "    .dataframe tbody tr th {\n",
       "        vertical-align: top;\n",
       "    }\n",
       "\n",
       "    .dataframe thead th {\n",
       "        text-align: right;\n",
       "    }\n",
       "</style>\n",
       "<table border=\"1\" class=\"dataframe\">\n",
       "  <thead>\n",
       "    <tr style=\"text-align: right;\">\n",
       "      <th></th>\n",
       "      <th>Año</th>\n",
       "      <th>Trimestre</th>\n",
       "      <th>Accesos por cada 100 hogares</th>\n",
       "      <th>Accesos por cada 100 hab</th>\n",
       "      <th>Periodo</th>\n",
       "    </tr>\n",
       "  </thead>\n",
       "  <tbody>\n",
       "    <tr>\n",
       "      <th>0</th>\n",
       "      <td>2022</td>\n",
       "      <td>4</td>\n",
       "      <td>77.21</td>\n",
       "      <td>24.15</td>\n",
       "      <td>oct-dic 2022</td>\n",
       "    </tr>\n",
       "  </tbody>\n",
       "</table>\n",
       "</div>"
      ],
      "text/plain": [
       "    Año  Trimestre  Accesos por cada 100 hogares  Accesos por cada 100 hab  \\\n",
       "0  2022          4                         77.21                     24.15   \n",
       "\n",
       "        Periodo  \n",
       "0  oct-dic 2022  "
      ]
     },
     "execution_count": 243,
     "metadata": {},
     "output_type": "execute_result"
    }
   ],
   "source": [
    "df_2.head(1)"
   ]
  },
  {
   "cell_type": "markdown",
   "metadata": {},
   "source": [
    "Voy a renombrar las columnas para que no tengan espacios, mayúsculas ni ñ. Para esto, primero creo un diccionario con los numbres nuevos, y despues los asigno con .rename"
   ]
  },
  {
   "cell_type": "code",
   "execution_count": 245,
   "metadata": {},
   "outputs": [],
   "source": [
    "nuevas_columnas = {\n",
    "    'Año': 'anio',\n",
    "    'Trimestre': 'trimestre',\n",
    "    'Accesos por cada 100 hogares': 'accesos_por_cada_100_hogares',\n",
    "    'Accesos por cada 100 hab': 'accesos_por_cada_100_hab',\n",
    "    'Periodo': 'periodo'\n",
    "}\n"
   ]
  },
  {
   "cell_type": "code",
   "execution_count": 246,
   "metadata": {},
   "outputs": [],
   "source": [
    "df_2.rename(columns=nuevas_columnas, inplace=True)"
   ]
  },
  {
   "cell_type": "code",
   "execution_count": 247,
   "metadata": {},
   "outputs": [
    {
     "data": {
      "text/html": [
       "<div>\n",
       "<style scoped>\n",
       "    .dataframe tbody tr th:only-of-type {\n",
       "        vertical-align: middle;\n",
       "    }\n",
       "\n",
       "    .dataframe tbody tr th {\n",
       "        vertical-align: top;\n",
       "    }\n",
       "\n",
       "    .dataframe thead th {\n",
       "        text-align: right;\n",
       "    }\n",
       "</style>\n",
       "<table border=\"1\" class=\"dataframe\">\n",
       "  <thead>\n",
       "    <tr style=\"text-align: right;\">\n",
       "      <th></th>\n",
       "      <th>anio</th>\n",
       "      <th>trimestre</th>\n",
       "      <th>accesos_por_cada_100_hogares</th>\n",
       "      <th>accesos_por_cada_100_hab</th>\n",
       "      <th>periodo</th>\n",
       "    </tr>\n",
       "  </thead>\n",
       "  <tbody>\n",
       "    <tr>\n",
       "      <th>0</th>\n",
       "      <td>2022</td>\n",
       "      <td>4</td>\n",
       "      <td>77.21</td>\n",
       "      <td>24.15</td>\n",
       "      <td>oct-dic 2022</td>\n",
       "    </tr>\n",
       "  </tbody>\n",
       "</table>\n",
       "</div>"
      ],
      "text/plain": [
       "   anio  trimestre  accesos_por_cada_100_hogares  accesos_por_cada_100_hab  \\\n",
       "0  2022          4                         77.21                     24.15   \n",
       "\n",
       "        periodo  \n",
       "0  oct-dic 2022  "
      ]
     },
     "execution_count": 247,
     "metadata": {},
     "output_type": "execute_result"
    }
   ],
   "source": [
    "df_2.head(1)"
   ]
  },
  {
   "cell_type": "markdown",
   "metadata": {},
   "source": [
    "Nuevamente, sospecho que las columnas 'Periodo' y 'Trimestre' no las voy a usar, así que probablemente las borre, pero por ahora las voy a dejar."
   ]
  },
  {
   "cell_type": "markdown",
   "metadata": {},
   "source": [
    "Me faltaría hacer búsqueda de outliers."
   ]
  },
  {
   "cell_type": "code",
   "execution_count": 524,
   "metadata": {},
   "outputs": [],
   "source": [
    "df_2.to_csv('df_2.csv', index=False)"
   ]
  },
  {
   "cell_type": "markdown",
   "metadata": {},
   "source": [
    "# Data_3"
   ]
  },
  {
   "cell_type": "code",
   "execution_count": 6,
   "metadata": {},
   "outputs": [],
   "source": [
    "import pandas as pd"
   ]
  },
  {
   "cell_type": "code",
   "execution_count": 7,
   "metadata": {},
   "outputs": [],
   "source": [
    "ruta3 = 'Data/data_3.csv'"
   ]
  },
  {
   "cell_type": "code",
   "execution_count": 8,
   "metadata": {},
   "outputs": [],
   "source": [
    "df_3 = pd.read_csv(ruta3)"
   ]
  },
  {
   "cell_type": "code",
   "execution_count": 26,
   "metadata": {},
   "outputs": [
    {
     "data": {
      "text/html": [
       "<div>\n",
       "<style scoped>\n",
       "    .dataframe tbody tr th:only-of-type {\n",
       "        vertical-align: middle;\n",
       "    }\n",
       "\n",
       "    .dataframe tbody tr th {\n",
       "        vertical-align: top;\n",
       "    }\n",
       "\n",
       "    .dataframe thead th {\n",
       "        text-align: right;\n",
       "    }\n",
       "</style>\n",
       "<table border=\"1\" class=\"dataframe\">\n",
       "  <thead>\n",
       "    <tr style=\"text-align: right;\">\n",
       "      <th></th>\n",
       "      <th>Año</th>\n",
       "      <th>Trimestre</th>\n",
       "      <th>Banda ancha fija</th>\n",
       "      <th>Dial up</th>\n",
       "      <th>Total</th>\n",
       "      <th>Periodo</th>\n",
       "    </tr>\n",
       "  </thead>\n",
       "  <tbody>\n",
       "    <tr>\n",
       "      <th>0</th>\n",
       "      <td>2022</td>\n",
       "      <td>4</td>\n",
       "      <td>11</td>\n",
       "      <td>12</td>\n",
       "      <td>11</td>\n",
       "      <td>Oct-Dic 2022</td>\n",
       "    </tr>\n",
       "    <tr>\n",
       "      <th>1</th>\n",
       "      <td>2022</td>\n",
       "      <td>3</td>\n",
       "      <td>11</td>\n",
       "      <td>12</td>\n",
       "      <td>11</td>\n",
       "      <td>Jul-Sept 2022</td>\n",
       "    </tr>\n",
       "    <tr>\n",
       "      <th>2</th>\n",
       "      <td>2022</td>\n",
       "      <td>2</td>\n",
       "      <td>11</td>\n",
       "      <td>12</td>\n",
       "      <td>11</td>\n",
       "      <td>Abr-Jun 2022</td>\n",
       "    </tr>\n",
       "    <tr>\n",
       "      <th>3</th>\n",
       "      <td>2022</td>\n",
       "      <td>1</td>\n",
       "      <td>11</td>\n",
       "      <td>13</td>\n",
       "      <td>11</td>\n",
       "      <td>Ene-Mar 2022</td>\n",
       "    </tr>\n",
       "    <tr>\n",
       "      <th>4</th>\n",
       "      <td>2021</td>\n",
       "      <td>4</td>\n",
       "      <td>10</td>\n",
       "      <td>13</td>\n",
       "      <td>10</td>\n",
       "      <td>Oct-Dic 2021</td>\n",
       "    </tr>\n",
       "  </tbody>\n",
       "</table>\n",
       "</div>"
      ],
      "text/plain": [
       "    Año  Trimestre  Banda ancha fija  Dial up  Total        Periodo\n",
       "0  2022          4                11       12     11   Oct-Dic 2022\n",
       "1  2022          3                11       12     11  Jul-Sept 2022\n",
       "2  2022          2                11       12     11   Abr-Jun 2022\n",
       "3  2022          1                11       13     11   Ene-Mar 2022\n",
       "4  2021          4                10       13     10   Oct-Dic 2021"
      ]
     },
     "execution_count": 26,
     "metadata": {},
     "output_type": "execute_result"
    }
   ],
   "source": [
    "df_3.head()"
   ]
  },
  {
   "cell_type": "markdown",
   "metadata": {},
   "source": [
    "En este caso, tenemos un dato nuevo: 'Dial up'. Es un servicio de conexión por línea conmutada, es decir, conectado a la red telefónica conmutada fija."
   ]
  },
  {
   "cell_type": "code",
   "execution_count": 59,
   "metadata": {},
   "outputs": [
    {
     "data": {
      "text/plain": [
       "Año                  int64\n",
       "Trimestre            int64\n",
       "Banda ancha fija     int64\n",
       "Dial up              int64\n",
       "Total                int64\n",
       "Periodo             object\n",
       "dtype: object"
      ]
     },
     "execution_count": 59,
     "metadata": {},
     "output_type": "execute_result"
    }
   ],
   "source": [
    "df_3.dtypes"
   ]
  },
  {
   "cell_type": "code",
   "execution_count": 10,
   "metadata": {},
   "outputs": [
    {
     "data": {
      "text/plain": [
       "Año                 0\n",
       "Trimestre           0\n",
       "Banda ancha fija    0\n",
       "Dial up             0\n",
       "Total               0\n",
       "Periodo             0\n",
       "dtype: int64"
      ]
     },
     "execution_count": 10,
     "metadata": {},
     "output_type": "execute_result"
    }
   ],
   "source": [
    "df_3.isnull().sum() # No hay nulos"
   ]
  },
  {
   "cell_type": "markdown",
   "metadata": {},
   "source": [
    "Búsqueda de datos duplicados. En este caso lo importante es que no haya una combinación repetida de Año-Trimestre"
   ]
  },
  {
   "cell_type": "code",
   "execution_count": 150,
   "metadata": {},
   "outputs": [
    {
     "data": {
      "text/html": [
       "<div>\n",
       "<style scoped>\n",
       "    .dataframe tbody tr th:only-of-type {\n",
       "        vertical-align: middle;\n",
       "    }\n",
       "\n",
       "    .dataframe tbody tr th {\n",
       "        vertical-align: top;\n",
       "    }\n",
       "\n",
       "    .dataframe thead th {\n",
       "        text-align: right;\n",
       "    }\n",
       "</style>\n",
       "<table border=\"1\" class=\"dataframe\">\n",
       "  <thead>\n",
       "    <tr style=\"text-align: right;\">\n",
       "      <th></th>\n",
       "      <th>Año</th>\n",
       "      <th>Trimestre</th>\n",
       "      <th>Banda ancha fija</th>\n",
       "      <th>Dial up</th>\n",
       "      <th>Total</th>\n",
       "      <th>Periodo</th>\n",
       "    </tr>\n",
       "  </thead>\n",
       "  <tbody>\n",
       "  </tbody>\n",
       "</table>\n",
       "</div>"
      ],
      "text/plain": [
       "Empty DataFrame\n",
       "Columns: [Año, Trimestre, Banda ancha fija, Dial up, Total, Periodo]\n",
       "Index: []"
      ]
     },
     "execution_count": 150,
     "metadata": {},
     "output_type": "execute_result"
    }
   ],
   "source": [
    "columnas = ['Año', 'Trimestre']\n",
    "\n",
    "duplicados = df_3.duplicated(subset=columnas)\n",
    "\n",
    "filas_duplicadas = df_3[duplicados]\n",
    "\n",
    "filas_duplicadas"
   ]
  },
  {
   "cell_type": "markdown",
   "metadata": {},
   "source": [
    "No hay datos duplicados"
   ]
  },
  {
   "cell_type": "markdown",
   "metadata": {},
   "source": [
    "Voy a cambiar el nombre de las columnas para que no tengan espacios, acentos ni 'ñ'"
   ]
  },
  {
   "cell_type": "code",
   "execution_count": 251,
   "metadata": {},
   "outputs": [
    {
     "data": {
      "text/html": [
       "<div>\n",
       "<style scoped>\n",
       "    .dataframe tbody tr th:only-of-type {\n",
       "        vertical-align: middle;\n",
       "    }\n",
       "\n",
       "    .dataframe tbody tr th {\n",
       "        vertical-align: top;\n",
       "    }\n",
       "\n",
       "    .dataframe thead th {\n",
       "        text-align: right;\n",
       "    }\n",
       "</style>\n",
       "<table border=\"1\" class=\"dataframe\">\n",
       "  <thead>\n",
       "    <tr style=\"text-align: right;\">\n",
       "      <th></th>\n",
       "      <th>anio</th>\n",
       "      <th>trimestre</th>\n",
       "      <th>banda_ancha_fija</th>\n",
       "      <th>dial_up</th>\n",
       "      <th>Total</th>\n",
       "      <th>periodo</th>\n",
       "    </tr>\n",
       "  </thead>\n",
       "  <tbody>\n",
       "    <tr>\n",
       "      <th>0</th>\n",
       "      <td>2022</td>\n",
       "      <td>4</td>\n",
       "      <td>11</td>\n",
       "      <td>12</td>\n",
       "      <td>11</td>\n",
       "      <td>oct-dic 2022</td>\n",
       "    </tr>\n",
       "  </tbody>\n",
       "</table>\n",
       "</div>"
      ],
      "text/plain": [
       "   anio  trimestre  banda_ancha_fija  dial_up  Total       periodo\n",
       "0  2022          4                11       12     11  oct-dic 2022"
      ]
     },
     "execution_count": 251,
     "metadata": {},
     "output_type": "execute_result"
    }
   ],
   "source": [
    "df_3.head(1)"
   ]
  },
  {
   "cell_type": "code",
   "execution_count": 249,
   "metadata": {},
   "outputs": [],
   "source": [
    "nuevas_columnas = {\n",
    "    'Año': 'anio',\n",
    "    'Trimestre': 'trimestre',\n",
    "    'Banda ancha fija': 'banda_ancha_fija',\n",
    "    'Dial up': 'dial_up',\n",
    "    'Total\t': 'total',\n",
    "    'Periodo': 'periodo',\n",
    "}\n",
    "df_3.rename(columns=nuevas_columnas, inplace=True)"
   ]
  },
  {
   "cell_type": "markdown",
   "metadata": {},
   "source": [
    "Voy a poner todo el texto en minuscula y sacar tildes"
   ]
  },
  {
   "cell_type": "code",
   "execution_count": 250,
   "metadata": {},
   "outputs": [],
   "source": [
    "import unicodedata\n",
    "\n",
    "for column in df_3.columns:\n",
    "    if df_3[column].dtype == 'object':\n",
    "        df_3[column] = df_3[column].str.lower().apply(lambda x: unicodedata.normalize('NFKD', x).encode('ASCII', 'ignore').decode('utf-8'))"
   ]
  },
  {
   "cell_type": "code",
   "execution_count": 523,
   "metadata": {},
   "outputs": [],
   "source": [
    "df_3.to_csv('df_3.csv', index=False)"
   ]
  },
  {
   "cell_type": "markdown",
   "metadata": {},
   "source": [
    "# Data_4"
   ]
  },
  {
   "cell_type": "code",
   "execution_count": 12,
   "metadata": {},
   "outputs": [],
   "source": [
    "import pandas as pd"
   ]
  },
  {
   "cell_type": "code",
   "execution_count": 13,
   "metadata": {},
   "outputs": [],
   "source": [
    "ruta4 = 'Data/data_4.csv'"
   ]
  },
  {
   "cell_type": "code",
   "execution_count": 14,
   "metadata": {},
   "outputs": [],
   "source": [
    "df_4 = pd.read_csv(ruta4)"
   ]
  },
  {
   "cell_type": "code",
   "execution_count": 70,
   "metadata": {},
   "outputs": [
    {
     "data": {
      "text/html": [
       "<div>\n",
       "<style scoped>\n",
       "    .dataframe tbody tr th:only-of-type {\n",
       "        vertical-align: middle;\n",
       "    }\n",
       "\n",
       "    .dataframe tbody tr th {\n",
       "        vertical-align: top;\n",
       "    }\n",
       "\n",
       "    .dataframe thead th {\n",
       "        text-align: right;\n",
       "    }\n",
       "</style>\n",
       "<table border=\"1\" class=\"dataframe\">\n",
       "  <thead>\n",
       "    <tr style=\"text-align: right;\">\n",
       "      <th></th>\n",
       "      <th>Año</th>\n",
       "      <th>Trimestre</th>\n",
       "      <th>Provincia</th>\n",
       "      <th>Banda ancha fija</th>\n",
       "      <th>Dial up</th>\n",
       "      <th>Total</th>\n",
       "    </tr>\n",
       "  </thead>\n",
       "  <tbody>\n",
       "    <tr>\n",
       "      <th>0</th>\n",
       "      <td>2022</td>\n",
       "      <td>4</td>\n",
       "      <td>Buenos Aires</td>\n",
       "      <td>5</td>\n",
       "      <td>6.0</td>\n",
       "      <td>5</td>\n",
       "    </tr>\n",
       "    <tr>\n",
       "      <th>1</th>\n",
       "      <td>2022</td>\n",
       "      <td>4</td>\n",
       "      <td>Capital Federal</td>\n",
       "      <td>2</td>\n",
       "      <td>2.0</td>\n",
       "      <td>2</td>\n",
       "    </tr>\n",
       "    <tr>\n",
       "      <th>2</th>\n",
       "      <td>2022</td>\n",
       "      <td>4</td>\n",
       "      <td>Catamarca</td>\n",
       "      <td>71</td>\n",
       "      <td>1.0</td>\n",
       "      <td>71</td>\n",
       "    </tr>\n",
       "    <tr>\n",
       "      <th>3</th>\n",
       "      <td>2022</td>\n",
       "      <td>4</td>\n",
       "      <td>Chaco</td>\n",
       "      <td>144</td>\n",
       "      <td>5.0</td>\n",
       "      <td>144</td>\n",
       "    </tr>\n",
       "    <tr>\n",
       "      <th>4</th>\n",
       "      <td>2022</td>\n",
       "      <td>4</td>\n",
       "      <td>Chubut</td>\n",
       "      <td>168</td>\n",
       "      <td>904.0</td>\n",
       "      <td>169</td>\n",
       "    </tr>\n",
       "  </tbody>\n",
       "</table>\n",
       "</div>"
      ],
      "text/plain": [
       "    Año  Trimestre        Provincia  Banda ancha fija  Dial up  Total\n",
       "0  2022          4     Buenos Aires                 5      6.0      5\n",
       "1  2022          4  Capital Federal                 2      2.0      2\n",
       "2  2022          4        Catamarca                71      1.0     71\n",
       "3  2022          4            Chaco               144      5.0    144\n",
       "4  2022          4           Chubut               168    904.0    169"
      ]
     },
     "execution_count": 70,
     "metadata": {},
     "output_type": "execute_result"
    }
   ],
   "source": [
    "df_4.head()"
   ]
  },
  {
   "cell_type": "markdown",
   "metadata": {},
   "source": [
    "Veo que los datos de 'Dial up' tienen .0. Quiero saber si los puedo pasar a enteros o si hay alguno que de hecho sea float."
   ]
  },
  {
   "cell_type": "code",
   "execution_count": 77,
   "metadata": {},
   "outputs": [
    {
     "data": {
      "text/plain": [
       "True"
      ]
     },
     "execution_count": 77,
     "metadata": {},
     "output_type": "execute_result"
    }
   ],
   "source": [
    "df_4['Dial up'][0].is_integer()"
   ]
  },
  {
   "cell_type": "code",
   "execution_count": 78,
   "metadata": {},
   "outputs": [
    {
     "name": "stdout",
     "output_type": "stream",
     "text": [
      "Algunos no son enteros.\n"
     ]
    }
   ],
   "source": [
    "son_enteros = df_4['Dial up'].apply(lambda x: x.is_integer()).all()\n",
    "\n",
    "if son_enteros:\n",
    "    print(\"Todos son enteros\")\n",
    "else:\n",
    "    print(\"Algunos no son enteros.\")"
   ]
  },
  {
   "cell_type": "code",
   "execution_count": 82,
   "metadata": {},
   "outputs": [],
   "source": [
    "no_enteros = df_4[df_4['Dial up'] % 1 != 0]"
   ]
  },
  {
   "cell_type": "code",
   "execution_count": 83,
   "metadata": {},
   "outputs": [
    {
     "data": {
      "text/html": [
       "<div>\n",
       "<style scoped>\n",
       "    .dataframe tbody tr th:only-of-type {\n",
       "        vertical-align: middle;\n",
       "    }\n",
       "\n",
       "    .dataframe tbody tr th {\n",
       "        vertical-align: top;\n",
       "    }\n",
       "\n",
       "    .dataframe thead th {\n",
       "        text-align: right;\n",
       "    }\n",
       "</style>\n",
       "<table border=\"1\" class=\"dataframe\">\n",
       "  <thead>\n",
       "    <tr style=\"text-align: right;\">\n",
       "      <th></th>\n",
       "      <th>Año</th>\n",
       "      <th>Trimestre</th>\n",
       "      <th>Provincia</th>\n",
       "      <th>Banda ancha fija</th>\n",
       "      <th>Dial up</th>\n",
       "      <th>Total</th>\n",
       "    </tr>\n",
       "  </thead>\n",
       "  <tbody>\n",
       "    <tr>\n",
       "      <th>440</th>\n",
       "      <td>2018</td>\n",
       "      <td>2</td>\n",
       "      <td>Formosa</td>\n",
       "      <td>45</td>\n",
       "      <td>NaN</td>\n",
       "      <td>45</td>\n",
       "    </tr>\n",
       "    <tr>\n",
       "      <th>445</th>\n",
       "      <td>2018</td>\n",
       "      <td>2</td>\n",
       "      <td>Misiones</td>\n",
       "      <td>106</td>\n",
       "      <td>NaN</td>\n",
       "      <td>106</td>\n",
       "    </tr>\n",
       "  </tbody>\n",
       "</table>\n",
       "</div>"
      ],
      "text/plain": [
       "      Año  Trimestre Provincia  Banda ancha fija  Dial up  Total\n",
       "440  2018          2   Formosa                45      NaN     45\n",
       "445  2018          2  Misiones               106      NaN    106"
      ]
     },
     "execution_count": 83,
     "metadata": {},
     "output_type": "execute_result"
    }
   ],
   "source": [
    "no_enteros"
   ]
  },
  {
   "cell_type": "markdown",
   "metadata": {},
   "source": [
    "Parece que los valores no enteros son nulos. Creo que lo mejor es reemplazarlos por cero, pero si hay otros ceros quizás es mejor tomar otra decisión."
   ]
  },
  {
   "cell_type": "code",
   "execution_count": 108,
   "metadata": {},
   "outputs": [
    {
     "data": {
      "text/html": [
       "<div>\n",
       "<style scoped>\n",
       "    .dataframe tbody tr th:only-of-type {\n",
       "        vertical-align: middle;\n",
       "    }\n",
       "\n",
       "    .dataframe tbody tr th {\n",
       "        vertical-align: top;\n",
       "    }\n",
       "\n",
       "    .dataframe thead th {\n",
       "        text-align: right;\n",
       "    }\n",
       "</style>\n",
       "<table border=\"1\" class=\"dataframe\">\n",
       "  <thead>\n",
       "    <tr style=\"text-align: right;\">\n",
       "      <th></th>\n",
       "      <th>Año</th>\n",
       "      <th>Trimestre</th>\n",
       "      <th>Provincia</th>\n",
       "      <th>Banda ancha fija</th>\n",
       "      <th>Dial up</th>\n",
       "      <th>Total</th>\n",
       "    </tr>\n",
       "  </thead>\n",
       "  <tbody>\n",
       "    <tr>\n",
       "      <th>8</th>\n",
       "      <td>2022</td>\n",
       "      <td>4</td>\n",
       "      <td>Formosa</td>\n",
       "      <td>62</td>\n",
       "      <td>0.0</td>\n",
       "      <td>62</td>\n",
       "    </tr>\n",
       "    <tr>\n",
       "      <th>9</th>\n",
       "      <td>2022</td>\n",
       "      <td>4</td>\n",
       "      <td>Jujuy</td>\n",
       "      <td>118</td>\n",
       "      <td>0.0</td>\n",
       "      <td>118</td>\n",
       "    </tr>\n",
       "    <tr>\n",
       "      <th>13</th>\n",
       "      <td>2022</td>\n",
       "      <td>4</td>\n",
       "      <td>Misiones</td>\n",
       "      <td>186</td>\n",
       "      <td>0.0</td>\n",
       "      <td>186</td>\n",
       "    </tr>\n",
       "    <tr>\n",
       "      <th>33</th>\n",
       "      <td>2022</td>\n",
       "      <td>3</td>\n",
       "      <td>Jujuy</td>\n",
       "      <td>119</td>\n",
       "      <td>0.0</td>\n",
       "      <td>119</td>\n",
       "    </tr>\n",
       "    <tr>\n",
       "      <th>37</th>\n",
       "      <td>2022</td>\n",
       "      <td>3</td>\n",
       "      <td>Misiones</td>\n",
       "      <td>182</td>\n",
       "      <td>0.0</td>\n",
       "      <td>182</td>\n",
       "    </tr>\n",
       "    <tr>\n",
       "      <th>...</th>\n",
       "      <td>...</td>\n",
       "      <td>...</td>\n",
       "      <td>...</td>\n",
       "      <td>...</td>\n",
       "      <td>...</td>\n",
       "      <td>...</td>\n",
       "    </tr>\n",
       "    <tr>\n",
       "      <th>608</th>\n",
       "      <td>2016</td>\n",
       "      <td>3</td>\n",
       "      <td>Formosa</td>\n",
       "      <td>28</td>\n",
       "      <td>0.0</td>\n",
       "      <td>28</td>\n",
       "    </tr>\n",
       "    <tr>\n",
       "      <th>613</th>\n",
       "      <td>2016</td>\n",
       "      <td>3</td>\n",
       "      <td>Misiones</td>\n",
       "      <td>98</td>\n",
       "      <td>0.0</td>\n",
       "      <td>98</td>\n",
       "    </tr>\n",
       "    <tr>\n",
       "      <th>805</th>\n",
       "      <td>2014</td>\n",
       "      <td>3</td>\n",
       "      <td>Misiones</td>\n",
       "      <td>75</td>\n",
       "      <td>0.0</td>\n",
       "      <td>75</td>\n",
       "    </tr>\n",
       "    <tr>\n",
       "      <th>829</th>\n",
       "      <td>2014</td>\n",
       "      <td>2</td>\n",
       "      <td>Misiones</td>\n",
       "      <td>75</td>\n",
       "      <td>0.0</td>\n",
       "      <td>75</td>\n",
       "    </tr>\n",
       "    <tr>\n",
       "      <th>853</th>\n",
       "      <td>2014</td>\n",
       "      <td>1</td>\n",
       "      <td>Misiones</td>\n",
       "      <td>74</td>\n",
       "      <td>0.0</td>\n",
       "      <td>74</td>\n",
       "    </tr>\n",
       "  </tbody>\n",
       "</table>\n",
       "<p>65 rows × 6 columns</p>\n",
       "</div>"
      ],
      "text/plain": [
       "      Año  Trimestre Provincia  Banda ancha fija  Dial up  Total\n",
       "8    2022          4   Formosa                62      0.0     62\n",
       "9    2022          4     Jujuy               118      0.0    118\n",
       "13   2022          4  Misiones               186      0.0    186\n",
       "33   2022          3     Jujuy               119      0.0    119\n",
       "37   2022          3  Misiones               182      0.0    182\n",
       "..    ...        ...       ...               ...      ...    ...\n",
       "608  2016          3   Formosa                28      0.0     28\n",
       "613  2016          3  Misiones                98      0.0     98\n",
       "805  2014          3  Misiones                75      0.0     75\n",
       "829  2014          2  Misiones                75      0.0     75\n",
       "853  2014          1  Misiones                74      0.0     74\n",
       "\n",
       "[65 rows x 6 columns]"
      ]
     },
     "execution_count": 108,
     "metadata": {},
     "output_type": "execute_result"
    }
   ],
   "source": [
    "df_4[df_4['Dial up'] == 0]"
   ]
  },
  {
   "cell_type": "markdown",
   "metadata": {},
   "source": [
    "Hay otros ceros, así que quizás lo mejor no sea reemplazarlos por ceros. Voy a fijarme para esos lugares qué otros valores hay para esa columna"
   ]
  },
  {
   "cell_type": "code",
   "execution_count": 15,
   "metadata": {},
   "outputs": [],
   "source": [
    "filtrado_formosa = df_4[(df_4['Año'] == 2018) & ((df_4['Trimestre'] == 1) | (df_4['Trimestre'] == 3)) & (df_4['Provincia'] == 'Formosa')]"
   ]
  },
  {
   "cell_type": "code",
   "execution_count": 16,
   "metadata": {},
   "outputs": [
    {
     "data": {
      "text/html": [
       "<div>\n",
       "<style scoped>\n",
       "    .dataframe tbody tr th:only-of-type {\n",
       "        vertical-align: middle;\n",
       "    }\n",
       "\n",
       "    .dataframe tbody tr th {\n",
       "        vertical-align: top;\n",
       "    }\n",
       "\n",
       "    .dataframe thead th {\n",
       "        text-align: right;\n",
       "    }\n",
       "</style>\n",
       "<table border=\"1\" class=\"dataframe\">\n",
       "  <thead>\n",
       "    <tr style=\"text-align: right;\">\n",
       "      <th></th>\n",
       "      <th>Año</th>\n",
       "      <th>Trimestre</th>\n",
       "      <th>Provincia</th>\n",
       "      <th>Banda ancha fija</th>\n",
       "      <th>Dial up</th>\n",
       "      <th>Total</th>\n",
       "    </tr>\n",
       "  </thead>\n",
       "  <tbody>\n",
       "    <tr>\n",
       "      <th>416</th>\n",
       "      <td>2018</td>\n",
       "      <td>3</td>\n",
       "      <td>Formosa</td>\n",
       "      <td>45</td>\n",
       "      <td>0.0</td>\n",
       "      <td>45</td>\n",
       "    </tr>\n",
       "    <tr>\n",
       "      <th>464</th>\n",
       "      <td>2018</td>\n",
       "      <td>1</td>\n",
       "      <td>Formosa</td>\n",
       "      <td>32</td>\n",
       "      <td>0.0</td>\n",
       "      <td>32</td>\n",
       "    </tr>\n",
       "  </tbody>\n",
       "</table>\n",
       "</div>"
      ],
      "text/plain": [
       "      Año  Trimestre Provincia  Banda ancha fija  Dial up  Total\n",
       "416  2018          3   Formosa                45      0.0     45\n",
       "464  2018          1   Formosa                32      0.0     32"
      ]
     },
     "execution_count": 16,
     "metadata": {},
     "output_type": "execute_result"
    }
   ],
   "source": [
    "filtrado_formosa"
   ]
  },
  {
   "cell_type": "markdown",
   "metadata": {},
   "source": [
    "La idea era sacar el promedio de 'Dial up' para Formosa en el año 2018 para los trimestres 1 y 3, y así llenar el trimestre 2, pero como los valores son 0, lo voy a transformar a 0. Ahora tengo que ver si pasó lo mismo con Misiones\n"
   ]
  },
  {
   "cell_type": "code",
   "execution_count": 17,
   "metadata": {},
   "outputs": [],
   "source": [
    "filtrado_misiones = df_4[(df_4['Año'] == 2018) & ((df_4['Trimestre'] == 1) | (df_4['Trimestre'] == 3)) & (df_4['Provincia'] == 'Misiones')]"
   ]
  },
  {
   "cell_type": "code",
   "execution_count": 18,
   "metadata": {},
   "outputs": [
    {
     "data": {
      "text/html": [
       "<div>\n",
       "<style scoped>\n",
       "    .dataframe tbody tr th:only-of-type {\n",
       "        vertical-align: middle;\n",
       "    }\n",
       "\n",
       "    .dataframe tbody tr th {\n",
       "        vertical-align: top;\n",
       "    }\n",
       "\n",
       "    .dataframe thead th {\n",
       "        text-align: right;\n",
       "    }\n",
       "</style>\n",
       "<table border=\"1\" class=\"dataframe\">\n",
       "  <thead>\n",
       "    <tr style=\"text-align: right;\">\n",
       "      <th></th>\n",
       "      <th>Año</th>\n",
       "      <th>Trimestre</th>\n",
       "      <th>Provincia</th>\n",
       "      <th>Banda ancha fija</th>\n",
       "      <th>Dial up</th>\n",
       "      <th>Total</th>\n",
       "    </tr>\n",
       "  </thead>\n",
       "  <tbody>\n",
       "    <tr>\n",
       "      <th>421</th>\n",
       "      <td>2018</td>\n",
       "      <td>3</td>\n",
       "      <td>Misiones</td>\n",
       "      <td>108</td>\n",
       "      <td>0.0</td>\n",
       "      <td>108</td>\n",
       "    </tr>\n",
       "    <tr>\n",
       "      <th>469</th>\n",
       "      <td>2018</td>\n",
       "      <td>1</td>\n",
       "      <td>Misiones</td>\n",
       "      <td>104</td>\n",
       "      <td>0.0</td>\n",
       "      <td>104</td>\n",
       "    </tr>\n",
       "  </tbody>\n",
       "</table>\n",
       "</div>"
      ],
      "text/plain": [
       "      Año  Trimestre Provincia  Banda ancha fija  Dial up  Total\n",
       "421  2018          3  Misiones               108      0.0    108\n",
       "469  2018          1  Misiones               104      0.0    104"
      ]
     },
     "execution_count": 18,
     "metadata": {},
     "output_type": "execute_result"
    }
   ],
   "source": [
    "filtrado_misiones"
   ]
  },
  {
   "cell_type": "markdown",
   "metadata": {},
   "source": [
    "También son ceros, así que ya puedo reemplazar los 'Dial up' nulos por ceros."
   ]
  },
  {
   "cell_type": "code",
   "execution_count": 19,
   "metadata": {},
   "outputs": [],
   "source": [
    "df_4['Dial up'] = df_4['Dial up'].fillna(0)"
   ]
  },
  {
   "cell_type": "code",
   "execution_count": 115,
   "metadata": {},
   "outputs": [
    {
     "data": {
      "text/html": [
       "<div>\n",
       "<style scoped>\n",
       "    .dataframe tbody tr th:only-of-type {\n",
       "        vertical-align: middle;\n",
       "    }\n",
       "\n",
       "    .dataframe tbody tr th {\n",
       "        vertical-align: top;\n",
       "    }\n",
       "\n",
       "    .dataframe thead th {\n",
       "        text-align: right;\n",
       "    }\n",
       "</style>\n",
       "<table border=\"1\" class=\"dataframe\">\n",
       "  <thead>\n",
       "    <tr style=\"text-align: right;\">\n",
       "      <th></th>\n",
       "      <th>Año</th>\n",
       "      <th>Trimestre</th>\n",
       "      <th>Provincia</th>\n",
       "      <th>Banda ancha fija</th>\n",
       "      <th>Dial up</th>\n",
       "      <th>Total</th>\n",
       "    </tr>\n",
       "  </thead>\n",
       "  <tbody>\n",
       "    <tr>\n",
       "      <th>0</th>\n",
       "      <td>2022</td>\n",
       "      <td>4</td>\n",
       "      <td>Buenos Aires</td>\n",
       "      <td>5</td>\n",
       "      <td>6.0</td>\n",
       "      <td>5</td>\n",
       "    </tr>\n",
       "  </tbody>\n",
       "</table>\n",
       "</div>"
      ],
      "text/plain": [
       "    Año  Trimestre     Provincia  Banda ancha fija  Dial up  Total\n",
       "0  2022          4  Buenos Aires                 5      6.0      5"
      ]
     },
     "execution_count": 115,
     "metadata": {},
     "output_type": "execute_result"
    }
   ],
   "source": [
    "df_4.head(1)"
   ]
  },
  {
   "cell_type": "code",
   "execution_count": 20,
   "metadata": {},
   "outputs": [
    {
     "data": {
      "text/plain": [
       "(Año                 0\n",
       " Trimestre           0\n",
       " Provincia           0\n",
       " Banda ancha fija    0\n",
       " Dial up             0\n",
       " Total               0\n",
       " dtype: int64,\n",
       " Año                 0\n",
       " Trimestre           0\n",
       " Provincia           0\n",
       " Banda ancha fija    0\n",
       " Dial up             0\n",
       " Total               0\n",
       " dtype: int64)"
      ]
     },
     "execution_count": 20,
     "metadata": {},
     "output_type": "execute_result"
    }
   ],
   "source": [
    "df_4.isna().sum(), df_4.isnull().sum()"
   ]
  },
  {
   "cell_type": "markdown",
   "metadata": {},
   "source": [
    "No hay nulos"
   ]
  },
  {
   "cell_type": "code",
   "execution_count": 71,
   "metadata": {},
   "outputs": [
    {
     "data": {
      "text/plain": [
       "Año                   int64\n",
       "Trimestre             int64\n",
       "Provincia            object\n",
       "Banda ancha fija      int64\n",
       "Dial up             float64\n",
       "Total                 int64\n",
       "dtype: object"
      ]
     },
     "execution_count": 71,
     "metadata": {},
     "output_type": "execute_result"
    }
   ],
   "source": [
    "df_4.dtypes"
   ]
  },
  {
   "cell_type": "code",
   "execution_count": 74,
   "metadata": {},
   "outputs": [
    {
     "data": {
      "text/plain": [
       "(864, 6)"
      ]
     },
     "execution_count": 74,
     "metadata": {},
     "output_type": "execute_result"
    }
   ],
   "source": [
    "df_4.shape"
   ]
  },
  {
   "cell_type": "markdown",
   "metadata": {},
   "source": [
    "Como ya no tengo, en teoría, valores decimales en la columna 'Dial up', voy a pasarla a int."
   ]
  },
  {
   "cell_type": "code",
   "execution_count": 21,
   "metadata": {},
   "outputs": [],
   "source": [
    "df_4['Dial up'] = df_4['Dial up'].astype(int)"
   ]
  },
  {
   "cell_type": "code",
   "execution_count": 127,
   "metadata": {},
   "outputs": [
    {
     "data": {
      "text/plain": [
       "numpy.int32"
      ]
     },
     "execution_count": 127,
     "metadata": {},
     "output_type": "execute_result"
    }
   ],
   "source": [
    "type(df_4['Dial up'][0])"
   ]
  },
  {
   "cell_type": "code",
   "execution_count": 128,
   "metadata": {},
   "outputs": [
    {
     "data": {
      "text/html": [
       "<div>\n",
       "<style scoped>\n",
       "    .dataframe tbody tr th:only-of-type {\n",
       "        vertical-align: middle;\n",
       "    }\n",
       "\n",
       "    .dataframe tbody tr th {\n",
       "        vertical-align: top;\n",
       "    }\n",
       "\n",
       "    .dataframe thead th {\n",
       "        text-align: right;\n",
       "    }\n",
       "</style>\n",
       "<table border=\"1\" class=\"dataframe\">\n",
       "  <thead>\n",
       "    <tr style=\"text-align: right;\">\n",
       "      <th></th>\n",
       "      <th>Año</th>\n",
       "      <th>Trimestre</th>\n",
       "      <th>Provincia</th>\n",
       "      <th>Banda ancha fija</th>\n",
       "      <th>Dial up</th>\n",
       "      <th>Total</th>\n",
       "    </tr>\n",
       "  </thead>\n",
       "  <tbody>\n",
       "    <tr>\n",
       "      <th>0</th>\n",
       "      <td>2022</td>\n",
       "      <td>4</td>\n",
       "      <td>Buenos Aires</td>\n",
       "      <td>5</td>\n",
       "      <td>6</td>\n",
       "      <td>5</td>\n",
       "    </tr>\n",
       "    <tr>\n",
       "      <th>1</th>\n",
       "      <td>2022</td>\n",
       "      <td>4</td>\n",
       "      <td>Capital Federal</td>\n",
       "      <td>2</td>\n",
       "      <td>2</td>\n",
       "      <td>2</td>\n",
       "    </tr>\n",
       "    <tr>\n",
       "      <th>2</th>\n",
       "      <td>2022</td>\n",
       "      <td>4</td>\n",
       "      <td>Catamarca</td>\n",
       "      <td>71</td>\n",
       "      <td>1</td>\n",
       "      <td>71</td>\n",
       "    </tr>\n",
       "    <tr>\n",
       "      <th>3</th>\n",
       "      <td>2022</td>\n",
       "      <td>4</td>\n",
       "      <td>Chaco</td>\n",
       "      <td>144</td>\n",
       "      <td>5</td>\n",
       "      <td>144</td>\n",
       "    </tr>\n",
       "    <tr>\n",
       "      <th>4</th>\n",
       "      <td>2022</td>\n",
       "      <td>4</td>\n",
       "      <td>Chubut</td>\n",
       "      <td>168</td>\n",
       "      <td>904</td>\n",
       "      <td>169</td>\n",
       "    </tr>\n",
       "  </tbody>\n",
       "</table>\n",
       "</div>"
      ],
      "text/plain": [
       "    Año  Trimestre        Provincia  Banda ancha fija  Dial up  Total\n",
       "0  2022          4     Buenos Aires                 5        6      5\n",
       "1  2022          4  Capital Federal                 2        2      2\n",
       "2  2022          4        Catamarca                71        1     71\n",
       "3  2022          4            Chaco               144        5    144\n",
       "4  2022          4           Chubut               168      904    169"
      ]
     },
     "execution_count": 128,
     "metadata": {},
     "output_type": "execute_result"
    }
   ],
   "source": [
    "df_4.head()"
   ]
  },
  {
   "cell_type": "markdown",
   "metadata": {},
   "source": [
    "Búsqueda de datos duplicados. En este caso, lo importante es que no haya alguna combinación de Año-Trimestre-Provincia que haya sido registrada más de una vez."
   ]
  },
  {
   "cell_type": "code",
   "execution_count": 152,
   "metadata": {},
   "outputs": [
    {
     "data": {
      "text/html": [
       "<div>\n",
       "<style scoped>\n",
       "    .dataframe tbody tr th:only-of-type {\n",
       "        vertical-align: middle;\n",
       "    }\n",
       "\n",
       "    .dataframe tbody tr th {\n",
       "        vertical-align: top;\n",
       "    }\n",
       "\n",
       "    .dataframe thead th {\n",
       "        text-align: right;\n",
       "    }\n",
       "</style>\n",
       "<table border=\"1\" class=\"dataframe\">\n",
       "  <thead>\n",
       "    <tr style=\"text-align: right;\">\n",
       "      <th></th>\n",
       "      <th>Año</th>\n",
       "      <th>Trimestre</th>\n",
       "      <th>Provincia</th>\n",
       "      <th>Banda ancha fija</th>\n",
       "      <th>Dial up</th>\n",
       "      <th>Total</th>\n",
       "    </tr>\n",
       "  </thead>\n",
       "  <tbody>\n",
       "  </tbody>\n",
       "</table>\n",
       "</div>"
      ],
      "text/plain": [
       "Empty DataFrame\n",
       "Columns: [Año, Trimestre, Provincia, Banda ancha fija, Dial up, Total]\n",
       "Index: []"
      ]
     },
     "execution_count": 152,
     "metadata": {},
     "output_type": "execute_result"
    }
   ],
   "source": [
    "columnas = ['Año', 'Trimestre', 'Provincia']\n",
    "\n",
    "duplicados = df_4.duplicated(subset=columnas)\n",
    "\n",
    "filas_duplicadas = df_4[duplicados]\n",
    "\n",
    "filas_duplicadas"
   ]
  },
  {
   "cell_type": "markdown",
   "metadata": {},
   "source": [
    "No hay datos duplicados."
   ]
  },
  {
   "cell_type": "markdown",
   "metadata": {},
   "source": [
    "Tengo que cambiar los nombres de las columnas para sacarles los espacios, las mayúsculas y los caracteres potencialmente problemáticos. "
   ]
  },
  {
   "cell_type": "code",
   "execution_count": 253,
   "metadata": {},
   "outputs": [],
   "source": [
    "nuevas_columnas = {\n",
    "    'Año': 'anio',\n",
    "    'Trimestre': 'trimestre',\n",
    "    'Provincia': 'provincia',\n",
    "    'Banda ancha fija': 'banda_ancha_fija',\n",
    "    'Dial up': 'dial_up',\n",
    "    'Total\t': 'total'\n",
    "}\n",
    "df_4.rename(columns=nuevas_columnas, inplace=True)\n",
    "\n"
   ]
  },
  {
   "cell_type": "markdown",
   "metadata": {},
   "source": [
    "También voy a normalizar todos los datos(pasarlos a minúsculas, sacarles tildes, etc.)"
   ]
  },
  {
   "cell_type": "code",
   "execution_count": 255,
   "metadata": {},
   "outputs": [],
   "source": [
    "import unicodedata\n",
    "\n",
    "for column in df_4.columns:\n",
    "    if df_4[column].dtype == 'object':\n",
    "        df_4[column] = df_4[column].str.lower().apply(lambda x: unicodedata.normalize('NFKD', x).encode('ASCII', 'ignore').decode('utf-8'))"
   ]
  },
  {
   "cell_type": "code",
   "execution_count": 522,
   "metadata": {},
   "outputs": [],
   "source": [
    "df_4.to_csv('df_4.csv', index=False)"
   ]
  },
  {
   "cell_type": "markdown",
   "metadata": {},
   "source": [
    "# Df_5"
   ]
  },
  {
   "cell_type": "code",
   "execution_count": null,
   "metadata": {},
   "outputs": [],
   "source": [
    "import pandas as pd"
   ]
  },
  {
   "cell_type": "code",
   "execution_count": 129,
   "metadata": {},
   "outputs": [],
   "source": [
    "ruta5 = 'Data/data_5.csv'"
   ]
  },
  {
   "cell_type": "code",
   "execution_count": 130,
   "metadata": {},
   "outputs": [],
   "source": [
    "df_5 = pd.read_csv(ruta5)"
   ]
  },
  {
   "cell_type": "code",
   "execution_count": 131,
   "metadata": {},
   "outputs": [
    {
     "data": {
      "text/html": [
       "<div>\n",
       "<style scoped>\n",
       "    .dataframe tbody tr th:only-of-type {\n",
       "        vertical-align: middle;\n",
       "    }\n",
       "\n",
       "    .dataframe tbody tr th {\n",
       "        vertical-align: top;\n",
       "    }\n",
       "\n",
       "    .dataframe thead th {\n",
       "        text-align: right;\n",
       "    }\n",
       "</style>\n",
       "<table border=\"1\" class=\"dataframe\">\n",
       "  <thead>\n",
       "    <tr style=\"text-align: right;\">\n",
       "      <th></th>\n",
       "      <th>Año</th>\n",
       "      <th>Trimestre</th>\n",
       "      <th>ADSL</th>\n",
       "      <th>Cablemodem</th>\n",
       "      <th>Fibra óptica</th>\n",
       "      <th>Wireless</th>\n",
       "      <th>Otros</th>\n",
       "      <th>Total</th>\n",
       "      <th>Periodo</th>\n",
       "    </tr>\n",
       "  </thead>\n",
       "  <tbody>\n",
       "    <tr>\n",
       "      <th>0</th>\n",
       "      <td>2022</td>\n",
       "      <td>4</td>\n",
       "      <td>1</td>\n",
       "      <td>6</td>\n",
       "      <td>3</td>\n",
       "      <td>573</td>\n",
       "      <td>222</td>\n",
       "      <td>11</td>\n",
       "      <td>Oct-Dic 2022</td>\n",
       "    </tr>\n",
       "    <tr>\n",
       "      <th>1</th>\n",
       "      <td>2022</td>\n",
       "      <td>3</td>\n",
       "      <td>1</td>\n",
       "      <td>6</td>\n",
       "      <td>3</td>\n",
       "      <td>557</td>\n",
       "      <td>235</td>\n",
       "      <td>11</td>\n",
       "      <td>Jul-Sept 2022</td>\n",
       "    </tr>\n",
       "    <tr>\n",
       "      <th>2</th>\n",
       "      <td>2022</td>\n",
       "      <td>2</td>\n",
       "      <td>1</td>\n",
       "      <td>6</td>\n",
       "      <td>3</td>\n",
       "      <td>556</td>\n",
       "      <td>232</td>\n",
       "      <td>11</td>\n",
       "      <td>Abr-Jun 2022</td>\n",
       "    </tr>\n",
       "    <tr>\n",
       "      <th>3</th>\n",
       "      <td>2022</td>\n",
       "      <td>1</td>\n",
       "      <td>2</td>\n",
       "      <td>6</td>\n",
       "      <td>2</td>\n",
       "      <td>546</td>\n",
       "      <td>252</td>\n",
       "      <td>11</td>\n",
       "      <td>Ene-Mar 2022</td>\n",
       "    </tr>\n",
       "    <tr>\n",
       "      <th>4</th>\n",
       "      <td>2021</td>\n",
       "      <td>4</td>\n",
       "      <td>2</td>\n",
       "      <td>6</td>\n",
       "      <td>2</td>\n",
       "      <td>523</td>\n",
       "      <td>253</td>\n",
       "      <td>10</td>\n",
       "      <td>Oct-Dic 2021</td>\n",
       "    </tr>\n",
       "  </tbody>\n",
       "</table>\n",
       "</div>"
      ],
      "text/plain": [
       "    Año  Trimestre  ADSL  Cablemodem  Fibra óptica  Wireless  Otros  Total  \\\n",
       "0  2022          4     1           6             3       573    222     11   \n",
       "1  2022          3     1           6             3       557    235     11   \n",
       "2  2022          2     1           6             3       556    232     11   \n",
       "3  2022          1     2           6             2       546    252     11   \n",
       "4  2021          4     2           6             2       523    253     10   \n",
       "\n",
       "         Periodo  \n",
       "0   Oct-Dic 2022  \n",
       "1  Jul-Sept 2022  \n",
       "2   Abr-Jun 2022  \n",
       "3   Ene-Mar 2022  \n",
       "4   Oct-Dic 2021  "
      ]
     },
     "execution_count": 131,
     "metadata": {},
     "output_type": "execute_result"
    }
   ],
   "source": [
    "df_5.head()"
   ]
  },
  {
   "cell_type": "code",
   "execution_count": 73,
   "metadata": {},
   "outputs": [
    {
     "data": {
      "text/plain": [
       "Año              int64\n",
       "Trimestre        int64\n",
       "ADSL             int64\n",
       "Cablemodem       int64\n",
       "Fibra óptica     int64\n",
       "Wireless         int64\n",
       "Otros            int64\n",
       "Total            int64\n",
       "Periodo         object\n",
       "dtype: object"
      ]
     },
     "execution_count": 73,
     "metadata": {},
     "output_type": "execute_result"
    }
   ],
   "source": [
    "df_5.dtypes"
   ]
  },
  {
   "cell_type": "code",
   "execution_count": 132,
   "metadata": {},
   "outputs": [
    {
     "data": {
      "text/plain": [
       "(36, 9)"
      ]
     },
     "execution_count": 132,
     "metadata": {},
     "output_type": "execute_result"
    }
   ],
   "source": [
    "df_5.shape"
   ]
  },
  {
   "cell_type": "code",
   "execution_count": 133,
   "metadata": {},
   "outputs": [
    {
     "data": {
      "text/html": [
       "<div>\n",
       "<style scoped>\n",
       "    .dataframe tbody tr th:only-of-type {\n",
       "        vertical-align: middle;\n",
       "    }\n",
       "\n",
       "    .dataframe tbody tr th {\n",
       "        vertical-align: top;\n",
       "    }\n",
       "\n",
       "    .dataframe thead th {\n",
       "        text-align: right;\n",
       "    }\n",
       "</style>\n",
       "<table border=\"1\" class=\"dataframe\">\n",
       "  <thead>\n",
       "    <tr style=\"text-align: right;\">\n",
       "      <th></th>\n",
       "      <th>Año</th>\n",
       "      <th>Trimestre</th>\n",
       "      <th>ADSL</th>\n",
       "      <th>Cablemodem</th>\n",
       "      <th>Fibra óptica</th>\n",
       "      <th>Wireless</th>\n",
       "      <th>Otros</th>\n",
       "      <th>Total</th>\n",
       "      <th>Periodo</th>\n",
       "    </tr>\n",
       "  </thead>\n",
       "  <tbody>\n",
       "    <tr>\n",
       "      <th>0</th>\n",
       "      <td>2022</td>\n",
       "      <td>4</td>\n",
       "      <td>1</td>\n",
       "      <td>6</td>\n",
       "      <td>3</td>\n",
       "      <td>573</td>\n",
       "      <td>222</td>\n",
       "      <td>11</td>\n",
       "      <td>Oct-Dic 2022</td>\n",
       "    </tr>\n",
       "  </tbody>\n",
       "</table>\n",
       "</div>"
      ],
      "text/plain": [
       "    Año  Trimestre  ADSL  Cablemodem  Fibra óptica  Wireless  Otros  Total  \\\n",
       "0  2022          4     1           6             3       573    222     11   \n",
       "\n",
       "        Periodo  \n",
       "0  Oct-Dic 2022  "
      ]
     },
     "execution_count": 133,
     "metadata": {},
     "output_type": "execute_result"
    }
   ],
   "source": [
    "df_5.head(1)"
   ]
  },
  {
   "cell_type": "markdown",
   "metadata": {},
   "source": [
    "Voy a revisar que las columnas no tengan nulos ni valores faltantes."
   ]
  },
  {
   "cell_type": "code",
   "execution_count": null,
   "metadata": {},
   "outputs": [],
   "source": [
    "df_5.info()"
   ]
  },
  {
   "cell_type": "markdown",
   "metadata": {},
   "source": [
    "Voy a chequear que no haya duplicados. En este dataframe, lo importante es que la combinación Año-Trimestre no esté repetida:"
   ]
  },
  {
   "cell_type": "code",
   "execution_count": 146,
   "metadata": {},
   "outputs": [],
   "source": [
    "columnas = ['Año', 'Trimestre']\n",
    "\n",
    "duplicados = df_5.duplicated(subset=columnas)\n",
    "\n",
    "filas_duplicadas = df_5[duplicados]"
   ]
  },
  {
   "cell_type": "code",
   "execution_count": 147,
   "metadata": {},
   "outputs": [
    {
     "data": {
      "text/html": [
       "<div>\n",
       "<style scoped>\n",
       "    .dataframe tbody tr th:only-of-type {\n",
       "        vertical-align: middle;\n",
       "    }\n",
       "\n",
       "    .dataframe tbody tr th {\n",
       "        vertical-align: top;\n",
       "    }\n",
       "\n",
       "    .dataframe thead th {\n",
       "        text-align: right;\n",
       "    }\n",
       "</style>\n",
       "<table border=\"1\" class=\"dataframe\">\n",
       "  <thead>\n",
       "    <tr style=\"text-align: right;\">\n",
       "      <th></th>\n",
       "      <th>Año</th>\n",
       "      <th>Trimestre</th>\n",
       "      <th>ADSL</th>\n",
       "      <th>Cablemodem</th>\n",
       "      <th>Fibra óptica</th>\n",
       "      <th>Wireless</th>\n",
       "      <th>Otros</th>\n",
       "      <th>Total</th>\n",
       "      <th>Periodo</th>\n",
       "    </tr>\n",
       "  </thead>\n",
       "  <tbody>\n",
       "  </tbody>\n",
       "</table>\n",
       "</div>"
      ],
      "text/plain": [
       "Empty DataFrame\n",
       "Columns: [Año, Trimestre, ADSL, Cablemodem, Fibra óptica, Wireless, Otros, Total, Periodo]\n",
       "Index: []"
      ]
     },
     "execution_count": 147,
     "metadata": {},
     "output_type": "execute_result"
    }
   ],
   "source": [
    "filas_duplicadas"
   ]
  },
  {
   "cell_type": "markdown",
   "metadata": {},
   "source": [
    "Cambiando el nombre a las columnas:"
   ]
  },
  {
   "cell_type": "code",
   "execution_count": 266,
   "metadata": {},
   "outputs": [
    {
     "data": {
      "text/html": [
       "<div>\n",
       "<style scoped>\n",
       "    .dataframe tbody tr th:only-of-type {\n",
       "        vertical-align: middle;\n",
       "    }\n",
       "\n",
       "    .dataframe tbody tr th {\n",
       "        vertical-align: top;\n",
       "    }\n",
       "\n",
       "    .dataframe thead th {\n",
       "        text-align: right;\n",
       "    }\n",
       "</style>\n",
       "<table border=\"1\" class=\"dataframe\">\n",
       "  <thead>\n",
       "    <tr style=\"text-align: right;\">\n",
       "      <th></th>\n",
       "      <th>anio</th>\n",
       "      <th>trimestre</th>\n",
       "      <th>adsl</th>\n",
       "      <th>cablemodem</th>\n",
       "      <th>fibra_optica</th>\n",
       "      <th>wireless</th>\n",
       "      <th>otros</th>\n",
       "      <th>total</th>\n",
       "      <th>periodo</th>\n",
       "    </tr>\n",
       "  </thead>\n",
       "  <tbody>\n",
       "    <tr>\n",
       "      <th>0</th>\n",
       "      <td>2022</td>\n",
       "      <td>4</td>\n",
       "      <td>1</td>\n",
       "      <td>6</td>\n",
       "      <td>3</td>\n",
       "      <td>573</td>\n",
       "      <td>222</td>\n",
       "      <td>11</td>\n",
       "      <td>oct-dic 2022</td>\n",
       "    </tr>\n",
       "  </tbody>\n",
       "</table>\n",
       "</div>"
      ],
      "text/plain": [
       "   anio  trimestre  adsl  cablemodem  fibra_optica  wireless  otros  total  \\\n",
       "0  2022          4     1           6             3       573    222     11   \n",
       "\n",
       "        periodo  \n",
       "0  oct-dic 2022  "
      ]
     },
     "execution_count": 266,
     "metadata": {},
     "output_type": "execute_result"
    }
   ],
   "source": [
    "df_5.head(1)"
   ]
  },
  {
   "cell_type": "code",
   "execution_count": 265,
   "metadata": {},
   "outputs": [],
   "source": [
    "\n",
    "nuevas_columnas = {\n",
    "    'Año': 'anio',\n",
    "    'Trimestre': 'trimestre',\n",
    "    'ADSL': 'adsl',\n",
    "    'Cablemodem': 'cablemodem',\n",
    "    'Fibra óptica': 'fibra_optica',\n",
    "    'Wireless': 'wireless',\n",
    "    'Otros': 'otros',\n",
    "    'Total': 'total',\n",
    "    'Periodo': 'periodo'\n",
    "}\n",
    "df_5.rename(columns=nuevas_columnas, inplace=True)\n",
    "\n"
   ]
  },
  {
   "cell_type": "markdown",
   "metadata": {},
   "source": [
    "Normalizando los datos:"
   ]
  },
  {
   "cell_type": "code",
   "execution_count": 260,
   "metadata": {},
   "outputs": [],
   "source": [
    "\n",
    "import unicodedata\n",
    "\n",
    "for column in df_5.columns:\n",
    "    if df_5[column].dtype == 'object':\n",
    "        df_5[column] = df_5[column].str.lower().apply(lambda x: unicodedata.normalize('NFKD', x).encode('ASCII', 'ignore').decode('utf-8'))"
   ]
  },
  {
   "cell_type": "code",
   "execution_count": 521,
   "metadata": {},
   "outputs": [],
   "source": [
    "df_5.to_csv('df_5.csv', index=False)"
   ]
  },
  {
   "cell_type": "markdown",
   "metadata": {},
   "source": [
    "# Df_6"
   ]
  },
  {
   "cell_type": "code",
   "execution_count": 153,
   "metadata": {},
   "outputs": [],
   "source": [
    "import pandas as pd"
   ]
  },
  {
   "cell_type": "code",
   "execution_count": 154,
   "metadata": {},
   "outputs": [],
   "source": [
    "ruta6 = 'Data/data_6.csv'"
   ]
  },
  {
   "cell_type": "code",
   "execution_count": 155,
   "metadata": {},
   "outputs": [],
   "source": [
    "df_6 = pd.read_csv(ruta6)"
   ]
  },
  {
   "cell_type": "code",
   "execution_count": 156,
   "metadata": {},
   "outputs": [
    {
     "data": {
      "text/html": [
       "<div>\n",
       "<style scoped>\n",
       "    .dataframe tbody tr th:only-of-type {\n",
       "        vertical-align: middle;\n",
       "    }\n",
       "\n",
       "    .dataframe tbody tr th {\n",
       "        vertical-align: top;\n",
       "    }\n",
       "\n",
       "    .dataframe thead th {\n",
       "        text-align: right;\n",
       "    }\n",
       "</style>\n",
       "<table border=\"1\" class=\"dataframe\">\n",
       "  <thead>\n",
       "    <tr style=\"text-align: right;\">\n",
       "      <th></th>\n",
       "      <th>Año</th>\n",
       "      <th>Trimestre</th>\n",
       "      <th>Provincia</th>\n",
       "      <th>ADSL</th>\n",
       "      <th>Cablemodem</th>\n",
       "      <th>Fibra óptica</th>\n",
       "      <th>Wireless</th>\n",
       "      <th>Otros</th>\n",
       "      <th>Total</th>\n",
       "    </tr>\n",
       "  </thead>\n",
       "  <tbody>\n",
       "    <tr>\n",
       "      <th>0</th>\n",
       "      <td>2022</td>\n",
       "      <td>4</td>\n",
       "      <td>Buenos Aires</td>\n",
       "      <td>326.0</td>\n",
       "      <td>3.0</td>\n",
       "      <td>1.0</td>\n",
       "      <td>130.0</td>\n",
       "      <td>72.0</td>\n",
       "      <td>5.0</td>\n",
       "    </tr>\n",
       "    <tr>\n",
       "      <th>1</th>\n",
       "      <td>2022</td>\n",
       "      <td>4</td>\n",
       "      <td>Capital Federal</td>\n",
       "      <td>139.0</td>\n",
       "      <td>1.0</td>\n",
       "      <td>139.0</td>\n",
       "      <td>5.0</td>\n",
       "      <td>32.0</td>\n",
       "      <td>2.0</td>\n",
       "    </tr>\n",
       "    <tr>\n",
       "      <th>2</th>\n",
       "      <td>2022</td>\n",
       "      <td>4</td>\n",
       "      <td>Catamarca</td>\n",
       "      <td>9.0</td>\n",
       "      <td>11.0</td>\n",
       "      <td>47.0</td>\n",
       "      <td>1.0</td>\n",
       "      <td>2.0</td>\n",
       "      <td>71.0</td>\n",
       "    </tr>\n",
       "    <tr>\n",
       "      <th>3</th>\n",
       "      <td>2022</td>\n",
       "      <td>4</td>\n",
       "      <td>Chaco</td>\n",
       "      <td>25.0</td>\n",
       "      <td>61.0</td>\n",
       "      <td>47.0</td>\n",
       "      <td>8.0</td>\n",
       "      <td>3.0</td>\n",
       "      <td>144.0</td>\n",
       "    </tr>\n",
       "    <tr>\n",
       "      <th>4</th>\n",
       "      <td>2022</td>\n",
       "      <td>4</td>\n",
       "      <td>Chubut</td>\n",
       "      <td>45.0</td>\n",
       "      <td>74.0</td>\n",
       "      <td>10.0</td>\n",
       "      <td>31.0</td>\n",
       "      <td>9.0</td>\n",
       "      <td>169.0</td>\n",
       "    </tr>\n",
       "  </tbody>\n",
       "</table>\n",
       "</div>"
      ],
      "text/plain": [
       "    Año Trimestre        Provincia   ADSL  Cablemodem  Fibra óptica  Wireless  \\\n",
       "0  2022         4     Buenos Aires  326.0         3.0           1.0     130.0   \n",
       "1  2022         4  Capital Federal  139.0         1.0         139.0       5.0   \n",
       "2  2022         4        Catamarca    9.0        11.0          47.0       1.0   \n",
       "3  2022         4            Chaco   25.0        61.0          47.0       8.0   \n",
       "4  2022         4           Chubut   45.0        74.0          10.0      31.0   \n",
       "\n",
       "   Otros  Total  \n",
       "0   72.0    5.0  \n",
       "1   32.0    2.0  \n",
       "2    2.0   71.0  \n",
       "3    3.0  144.0  \n",
       "4    9.0  169.0  "
      ]
     },
     "execution_count": 156,
     "metadata": {},
     "output_type": "execute_result"
    }
   ],
   "source": [
    "df_6.head()"
   ]
  },
  {
   "cell_type": "code",
   "execution_count": 157,
   "metadata": {},
   "outputs": [
    {
     "data": {
      "text/plain": [
       "Año              object\n",
       "Trimestre        object\n",
       "Provincia        object\n",
       "ADSL            float64\n",
       "Cablemodem      float64\n",
       "Fibra óptica    float64\n",
       "Wireless        float64\n",
       "Otros           float64\n",
       "Total           float64\n",
       "dtype: object"
      ]
     },
     "execution_count": 157,
     "metadata": {},
     "output_type": "execute_result"
    }
   ],
   "source": [
    "df_6.dtypes"
   ]
  },
  {
   "cell_type": "code",
   "execution_count": 158,
   "metadata": {},
   "outputs": [
    {
     "data": {
      "text/plain": [
       "(865, 9)"
      ]
     },
     "execution_count": 158,
     "metadata": {},
     "output_type": "execute_result"
    }
   ],
   "source": [
    "df_6.shape"
   ]
  },
  {
   "cell_type": "code",
   "execution_count": 159,
   "metadata": {},
   "outputs": [
    {
     "data": {
      "text/html": [
       "<div>\n",
       "<style scoped>\n",
       "    .dataframe tbody tr th:only-of-type {\n",
       "        vertical-align: middle;\n",
       "    }\n",
       "\n",
       "    .dataframe tbody tr th {\n",
       "        vertical-align: top;\n",
       "    }\n",
       "\n",
       "    .dataframe thead th {\n",
       "        text-align: right;\n",
       "    }\n",
       "</style>\n",
       "<table border=\"1\" class=\"dataframe\">\n",
       "  <thead>\n",
       "    <tr style=\"text-align: right;\">\n",
       "      <th></th>\n",
       "      <th>Año</th>\n",
       "      <th>Trimestre</th>\n",
       "      <th>Provincia</th>\n",
       "      <th>ADSL</th>\n",
       "      <th>Cablemodem</th>\n",
       "      <th>Fibra óptica</th>\n",
       "      <th>Wireless</th>\n",
       "      <th>Otros</th>\n",
       "      <th>Total</th>\n",
       "    </tr>\n",
       "  </thead>\n",
       "  <tbody>\n",
       "    <tr>\n",
       "      <th>0</th>\n",
       "      <td>2022</td>\n",
       "      <td>4</td>\n",
       "      <td>Buenos Aires</td>\n",
       "      <td>326.0</td>\n",
       "      <td>3.0</td>\n",
       "      <td>1.0</td>\n",
       "      <td>130.0</td>\n",
       "      <td>72.0</td>\n",
       "      <td>5.0</td>\n",
       "    </tr>\n",
       "  </tbody>\n",
       "</table>\n",
       "</div>"
      ],
      "text/plain": [
       "    Año Trimestre     Provincia   ADSL  Cablemodem  Fibra óptica  Wireless  \\\n",
       "0  2022         4  Buenos Aires  326.0         3.0           1.0     130.0   \n",
       "\n",
       "   Otros  Total  \n",
       "0   72.0    5.0  "
      ]
     },
     "execution_count": 159,
     "metadata": {},
     "output_type": "execute_result"
    }
   ],
   "source": [
    "df_6.head(1)"
   ]
  },
  {
   "cell_type": "code",
   "execution_count": 169,
   "metadata": {},
   "outputs": [
    {
     "data": {
      "text/plain": [
       "(0, 0)"
      ]
     },
     "execution_count": 169,
     "metadata": {},
     "output_type": "execute_result"
    }
   ],
   "source": [
    "df_6['Año'].isna().sum(), df_6['Año'].isnull().sum()"
   ]
  },
  {
   "cell_type": "code",
   "execution_count": 170,
   "metadata": {},
   "outputs": [
    {
     "data": {
      "text/plain": [
       "(0, 0)"
      ]
     },
     "execution_count": 170,
     "metadata": {},
     "output_type": "execute_result"
    }
   ],
   "source": [
    "df_6['Trimestre'].isna().sum(), df_6['Trimestre'].isnull().sum()"
   ]
  },
  {
   "cell_type": "code",
   "execution_count": 168,
   "metadata": {},
   "outputs": [
    {
     "data": {
      "text/plain": [
       "(1, 1)"
      ]
     },
     "execution_count": 168,
     "metadata": {},
     "output_type": "execute_result"
    }
   ],
   "source": [
    "df_6['Provincia'].isna().sum(), df_6['Provincia'].isnull().sum()"
   ]
  },
  {
   "cell_type": "code",
   "execution_count": 167,
   "metadata": {},
   "outputs": [
    {
     "data": {
      "text/plain": [
       "(1, 1)"
      ]
     },
     "execution_count": 167,
     "metadata": {},
     "output_type": "execute_result"
    }
   ],
   "source": [
    "df_6['ADSL'].isna().sum(), df_6['ADSL'].isnull().sum()"
   ]
  },
  {
   "cell_type": "code",
   "execution_count": 166,
   "metadata": {},
   "outputs": [
    {
     "data": {
      "text/plain": [
       "(1, 1)"
      ]
     },
     "execution_count": 166,
     "metadata": {},
     "output_type": "execute_result"
    }
   ],
   "source": [
    "df_6['Cablemodem'].isna().sum(), df_6['Cablemodem'].isnull().sum()"
   ]
  },
  {
   "cell_type": "code",
   "execution_count": 165,
   "metadata": {},
   "outputs": [
    {
     "data": {
      "text/plain": [
       "(1, 1)"
      ]
     },
     "execution_count": 165,
     "metadata": {},
     "output_type": "execute_result"
    }
   ],
   "source": [
    "df_6['Fibra óptica'].isna().sum(), df_6['Fibra óptica'].isnull().sum()"
   ]
  },
  {
   "cell_type": "code",
   "execution_count": 164,
   "metadata": {},
   "outputs": [
    {
     "data": {
      "text/plain": [
       "(1, 1)"
      ]
     },
     "execution_count": 164,
     "metadata": {},
     "output_type": "execute_result"
    }
   ],
   "source": [
    "df_6['Wireless'].isna().sum(), df_6['Wireless'].isnull().sum()"
   ]
  },
  {
   "cell_type": "code",
   "execution_count": 163,
   "metadata": {},
   "outputs": [
    {
     "data": {
      "text/plain": [
       "(1, 1)"
      ]
     },
     "execution_count": 163,
     "metadata": {},
     "output_type": "execute_result"
    }
   ],
   "source": [
    "df_6['Otros'].isna().sum(), df_6['Otros'].isnull().sum()"
   ]
  },
  {
   "cell_type": "code",
   "execution_count": 162,
   "metadata": {},
   "outputs": [
    {
     "data": {
      "text/plain": [
       "(1, 1)"
      ]
     },
     "execution_count": 162,
     "metadata": {},
     "output_type": "execute_result"
    }
   ],
   "source": [
    "df_6['Total'].isna().sum(), df_6['Total'].isnull().sum()"
   ]
  },
  {
   "cell_type": "markdown",
   "metadata": {},
   "source": [
    "Como había 1 solo nulo para casi todas las columnas, sospeché que iba a ser la misma fila. Pero cuando lo verifiqué confirmé la sospecha. Hay una fila sin valores útiles. La voy a borrar."
   ]
  },
  {
   "cell_type": "code",
   "execution_count": 174,
   "metadata": {},
   "outputs": [
    {
     "data": {
      "text/html": [
       "<div>\n",
       "<style scoped>\n",
       "    .dataframe tbody tr th:only-of-type {\n",
       "        vertical-align: middle;\n",
       "    }\n",
       "\n",
       "    .dataframe tbody tr th {\n",
       "        vertical-align: top;\n",
       "    }\n",
       "\n",
       "    .dataframe thead th {\n",
       "        text-align: right;\n",
       "    }\n",
       "</style>\n",
       "<table border=\"1\" class=\"dataframe\">\n",
       "  <thead>\n",
       "    <tr style=\"text-align: right;\">\n",
       "      <th></th>\n",
       "      <th>Año</th>\n",
       "      <th>Trimestre</th>\n",
       "      <th>Provincia</th>\n",
       "      <th>ADSL</th>\n",
       "      <th>Cablemodem</th>\n",
       "      <th>Fibra óptica</th>\n",
       "      <th>Wireless</th>\n",
       "      <th>Otros</th>\n",
       "      <th>Total</th>\n",
       "    </tr>\n",
       "  </thead>\n",
       "  <tbody>\n",
       "    <tr>\n",
       "      <th>864</th>\n",
       "      <td>*</td>\n",
       "      <td>Los datos provinciales no coinciden a nivel na...</td>\n",
       "      <td>NaN</td>\n",
       "      <td>NaN</td>\n",
       "      <td>NaN</td>\n",
       "      <td>NaN</td>\n",
       "      <td>NaN</td>\n",
       "      <td>NaN</td>\n",
       "      <td>NaN</td>\n",
       "    </tr>\n",
       "  </tbody>\n",
       "</table>\n",
       "</div>"
      ],
      "text/plain": [
       "    Año                                          Trimestre Provincia  ADSL  \\\n",
       "864   *  Los datos provinciales no coinciden a nivel na...       NaN   NaN   \n",
       "\n",
       "     Cablemodem  Fibra óptica  Wireless  Otros  Total  \n",
       "864         NaN           NaN       NaN    NaN    NaN  "
      ]
     },
     "execution_count": 174,
     "metadata": {},
     "output_type": "execute_result"
    }
   ],
   "source": [
    "filas_con_nulos = df_6[df_6['Total'].isnull()]\n",
    "filas_con_nulos"
   ]
  },
  {
   "cell_type": "code",
   "execution_count": 176,
   "metadata": {},
   "outputs": [],
   "source": [
    "df_6 = df_6.dropna()"
   ]
  },
  {
   "cell_type": "code",
   "execution_count": 178,
   "metadata": {},
   "outputs": [
    {
     "data": {
      "text/html": [
       "<div>\n",
       "<style scoped>\n",
       "    .dataframe tbody tr th:only-of-type {\n",
       "        vertical-align: middle;\n",
       "    }\n",
       "\n",
       "    .dataframe tbody tr th {\n",
       "        vertical-align: top;\n",
       "    }\n",
       "\n",
       "    .dataframe thead th {\n",
       "        text-align: right;\n",
       "    }\n",
       "</style>\n",
       "<table border=\"1\" class=\"dataframe\">\n",
       "  <thead>\n",
       "    <tr style=\"text-align: right;\">\n",
       "      <th></th>\n",
       "      <th>Año</th>\n",
       "      <th>Trimestre</th>\n",
       "      <th>Provincia</th>\n",
       "      <th>ADSL</th>\n",
       "      <th>Cablemodem</th>\n",
       "      <th>Fibra óptica</th>\n",
       "      <th>Wireless</th>\n",
       "      <th>Otros</th>\n",
       "      <th>Total</th>\n",
       "    </tr>\n",
       "  </thead>\n",
       "  <tbody>\n",
       "    <tr>\n",
       "      <th>0</th>\n",
       "      <td>2022</td>\n",
       "      <td>4</td>\n",
       "      <td>Buenos Aires</td>\n",
       "      <td>326.0</td>\n",
       "      <td>3.0</td>\n",
       "      <td>1.0</td>\n",
       "      <td>130.0</td>\n",
       "      <td>72.0</td>\n",
       "      <td>5.0</td>\n",
       "    </tr>\n",
       "    <tr>\n",
       "      <th>1</th>\n",
       "      <td>2022</td>\n",
       "      <td>4</td>\n",
       "      <td>Capital Federal</td>\n",
       "      <td>139.0</td>\n",
       "      <td>1.0</td>\n",
       "      <td>139.0</td>\n",
       "      <td>5.0</td>\n",
       "      <td>32.0</td>\n",
       "      <td>2.0</td>\n",
       "    </tr>\n",
       "    <tr>\n",
       "      <th>2</th>\n",
       "      <td>2022</td>\n",
       "      <td>4</td>\n",
       "      <td>Catamarca</td>\n",
       "      <td>9.0</td>\n",
       "      <td>11.0</td>\n",
       "      <td>47.0</td>\n",
       "      <td>1.0</td>\n",
       "      <td>2.0</td>\n",
       "      <td>71.0</td>\n",
       "    </tr>\n",
       "    <tr>\n",
       "      <th>3</th>\n",
       "      <td>2022</td>\n",
       "      <td>4</td>\n",
       "      <td>Chaco</td>\n",
       "      <td>25.0</td>\n",
       "      <td>61.0</td>\n",
       "      <td>47.0</td>\n",
       "      <td>8.0</td>\n",
       "      <td>3.0</td>\n",
       "      <td>144.0</td>\n",
       "    </tr>\n",
       "    <tr>\n",
       "      <th>4</th>\n",
       "      <td>2022</td>\n",
       "      <td>4</td>\n",
       "      <td>Chubut</td>\n",
       "      <td>45.0</td>\n",
       "      <td>74.0</td>\n",
       "      <td>10.0</td>\n",
       "      <td>31.0</td>\n",
       "      <td>9.0</td>\n",
       "      <td>169.0</td>\n",
       "    </tr>\n",
       "  </tbody>\n",
       "</table>\n",
       "</div>"
      ],
      "text/plain": [
       "    Año Trimestre        Provincia   ADSL  Cablemodem  Fibra óptica  Wireless  \\\n",
       "0  2022         4     Buenos Aires  326.0         3.0           1.0     130.0   \n",
       "1  2022         4  Capital Federal  139.0         1.0         139.0       5.0   \n",
       "2  2022         4        Catamarca    9.0        11.0          47.0       1.0   \n",
       "3  2022         4            Chaco   25.0        61.0          47.0       8.0   \n",
       "4  2022         4           Chubut   45.0        74.0          10.0      31.0   \n",
       "\n",
       "   Otros  Total  \n",
       "0   72.0    5.0  \n",
       "1   32.0    2.0  \n",
       "2    2.0   71.0  \n",
       "3    3.0  144.0  \n",
       "4    9.0  169.0  "
      ]
     },
     "execution_count": 178,
     "metadata": {},
     "output_type": "execute_result"
    }
   ],
   "source": [
    "df_6.head()"
   ]
  },
  {
   "cell_type": "markdown",
   "metadata": {},
   "source": [
    "Hay muchas columnas con valores tipo float. Quiero ver si los tengo que cambiar o hace falta realmente que se queden como float. Para esto me fijo si hay valores que no sean 0."
   ]
  },
  {
   "cell_type": "code",
   "execution_count": 263,
   "metadata": {},
   "outputs": [],
   "source": [
    "decimales_ADSL = df_6[df_6['ADSL'] % 1 != 0]"
   ]
  },
  {
   "cell_type": "code",
   "execution_count": 264,
   "metadata": {},
   "outputs": [
    {
     "data": {
      "text/html": [
       "<div>\n",
       "<style scoped>\n",
       "    .dataframe tbody tr th:only-of-type {\n",
       "        vertical-align: middle;\n",
       "    }\n",
       "\n",
       "    .dataframe tbody tr th {\n",
       "        vertical-align: top;\n",
       "    }\n",
       "\n",
       "    .dataframe thead th {\n",
       "        text-align: right;\n",
       "    }\n",
       "</style>\n",
       "<table border=\"1\" class=\"dataframe\">\n",
       "  <thead>\n",
       "    <tr style=\"text-align: right;\">\n",
       "      <th></th>\n",
       "      <th>Año</th>\n",
       "      <th>Trimestre</th>\n",
       "      <th>Provincia</th>\n",
       "      <th>ADSL</th>\n",
       "      <th>Cablemodem</th>\n",
       "      <th>Fibra óptica</th>\n",
       "      <th>Wireless</th>\n",
       "      <th>Otros</th>\n",
       "      <th>Total</th>\n",
       "    </tr>\n",
       "  </thead>\n",
       "  <tbody>\n",
       "  </tbody>\n",
       "</table>\n",
       "</div>"
      ],
      "text/plain": [
       "Empty DataFrame\n",
       "Columns: [Año, Trimestre, Provincia, ADSL, Cablemodem, Fibra óptica, Wireless, Otros, Total]\n",
       "Index: []"
      ]
     },
     "execution_count": 264,
     "metadata": {},
     "output_type": "execute_result"
    }
   ],
   "source": [
    "decimales_ADSL"
   ]
  },
  {
   "cell_type": "code",
   "execution_count": 186,
   "metadata": {},
   "outputs": [
    {
     "data": {
      "text/html": [
       "<div>\n",
       "<style scoped>\n",
       "    .dataframe tbody tr th:only-of-type {\n",
       "        vertical-align: middle;\n",
       "    }\n",
       "\n",
       "    .dataframe tbody tr th {\n",
       "        vertical-align: top;\n",
       "    }\n",
       "\n",
       "    .dataframe thead th {\n",
       "        text-align: right;\n",
       "    }\n",
       "</style>\n",
       "<table border=\"1\" class=\"dataframe\">\n",
       "  <thead>\n",
       "    <tr style=\"text-align: right;\">\n",
       "      <th></th>\n",
       "      <th>Año</th>\n",
       "      <th>Trimestre</th>\n",
       "      <th>Provincia</th>\n",
       "      <th>ADSL</th>\n",
       "      <th>Cablemodem</th>\n",
       "      <th>Fibra óptica</th>\n",
       "      <th>Wireless</th>\n",
       "      <th>Otros</th>\n",
       "      <th>Total</th>\n",
       "    </tr>\n",
       "  </thead>\n",
       "  <tbody>\n",
       "  </tbody>\n",
       "</table>\n",
       "</div>"
      ],
      "text/plain": [
       "Empty DataFrame\n",
       "Columns: [Año, Trimestre, Provincia, ADSL, Cablemodem, Fibra óptica, Wireless, Otros, Total]\n",
       "Index: []"
      ]
     },
     "execution_count": 186,
     "metadata": {},
     "output_type": "execute_result"
    }
   ],
   "source": [
    "decimales_Cablemodem = df_6[df_6['Cablemodem'] % 1 != 0]\n",
    "decimales_Cablemodem"
   ]
  },
  {
   "cell_type": "code",
   "execution_count": 187,
   "metadata": {},
   "outputs": [
    {
     "data": {
      "text/html": [
       "<div>\n",
       "<style scoped>\n",
       "    .dataframe tbody tr th:only-of-type {\n",
       "        vertical-align: middle;\n",
       "    }\n",
       "\n",
       "    .dataframe tbody tr th {\n",
       "        vertical-align: top;\n",
       "    }\n",
       "\n",
       "    .dataframe thead th {\n",
       "        text-align: right;\n",
       "    }\n",
       "</style>\n",
       "<table border=\"1\" class=\"dataframe\">\n",
       "  <thead>\n",
       "    <tr style=\"text-align: right;\">\n",
       "      <th></th>\n",
       "      <th>Año</th>\n",
       "      <th>Trimestre</th>\n",
       "      <th>Provincia</th>\n",
       "      <th>ADSL</th>\n",
       "      <th>Cablemodem</th>\n",
       "      <th>Fibra óptica</th>\n",
       "      <th>Wireless</th>\n",
       "      <th>Otros</th>\n",
       "      <th>Total</th>\n",
       "    </tr>\n",
       "  </thead>\n",
       "  <tbody>\n",
       "  </tbody>\n",
       "</table>\n",
       "</div>"
      ],
      "text/plain": [
       "Empty DataFrame\n",
       "Columns: [Año, Trimestre, Provincia, ADSL, Cablemodem, Fibra óptica, Wireless, Otros, Total]\n",
       "Index: []"
      ]
     },
     "execution_count": 187,
     "metadata": {},
     "output_type": "execute_result"
    }
   ],
   "source": [
    "decimales_Fibra = df_6[df_6['Fibra óptica'] % 1 != 0]\n",
    "decimales_Fibra"
   ]
  },
  {
   "cell_type": "code",
   "execution_count": 188,
   "metadata": {},
   "outputs": [
    {
     "data": {
      "text/html": [
       "<div>\n",
       "<style scoped>\n",
       "    .dataframe tbody tr th:only-of-type {\n",
       "        vertical-align: middle;\n",
       "    }\n",
       "\n",
       "    .dataframe tbody tr th {\n",
       "        vertical-align: top;\n",
       "    }\n",
       "\n",
       "    .dataframe thead th {\n",
       "        text-align: right;\n",
       "    }\n",
       "</style>\n",
       "<table border=\"1\" class=\"dataframe\">\n",
       "  <thead>\n",
       "    <tr style=\"text-align: right;\">\n",
       "      <th></th>\n",
       "      <th>Año</th>\n",
       "      <th>Trimestre</th>\n",
       "      <th>Provincia</th>\n",
       "      <th>ADSL</th>\n",
       "      <th>Cablemodem</th>\n",
       "      <th>Fibra óptica</th>\n",
       "      <th>Wireless</th>\n",
       "      <th>Otros</th>\n",
       "      <th>Total</th>\n",
       "    </tr>\n",
       "  </thead>\n",
       "  <tbody>\n",
       "  </tbody>\n",
       "</table>\n",
       "</div>"
      ],
      "text/plain": [
       "Empty DataFrame\n",
       "Columns: [Año, Trimestre, Provincia, ADSL, Cablemodem, Fibra óptica, Wireless, Otros, Total]\n",
       "Index: []"
      ]
     },
     "execution_count": 188,
     "metadata": {},
     "output_type": "execute_result"
    }
   ],
   "source": [
    "decimales_Wireless = df_6[df_6['Wireless'] % 1 != 0]\n",
    "decimales_Wireless"
   ]
  },
  {
   "cell_type": "code",
   "execution_count": 189,
   "metadata": {},
   "outputs": [
    {
     "data": {
      "text/html": [
       "<div>\n",
       "<style scoped>\n",
       "    .dataframe tbody tr th:only-of-type {\n",
       "        vertical-align: middle;\n",
       "    }\n",
       "\n",
       "    .dataframe tbody tr th {\n",
       "        vertical-align: top;\n",
       "    }\n",
       "\n",
       "    .dataframe thead th {\n",
       "        text-align: right;\n",
       "    }\n",
       "</style>\n",
       "<table border=\"1\" class=\"dataframe\">\n",
       "  <thead>\n",
       "    <tr style=\"text-align: right;\">\n",
       "      <th></th>\n",
       "      <th>Año</th>\n",
       "      <th>Trimestre</th>\n",
       "      <th>Provincia</th>\n",
       "      <th>ADSL</th>\n",
       "      <th>Cablemodem</th>\n",
       "      <th>Fibra óptica</th>\n",
       "      <th>Wireless</th>\n",
       "      <th>Otros</th>\n",
       "      <th>Total</th>\n",
       "    </tr>\n",
       "  </thead>\n",
       "  <tbody>\n",
       "  </tbody>\n",
       "</table>\n",
       "</div>"
      ],
      "text/plain": [
       "Empty DataFrame\n",
       "Columns: [Año, Trimestre, Provincia, ADSL, Cablemodem, Fibra óptica, Wireless, Otros, Total]\n",
       "Index: []"
      ]
     },
     "execution_count": 189,
     "metadata": {},
     "output_type": "execute_result"
    }
   ],
   "source": [
    "decimales_Otros = df_6[df_6['Otros'] % 1 != 0]\n",
    "decimales_Otros"
   ]
  },
  {
   "cell_type": "code",
   "execution_count": 190,
   "metadata": {},
   "outputs": [
    {
     "data": {
      "text/html": [
       "<div>\n",
       "<style scoped>\n",
       "    .dataframe tbody tr th:only-of-type {\n",
       "        vertical-align: middle;\n",
       "    }\n",
       "\n",
       "    .dataframe tbody tr th {\n",
       "        vertical-align: top;\n",
       "    }\n",
       "\n",
       "    .dataframe thead th {\n",
       "        text-align: right;\n",
       "    }\n",
       "</style>\n",
       "<table border=\"1\" class=\"dataframe\">\n",
       "  <thead>\n",
       "    <tr style=\"text-align: right;\">\n",
       "      <th></th>\n",
       "      <th>Año</th>\n",
       "      <th>Trimestre</th>\n",
       "      <th>Provincia</th>\n",
       "      <th>ADSL</th>\n",
       "      <th>Cablemodem</th>\n",
       "      <th>Fibra óptica</th>\n",
       "      <th>Wireless</th>\n",
       "      <th>Otros</th>\n",
       "      <th>Total</th>\n",
       "    </tr>\n",
       "  </thead>\n",
       "  <tbody>\n",
       "  </tbody>\n",
       "</table>\n",
       "</div>"
      ],
      "text/plain": [
       "Empty DataFrame\n",
       "Columns: [Año, Trimestre, Provincia, ADSL, Cablemodem, Fibra óptica, Wireless, Otros, Total]\n",
       "Index: []"
      ]
     },
     "execution_count": 190,
     "metadata": {},
     "output_type": "execute_result"
    }
   ],
   "source": [
    "decimales_Total = df_6[df_6['Total'] % 1 != 0]\n",
    "decimales_Total"
   ]
  },
  {
   "cell_type": "code",
   "execution_count": 192,
   "metadata": {},
   "outputs": [],
   "source": [
    "df_6['ADSL'] = df_6['ADSL'].astype(int)\n",
    "df_6['Cablemodem'] = df_6['Cablemodem'].astype(int)\n",
    "df_6['Fibra óptica'] = df_6['Fibra óptica'].astype(int)\n",
    "df_6['Wireless'] = df_6['Wireless'].astype(int)\n",
    "df_6['Otros'] = df_6['Otros'].astype(int)\n",
    "df_6['Total'] = df_6['Total'].astype(int)"
   ]
  },
  {
   "cell_type": "code",
   "execution_count": 270,
   "metadata": {},
   "outputs": [
    {
     "data": {
      "text/html": [
       "<div>\n",
       "<style scoped>\n",
       "    .dataframe tbody tr th:only-of-type {\n",
       "        vertical-align: middle;\n",
       "    }\n",
       "\n",
       "    .dataframe tbody tr th {\n",
       "        vertical-align: top;\n",
       "    }\n",
       "\n",
       "    .dataframe thead th {\n",
       "        text-align: right;\n",
       "    }\n",
       "</style>\n",
       "<table border=\"1\" class=\"dataframe\">\n",
       "  <thead>\n",
       "    <tr style=\"text-align: right;\">\n",
       "      <th></th>\n",
       "      <th>anio</th>\n",
       "      <th>trimestre</th>\n",
       "      <th>provincia</th>\n",
       "      <th>adsl</th>\n",
       "      <th>cablemodem</th>\n",
       "      <th>fibra_optica</th>\n",
       "      <th>wireless</th>\n",
       "      <th>otros</th>\n",
       "      <th>total</th>\n",
       "    </tr>\n",
       "  </thead>\n",
       "  <tbody>\n",
       "    <tr>\n",
       "      <th>0</th>\n",
       "      <td>2022</td>\n",
       "      <td>4</td>\n",
       "      <td>buenos aires</td>\n",
       "      <td>326</td>\n",
       "      <td>3</td>\n",
       "      <td>1</td>\n",
       "      <td>130</td>\n",
       "      <td>72</td>\n",
       "      <td>5</td>\n",
       "    </tr>\n",
       "    <tr>\n",
       "      <th>1</th>\n",
       "      <td>2022</td>\n",
       "      <td>4</td>\n",
       "      <td>capital federal</td>\n",
       "      <td>139</td>\n",
       "      <td>1</td>\n",
       "      <td>139</td>\n",
       "      <td>5</td>\n",
       "      <td>32</td>\n",
       "      <td>2</td>\n",
       "    </tr>\n",
       "    <tr>\n",
       "      <th>2</th>\n",
       "      <td>2022</td>\n",
       "      <td>4</td>\n",
       "      <td>catamarca</td>\n",
       "      <td>9</td>\n",
       "      <td>11</td>\n",
       "      <td>47</td>\n",
       "      <td>1</td>\n",
       "      <td>2</td>\n",
       "      <td>71</td>\n",
       "    </tr>\n",
       "    <tr>\n",
       "      <th>3</th>\n",
       "      <td>2022</td>\n",
       "      <td>4</td>\n",
       "      <td>chaco</td>\n",
       "      <td>25</td>\n",
       "      <td>61</td>\n",
       "      <td>47</td>\n",
       "      <td>8</td>\n",
       "      <td>3</td>\n",
       "      <td>144</td>\n",
       "    </tr>\n",
       "    <tr>\n",
       "      <th>4</th>\n",
       "      <td>2022</td>\n",
       "      <td>4</td>\n",
       "      <td>chubut</td>\n",
       "      <td>45</td>\n",
       "      <td>74</td>\n",
       "      <td>10</td>\n",
       "      <td>31</td>\n",
       "      <td>9</td>\n",
       "      <td>169</td>\n",
       "    </tr>\n",
       "  </tbody>\n",
       "</table>\n",
       "</div>"
      ],
      "text/plain": [
       "   anio trimestre        provincia  adsl  cablemodem  fibra_optica  wireless  \\\n",
       "0  2022         4     buenos aires   326           3             1       130   \n",
       "1  2022         4  capital federal   139           1           139         5   \n",
       "2  2022         4        catamarca     9          11            47         1   \n",
       "3  2022         4            chaco    25          61            47         8   \n",
       "4  2022         4           chubut    45          74            10        31   \n",
       "\n",
       "   otros  total  \n",
       "0     72      5  \n",
       "1     32      2  \n",
       "2      2     71  \n",
       "3      3    144  \n",
       "4      9    169  "
      ]
     },
     "execution_count": 270,
     "metadata": {},
     "output_type": "execute_result"
    }
   ],
   "source": [
    "df_6.head()"
   ]
  },
  {
   "cell_type": "markdown",
   "metadata": {},
   "source": [
    "Cambiando nombres de las columnas"
   ]
  },
  {
   "cell_type": "code",
   "execution_count": 267,
   "metadata": {},
   "outputs": [],
   "source": [
    "nuevas_columnas = {\n",
    "    'Año': 'anio',\n",
    "    'Trimestre': 'trimestre',\n",
    "    'Provincia': 'provincia',\n",
    "    'ADSL': 'adsl',\n",
    "    'Cablemodem': 'cablemodem',\n",
    "    'Fibra óptica': 'fibra_optica',\n",
    "    'Wireless': 'wireless',\n",
    "    'Otros': 'otros',\n",
    "    'Total': 'total'\n",
    "}\n",
    "df_6.rename(columns=nuevas_columnas, inplace=True)"
   ]
  },
  {
   "cell_type": "markdown",
   "metadata": {},
   "source": [
    "Normalizando el texto de los datos"
   ]
  },
  {
   "cell_type": "code",
   "execution_count": 269,
   "metadata": {},
   "outputs": [],
   "source": [
    "import unicodedata\n",
    "\n",
    "for column in df_6.columns:\n",
    "    if df_6[column].dtype == 'object':\n",
    "        df_6[column] = df_6[column].str.lower().apply(lambda x: unicodedata.normalize('NFKD', x).encode('ASCII', 'ignore').decode('utf-8'))"
   ]
  },
  {
   "cell_type": "code",
   "execution_count": 520,
   "metadata": {},
   "outputs": [],
   "source": [
    "df_6.to_csv('df_6.csv', index=False)"
   ]
  },
  {
   "cell_type": "markdown",
   "metadata": {},
   "source": [
    "# Df_8"
   ]
  },
  {
   "cell_type": "code",
   "execution_count": 22,
   "metadata": {},
   "outputs": [],
   "source": [
    "import pandas as pd"
   ]
  },
  {
   "cell_type": "code",
   "execution_count": 23,
   "metadata": {},
   "outputs": [],
   "source": [
    "ruta8 = 'Data/data_8.csv'"
   ]
  },
  {
   "cell_type": "code",
   "execution_count": 24,
   "metadata": {},
   "outputs": [],
   "source": [
    "df_8 = pd.read_csv(ruta8)"
   ]
  },
  {
   "cell_type": "code",
   "execution_count": 299,
   "metadata": {},
   "outputs": [
    {
     "data": {
      "text/html": [
       "<div>\n",
       "<style scoped>\n",
       "    .dataframe tbody tr th:only-of-type {\n",
       "        vertical-align: middle;\n",
       "    }\n",
       "\n",
       "    .dataframe tbody tr th {\n",
       "        vertical-align: top;\n",
       "    }\n",
       "\n",
       "    .dataframe thead th {\n",
       "        text-align: right;\n",
       "    }\n",
       "</style>\n",
       "<table border=\"1\" class=\"dataframe\">\n",
       "  <thead>\n",
       "    <tr style=\"text-align: right;\">\n",
       "      <th></th>\n",
       "      <th>anio</th>\n",
       "      <th>trimestre</th>\n",
       "      <th>mbps_media_de_bajada</th>\n",
       "      <th>periodo</th>\n",
       "    </tr>\n",
       "  </thead>\n",
       "  <tbody>\n",
       "    <tr>\n",
       "      <th>0</th>\n",
       "      <td>2022</td>\n",
       "      <td>4</td>\n",
       "      <td>10.656</td>\n",
       "      <td>oct-dic 2022</td>\n",
       "    </tr>\n",
       "    <tr>\n",
       "      <th>1</th>\n",
       "      <td>2022</td>\n",
       "      <td>3</td>\n",
       "      <td>6.246</td>\n",
       "      <td>jul-sept 2022</td>\n",
       "    </tr>\n",
       "    <tr>\n",
       "      <th>2</th>\n",
       "      <td>2022</td>\n",
       "      <td>2</td>\n",
       "      <td>5.844</td>\n",
       "      <td>abr-jun 2022</td>\n",
       "    </tr>\n",
       "    <tr>\n",
       "      <th>3</th>\n",
       "      <td>2022</td>\n",
       "      <td>1</td>\n",
       "      <td>5.511</td>\n",
       "      <td>ene-mar 2022</td>\n",
       "    </tr>\n",
       "    <tr>\n",
       "      <th>4</th>\n",
       "      <td>2021</td>\n",
       "      <td>4</td>\n",
       "      <td>5.234</td>\n",
       "      <td>oct-dic 2021</td>\n",
       "    </tr>\n",
       "  </tbody>\n",
       "</table>\n",
       "</div>"
      ],
      "text/plain": [
       "   anio  trimestre  mbps_media_de_bajada        periodo\n",
       "0  2022          4                10.656   oct-dic 2022\n",
       "1  2022          3                 6.246  jul-sept 2022\n",
       "2  2022          2                 5.844   abr-jun 2022\n",
       "3  2022          1                 5.511   ene-mar 2022\n",
       "4  2021          4                 5.234   oct-dic 2021"
      ]
     },
     "execution_count": 299,
     "metadata": {},
     "output_type": "execute_result"
    }
   ],
   "source": [
    "df_8.head()"
   ]
  },
  {
   "cell_type": "code",
   "execution_count": 294,
   "metadata": {},
   "outputs": [
    {
     "data": {
      "text/plain": [
       "Año                         int64\n",
       "Trimestre                   int64\n",
       "Mbps (Media de bajada)    float64\n",
       "Trimestre.1                object\n",
       "dtype: object"
      ]
     },
     "execution_count": 294,
     "metadata": {},
     "output_type": "execute_result"
    }
   ],
   "source": [
    "df_8.dtypes"
   ]
  },
  {
   "cell_type": "markdown",
   "metadata": {},
   "source": [
    "Bsucando valores nulos"
   ]
  },
  {
   "cell_type": "code",
   "execution_count": 25,
   "metadata": {},
   "outputs": [
    {
     "data": {
      "text/plain": [
       "(Año                       0\n",
       " Trimestre                 0\n",
       " Mbps (Media de bajada)    0\n",
       " Trimestre.1               0\n",
       " dtype: int64,\n",
       " Año                       0\n",
       " Trimestre                 0\n",
       " Mbps (Media de bajada)    0\n",
       " Trimestre.1               0\n",
       " dtype: int64)"
      ]
     },
     "execution_count": 25,
     "metadata": {},
     "output_type": "execute_result"
    }
   ],
   "source": [
    "df_8.isna().sum(), df_8.isnull().sum()"
   ]
  },
  {
   "cell_type": "markdown",
   "metadata": {},
   "source": [
    "No hay datos nulos."
   ]
  },
  {
   "cell_type": "markdown",
   "metadata": {},
   "source": [
    "Cambiando nombres de las columnas"
   ]
  },
  {
   "cell_type": "code",
   "execution_count": 297,
   "metadata": {},
   "outputs": [],
   "source": [
    "nuevas_columnas = {\n",
    "    'Año': 'anio',\n",
    "    'Trimestre': 'trimestre',\n",
    "    'Mbps (Media de bajada)': 'mbps_media_de_bajada',\n",
    "    'Trimestre.1': 'periodo'\n",
    "}\n",
    "df_8.rename(columns=nuevas_columnas, inplace=True)"
   ]
  },
  {
   "cell_type": "markdown",
   "metadata": {},
   "source": [
    "Normalizando el texto de los datos"
   ]
  },
  {
   "cell_type": "code",
   "execution_count": 298,
   "metadata": {},
   "outputs": [],
   "source": [
    "import unicodedata\n",
    "\n",
    "for column in df_8.columns:\n",
    "    if df_8[column].dtype == 'object':\n",
    "        df_8[column] = df_8[column].str.lower().apply(lambda x: unicodedata.normalize('NFKD', x).encode('ASCII', 'ignore').decode('utf-8'))"
   ]
  },
  {
   "cell_type": "code",
   "execution_count": 519,
   "metadata": {},
   "outputs": [],
   "source": [
    "df_8.to_csv('df_8.csv', index=False)"
   ]
  },
  {
   "cell_type": "markdown",
   "metadata": {},
   "source": [
    "# Df_9"
   ]
  },
  {
   "cell_type": "code",
   "execution_count": 27,
   "metadata": {},
   "outputs": [],
   "source": [
    "import pandas as pd"
   ]
  },
  {
   "cell_type": "code",
   "execution_count": 28,
   "metadata": {},
   "outputs": [],
   "source": [
    "ruta9 = 'Data/data_9.csv'"
   ]
  },
  {
   "cell_type": "code",
   "execution_count": 29,
   "metadata": {},
   "outputs": [],
   "source": [
    "df_9 = pd.read_csv(ruta9)"
   ]
  },
  {
   "cell_type": "code",
   "execution_count": 303,
   "metadata": {},
   "outputs": [
    {
     "data": {
      "text/html": [
       "<div>\n",
       "<style scoped>\n",
       "    .dataframe tbody tr th:only-of-type {\n",
       "        vertical-align: middle;\n",
       "    }\n",
       "\n",
       "    .dataframe tbody tr th {\n",
       "        vertical-align: top;\n",
       "    }\n",
       "\n",
       "    .dataframe thead th {\n",
       "        text-align: right;\n",
       "    }\n",
       "</style>\n",
       "<table border=\"1\" class=\"dataframe\">\n",
       "  <thead>\n",
       "    <tr style=\"text-align: right;\">\n",
       "      <th></th>\n",
       "      <th>Año</th>\n",
       "      <th>Trimestre</th>\n",
       "      <th>Provincia</th>\n",
       "      <th>Mbps (Media de bajada)</th>\n",
       "    </tr>\n",
       "  </thead>\n",
       "  <tbody>\n",
       "    <tr>\n",
       "      <th>0</th>\n",
       "      <td>2022</td>\n",
       "      <td>4</td>\n",
       "      <td>Buenos Aires</td>\n",
       "      <td>111.000</td>\n",
       "    </tr>\n",
       "    <tr>\n",
       "      <th>1</th>\n",
       "      <td>2022</td>\n",
       "      <td>4</td>\n",
       "      <td>Capital Federal</td>\n",
       "      <td>18.286</td>\n",
       "    </tr>\n",
       "    <tr>\n",
       "      <th>2</th>\n",
       "      <td>2022</td>\n",
       "      <td>4</td>\n",
       "      <td>Catamarca</td>\n",
       "      <td>8.333</td>\n",
       "    </tr>\n",
       "    <tr>\n",
       "      <th>3</th>\n",
       "      <td>2022</td>\n",
       "      <td>4</td>\n",
       "      <td>Chaco</td>\n",
       "      <td>10.402</td>\n",
       "    </tr>\n",
       "    <tr>\n",
       "      <th>4</th>\n",
       "      <td>2022</td>\n",
       "      <td>4</td>\n",
       "      <td>Chubut</td>\n",
       "      <td>1.592</td>\n",
       "    </tr>\n",
       "  </tbody>\n",
       "</table>\n",
       "</div>"
      ],
      "text/plain": [
       "    Año  Trimestre        Provincia  Mbps (Media de bajada)\n",
       "0  2022          4     Buenos Aires                 111.000\n",
       "1  2022          4  Capital Federal                  18.286\n",
       "2  2022          4        Catamarca                   8.333\n",
       "3  2022          4            Chaco                  10.402\n",
       "4  2022          4           Chubut                   1.592"
      ]
     },
     "execution_count": 303,
     "metadata": {},
     "output_type": "execute_result"
    }
   ],
   "source": [
    "df_9.head()"
   ]
  },
  {
   "cell_type": "code",
   "execution_count": 304,
   "metadata": {},
   "outputs": [
    {
     "data": {
      "text/plain": [
       "(864, 4)"
      ]
     },
     "execution_count": 304,
     "metadata": {},
     "output_type": "execute_result"
    }
   ],
   "source": [
    "df_9.shape"
   ]
  },
  {
   "cell_type": "code",
   "execution_count": 306,
   "metadata": {},
   "outputs": [
    {
     "data": {
      "text/plain": [
       "Año                         int64\n",
       "Trimestre                   int64\n",
       "Provincia                  object\n",
       "Mbps (Media de bajada)    float64\n",
       "dtype: object"
      ]
     },
     "execution_count": 306,
     "metadata": {},
     "output_type": "execute_result"
    }
   ],
   "source": [
    "df_9.dtypes"
   ]
  },
  {
   "cell_type": "code",
   "execution_count": 30,
   "metadata": {},
   "outputs": [
    {
     "data": {
      "text/plain": [
       "(Año                       0\n",
       " Trimestre                 0\n",
       " Provincia                 0\n",
       " Mbps (Media de bajada)    0\n",
       " dtype: int64,\n",
       " Año                       0\n",
       " Trimestre                 0\n",
       " Provincia                 0\n",
       " Mbps (Media de bajada)    0\n",
       " dtype: int64)"
      ]
     },
     "execution_count": 30,
     "metadata": {},
     "output_type": "execute_result"
    }
   ],
   "source": [
    "df_9.isna().sum(), df_9.isnull().sum()"
   ]
  },
  {
   "cell_type": "code",
   "execution_count": 311,
   "metadata": {},
   "outputs": [],
   "source": [
    "nuevas_columnas = {\n",
    "    'Año': 'anio',\n",
    "    'Trimestre': 'trimestre',\n",
    "    'Provincia': 'provincia',\n",
    "    'Mbps (Media de bajada)': 'mbps_media_de_bajada'\n",
    "}\n",
    "df_9.rename(columns=nuevas_columnas, inplace=True)"
   ]
  },
  {
   "cell_type": "code",
   "execution_count": 313,
   "metadata": {},
   "outputs": [],
   "source": [
    "import unicodedata\n",
    "\n",
    "for column in df_9.columns:\n",
    "    if df_9[column].dtype == 'object':\n",
    "        df_9[column] = df_9[column].str.lower().apply(lambda x: unicodedata.normalize('NFKD', x).encode('ASCII', 'ignore').decode('utf-8'))"
   ]
  },
  {
   "cell_type": "code",
   "execution_count": 315,
   "metadata": {},
   "outputs": [
    {
     "data": {
      "text/html": [
       "<div>\n",
       "<style scoped>\n",
       "    .dataframe tbody tr th:only-of-type {\n",
       "        vertical-align: middle;\n",
       "    }\n",
       "\n",
       "    .dataframe tbody tr th {\n",
       "        vertical-align: top;\n",
       "    }\n",
       "\n",
       "    .dataframe thead th {\n",
       "        text-align: right;\n",
       "    }\n",
       "</style>\n",
       "<table border=\"1\" class=\"dataframe\">\n",
       "  <thead>\n",
       "    <tr style=\"text-align: right;\">\n",
       "      <th></th>\n",
       "      <th>anio</th>\n",
       "      <th>trimestre</th>\n",
       "      <th>provincia</th>\n",
       "      <th>mbps_media_de_bajada</th>\n",
       "    </tr>\n",
       "  </thead>\n",
       "  <tbody>\n",
       "    <tr>\n",
       "      <th>0</th>\n",
       "      <td>2022</td>\n",
       "      <td>4</td>\n",
       "      <td>buenos aires</td>\n",
       "      <td>111.000</td>\n",
       "    </tr>\n",
       "    <tr>\n",
       "      <th>1</th>\n",
       "      <td>2022</td>\n",
       "      <td>4</td>\n",
       "      <td>capital federal</td>\n",
       "      <td>18.286</td>\n",
       "    </tr>\n",
       "    <tr>\n",
       "      <th>2</th>\n",
       "      <td>2022</td>\n",
       "      <td>4</td>\n",
       "      <td>catamarca</td>\n",
       "      <td>8.333</td>\n",
       "    </tr>\n",
       "    <tr>\n",
       "      <th>3</th>\n",
       "      <td>2022</td>\n",
       "      <td>4</td>\n",
       "      <td>chaco</td>\n",
       "      <td>10.402</td>\n",
       "    </tr>\n",
       "    <tr>\n",
       "      <th>4</th>\n",
       "      <td>2022</td>\n",
       "      <td>4</td>\n",
       "      <td>chubut</td>\n",
       "      <td>1.592</td>\n",
       "    </tr>\n",
       "  </tbody>\n",
       "</table>\n",
       "</div>"
      ],
      "text/plain": [
       "   anio  trimestre        provincia  mbps_media_de_bajada\n",
       "0  2022          4     buenos aires               111.000\n",
       "1  2022          4  capital federal                18.286\n",
       "2  2022          4        catamarca                 8.333\n",
       "3  2022          4            chaco                10.402\n",
       "4  2022          4           chubut                 1.592"
      ]
     },
     "execution_count": 315,
     "metadata": {},
     "output_type": "execute_result"
    }
   ],
   "source": [
    "df_9.head()"
   ]
  },
  {
   "cell_type": "code",
   "execution_count": 317,
   "metadata": {},
   "outputs": [
    {
     "data": {
      "text/plain": [
       "0      111.0\n",
       "10     191.0\n",
       "20     903.0\n",
       "21     344.0\n",
       "48     655.0\n",
       "       ...  \n",
       "859    332.0\n",
       "860    315.0\n",
       "861    295.0\n",
       "862    345.0\n",
       "863    321.0\n",
       "Name: mbps_media_de_bajada, Length: 507, dtype: float64"
      ]
     },
     "execution_count": 317,
     "metadata": {},
     "output_type": "execute_result"
    }
   ],
   "source": [
    "df_9['mbps_media_de_bajada'][df_9['mbps_media_de_bajada'] > 110]"
   ]
  },
  {
   "cell_type": "code",
   "execution_count": 518,
   "metadata": {},
   "outputs": [],
   "source": [
    "df_9.to_csv('df_9.csv', index=False)"
   ]
  },
  {
   "cell_type": "markdown",
   "metadata": {},
   "source": [
    "# Df_10"
   ]
  },
  {
   "cell_type": "code",
   "execution_count": 318,
   "metadata": {},
   "outputs": [],
   "source": [
    "import pandas as pd"
   ]
  },
  {
   "cell_type": "code",
   "execution_count": 319,
   "metadata": {},
   "outputs": [],
   "source": [
    "ruta10 = 'Data/data_10.csv'"
   ]
  },
  {
   "cell_type": "code",
   "execution_count": 320,
   "metadata": {},
   "outputs": [],
   "source": [
    "df_10 = pd.read_csv(ruta10)"
   ]
  },
  {
   "cell_type": "code",
   "execution_count": 321,
   "metadata": {},
   "outputs": [
    {
     "data": {
      "text/html": [
       "<div>\n",
       "<style scoped>\n",
       "    .dataframe tbody tr th:only-of-type {\n",
       "        vertical-align: middle;\n",
       "    }\n",
       "\n",
       "    .dataframe tbody tr th {\n",
       "        vertical-align: top;\n",
       "    }\n",
       "\n",
       "    .dataframe thead th {\n",
       "        text-align: right;\n",
       "    }\n",
       "</style>\n",
       "<table border=\"1\" class=\"dataframe\">\n",
       "  <thead>\n",
       "    <tr style=\"text-align: right;\">\n",
       "      <th></th>\n",
       "      <th>Año</th>\n",
       "      <th>Trimestre</th>\n",
       "      <th>Hasta 512 kbps</th>\n",
       "      <th>Entre 512 Kbps y 1 Mbps</th>\n",
       "      <th>Entre 1 Mbps y 6 Mbps</th>\n",
       "      <th>Entre 6 Mbps y 10 Mbps</th>\n",
       "      <th>Entre 10 Mbps y 20 Mbps</th>\n",
       "      <th>Entre 20 Mbps y 30 Mbps</th>\n",
       "      <th>Más de 30 Mbps</th>\n",
       "      <th>OTROS</th>\n",
       "      <th>Total</th>\n",
       "    </tr>\n",
       "  </thead>\n",
       "  <tbody>\n",
       "    <tr>\n",
       "      <th>0</th>\n",
       "      <td>2022</td>\n",
       "      <td>4</td>\n",
       "      <td>31.981</td>\n",
       "      <td>85.668</td>\n",
       "      <td>1.075.272</td>\n",
       "      <td>1.109.421</td>\n",
       "      <td>765.015</td>\n",
       "      <td>335.573</td>\n",
       "      <td>7.410.902</td>\n",
       "      <td>394.282</td>\n",
       "      <td>11.208.114</td>\n",
       "    </tr>\n",
       "    <tr>\n",
       "      <th>1</th>\n",
       "      <td>2022</td>\n",
       "      <td>3</td>\n",
       "      <td>33.013</td>\n",
       "      <td>96.727</td>\n",
       "      <td>1.161.370</td>\n",
       "      <td>1.151.906</td>\n",
       "      <td>823.505</td>\n",
       "      <td>479.822</td>\n",
       "      <td>6.995.750</td>\n",
       "      <td>349.035</td>\n",
       "      <td>11.091.128</td>\n",
       "    </tr>\n",
       "    <tr>\n",
       "      <th>2</th>\n",
       "      <td>2022</td>\n",
       "      <td>2</td>\n",
       "      <td>33.667</td>\n",
       "      <td>99.498</td>\n",
       "      <td>1.193.090</td>\n",
       "      <td>1.197.030</td>\n",
       "      <td>856.562</td>\n",
       "      <td>485.321</td>\n",
       "      <td>6.741.922</td>\n",
       "      <td>351.594</td>\n",
       "      <td>10.958.684</td>\n",
       "    </tr>\n",
       "    <tr>\n",
       "      <th>3</th>\n",
       "      <td>2022</td>\n",
       "      <td>1</td>\n",
       "      <td>34.890</td>\n",
       "      <td>104.840</td>\n",
       "      <td>1.263.273</td>\n",
       "      <td>1.209.148</td>\n",
       "      <td>967.508</td>\n",
       "      <td>509.830</td>\n",
       "      <td>6.336.187</td>\n",
       "      <td>198.333</td>\n",
       "      <td>10.624.009</td>\n",
       "    </tr>\n",
       "    <tr>\n",
       "      <th>4</th>\n",
       "      <td>2021</td>\n",
       "      <td>4</td>\n",
       "      <td>41.262</td>\n",
       "      <td>28.521</td>\n",
       "      <td>1.413.208</td>\n",
       "      <td>1.245.333</td>\n",
       "      <td>976.539</td>\n",
       "      <td>558.358</td>\n",
       "      <td>6.032.322</td>\n",
       "      <td>194.251</td>\n",
       "      <td>10.489.794</td>\n",
       "    </tr>\n",
       "  </tbody>\n",
       "</table>\n",
       "</div>"
      ],
      "text/plain": [
       "    Año  Trimestre  Hasta 512 kbps  Entre 512 Kbps y 1 Mbps  \\\n",
       "0  2022          4          31.981                   85.668   \n",
       "1  2022          3          33.013                   96.727   \n",
       "2  2022          2          33.667                   99.498   \n",
       "3  2022          1          34.890                  104.840   \n",
       "4  2021          4          41.262                   28.521   \n",
       "\n",
       "  Entre 1 Mbps y 6 Mbps Entre 6 Mbps y 10 Mbps Entre 10 Mbps y 20 Mbps  \\\n",
       "0             1.075.272              1.109.421                 765.015   \n",
       "1             1.161.370              1.151.906                 823.505   \n",
       "2             1.193.090              1.197.030                 856.562   \n",
       "3             1.263.273              1.209.148                 967.508   \n",
       "4             1.413.208              1.245.333                 976.539   \n",
       "\n",
       "  Entre 20 Mbps y 30 Mbps Más de 30 Mbps    OTROS       Total  \n",
       "0                 335.573      7.410.902  394.282  11.208.114  \n",
       "1                 479.822      6.995.750  349.035  11.091.128  \n",
       "2                 485.321      6.741.922  351.594  10.958.684  \n",
       "3                 509.830      6.336.187  198.333  10.624.009  \n",
       "4                 558.358      6.032.322  194.251  10.489.794  "
      ]
     },
     "execution_count": 321,
     "metadata": {},
     "output_type": "execute_result"
    }
   ],
   "source": [
    "df_10.head()\n"
   ]
  },
  {
   "cell_type": "code",
   "execution_count": 323,
   "metadata": {},
   "outputs": [
    {
     "data": {
      "text/plain": [
       "Año                          int64\n",
       "Trimestre                    int64\n",
       "Hasta 512 kbps             float64\n",
       "Entre 512 Kbps y 1 Mbps    float64\n",
       "Entre 1 Mbps y 6 Mbps       object\n",
       "Entre 6 Mbps y 10 Mbps      object\n",
       "Entre 10 Mbps y 20 Mbps     object\n",
       "Entre 20 Mbps y 30 Mbps     object\n",
       "Más de 30 Mbps              object\n",
       "OTROS                      float64\n",
       "Total                       object\n",
       "dtype: object"
      ]
     },
     "execution_count": 323,
     "metadata": {},
     "output_type": "execute_result"
    }
   ],
   "source": [
    "df_10.dtypes"
   ]
  },
  {
   "cell_type": "code",
   "execution_count": 327,
   "metadata": {},
   "outputs": [
    {
     "data": {
      "text/plain": [
       "(36, 11)"
      ]
     },
     "execution_count": 327,
     "metadata": {},
     "output_type": "execute_result"
    }
   ],
   "source": [
    "df_10.shape"
   ]
  },
  {
   "cell_type": "code",
   "execution_count": 329,
   "metadata": {},
   "outputs": [
    {
     "name": "stdout",
     "output_type": "stream",
     "text": [
      "<class 'pandas.core.frame.DataFrame'>\n",
      "RangeIndex: 36 entries, 0 to 35\n",
      "Data columns (total 11 columns):\n",
      " #   Column                   Non-Null Count  Dtype  \n",
      "---  ------                   --------------  -----  \n",
      " 0   Año                      36 non-null     int64  \n",
      " 1   Trimestre                36 non-null     int64  \n",
      " 2   Hasta 512 kbps           36 non-null     float64\n",
      " 3   Entre 512 Kbps y 1 Mbps  36 non-null     float64\n",
      " 4   Entre 1 Mbps y 6 Mbps    36 non-null     object \n",
      " 5   Entre 6 Mbps y 10 Mbps   36 non-null     object \n",
      " 6   Entre 10 Mbps y 20 Mbps  36 non-null     object \n",
      " 7   Entre 20 Mbps y 30 Mbps  36 non-null     object \n",
      " 8   Más de 30 Mbps           36 non-null     object \n",
      " 9   OTROS                    36 non-null     float64\n",
      " 10  Total                    36 non-null     object \n",
      "dtypes: float64(3), int64(2), object(6)\n",
      "memory usage: 3.2+ KB\n"
     ]
    }
   ],
   "source": [
    "df_10.info()"
   ]
  },
  {
   "cell_type": "code",
   "execution_count": 330,
   "metadata": {},
   "outputs": [
    {
     "data": {
      "text/html": [
       "<div>\n",
       "<style scoped>\n",
       "    .dataframe tbody tr th:only-of-type {\n",
       "        vertical-align: middle;\n",
       "    }\n",
       "\n",
       "    .dataframe tbody tr th {\n",
       "        vertical-align: top;\n",
       "    }\n",
       "\n",
       "    .dataframe thead th {\n",
       "        text-align: right;\n",
       "    }\n",
       "</style>\n",
       "<table border=\"1\" class=\"dataframe\">\n",
       "  <thead>\n",
       "    <tr style=\"text-align: right;\">\n",
       "      <th></th>\n",
       "      <th>Año</th>\n",
       "      <th>Trimestre</th>\n",
       "      <th>Hasta 512 kbps</th>\n",
       "      <th>Entre 512 Kbps y 1 Mbps</th>\n",
       "      <th>OTROS</th>\n",
       "    </tr>\n",
       "  </thead>\n",
       "  <tbody>\n",
       "    <tr>\n",
       "      <th>count</th>\n",
       "      <td>36.000000</td>\n",
       "      <td>36.000000</td>\n",
       "      <td>36.000000</td>\n",
       "      <td>36.000000</td>\n",
       "      <td>36.000000</td>\n",
       "    </tr>\n",
       "    <tr>\n",
       "      <th>mean</th>\n",
       "      <td>2018.000000</td>\n",
       "      <td>2.500000</td>\n",
       "      <td>49.571639</td>\n",
       "      <td>239.046083</td>\n",
       "      <td>126.059500</td>\n",
       "    </tr>\n",
       "    <tr>\n",
       "      <th>std</th>\n",
       "      <td>2.618615</td>\n",
       "      <td>1.133893</td>\n",
       "      <td>52.406959</td>\n",
       "      <td>198.205545</td>\n",
       "      <td>120.429286</td>\n",
       "    </tr>\n",
       "    <tr>\n",
       "      <th>min</th>\n",
       "      <td>2014.000000</td>\n",
       "      <td>1.000000</td>\n",
       "      <td>5.675000</td>\n",
       "      <td>28.521000</td>\n",
       "      <td>0.000000</td>\n",
       "    </tr>\n",
       "    <tr>\n",
       "      <th>25%</th>\n",
       "      <td>2016.000000</td>\n",
       "      <td>1.750000</td>\n",
       "      <td>28.412500</td>\n",
       "      <td>74.491750</td>\n",
       "      <td>0.000000</td>\n",
       "    </tr>\n",
       "    <tr>\n",
       "      <th>50%</th>\n",
       "      <td>2018.000000</td>\n",
       "      <td>2.500000</td>\n",
       "      <td>38.879500</td>\n",
       "      <td>216.701500</td>\n",
       "      <td>155.810000</td>\n",
       "    </tr>\n",
       "    <tr>\n",
       "      <th>75%</th>\n",
       "      <td>2020.000000</td>\n",
       "      <td>3.250000</td>\n",
       "      <td>41.184000</td>\n",
       "      <td>389.368250</td>\n",
       "      <td>199.011250</td>\n",
       "    </tr>\n",
       "    <tr>\n",
       "      <th>max</th>\n",
       "      <td>2022.000000</td>\n",
       "      <td>4.000000</td>\n",
       "      <td>241.713000</td>\n",
       "      <td>687.619000</td>\n",
       "      <td>394.282000</td>\n",
       "    </tr>\n",
       "  </tbody>\n",
       "</table>\n",
       "</div>"
      ],
      "text/plain": [
       "               Año  Trimestre  Hasta 512 kbps  Entre 512 Kbps y 1 Mbps  \\\n",
       "count    36.000000  36.000000       36.000000                36.000000   \n",
       "mean   2018.000000   2.500000       49.571639               239.046083   \n",
       "std       2.618615   1.133893       52.406959               198.205545   \n",
       "min    2014.000000   1.000000        5.675000                28.521000   \n",
       "25%    2016.000000   1.750000       28.412500                74.491750   \n",
       "50%    2018.000000   2.500000       38.879500               216.701500   \n",
       "75%    2020.000000   3.250000       41.184000               389.368250   \n",
       "max    2022.000000   4.000000      241.713000               687.619000   \n",
       "\n",
       "            OTROS  \n",
       "count   36.000000  \n",
       "mean   126.059500  \n",
       "std    120.429286  \n",
       "min      0.000000  \n",
       "25%      0.000000  \n",
       "50%    155.810000  \n",
       "75%    199.011250  \n",
       "max    394.282000  "
      ]
     },
     "execution_count": 330,
     "metadata": {},
     "output_type": "execute_result"
    }
   ],
   "source": [
    "df_10.describe()"
   ]
  },
  {
   "cell_type": "code",
   "execution_count": 339,
   "metadata": {},
   "outputs": [
    {
     "data": {
      "text/html": [
       "<div>\n",
       "<style scoped>\n",
       "    .dataframe tbody tr th:only-of-type {\n",
       "        vertical-align: middle;\n",
       "    }\n",
       "\n",
       "    .dataframe tbody tr th {\n",
       "        vertical-align: top;\n",
       "    }\n",
       "\n",
       "    .dataframe thead th {\n",
       "        text-align: right;\n",
       "    }\n",
       "</style>\n",
       "<table border=\"1\" class=\"dataframe\">\n",
       "  <thead>\n",
       "    <tr style=\"text-align: right;\">\n",
       "      <th></th>\n",
       "      <th>anio</th>\n",
       "      <th>trimestre</th>\n",
       "      <th>hasta_512_kbps</th>\n",
       "      <th>entre_512_kbps_y_1_mbps</th>\n",
       "      <th>entre_1_y_6_mbps</th>\n",
       "      <th>entre_6_y_10_mbps</th>\n",
       "      <th>entre_10_y_20_mbps</th>\n",
       "      <th>entre_20_y_30_mbps</th>\n",
       "      <th>mas_de_30_mbps</th>\n",
       "      <th>otros</th>\n",
       "      <th>total</th>\n",
       "    </tr>\n",
       "  </thead>\n",
       "  <tbody>\n",
       "    <tr>\n",
       "      <th>0</th>\n",
       "      <td>2022</td>\n",
       "      <td>4</td>\n",
       "      <td>31.981</td>\n",
       "      <td>85.668</td>\n",
       "      <td>1.075.272</td>\n",
       "      <td>1.109.421</td>\n",
       "      <td>765.015</td>\n",
       "      <td>335.573</td>\n",
       "      <td>7.410.902</td>\n",
       "      <td>394.282</td>\n",
       "      <td>11.208.114</td>\n",
       "    </tr>\n",
       "    <tr>\n",
       "      <th>1</th>\n",
       "      <td>2022</td>\n",
       "      <td>3</td>\n",
       "      <td>33.013</td>\n",
       "      <td>96.727</td>\n",
       "      <td>1.161.370</td>\n",
       "      <td>1.151.906</td>\n",
       "      <td>823.505</td>\n",
       "      <td>479.822</td>\n",
       "      <td>6.995.750</td>\n",
       "      <td>349.035</td>\n",
       "      <td>11.091.128</td>\n",
       "    </tr>\n",
       "    <tr>\n",
       "      <th>2</th>\n",
       "      <td>2022</td>\n",
       "      <td>2</td>\n",
       "      <td>33.667</td>\n",
       "      <td>99.498</td>\n",
       "      <td>1.193.090</td>\n",
       "      <td>1.197.030</td>\n",
       "      <td>856.562</td>\n",
       "      <td>485.321</td>\n",
       "      <td>6.741.922</td>\n",
       "      <td>351.594</td>\n",
       "      <td>10.958.684</td>\n",
       "    </tr>\n",
       "    <tr>\n",
       "      <th>3</th>\n",
       "      <td>2022</td>\n",
       "      <td>1</td>\n",
       "      <td>34.890</td>\n",
       "      <td>104.840</td>\n",
       "      <td>1.263.273</td>\n",
       "      <td>1.209.148</td>\n",
       "      <td>967.508</td>\n",
       "      <td>509.830</td>\n",
       "      <td>6.336.187</td>\n",
       "      <td>198.333</td>\n",
       "      <td>10.624.009</td>\n",
       "    </tr>\n",
       "    <tr>\n",
       "      <th>4</th>\n",
       "      <td>2021</td>\n",
       "      <td>4</td>\n",
       "      <td>41.262</td>\n",
       "      <td>28.521</td>\n",
       "      <td>1.413.208</td>\n",
       "      <td>1.245.333</td>\n",
       "      <td>976.539</td>\n",
       "      <td>558.358</td>\n",
       "      <td>6.032.322</td>\n",
       "      <td>194.251</td>\n",
       "      <td>10.489.794</td>\n",
       "    </tr>\n",
       "    <tr>\n",
       "      <th>5</th>\n",
       "      <td>2021</td>\n",
       "      <td>3</td>\n",
       "      <td>40.174</td>\n",
       "      <td>41.437</td>\n",
       "      <td>2.550.229</td>\n",
       "      <td>1.095.772</td>\n",
       "      <td>710.122</td>\n",
       "      <td>536.364</td>\n",
       "      <td>4.948.174</td>\n",
       "      <td>163.269</td>\n",
       "      <td>10.085.541</td>\n",
       "    </tr>\n",
       "    <tr>\n",
       "      <th>6</th>\n",
       "      <td>2021</td>\n",
       "      <td>2</td>\n",
       "      <td>40.172</td>\n",
       "      <td>42.024</td>\n",
       "      <td>2.531.271</td>\n",
       "      <td>1.080.279</td>\n",
       "      <td>693.277</td>\n",
       "      <td>647.401</td>\n",
       "      <td>4.661.291</td>\n",
       "      <td>167.369</td>\n",
       "      <td>9.863.084</td>\n",
       "    </tr>\n",
       "    <tr>\n",
       "      <th>7</th>\n",
       "      <td>2021</td>\n",
       "      <td>1</td>\n",
       "      <td>39.487</td>\n",
       "      <td>41.674</td>\n",
       "      <td>2.593.477</td>\n",
       "      <td>1.072.722</td>\n",
       "      <td>737.930</td>\n",
       "      <td>595.920</td>\n",
       "      <td>4.379.965</td>\n",
       "      <td>186.797</td>\n",
       "      <td>9.647.972</td>\n",
       "    </tr>\n",
       "    <tr>\n",
       "      <th>8</th>\n",
       "      <td>2020</td>\n",
       "      <td>4</td>\n",
       "      <td>39.510</td>\n",
       "      <td>42.185</td>\n",
       "      <td>2.622.638</td>\n",
       "      <td>1.073.875</td>\n",
       "      <td>786.595</td>\n",
       "      <td>582.420</td>\n",
       "      <td>4.239.237</td>\n",
       "      <td>185.102</td>\n",
       "      <td>9.571.562</td>\n",
       "    </tr>\n",
       "    <tr>\n",
       "      <th>9</th>\n",
       "      <td>2020</td>\n",
       "      <td>3</td>\n",
       "      <td>41.038</td>\n",
       "      <td>44.005</td>\n",
       "      <td>2.637.984</td>\n",
       "      <td>1.040.017</td>\n",
       "      <td>799.350</td>\n",
       "      <td>538.567</td>\n",
       "      <td>4.053.461</td>\n",
       "      <td>201.777</td>\n",
       "      <td>9.356.199</td>\n",
       "    </tr>\n",
       "  </tbody>\n",
       "</table>\n",
       "</div>"
      ],
      "text/plain": [
       "   anio  trimestre  hasta_512_kbps  entre_512_kbps_y_1_mbps entre_1_y_6_mbps  \\\n",
       "0  2022          4          31.981                   85.668        1.075.272   \n",
       "1  2022          3          33.013                   96.727        1.161.370   \n",
       "2  2022          2          33.667                   99.498        1.193.090   \n",
       "3  2022          1          34.890                  104.840        1.263.273   \n",
       "4  2021          4          41.262                   28.521        1.413.208   \n",
       "5  2021          3          40.174                   41.437        2.550.229   \n",
       "6  2021          2          40.172                   42.024        2.531.271   \n",
       "7  2021          1          39.487                   41.674        2.593.477   \n",
       "8  2020          4          39.510                   42.185        2.622.638   \n",
       "9  2020          3          41.038                   44.005        2.637.984   \n",
       "\n",
       "  entre_6_y_10_mbps entre_10_y_20_mbps entre_20_y_30_mbps mas_de_30_mbps  \\\n",
       "0         1.109.421            765.015            335.573      7.410.902   \n",
       "1         1.151.906            823.505            479.822      6.995.750   \n",
       "2         1.197.030            856.562            485.321      6.741.922   \n",
       "3         1.209.148            967.508            509.830      6.336.187   \n",
       "4         1.245.333            976.539            558.358      6.032.322   \n",
       "5         1.095.772            710.122            536.364      4.948.174   \n",
       "6         1.080.279            693.277            647.401      4.661.291   \n",
       "7         1.072.722            737.930            595.920      4.379.965   \n",
       "8         1.073.875            786.595            582.420      4.239.237   \n",
       "9         1.040.017            799.350            538.567      4.053.461   \n",
       "\n",
       "     otros       total  \n",
       "0  394.282  11.208.114  \n",
       "1  349.035  11.091.128  \n",
       "2  351.594  10.958.684  \n",
       "3  198.333  10.624.009  \n",
       "4  194.251  10.489.794  \n",
       "5  163.269  10.085.541  \n",
       "6  167.369   9.863.084  \n",
       "7  186.797   9.647.972  \n",
       "8  185.102   9.571.562  \n",
       "9  201.777   9.356.199  "
      ]
     },
     "execution_count": 339,
     "metadata": {},
     "output_type": "execute_result"
    }
   ],
   "source": [
    "df_10.head(10)"
   ]
  },
  {
   "cell_type": "code",
   "execution_count": 338,
   "metadata": {},
   "outputs": [],
   "source": [
    "nuevas_columnas = {\n",
    "    'Año': 'anio',\n",
    "    'Trimestre': 'trimestre',\n",
    "    'Hasta 512 kbps': 'hasta_512_kbps',\n",
    "    'Entre 512 Kbps y 1 Mbps': 'entre_512_kbps_y_1_mbps',\n",
    "    'Entre 1 Mbps y 6 Mbps': 'entre_1_y_6_mbps',\n",
    "    'Entre 6 Mbps y 10 Mbps': 'entre_6_y_10_mbps',\n",
    "    'Entre 10 Mbps y 20 Mbps': 'entre_10_y_20_mbps',\n",
    "    'Entre 20 Mbps y 30 Mbps': 'entre_20_y_30_mbps',\n",
    "    'Más de 30 Mbps': 'mas_de_30_mbps',\n",
    "    'OTROS': 'otros',\n",
    "    'Total': 'total'\n",
    "}\n",
    "df_10.rename(columns=nuevas_columnas, inplace=True)"
   ]
  },
  {
   "cell_type": "code",
   "execution_count": 517,
   "metadata": {},
   "outputs": [],
   "source": [
    "df_10.to_csv('df_10.csv', index=False)"
   ]
  },
  {
   "cell_type": "markdown",
   "metadata": {},
   "source": [
    "# Df_11"
   ]
  },
  {
   "cell_type": "code",
   "execution_count": null,
   "metadata": {},
   "outputs": [],
   "source": [
    "import pandas as pd"
   ]
  },
  {
   "cell_type": "code",
   "execution_count": 335,
   "metadata": {},
   "outputs": [],
   "source": [
    "ruta11 = 'Data/data_11.csv'"
   ]
  },
  {
   "cell_type": "code",
   "execution_count": 336,
   "metadata": {},
   "outputs": [],
   "source": [
    "df_11 = pd.read_csv(ruta11)"
   ]
  },
  {
   "cell_type": "code",
   "execution_count": 337,
   "metadata": {},
   "outputs": [
    {
     "data": {
      "text/html": [
       "<div>\n",
       "<style scoped>\n",
       "    .dataframe tbody tr th:only-of-type {\n",
       "        vertical-align: middle;\n",
       "    }\n",
       "\n",
       "    .dataframe tbody tr th {\n",
       "        vertical-align: top;\n",
       "    }\n",
       "\n",
       "    .dataframe thead th {\n",
       "        text-align: right;\n",
       "    }\n",
       "</style>\n",
       "<table border=\"1\" class=\"dataframe\">\n",
       "  <thead>\n",
       "    <tr style=\"text-align: right;\">\n",
       "      <th></th>\n",
       "      <th>Año</th>\n",
       "      <th>Trimestre</th>\n",
       "      <th>Provincia</th>\n",
       "      <th>HASTA 512 kbps</th>\n",
       "      <th>+ 512 Kbps - 1 Mbps</th>\n",
       "      <th>+ 1 Mbps - 6 Mbps</th>\n",
       "      <th>+ 6 Mbps - 10 Mbps</th>\n",
       "      <th>+ 10 Mbps - 20 Mbps</th>\n",
       "      <th>+ 20 Mbps - 30 Mbps</th>\n",
       "      <th>+ 30 Mbps</th>\n",
       "      <th>OTROS</th>\n",
       "      <th>Total</th>\n",
       "    </tr>\n",
       "  </thead>\n",
       "  <tbody>\n",
       "    <tr>\n",
       "      <th>0</th>\n",
       "      <td>2022</td>\n",
       "      <td>4</td>\n",
       "      <td>Buenos Aires</td>\n",
       "      <td>28.934</td>\n",
       "      <td>23.347</td>\n",
       "      <td>259.866</td>\n",
       "      <td>281.550</td>\n",
       "      <td>244.555</td>\n",
       "      <td>98.670</td>\n",
       "      <td>3.760.109</td>\n",
       "      <td>97.634</td>\n",
       "      <td>4.794.665</td>\n",
       "    </tr>\n",
       "    <tr>\n",
       "      <th>1</th>\n",
       "      <td>2022</td>\n",
       "      <td>4</td>\n",
       "      <td>Capital Federal</td>\n",
       "      <td>516.000</td>\n",
       "      <td>5.096</td>\n",
       "      <td>31.320</td>\n",
       "      <td>64.653</td>\n",
       "      <td>36.336</td>\n",
       "      <td>8.116</td>\n",
       "      <td>1.299.117</td>\n",
       "      <td>106.772</td>\n",
       "      <td>1.551.926</td>\n",
       "    </tr>\n",
       "    <tr>\n",
       "      <th>2</th>\n",
       "      <td>2022</td>\n",
       "      <td>4</td>\n",
       "      <td>Catamarca</td>\n",
       "      <td>71.000</td>\n",
       "      <td>315.000</td>\n",
       "      <td>2.716</td>\n",
       "      <td>5.028</td>\n",
       "      <td>4.638</td>\n",
       "      <td>3.122</td>\n",
       "      <td>52.739</td>\n",
       "      <td>2.280</td>\n",
       "      <td>70.909</td>\n",
       "    </tr>\n",
       "    <tr>\n",
       "      <th>3</th>\n",
       "      <td>2022</td>\n",
       "      <td>4</td>\n",
       "      <td>Chaco</td>\n",
       "      <td>461.000</td>\n",
       "      <td>771.000</td>\n",
       "      <td>16.067</td>\n",
       "      <td>17.846</td>\n",
       "      <td>6.704</td>\n",
       "      <td>3.039</td>\n",
       "      <td>94.866</td>\n",
       "      <td>3.909</td>\n",
       "      <td>143.663</td>\n",
       "    </tr>\n",
       "    <tr>\n",
       "      <th>4</th>\n",
       "      <td>2022</td>\n",
       "      <td>4</td>\n",
       "      <td>Chubut</td>\n",
       "      <td>109.000</td>\n",
       "      <td>1.614</td>\n",
       "      <td>46.457</td>\n",
       "      <td>31.007</td>\n",
       "      <td>34.728</td>\n",
       "      <td>15.770</td>\n",
       "      <td>19.048</td>\n",
       "      <td>20.026</td>\n",
       "      <td>168.759</td>\n",
       "    </tr>\n",
       "  </tbody>\n",
       "</table>\n",
       "</div>"
      ],
      "text/plain": [
       "    Año  Trimestre        Provincia  HASTA 512 kbps  + 512 Kbps - 1 Mbps  \\\n",
       "0  2022          4     Buenos Aires          28.934               23.347   \n",
       "1  2022          4  Capital Federal         516.000                5.096   \n",
       "2  2022          4        Catamarca          71.000              315.000   \n",
       "3  2022          4            Chaco         461.000              771.000   \n",
       "4  2022          4           Chubut         109.000                1.614   \n",
       "\n",
       "  + 1 Mbps - 6 Mbps  + 6 Mbps - 10 Mbps  + 10 Mbps - 20 Mbps  \\\n",
       "0           259.866             281.550              244.555   \n",
       "1            31.320              64.653               36.336   \n",
       "2             2.716               5.028                4.638   \n",
       "3            16.067              17.846                6.704   \n",
       "4            46.457              31.007               34.728   \n",
       "\n",
       "   + 20 Mbps - 30 Mbps  + 30 Mbps    OTROS      Total  \n",
       "0               98.670  3.760.109   97.634  4.794.665  \n",
       "1                8.116  1.299.117  106.772  1.551.926  \n",
       "2                3.122     52.739    2.280     70.909  \n",
       "3                3.039     94.866    3.909    143.663  \n",
       "4               15.770     19.048   20.026    168.759  "
      ]
     },
     "execution_count": 337,
     "metadata": {},
     "output_type": "execute_result"
    }
   ],
   "source": [
    "df_11.head()"
   ]
  },
  {
   "cell_type": "code",
   "execution_count": 345,
   "metadata": {},
   "outputs": [
    {
     "data": {
      "text/plain": [
       "Año                      int64\n",
       "Trimestre                int64\n",
       "Provincia               object\n",
       "HASTA 512 kbps         float64\n",
       "+ 512 Kbps - 1 Mbps    float64\n",
       "+ 1 Mbps - 6 Mbps       object\n",
       "+ 6 Mbps - 10 Mbps     float64\n",
       "+ 10 Mbps - 20 Mbps    float64\n",
       "+ 20 Mbps - 30 Mbps    float64\n",
       "+ 30 Mbps               object\n",
       "OTROS                  float64\n",
       "Total                   object\n",
       "dtype: object"
      ]
     },
     "execution_count": 345,
     "metadata": {},
     "output_type": "execute_result"
    }
   ],
   "source": [
    "df_11.dtypes"
   ]
  },
  {
   "cell_type": "code",
   "execution_count": 346,
   "metadata": {},
   "outputs": [
    {
     "data": {
      "text/plain": [
       "(864, 12)"
      ]
     },
     "execution_count": 346,
     "metadata": {},
     "output_type": "execute_result"
    }
   ],
   "source": [
    "df_11.shape"
   ]
  },
  {
   "cell_type": "code",
   "execution_count": 347,
   "metadata": {},
   "outputs": [
    {
     "data": {
      "text/html": [
       "<div>\n",
       "<style scoped>\n",
       "    .dataframe tbody tr th:only-of-type {\n",
       "        vertical-align: middle;\n",
       "    }\n",
       "\n",
       "    .dataframe tbody tr th {\n",
       "        vertical-align: top;\n",
       "    }\n",
       "\n",
       "    .dataframe thead th {\n",
       "        text-align: right;\n",
       "    }\n",
       "</style>\n",
       "<table border=\"1\" class=\"dataframe\">\n",
       "  <thead>\n",
       "    <tr style=\"text-align: right;\">\n",
       "      <th></th>\n",
       "      <th>Año</th>\n",
       "      <th>Trimestre</th>\n",
       "      <th>HASTA 512 kbps</th>\n",
       "      <th>+ 512 Kbps - 1 Mbps</th>\n",
       "      <th>+ 6 Mbps - 10 Mbps</th>\n",
       "      <th>+ 10 Mbps - 20 Mbps</th>\n",
       "      <th>+ 20 Mbps - 30 Mbps</th>\n",
       "      <th>OTROS</th>\n",
       "    </tr>\n",
       "  </thead>\n",
       "  <tbody>\n",
       "    <tr>\n",
       "      <th>count</th>\n",
       "      <td>864.000000</td>\n",
       "      <td>864.000000</td>\n",
       "      <td>864.000000</td>\n",
       "      <td>864.000000</td>\n",
       "      <td>864.000000</td>\n",
       "      <td>864.000000</td>\n",
       "      <td>864.000000</td>\n",
       "      <td>858.000000</td>\n",
       "    </tr>\n",
       "    <tr>\n",
       "      <th>mean</th>\n",
       "      <td>2018.000000</td>\n",
       "      <td>2.500000</td>\n",
       "      <td>126.069829</td>\n",
       "      <td>104.202722</td>\n",
       "      <td>70.717505</td>\n",
       "      <td>78.652155</td>\n",
       "      <td>99.993059</td>\n",
       "      <td>34.439517</td>\n",
       "    </tr>\n",
       "    <tr>\n",
       "      <th>std</th>\n",
       "      <td>2.583484</td>\n",
       "      <td>1.118682</td>\n",
       "      <td>186.417712</td>\n",
       "      <td>211.789353</td>\n",
       "      <td>138.831868</td>\n",
       "      <td>168.570068</td>\n",
       "      <td>207.349280</td>\n",
       "      <td>133.288022</td>\n",
       "    </tr>\n",
       "    <tr>\n",
       "      <th>min</th>\n",
       "      <td>2014.000000</td>\n",
       "      <td>1.000000</td>\n",
       "      <td>1.007000</td>\n",
       "      <td>0.000000</td>\n",
       "      <td>0.000000</td>\n",
       "      <td>0.000000</td>\n",
       "      <td>0.000000</td>\n",
       "      <td>-1.945000</td>\n",
       "    </tr>\n",
       "    <tr>\n",
       "      <th>25%</th>\n",
       "      <td>2016.000000</td>\n",
       "      <td>1.750000</td>\n",
       "      <td>11.000000</td>\n",
       "      <td>3.310750</td>\n",
       "      <td>5.410250</td>\n",
       "      <td>5.000000</td>\n",
       "      <td>2.091000</td>\n",
       "      <td>0.000000</td>\n",
       "    </tr>\n",
       "    <tr>\n",
       "      <th>50%</th>\n",
       "      <td>2018.000000</td>\n",
       "      <td>2.500000</td>\n",
       "      <td>51.000000</td>\n",
       "      <td>8.762000</td>\n",
       "      <td>20.208000</td>\n",
       "      <td>15.159000</td>\n",
       "      <td>11.042500</td>\n",
       "      <td>0.000000</td>\n",
       "    </tr>\n",
       "    <tr>\n",
       "      <th>75%</th>\n",
       "      <td>2020.000000</td>\n",
       "      <td>3.250000</td>\n",
       "      <td>133.250000</td>\n",
       "      <td>85.525500</td>\n",
       "      <td>61.934500</td>\n",
       "      <td>51.959500</td>\n",
       "      <td>64.286250</td>\n",
       "      <td>7.939750</td>\n",
       "    </tr>\n",
       "    <tr>\n",
       "      <th>max</th>\n",
       "      <td>2022.000000</td>\n",
       "      <td>4.000000</td>\n",
       "      <td>998.000000</td>\n",
       "      <td>999.000000</td>\n",
       "      <td>917.000000</td>\n",
       "      <td>978.000000</td>\n",
       "      <td>997.000000</td>\n",
       "      <td>989.000000</td>\n",
       "    </tr>\n",
       "  </tbody>\n",
       "</table>\n",
       "</div>"
      ],
      "text/plain": [
       "               Año   Trimestre  HASTA 512 kbps  + 512 Kbps - 1 Mbps  \\\n",
       "count   864.000000  864.000000      864.000000           864.000000   \n",
       "mean   2018.000000    2.500000      126.069829           104.202722   \n",
       "std       2.583484    1.118682      186.417712           211.789353   \n",
       "min    2014.000000    1.000000        1.007000             0.000000   \n",
       "25%    2016.000000    1.750000       11.000000             3.310750   \n",
       "50%    2018.000000    2.500000       51.000000             8.762000   \n",
       "75%    2020.000000    3.250000      133.250000            85.525500   \n",
       "max    2022.000000    4.000000      998.000000           999.000000   \n",
       "\n",
       "       + 6 Mbps - 10 Mbps  + 10 Mbps - 20 Mbps  + 20 Mbps - 30 Mbps  \\\n",
       "count          864.000000           864.000000           864.000000   \n",
       "mean            70.717505            78.652155            99.993059   \n",
       "std            138.831868           168.570068           207.349280   \n",
       "min              0.000000             0.000000             0.000000   \n",
       "25%              5.410250             5.000000             2.091000   \n",
       "50%             20.208000            15.159000            11.042500   \n",
       "75%             61.934500            51.959500            64.286250   \n",
       "max            917.000000           978.000000           997.000000   \n",
       "\n",
       "            OTROS  \n",
       "count  858.000000  \n",
       "mean    34.439517  \n",
       "std    133.288022  \n",
       "min     -1.945000  \n",
       "25%      0.000000  \n",
       "50%      0.000000  \n",
       "75%      7.939750  \n",
       "max    989.000000  "
      ]
     },
     "execution_count": 347,
     "metadata": {},
     "output_type": "execute_result"
    }
   ],
   "source": [
    "df_11.describe()"
   ]
  },
  {
   "cell_type": "code",
   "execution_count": 343,
   "metadata": {},
   "outputs": [
    {
     "name": "stdout",
     "output_type": "stream",
     "text": [
      "<class 'pandas.core.frame.DataFrame'>\n",
      "RangeIndex: 864 entries, 0 to 863\n",
      "Data columns (total 12 columns):\n",
      " #   Column               Non-Null Count  Dtype  \n",
      "---  ------               --------------  -----  \n",
      " 0   Año                  864 non-null    int64  \n",
      " 1   Trimestre            864 non-null    int64  \n",
      " 2   Provincia            864 non-null    object \n",
      " 3   HASTA 512 kbps       864 non-null    float64\n",
      " 4   + 512 Kbps - 1 Mbps  864 non-null    float64\n",
      " 5   + 1 Mbps - 6 Mbps    864 non-null    object \n",
      " 6   + 6 Mbps - 10 Mbps   864 non-null    float64\n",
      " 7   + 10 Mbps - 20 Mbps  864 non-null    float64\n",
      " 8   + 20 Mbps - 30 Mbps  864 non-null    float64\n",
      " 9   + 30 Mbps            864 non-null    object \n",
      " 10  OTROS                858 non-null    float64\n",
      " 11  Total                864 non-null    object \n",
      "dtypes: float64(6), int64(2), object(4)\n",
      "memory usage: 81.1+ KB\n"
     ]
    }
   ],
   "source": [
    "df_11.info()"
   ]
  },
  {
   "cell_type": "markdown",
   "metadata": {},
   "source": [
    "No hay nulos, así que voy a continuar con cambiarle el nombre a las columnas"
   ]
  },
  {
   "cell_type": "code",
   "execution_count": 359,
   "metadata": {},
   "outputs": [
    {
     "data": {
      "text/html": [
       "<div>\n",
       "<style scoped>\n",
       "    .dataframe tbody tr th:only-of-type {\n",
       "        vertical-align: middle;\n",
       "    }\n",
       "\n",
       "    .dataframe tbody tr th {\n",
       "        vertical-align: top;\n",
       "    }\n",
       "\n",
       "    .dataframe thead th {\n",
       "        text-align: right;\n",
       "    }\n",
       "</style>\n",
       "<table border=\"1\" class=\"dataframe\">\n",
       "  <thead>\n",
       "    <tr style=\"text-align: right;\">\n",
       "      <th></th>\n",
       "      <th>anio</th>\n",
       "      <th>trimestre</th>\n",
       "      <th>provincia</th>\n",
       "      <th>hasta_512_kbps</th>\n",
       "      <th>entre_512_kbps_y_1_mbps</th>\n",
       "      <th>entre_1_mbps_y_6_mbps</th>\n",
       "      <th>entre_6_mbps_y_10_mbps</th>\n",
       "      <th>entre_10_mbps_y_20_mbps</th>\n",
       "      <th>entre_20_mbps_y_30_mbps</th>\n",
       "      <th>mas_de_30_mbps</th>\n",
       "      <th>otros</th>\n",
       "      <th>total</th>\n",
       "    </tr>\n",
       "  </thead>\n",
       "  <tbody>\n",
       "    <tr>\n",
       "      <th>0</th>\n",
       "      <td>2022</td>\n",
       "      <td>4</td>\n",
       "      <td>buenos aires</td>\n",
       "      <td>28.934</td>\n",
       "      <td>23.347</td>\n",
       "      <td>259.866</td>\n",
       "      <td>281.550</td>\n",
       "      <td>244.555</td>\n",
       "      <td>98.670</td>\n",
       "      <td>3.760.109</td>\n",
       "      <td>97.634</td>\n",
       "      <td>4.794.665</td>\n",
       "    </tr>\n",
       "    <tr>\n",
       "      <th>1</th>\n",
       "      <td>2022</td>\n",
       "      <td>4</td>\n",
       "      <td>capital federal</td>\n",
       "      <td>516.000</td>\n",
       "      <td>5.096</td>\n",
       "      <td>31.320</td>\n",
       "      <td>64.653</td>\n",
       "      <td>36.336</td>\n",
       "      <td>8.116</td>\n",
       "      <td>1.299.117</td>\n",
       "      <td>106.772</td>\n",
       "      <td>1.551.926</td>\n",
       "    </tr>\n",
       "    <tr>\n",
       "      <th>2</th>\n",
       "      <td>2022</td>\n",
       "      <td>4</td>\n",
       "      <td>catamarca</td>\n",
       "      <td>71.000</td>\n",
       "      <td>315.000</td>\n",
       "      <td>2.716</td>\n",
       "      <td>5.028</td>\n",
       "      <td>4.638</td>\n",
       "      <td>3.122</td>\n",
       "      <td>52.739</td>\n",
       "      <td>2.280</td>\n",
       "      <td>70.909</td>\n",
       "    </tr>\n",
       "    <tr>\n",
       "      <th>3</th>\n",
       "      <td>2022</td>\n",
       "      <td>4</td>\n",
       "      <td>chaco</td>\n",
       "      <td>461.000</td>\n",
       "      <td>771.000</td>\n",
       "      <td>16.067</td>\n",
       "      <td>17.846</td>\n",
       "      <td>6.704</td>\n",
       "      <td>3.039</td>\n",
       "      <td>94.866</td>\n",
       "      <td>3.909</td>\n",
       "      <td>143.663</td>\n",
       "    </tr>\n",
       "    <tr>\n",
       "      <th>4</th>\n",
       "      <td>2022</td>\n",
       "      <td>4</td>\n",
       "      <td>chubut</td>\n",
       "      <td>109.000</td>\n",
       "      <td>1.614</td>\n",
       "      <td>46.457</td>\n",
       "      <td>31.007</td>\n",
       "      <td>34.728</td>\n",
       "      <td>15.770</td>\n",
       "      <td>19.048</td>\n",
       "      <td>20.026</td>\n",
       "      <td>168.759</td>\n",
       "    </tr>\n",
       "  </tbody>\n",
       "</table>\n",
       "</div>"
      ],
      "text/plain": [
       "   anio  trimestre        provincia  hasta_512_kbps  entre_512_kbps_y_1_mbps  \\\n",
       "0  2022          4     buenos aires          28.934                   23.347   \n",
       "1  2022          4  capital federal         516.000                    5.096   \n",
       "2  2022          4        catamarca          71.000                  315.000   \n",
       "3  2022          4            chaco         461.000                  771.000   \n",
       "4  2022          4           chubut         109.000                    1.614   \n",
       "\n",
       "  entre_1_mbps_y_6_mbps  entre_6_mbps_y_10_mbps  entre_10_mbps_y_20_mbps  \\\n",
       "0               259.866                 281.550                  244.555   \n",
       "1                31.320                  64.653                   36.336   \n",
       "2                 2.716                   5.028                    4.638   \n",
       "3                16.067                  17.846                    6.704   \n",
       "4                46.457                  31.007                   34.728   \n",
       "\n",
       "   entre_20_mbps_y_30_mbps mas_de_30_mbps    otros      total  \n",
       "0                   98.670      3.760.109   97.634  4.794.665  \n",
       "1                    8.116      1.299.117  106.772  1.551.926  \n",
       "2                    3.122         52.739    2.280     70.909  \n",
       "3                    3.039         94.866    3.909    143.663  \n",
       "4                   15.770         19.048   20.026    168.759  "
      ]
     },
     "execution_count": 359,
     "metadata": {},
     "output_type": "execute_result"
    }
   ],
   "source": [
    "df_11.head()"
   ]
  },
  {
   "cell_type": "code",
   "execution_count": 356,
   "metadata": {},
   "outputs": [],
   "source": [
    "nuevas_columnas = {\n",
    "    'Año': 'anio',\n",
    "    'Trimestre': 'trimestre',\n",
    "    'mbps_media_de_bajada': 'provincia',\n",
    "    'HASTA 512 kbps': 'hasta_512_kbps',\n",
    "    '+ 512 Kbps - 1 Mbps': 'entre_512_kbps_y_1_mbps',\n",
    "    '+ 1 Mbps - 6 Mbps': 'entre_1_mbps_y_6_mbps',\n",
    "    '+ 6 Mbps - 10 Mbps': 'entre_6_mbps_y_10_mbps',\n",
    "    '+ 10 Mbps - 20 Mbps': 'entre_10_mbps_y_20_mbps',\n",
    "    '+ 20 Mbps - 30 Mbps': 'entre_20_mbps_y_30_mbps',\n",
    "    '+ 30 Mbps': 'mas_de_30_mbps',\n",
    "    'OTROS': 'otros',\n",
    "    'Total': 'total'    \n",
    "}\n",
    "df_11.rename(columns=nuevas_columnas, inplace=True)"
   ]
  },
  {
   "cell_type": "markdown",
   "metadata": {},
   "source": [
    "Normalizando el texto del dataframe:"
   ]
  },
  {
   "cell_type": "code",
   "execution_count": 358,
   "metadata": {},
   "outputs": [],
   "source": [
    "import unicodedata\n",
    "\n",
    "for column in df_11.columns:\n",
    "    if df_11[column].dtype == 'object':\n",
    "        df_11[column] = df_11[column].str.lower().apply(lambda x: unicodedata.normalize('NFKD', x).encode('ASCII', 'ignore').decode('utf-8'))"
   ]
  },
  {
   "cell_type": "code",
   "execution_count": 516,
   "metadata": {},
   "outputs": [],
   "source": [
    "df_11.to_csv('df_11.csv', index=False)"
   ]
  },
  {
   "cell_type": "markdown",
   "metadata": {},
   "source": [
    "# Df_12"
   ]
  },
  {
   "cell_type": "code",
   "execution_count": 2,
   "metadata": {},
   "outputs": [],
   "source": [
    "import pandas as pd"
   ]
  },
  {
   "cell_type": "code",
   "execution_count": 3,
   "metadata": {},
   "outputs": [],
   "source": [
    "ruta12 = 'Data/data_12.csv'"
   ]
  },
  {
   "cell_type": "code",
   "execution_count": 4,
   "metadata": {},
   "outputs": [],
   "source": [
    "df_12 = pd.read_csv(ruta12)"
   ]
  },
  {
   "cell_type": "code",
   "execution_count": 20,
   "metadata": {},
   "outputs": [
    {
     "data": {
      "text/html": [
       "<div>\n",
       "<style scoped>\n",
       "    .dataframe tbody tr th:only-of-type {\n",
       "        vertical-align: middle;\n",
       "    }\n",
       "\n",
       "    .dataframe tbody tr th {\n",
       "        vertical-align: top;\n",
       "    }\n",
       "\n",
       "    .dataframe thead th {\n",
       "        text-align: right;\n",
       "    }\n",
       "</style>\n",
       "<table border=\"1\" class=\"dataframe\">\n",
       "  <thead>\n",
       "    <tr style=\"text-align: right;\">\n",
       "      <th></th>\n",
       "      <th>Año</th>\n",
       "      <th>Trimestre</th>\n",
       "      <th>Provincia</th>\n",
       "      <th>Otros</th>\n",
       "      <th>0,256 Mbps</th>\n",
       "      <th>0,375 Mbps</th>\n",
       "      <th>0,625 Mbps</th>\n",
       "      <th>0,5 Mbps</th>\n",
       "      <th>0,512 Mbps</th>\n",
       "      <th>0,75 Mbps</th>\n",
       "      <th>...</th>\n",
       "      <th>63 Mbps</th>\n",
       "      <th>64 Mbps</th>\n",
       "      <th>65 Mbps</th>\n",
       "      <th>66 Mbps</th>\n",
       "      <th>67 Mbps</th>\n",
       "      <th>68 Mbps</th>\n",
       "      <th>70 Mbps</th>\n",
       "      <th>71 Mbps</th>\n",
       "      <th>75 Mbps</th>\n",
       "      <th>77 Mbps</th>\n",
       "    </tr>\n",
       "  </thead>\n",
       "  <tbody>\n",
       "    <tr>\n",
       "      <th>0</th>\n",
       "      <td>entre_1_mbps_y_6_mbps</td>\n",
       "      <td>hasta_512_kbps</td>\n",
       "      <td>buenos aires</td>\n",
       "      <td>97.634</td>\n",
       "      <td>18</td>\n",
       "      <td>0</td>\n",
       "      <td>0</td>\n",
       "      <td>28.724</td>\n",
       "      <td>192</td>\n",
       "      <td>4.611</td>\n",
       "      <td>...</td>\n",
       "      <td>0</td>\n",
       "      <td>0</td>\n",
       "      <td>14</td>\n",
       "      <td>0</td>\n",
       "      <td>0</td>\n",
       "      <td>0</td>\n",
       "      <td>5.655</td>\n",
       "      <td>0</td>\n",
       "      <td>90.796</td>\n",
       "      <td>0</td>\n",
       "    </tr>\n",
       "    <tr>\n",
       "      <th>1</th>\n",
       "      <td>entre_1_mbps_y_6_mbps</td>\n",
       "      <td>hasta_512_kbps</td>\n",
       "      <td>capital federal</td>\n",
       "      <td>106.772</td>\n",
       "      <td>31</td>\n",
       "      <td>0</td>\n",
       "      <td>0</td>\n",
       "      <td>451.000</td>\n",
       "      <td>34</td>\n",
       "      <td>1.307</td>\n",
       "      <td>...</td>\n",
       "      <td>0</td>\n",
       "      <td>0</td>\n",
       "      <td>0</td>\n",
       "      <td>1</td>\n",
       "      <td>0</td>\n",
       "      <td>0</td>\n",
       "      <td>15</td>\n",
       "      <td>0</td>\n",
       "      <td>28.406</td>\n",
       "      <td>0</td>\n",
       "    </tr>\n",
       "    <tr>\n",
       "      <th>2</th>\n",
       "      <td>entre_1_mbps_y_6_mbps</td>\n",
       "      <td>hasta_512_kbps</td>\n",
       "      <td>catamarca</td>\n",
       "      <td>2.280</td>\n",
       "      <td>0</td>\n",
       "      <td>0</td>\n",
       "      <td>0</td>\n",
       "      <td>34.000</td>\n",
       "      <td>37</td>\n",
       "      <td>0</td>\n",
       "      <td>...</td>\n",
       "      <td>0</td>\n",
       "      <td>0</td>\n",
       "      <td>0</td>\n",
       "      <td>0</td>\n",
       "      <td>0</td>\n",
       "      <td>0</td>\n",
       "      <td>0</td>\n",
       "      <td>0</td>\n",
       "      <td>0</td>\n",
       "      <td>0</td>\n",
       "    </tr>\n",
       "    <tr>\n",
       "      <th>3</th>\n",
       "      <td>entre_1_mbps_y_6_mbps</td>\n",
       "      <td>hasta_512_kbps</td>\n",
       "      <td>chaco</td>\n",
       "      <td>3.909</td>\n",
       "      <td>0</td>\n",
       "      <td>225</td>\n",
       "      <td>111</td>\n",
       "      <td>234.000</td>\n",
       "      <td>2</td>\n",
       "      <td>0</td>\n",
       "      <td>...</td>\n",
       "      <td>0</td>\n",
       "      <td>0</td>\n",
       "      <td>0</td>\n",
       "      <td>0</td>\n",
       "      <td>0</td>\n",
       "      <td>0</td>\n",
       "      <td>0</td>\n",
       "      <td>0</td>\n",
       "      <td>0</td>\n",
       "      <td>0</td>\n",
       "    </tr>\n",
       "    <tr>\n",
       "      <th>4</th>\n",
       "      <td>entre_1_mbps_y_6_mbps</td>\n",
       "      <td>hasta_512_kbps</td>\n",
       "      <td>chubut</td>\n",
       "      <td>20.026</td>\n",
       "      <td>8</td>\n",
       "      <td>0</td>\n",
       "      <td>0</td>\n",
       "      <td>69.000</td>\n",
       "      <td>32</td>\n",
       "      <td>836</td>\n",
       "      <td>...</td>\n",
       "      <td>0</td>\n",
       "      <td>0</td>\n",
       "      <td>0</td>\n",
       "      <td>0</td>\n",
       "      <td>0</td>\n",
       "      <td>0</td>\n",
       "      <td>0</td>\n",
       "      <td>0</td>\n",
       "      <td>0</td>\n",
       "      <td>0</td>\n",
       "    </tr>\n",
       "  </tbody>\n",
       "</table>\n",
       "<p>5 rows × 97 columns</p>\n",
       "</div>"
      ],
      "text/plain": [
       "                     Año       Trimestre        Provincia    Otros 0,256 Mbps  \\\n",
       "0  entre_1_mbps_y_6_mbps  hasta_512_kbps     buenos aires   97.634         18   \n",
       "1  entre_1_mbps_y_6_mbps  hasta_512_kbps  capital federal  106.772         31   \n",
       "2  entre_1_mbps_y_6_mbps  hasta_512_kbps        catamarca    2.280          0   \n",
       "3  entre_1_mbps_y_6_mbps  hasta_512_kbps            chaco    3.909          0   \n",
       "4  entre_1_mbps_y_6_mbps  hasta_512_kbps           chubut   20.026          8   \n",
       "\n",
       "  0,375 Mbps 0,625 Mbps  0,5 Mbps 0,512 Mbps 0,75 Mbps  ... 63 Mbps 64 Mbps  \\\n",
       "0          0          0    28.724        192     4.611  ...       0       0   \n",
       "1          0          0   451.000         34     1.307  ...       0       0   \n",
       "2          0          0    34.000         37         0  ...       0       0   \n",
       "3        225        111   234.000          2         0  ...       0       0   \n",
       "4          0          0    69.000         32       836  ...       0       0   \n",
       "\n",
       "  65 Mbps 66 Mbps 67 Mbps 68 Mbps 70 Mbps 71 Mbps  75 Mbps 77 Mbps  \n",
       "0      14       0       0       0   5.655       0   90.796       0  \n",
       "1       0       1       0       0      15       0   28.406       0  \n",
       "2       0       0       0       0       0       0        0       0  \n",
       "3       0       0       0       0       0       0        0       0  \n",
       "4       0       0       0       0       0       0        0       0  \n",
       "\n",
       "[5 rows x 97 columns]"
      ]
     },
     "execution_count": 20,
     "metadata": {},
     "output_type": "execute_result"
    }
   ],
   "source": [
    "df_12.head()"
   ]
  },
  {
   "cell_type": "code",
   "execution_count": 364,
   "metadata": {},
   "outputs": [
    {
     "data": {
      "text/plain": [
       "Año           float64\n",
       "Trimestre     float64\n",
       "Provincia      object\n",
       "Otros          object\n",
       "0,256 Mbps     object\n",
       "               ...   \n",
       "68 Mbps        object\n",
       "70 Mbps        object\n",
       "71 Mbps        object\n",
       "75 Mbps        object\n",
       "77 Mbps        object\n",
       "Length: 97, dtype: object"
      ]
     },
     "execution_count": 364,
     "metadata": {},
     "output_type": "execute_result"
    }
   ],
   "source": [
    "df_12.dtypes"
   ]
  },
  {
   "cell_type": "code",
   "execution_count": 5,
   "metadata": {},
   "outputs": [
    {
     "data": {
      "text/plain": [
       "(505, 97)"
      ]
     },
     "execution_count": 5,
     "metadata": {},
     "output_type": "execute_result"
    }
   ],
   "source": [
    "df_12.shape"
   ]
  },
  {
   "cell_type": "markdown",
   "metadata": {},
   "source": [
    "Es un dataframe con muchísimas columnas. Más abajo voy a tratar este problema."
   ]
  },
  {
   "cell_type": "code",
   "execution_count": 367,
   "metadata": {},
   "outputs": [
    {
     "data": {
      "text/html": [
       "<div>\n",
       "<style scoped>\n",
       "    .dataframe tbody tr th:only-of-type {\n",
       "        vertical-align: middle;\n",
       "    }\n",
       "\n",
       "    .dataframe tbody tr th {\n",
       "        vertical-align: top;\n",
       "    }\n",
       "\n",
       "    .dataframe thead th {\n",
       "        text-align: right;\n",
       "    }\n",
       "</style>\n",
       "<table border=\"1\" class=\"dataframe\">\n",
       "  <thead>\n",
       "    <tr style=\"text-align: right;\">\n",
       "      <th></th>\n",
       "      <th>Año</th>\n",
       "      <th>Trimestre</th>\n",
       "      <th>0,5 Mbps</th>\n",
       "      <th>3 Mbps</th>\n",
       "      <th>10 Mbps</th>\n",
       "    </tr>\n",
       "  </thead>\n",
       "  <tbody>\n",
       "    <tr>\n",
       "      <th>count</th>\n",
       "      <td>504.000000</td>\n",
       "      <td>504.000000</td>\n",
       "      <td>504.000000</td>\n",
       "      <td>504.000000</td>\n",
       "      <td>504.000000</td>\n",
       "    </tr>\n",
       "    <tr>\n",
       "      <th>mean</th>\n",
       "      <td>2019.857143</td>\n",
       "      <td>2.571429</td>\n",
       "      <td>135.160514</td>\n",
       "      <td>536.427409</td>\n",
       "      <td>1830.656857</td>\n",
       "    </tr>\n",
       "    <tr>\n",
       "      <th>std</th>\n",
       "      <td>1.522341</td>\n",
       "      <td>1.138019</td>\n",
       "      <td>1281.313402</td>\n",
       "      <td>3423.594162</td>\n",
       "      <td>13716.783075</td>\n",
       "    </tr>\n",
       "    <tr>\n",
       "      <th>min</th>\n",
       "      <td>2017.000000</td>\n",
       "      <td>1.000000</td>\n",
       "      <td>1.009000</td>\n",
       "      <td>1.029000</td>\n",
       "      <td>1.000000</td>\n",
       "    </tr>\n",
       "    <tr>\n",
       "      <th>25%</th>\n",
       "      <td>2019.000000</td>\n",
       "      <td>2.000000</td>\n",
       "      <td>19.000000</td>\n",
       "      <td>5.910000</td>\n",
       "      <td>7.161500</td>\n",
       "    </tr>\n",
       "    <tr>\n",
       "      <th>50%</th>\n",
       "      <td>2020.000000</td>\n",
       "      <td>3.000000</td>\n",
       "      <td>39.000000</td>\n",
       "      <td>9.833000</td>\n",
       "      <td>20.563500</td>\n",
       "    </tr>\n",
       "    <tr>\n",
       "      <th>75%</th>\n",
       "      <td>2021.000000</td>\n",
       "      <td>4.000000</td>\n",
       "      <td>69.000000</td>\n",
       "      <td>27.000000</td>\n",
       "      <td>92.386750</td>\n",
       "    </tr>\n",
       "    <tr>\n",
       "      <th>max</th>\n",
       "      <td>2022.000000</td>\n",
       "      <td>4.000000</td>\n",
       "      <td>28724.000000</td>\n",
       "      <td>53034.000000</td>\n",
       "      <td>204191.000000</td>\n",
       "    </tr>\n",
       "  </tbody>\n",
       "</table>\n",
       "</div>"
      ],
      "text/plain": [
       "               Año   Trimestre      0,5 Mbps        3 Mbps        10 Mbps\n",
       "count   504.000000  504.000000    504.000000    504.000000     504.000000\n",
       "mean   2019.857143    2.571429    135.160514    536.427409    1830.656857\n",
       "std       1.522341    1.138019   1281.313402   3423.594162   13716.783075\n",
       "min    2017.000000    1.000000      1.009000      1.029000       1.000000\n",
       "25%    2019.000000    2.000000     19.000000      5.910000       7.161500\n",
       "50%    2020.000000    3.000000     39.000000      9.833000      20.563500\n",
       "75%    2021.000000    4.000000     69.000000     27.000000      92.386750\n",
       "max    2022.000000    4.000000  28724.000000  53034.000000  204191.000000"
      ]
     },
     "execution_count": 367,
     "metadata": {},
     "output_type": "execute_result"
    }
   ],
   "source": [
    "df_12.describe()"
   ]
  },
  {
   "cell_type": "code",
   "execution_count": 6,
   "metadata": {},
   "outputs": [
    {
     "name": "stdout",
     "output_type": "stream",
     "text": [
      "<class 'pandas.core.frame.DataFrame'>\n",
      "RangeIndex: 505 entries, 0 to 504\n",
      "Data columns (total 97 columns):\n",
      " #   Column      Non-Null Count  Dtype  \n",
      "---  ------      --------------  -----  \n",
      " 0   Año         504 non-null    float64\n",
      " 1   Trimestre   504 non-null    float64\n",
      " 2   Provincia   504 non-null    object \n",
      " 3   Otros       504 non-null    object \n",
      " 4   0,256 Mbps  504 non-null    object \n",
      " 5   0,375 Mbps  504 non-null    object \n",
      " 6   0,625 Mbps  504 non-null    object \n",
      " 7   0,5 Mbps    504 non-null    float64\n",
      " 8   0,512 Mbps  504 non-null    object \n",
      " 9   0,75 Mbps   504 non-null    object \n",
      " 10  1 Mbps      504 non-null    object \n",
      " 11  1,2 Mbps    504 non-null    object \n",
      " 12  1,25 Mbps   504 non-null    object \n",
      " 13  1,5 Mbps    504 non-null    object \n",
      " 14  2 Mbps      504 non-null    object \n",
      " 15  2,2 Mbps    504 non-null    object \n",
      " 16  2,5 Mbps    505 non-null    object \n",
      " 17  6,7 Mbps    504 non-null    object \n",
      " 18  3 Mbps      504 non-null    float64\n",
      " 19  3,2 Mbps    504 non-null    object \n",
      " 20  3,3 Mbps    504 non-null    object \n",
      " 21  3,5 Mbps    504 non-null    object \n",
      " 22  4 Mbps      504 non-null    object \n",
      " 23  4,5 Mbps    504 non-null    object \n",
      " 24  5 Mbps      504 non-null    object \n",
      " 25  6 Mbps      504 non-null    object \n",
      " 26  6,4 Mbps    504 non-null    object \n",
      " 27  7 Mbps      504 non-null    object \n",
      " 28  7,5 Mbps    504 non-null    object \n",
      " 29  8 Mbps      504 non-null    object \n",
      " 30  9 Mbps      504 non-null    object \n",
      " 31  10 Mbps     504 non-null    float64\n",
      " 32  10,2 Mbps   504 non-null    object \n",
      " 33  10,6 Mbps   504 non-null    object \n",
      " 34  11 Mbps     504 non-null    object \n",
      " 35  12 Mbps     504 non-null    object \n",
      " 36  12,3 Mbps   504 non-null    object \n",
      " 37  13 Mbps     504 non-null    object \n",
      " 38  14 Mbps     504 non-null    object \n",
      " 39  15 Mbps     504 non-null    object \n",
      " 40  16 Mbps     504 non-null    object \n",
      " 41  17 Mbps     504 non-null    object \n",
      " 42  18 Mbps     504 non-null    object \n",
      " 43  19 Mbps     504 non-null    object \n",
      " 44  20 Mbps     504 non-null    object \n",
      " 45  20,5 Mbps   504 non-null    object \n",
      " 46  21 Mbps     504 non-null    object \n",
      " 47  22 Mbps     504 non-null    object \n",
      " 48  23 Mbps     504 non-null    object \n",
      " 49  24 Mbps     504 non-null    object \n",
      " 50  25 Mbps     504 non-null    object \n",
      " 51  25,1 Mbps   504 non-null    object \n",
      " 52  25,11 Mbps  504 non-null    object \n",
      " 53  25,5 Mbps   504 non-null    object \n",
      " 54  26 Mbps     504 non-null    object \n",
      " 55  27 Mbps     504 non-null    object \n",
      " 56  28 Mbps     504 non-null    object \n",
      " 57  29 Mbps     504 non-null    object \n",
      " 58  30 Mbps     504 non-null    object \n",
      " 59  31 Mbps     504 non-null    object \n",
      " 60  32 Mbps     504 non-null    object \n",
      " 61  34 Mbps     504 non-null    object \n",
      " 62  35 Mbps     504 non-null    object \n",
      " 63  36 Mbps     504 non-null    object \n",
      " 64  37 Mbps     504 non-null    object \n",
      " 65  38 Mbps     504 non-null    object \n",
      " 66  39 Mbps     504 non-null    object \n",
      " 67  40 Mbps     504 non-null    object \n",
      " 68  41 Mbps     504 non-null    object \n",
      " 69  45 Mbps     504 non-null    object \n",
      " 70  46 Mbps     504 non-null    object \n",
      " 71  47 Mbps     504 non-null    object \n",
      " 72  48 Mbps     504 non-null    object \n",
      " 73  49 Mbps     504 non-null    object \n",
      " 74  50 Mbps     504 non-null    object \n",
      " 75  50,1 Mbps   504 non-null    object \n",
      " 76  51 Mbps     504 non-null    object \n",
      " 77  50,25 Mbps  504 non-null    object \n",
      " 78  52 Mbps     504 non-null    object \n",
      " 79  54 Mbps     504 non-null    object \n",
      " 80  55 Mbps     504 non-null    object \n",
      " 81  56 Mbps     504 non-null    object \n",
      " 82  58 Mbps     504 non-null    object \n",
      " 83  59 Mbps     504 non-null    object \n",
      " 84  60 Mbps     504 non-null    object \n",
      " 85  61 Mbps     504 non-null    object \n",
      " 86  62 Mbps     504 non-null    object \n",
      " 87  63 Mbps     504 non-null    object \n",
      " 88  64 Mbps     504 non-null    object \n",
      " 89  65 Mbps     504 non-null    object \n",
      " 90  66 Mbps     504 non-null    object \n",
      " 91  67 Mbps     504 non-null    object \n",
      " 92  68 Mbps     504 non-null    object \n",
      " 93  70 Mbps     504 non-null    object \n",
      " 94  71 Mbps     504 non-null    object \n",
      " 95  75 Mbps     504 non-null    object \n",
      " 96  77 Mbps     504 non-null    object \n",
      "dtypes: float64(5), object(92)\n",
      "memory usage: 382.8+ KB\n"
     ]
    }
   ],
   "source": [
    "df_12.info()"
   ]
  },
  {
   "cell_type": "markdown",
   "metadata": {},
   "source": [
    "Parece que hay al menos un valor nulo. Sospecho que es el mismo para todas las columnas. Voy a revisarlo y eliminarlo/s"
   ]
  },
  {
   "cell_type": "code",
   "execution_count": 7,
   "metadata": {},
   "outputs": [],
   "source": [
    "df_12 = df_12.dropna(subset=['3 Mbps'])"
   ]
  },
  {
   "cell_type": "code",
   "execution_count": 27,
   "metadata": {},
   "outputs": [
    {
     "data": {
      "text/html": [
       "<div>\n",
       "<style scoped>\n",
       "    .dataframe tbody tr th:only-of-type {\n",
       "        vertical-align: middle;\n",
       "    }\n",
       "\n",
       "    .dataframe tbody tr th {\n",
       "        vertical-align: top;\n",
       "    }\n",
       "\n",
       "    .dataframe thead th {\n",
       "        text-align: right;\n",
       "    }\n",
       "</style>\n",
       "<table border=\"1\" class=\"dataframe\">\n",
       "  <thead>\n",
       "    <tr style=\"text-align: right;\">\n",
       "      <th></th>\n",
       "      <th>Año</th>\n",
       "      <th>Trimestre</th>\n",
       "      <th>Provincia</th>\n",
       "      <th>Otros</th>\n",
       "      <th>0,256 Mbps</th>\n",
       "      <th>0,375 Mbps</th>\n",
       "      <th>0,625 Mbps</th>\n",
       "      <th>0,5 Mbps</th>\n",
       "      <th>0,512 Mbps</th>\n",
       "      <th>0,75 Mbps</th>\n",
       "      <th>...</th>\n",
       "      <th>71 Mbps</th>\n",
       "      <th>75 Mbps</th>\n",
       "      <th>77 Mbps</th>\n",
       "      <th>hasta_512_kbps</th>\n",
       "      <th>entre_512_kbps_y_1_mbps</th>\n",
       "      <th>entre_1_mbps_y_6_mbps</th>\n",
       "      <th>entre_6_mbps_y_10_mbps</th>\n",
       "      <th>entre_10_mbps_y_20_mbps</th>\n",
       "      <th>entre_20_mbps_y_30_mbps</th>\n",
       "      <th>mas_de_30_mbps</th>\n",
       "    </tr>\n",
       "  </thead>\n",
       "  <tbody>\n",
       "    <tr>\n",
       "      <th>0</th>\n",
       "      <td>NaN</td>\n",
       "      <td>NaN</td>\n",
       "      <td>buenos aires</td>\n",
       "      <td>97.634</td>\n",
       "      <td>18</td>\n",
       "      <td>0</td>\n",
       "      <td>0</td>\n",
       "      <td>28.724</td>\n",
       "      <td>192</td>\n",
       "      <td>4.611</td>\n",
       "      <td>...</td>\n",
       "      <td>0</td>\n",
       "      <td>90.796</td>\n",
       "      <td>0</td>\n",
       "      <td>46.724</td>\n",
       "      <td>196.611</td>\n",
       "      <td>414.140</td>\n",
       "      <td>1673.088</td>\n",
       "      <td>999.744</td>\n",
       "      <td>1062.938</td>\n",
       "      <td>2853.689</td>\n",
       "    </tr>\n",
       "    <tr>\n",
       "      <th>1</th>\n",
       "      <td>NaN</td>\n",
       "      <td>NaN</td>\n",
       "      <td>capital federal</td>\n",
       "      <td>106.772</td>\n",
       "      <td>31</td>\n",
       "      <td>0</td>\n",
       "      <td>0</td>\n",
       "      <td>451.000</td>\n",
       "      <td>34</td>\n",
       "      <td>1.307</td>\n",
       "      <td>...</td>\n",
       "      <td>0</td>\n",
       "      <td>28.406</td>\n",
       "      <td>0</td>\n",
       "      <td>482.000</td>\n",
       "      <td>35.307</td>\n",
       "      <td>1299.755</td>\n",
       "      <td>37.729</td>\n",
       "      <td>99.683</td>\n",
       "      <td>68.793</td>\n",
       "      <td>447.095</td>\n",
       "    </tr>\n",
       "    <tr>\n",
       "      <th>2</th>\n",
       "      <td>NaN</td>\n",
       "      <td>NaN</td>\n",
       "      <td>catamarca</td>\n",
       "      <td>2.280</td>\n",
       "      <td>0</td>\n",
       "      <td>0</td>\n",
       "      <td>0</td>\n",
       "      <td>34.000</td>\n",
       "      <td>37</td>\n",
       "      <td>0.000</td>\n",
       "      <td>...</td>\n",
       "      <td>0</td>\n",
       "      <td>0.000</td>\n",
       "      <td>0</td>\n",
       "      <td>34.000</td>\n",
       "      <td>37.000</td>\n",
       "      <td>1480.000</td>\n",
       "      <td>2.551</td>\n",
       "      <td>1154.027</td>\n",
       "      <td>899.717</td>\n",
       "      <td>923.388</td>\n",
       "    </tr>\n",
       "    <tr>\n",
       "      <th>3</th>\n",
       "      <td>NaN</td>\n",
       "      <td>NaN</td>\n",
       "      <td>chaco</td>\n",
       "      <td>3.909</td>\n",
       "      <td>0</td>\n",
       "      <td>225</td>\n",
       "      <td>111</td>\n",
       "      <td>234.000</td>\n",
       "      <td>2</td>\n",
       "      <td>0.000</td>\n",
       "      <td>...</td>\n",
       "      <td>0</td>\n",
       "      <td>0.000</td>\n",
       "      <td>0</td>\n",
       "      <td>459.000</td>\n",
       "      <td>113.000</td>\n",
       "      <td>2024.497</td>\n",
       "      <td>816.213</td>\n",
       "      <td>156.845</td>\n",
       "      <td>753.062</td>\n",
       "      <td>48.841</td>\n",
       "    </tr>\n",
       "    <tr>\n",
       "      <th>4</th>\n",
       "      <td>NaN</td>\n",
       "      <td>NaN</td>\n",
       "      <td>chubut</td>\n",
       "      <td>20.026</td>\n",
       "      <td>8</td>\n",
       "      <td>0</td>\n",
       "      <td>0</td>\n",
       "      <td>69.000</td>\n",
       "      <td>32</td>\n",
       "      <td>836.000</td>\n",
       "      <td>...</td>\n",
       "      <td>0</td>\n",
       "      <td>0.000</td>\n",
       "      <td>0</td>\n",
       "      <td>77.000</td>\n",
       "      <td>868.000</td>\n",
       "      <td>808.726</td>\n",
       "      <td>334.377</td>\n",
       "      <td>84.177</td>\n",
       "      <td>18.332</td>\n",
       "      <td>185.008</td>\n",
       "    </tr>\n",
       "    <tr>\n",
       "      <th>5</th>\n",
       "      <td>NaN</td>\n",
       "      <td>NaN</td>\n",
       "      <td>cordoba</td>\n",
       "      <td>17.610</td>\n",
       "      <td>2</td>\n",
       "      <td>0</td>\n",
       "      <td>0</td>\n",
       "      <td>87.000</td>\n",
       "      <td>10</td>\n",
       "      <td>83.000</td>\n",
       "      <td>...</td>\n",
       "      <td>0</td>\n",
       "      <td>54.000</td>\n",
       "      <td>0</td>\n",
       "      <td>89.000</td>\n",
       "      <td>93.000</td>\n",
       "      <td>265.804</td>\n",
       "      <td>98.859</td>\n",
       "      <td>527.647</td>\n",
       "      <td>197.610</td>\n",
       "      <td>527.802</td>\n",
       "    </tr>\n",
       "    <tr>\n",
       "      <th>6</th>\n",
       "      <td>NaN</td>\n",
       "      <td>NaN</td>\n",
       "      <td>corrientes</td>\n",
       "      <td>7.998</td>\n",
       "      <td>0</td>\n",
       "      <td>0</td>\n",
       "      <td>0</td>\n",
       "      <td>10.000</td>\n",
       "      <td>57</td>\n",
       "      <td>118.000</td>\n",
       "      <td>...</td>\n",
       "      <td>0</td>\n",
       "      <td>0.000</td>\n",
       "      <td>0</td>\n",
       "      <td>10.000</td>\n",
       "      <td>175.000</td>\n",
       "      <td>496.027</td>\n",
       "      <td>13.888</td>\n",
       "      <td>25.155</td>\n",
       "      <td>432.501</td>\n",
       "      <td>30.196</td>\n",
       "    </tr>\n",
       "    <tr>\n",
       "      <th>7</th>\n",
       "      <td>NaN</td>\n",
       "      <td>NaN</td>\n",
       "      <td>entre rios</td>\n",
       "      <td>0.000</td>\n",
       "      <td>1</td>\n",
       "      <td>0</td>\n",
       "      <td>0</td>\n",
       "      <td>20.000</td>\n",
       "      <td>86</td>\n",
       "      <td>113.000</td>\n",
       "      <td>...</td>\n",
       "      <td>0</td>\n",
       "      <td>0.000</td>\n",
       "      <td>0</td>\n",
       "      <td>21.000</td>\n",
       "      <td>199.000</td>\n",
       "      <td>418.217</td>\n",
       "      <td>25.170</td>\n",
       "      <td>52.646</td>\n",
       "      <td>794.182</td>\n",
       "      <td>106.775</td>\n",
       "    </tr>\n",
       "    <tr>\n",
       "      <th>8</th>\n",
       "      <td>NaN</td>\n",
       "      <td>NaN</td>\n",
       "      <td>formosa</td>\n",
       "      <td>698.000</td>\n",
       "      <td>0</td>\n",
       "      <td>0</td>\n",
       "      <td>0</td>\n",
       "      <td>49.000</td>\n",
       "      <td>35</td>\n",
       "      <td>0.000</td>\n",
       "      <td>...</td>\n",
       "      <td>0</td>\n",
       "      <td>0.000</td>\n",
       "      <td>0</td>\n",
       "      <td>49.000</td>\n",
       "      <td>35.000</td>\n",
       "      <td>262.026</td>\n",
       "      <td>250.432</td>\n",
       "      <td>53.472</td>\n",
       "      <td>319.358</td>\n",
       "      <td>1286.000</td>\n",
       "    </tr>\n",
       "    <tr>\n",
       "      <th>9</th>\n",
       "      <td>NaN</td>\n",
       "      <td>NaN</td>\n",
       "      <td>jujuy</td>\n",
       "      <td>0.000</td>\n",
       "      <td>0</td>\n",
       "      <td>0</td>\n",
       "      <td>0</td>\n",
       "      <td>26.000</td>\n",
       "      <td>32</td>\n",
       "      <td>0.000</td>\n",
       "      <td>...</td>\n",
       "      <td>0</td>\n",
       "      <td>0.000</td>\n",
       "      <td>0</td>\n",
       "      <td>26.000</td>\n",
       "      <td>32.000</td>\n",
       "      <td>15.838</td>\n",
       "      <td>15.691</td>\n",
       "      <td>682.440</td>\n",
       "      <td>347.290</td>\n",
       "      <td>340.579</td>\n",
       "    </tr>\n",
       "  </tbody>\n",
       "</table>\n",
       "<p>10 rows × 104 columns</p>\n",
       "</div>"
      ],
      "text/plain": [
       "   Año  Trimestre        Provincia    Otros  0,256 Mbps  0,375 Mbps  \\\n",
       "0  NaN        NaN     buenos aires   97.634          18           0   \n",
       "1  NaN        NaN  capital federal  106.772          31           0   \n",
       "2  NaN        NaN        catamarca    2.280           0           0   \n",
       "3  NaN        NaN            chaco    3.909           0         225   \n",
       "4  NaN        NaN           chubut   20.026           8           0   \n",
       "5  NaN        NaN          cordoba   17.610           2           0   \n",
       "6  NaN        NaN       corrientes    7.998           0           0   \n",
       "7  NaN        NaN       entre rios    0.000           1           0   \n",
       "8  NaN        NaN          formosa  698.000           0           0   \n",
       "9  NaN        NaN            jujuy    0.000           0           0   \n",
       "\n",
       "   0,625 Mbps  0,5 Mbps  0,512 Mbps  0,75 Mbps  ...  71 Mbps  75 Mbps  \\\n",
       "0           0    28.724         192      4.611  ...        0   90.796   \n",
       "1           0   451.000          34      1.307  ...        0   28.406   \n",
       "2           0    34.000          37      0.000  ...        0    0.000   \n",
       "3         111   234.000           2      0.000  ...        0    0.000   \n",
       "4           0    69.000          32    836.000  ...        0    0.000   \n",
       "5           0    87.000          10     83.000  ...        0   54.000   \n",
       "6           0    10.000          57    118.000  ...        0    0.000   \n",
       "7           0    20.000          86    113.000  ...        0    0.000   \n",
       "8           0    49.000          35      0.000  ...        0    0.000   \n",
       "9           0    26.000          32      0.000  ...        0    0.000   \n",
       "\n",
       "   77 Mbps  hasta_512_kbps  entre_512_kbps_y_1_mbps  entre_1_mbps_y_6_mbps  \\\n",
       "0        0          46.724                  196.611                414.140   \n",
       "1        0         482.000                   35.307               1299.755   \n",
       "2        0          34.000                   37.000               1480.000   \n",
       "3        0         459.000                  113.000               2024.497   \n",
       "4        0          77.000                  868.000                808.726   \n",
       "5        0          89.000                   93.000                265.804   \n",
       "6        0          10.000                  175.000                496.027   \n",
       "7        0          21.000                  199.000                418.217   \n",
       "8        0          49.000                   35.000                262.026   \n",
       "9        0          26.000                   32.000                 15.838   \n",
       "\n",
       "   entre_6_mbps_y_10_mbps  entre_10_mbps_y_20_mbps  entre_20_mbps_y_30_mbps  \\\n",
       "0                1673.088                  999.744                 1062.938   \n",
       "1                  37.729                   99.683                   68.793   \n",
       "2                   2.551                 1154.027                  899.717   \n",
       "3                 816.213                  156.845                  753.062   \n",
       "4                 334.377                   84.177                   18.332   \n",
       "5                  98.859                  527.647                  197.610   \n",
       "6                  13.888                   25.155                  432.501   \n",
       "7                  25.170                   52.646                  794.182   \n",
       "8                 250.432                   53.472                  319.358   \n",
       "9                  15.691                  682.440                  347.290   \n",
       "\n",
       "   mas_de_30_mbps  \n",
       "0        2853.689  \n",
       "1         447.095  \n",
       "2         923.388  \n",
       "3          48.841  \n",
       "4         185.008  \n",
       "5         527.802  \n",
       "6          30.196  \n",
       "7         106.775  \n",
       "8        1286.000  \n",
       "9         340.579  \n",
       "\n",
       "[10 rows x 104 columns]"
      ]
     },
     "execution_count": 27,
     "metadata": {},
     "output_type": "execute_result"
    }
   ],
   "source": [
    "df_12.head(10)"
   ]
  },
  {
   "cell_type": "code",
   "execution_count": 22,
   "metadata": {},
   "outputs": [
    {
     "data": {
      "text/plain": [
       "str"
      ]
     },
     "execution_count": 22,
     "metadata": {},
     "output_type": "execute_result"
    }
   ],
   "source": [
    "type(df_12['0,256 Mbps'][0])"
   ]
  },
  {
   "cell_type": "code",
   "execution_count": 558,
   "metadata": {},
   "outputs": [
    {
     "data": {
      "text/plain": [
       "Index(['Año', 'Trimestre', 'Provincia', 'Otros', '0,256 Mbps', '0,375 Mbps',\n",
       "       '0,625 Mbps', '0,5 Mbps', '0,512 Mbps', '0,75 Mbps', '1 Mbps',\n",
       "       '1,2 Mbps', '1,25 Mbps', '1,5 Mbps', '2 Mbps', '2,2 Mbps', '2,5 Mbps',\n",
       "       '6,7 Mbps', '3 Mbps', '3,2 Mbps', '3,3 Mbps', '3,5 Mbps', '4 Mbps',\n",
       "       '4,5 Mbps', '5 Mbps', '6 Mbps', '6,4 Mbps', '7 Mbps', '7,5 Mbps',\n",
       "       '8 Mbps', '9 Mbps', '10 Mbps', '10,2 Mbps', '10,6 Mbps', '11 Mbps',\n",
       "       '12 Mbps', '12,3 Mbps', '13 Mbps', '14 Mbps', '15 Mbps', '16 Mbps',\n",
       "       '17 Mbps', '18 Mbps', '19 Mbps', '20 Mbps', '20,5 Mbps', '21 Mbps',\n",
       "       '22 Mbps', '23 Mbps', '24 Mbps', '25 Mbps', '25,1 Mbps', '25,11 Mbps',\n",
       "       '25,5 Mbps', '26 Mbps', '27 Mbps', '28 Mbps', '29 Mbps', '30 Mbps',\n",
       "       '31 Mbps', '32 Mbps', '34 Mbps', '35 Mbps', '36 Mbps', '37 Mbps',\n",
       "       '38 Mbps', '39 Mbps', '40 Mbps', '41 Mbps', '45 Mbps', '46 Mbps',\n",
       "       '47 Mbps', '48 Mbps', '49 Mbps', '50 Mbps', '50,1 Mbps', '51 Mbps',\n",
       "       '50,25 Mbps', '52 Mbps', '54 Mbps', '55 Mbps', '56 Mbps', '58 Mbps',\n",
       "       '59 Mbps', '60 Mbps', '61 Mbps', '62 Mbps', '63 Mbps', '64 Mbps',\n",
       "       '65 Mbps', '66 Mbps', '67 Mbps', '68 Mbps', '70 Mbps', '71 Mbps',\n",
       "       '75 Mbps', '77 Mbps'],\n",
       "      dtype='object')"
      ]
     },
     "execution_count": 558,
     "metadata": {},
     "output_type": "execute_result"
    }
   ],
   "source": [
    "df_12.columns"
   ]
  },
  {
   "cell_type": "markdown",
   "metadata": {},
   "source": [
    "Voy a limpiar el df de '-', mayusculas y demás caracteres para poder seguir con el procedimiento de limpieza"
   ]
  },
  {
   "cell_type": "code",
   "execution_count": 9,
   "metadata": {},
   "outputs": [],
   "source": [
    "import unicodedata\n",
    "\n",
    "for column in df_12.columns:\n",
    "    if df_12[column].dtype == 'object':\n",
    "        df_12[column] = df_12[column].str.lower().apply(lambda x: unicodedata.normalize('NFKD', x).encode('ASCII', 'ignore').decode('utf-8'))"
   ]
  },
  {
   "cell_type": "markdown",
   "metadata": {},
   "source": [
    "Reemplacé todos los '- 0' por 0 para poder convertir todo a float."
   ]
  },
  {
   "cell_type": "code",
   "execution_count": 10,
   "metadata": {},
   "outputs": [],
   "source": [
    "df_12 = df_12.replace('- 0', '0')"
   ]
  },
  {
   "cell_type": "code",
   "execution_count": 26,
   "metadata": {},
   "outputs": [
    {
     "data": {
      "text/plain": [
       "numpy.int64"
      ]
     },
     "execution_count": 26,
     "metadata": {},
     "output_type": "execute_result"
    }
   ],
   "source": [
    "type(df_12['0,256 Mbps'][0])"
   ]
  },
  {
   "cell_type": "markdown",
   "metadata": {},
   "source": [
    "Como tengo tantas columnas, las quiero categorizar siguiendo la misma linea de dfs anterior con datos parecidos, pero para esto tengo que cambiar el tipo de dato de todas las columnas que quiero transformar a float."
   ]
  },
  {
   "cell_type": "code",
   "execution_count": 23,
   "metadata": {},
   "outputs": [],
   "source": [
    "for col in df_12.columns:\n",
    "    if col != 'Provincia':\n",
    "        df_12[col] = pd.to_numeric(df_12[col], errors='coerce')"
   ]
  },
  {
   "cell_type": "code",
   "execution_count": 35,
   "metadata": {},
   "outputs": [
    {
     "data": {
      "text/html": [
       "<div>\n",
       "<style scoped>\n",
       "    .dataframe tbody tr th:only-of-type {\n",
       "        vertical-align: middle;\n",
       "    }\n",
       "\n",
       "    .dataframe tbody tr th {\n",
       "        vertical-align: top;\n",
       "    }\n",
       "\n",
       "    .dataframe thead th {\n",
       "        text-align: right;\n",
       "    }\n",
       "</style>\n",
       "<table border=\"1\" class=\"dataframe\">\n",
       "  <thead>\n",
       "    <tr style=\"text-align: right;\">\n",
       "      <th></th>\n",
       "      <th>Año</th>\n",
       "      <th>Trimestre</th>\n",
       "      <th>Provincia</th>\n",
       "      <th>Otros</th>\n",
       "      <th>hasta_512_kbps</th>\n",
       "      <th>entre_512_kbps_y_1_mbps</th>\n",
       "      <th>entre_1_mbps_y_6_mbps</th>\n",
       "      <th>entre_6_mbps_y_10_mbps</th>\n",
       "      <th>entre_10_mbps_y_20_mbps</th>\n",
       "      <th>entre_20_mbps_y_30_mbps</th>\n",
       "      <th>mas_de_30_mbps</th>\n",
       "    </tr>\n",
       "  </thead>\n",
       "  <tbody>\n",
       "    <tr>\n",
       "      <th>0</th>\n",
       "      <td>NaN</td>\n",
       "      <td>NaN</td>\n",
       "      <td>buenos aires</td>\n",
       "      <td>97.634</td>\n",
       "      <td>46.724</td>\n",
       "      <td>196.611</td>\n",
       "      <td>414.14</td>\n",
       "      <td>1673.088</td>\n",
       "      <td>999.744</td>\n",
       "      <td>1062.938</td>\n",
       "      <td>2853.689</td>\n",
       "    </tr>\n",
       "  </tbody>\n",
       "</table>\n",
       "</div>"
      ],
      "text/plain": [
       "   Año  Trimestre     Provincia   Otros  hasta_512_kbps  \\\n",
       "0  NaN        NaN  buenos aires  97.634          46.724   \n",
       "\n",
       "   entre_512_kbps_y_1_mbps  entre_1_mbps_y_6_mbps  entre_6_mbps_y_10_mbps  \\\n",
       "0                  196.611                 414.14                1673.088   \n",
       "\n",
       "   entre_10_mbps_y_20_mbps  entre_20_mbps_y_30_mbps  mas_de_30_mbps  \n",
       "0                  999.744                 1062.938        2853.689  "
      ]
     },
     "execution_count": 35,
     "metadata": {},
     "output_type": "execute_result"
    }
   ],
   "source": [
    "df_12.head(1)"
   ]
  },
  {
   "cell_type": "markdown",
   "metadata": {},
   "source": [
    "Creo las categorías (rangos) para las columnas, ya que éstas tienen valores muy específicos."
   ]
  },
  {
   "cell_type": "code",
   "execution_count": null,
   "metadata": {},
   "outputs": [],
   "source": [
    "df_12['hasta_512_kbps'] = df_12['0,256 Mbps'] + df_12['0,375 Mbps'] + df_12['0,5 Mbps']\n",
    "df_12['entre_512_kbps_y_1_mbps'] = df_12['0,512 Mbps'] + df_12['0,625 Mbps'] + df_12['0,75 Mbps']\n",
    "df_12['entre_1_mbps_y_6_mbps'] = df_12['1 Mbps'] + df_12['1,25 Mbps'] + df_12['1,5 Mbps'] + df_12['2 Mbps'] + df_12['2,2 Mbps'] + df_12['2,5 Mbps'] + df_12['3 Mbps'] + df_12['3,2 Mbps'] + df_12['3,3 Mbps'] + df_12['3,5 Mbps']  + df_12['4 Mbps'] + df_12['4,5 Mbps']  + df_12['5 Mbps']\n",
    "df_12['entre_6_mbps_y_10_mbps'] =  df_12['6 Mbps'] + df_12['6,4 Mbps'] + df_12['6,7 Mbps'] + df_12['7 Mbps'] + df_12['7,5 Mbps'] + df_12['8 Mbps'] + df_12['9 Mbps']\n",
    "df_12['entre_10_mbps_y_20_mbps'] =  df_12['10 Mbps'] + df_12['10,2 Mbps'] + df_12['10,6 Mbps'] + df_12['11 Mbps'] + df_12['12 Mbps'] + df_12['12,3 Mbps'] + df_12['13 Mbps'] + df_12['14 Mbps'] + df_12['15 Mbps'] + df_12['16 Mbps'] + df_12['17 Mbps'] + df_12['18 Mbps'] + df_12['19 Mbps']\n",
    "df_12['entre_20_mbps_y_30_mbps'] = df_12['20 Mbps'] + df_12['20,5 Mbps'] + df_12['21 Mbps'] + df_12['22 Mbps'] + df_12['23 Mbps'] + df_12['24 Mbps'] + df_12['25 Mbps'] + df_12['25,1 Mbps'] + df_12['25,11 Mbps'] + df_12['25,5 Mbps'] + df_12['26 Mbps'] + df_12['27 Mbps'] + df_12['28 Mbps'] + df_12['29 Mbps'] + df_12['30 Mbps']\n",
    "df_12['mas_de_30_mbps'] = df_12['30 Mbps'] + df_12['31 Mbps'] + df_12['32 Mbps'] + df_12['34 Mbps'] +df_12['35 Mbps'] + df_12['36 Mbps'] + df_12['37 Mbps'] + df_12['38 Mbps'] + df_12['39 Mbps'] + df_12['40 Mbps'] + df_12['41 Mbps'] + df_12['45 Mbps'] + df_12['46 Mbps'] + df_12['47 Mbps'] + df_12['48 Mbps'] + df_12['49 Mbps'] + df_12['50 Mbps'] + df_12['50,1 Mbps'] + df_12['50,25 Mbps'] + df_12['51 Mbps'] + df_12['52 Mbps'] + df_12['54 Mbps'] + df_12['55 Mbps'] + df_12['56 Mbps'] + df_12['58 Mbps'] + df_12['59 Mbps'] + df_12['60 Mbps'] + df_12['61 Mbps'] + df_12['62 Mbps'] + df_12['63 Mbps'] + df_12['64 Mbps'] + df_12['65 Mbps'] + df_12['66 Mbps'] + df_12['67 Mbps'] + df_12['68 Mbps'] + df_12['70 Mbps'] + df_12['71 Mbps'] + df_12['75 Mbps'] + df_12['77 Mbps']"
   ]
  },
  {
   "cell_type": "code",
   "execution_count": null,
   "metadata": {},
   "outputs": [],
   "source": [
    "columnas = ['Año', 'Trimestre', 'Provincia', 'Otros', 'hasta_512_kbps', 'entre_512_kbps_y_1_mbps', 'entre_1_mbps_y_6_mbps', 'entre_6_mbps_y_10_mbps', 'entre_10_mbps_y_20_mbps', 'entre_20_mbps_y_30_mbps', 'mas_de_30_mbps']\n",
    "df_12 = df_12[columnas]"
   ]
  },
  {
   "cell_type": "code",
   "execution_count": 36,
   "metadata": {},
   "outputs": [],
   "source": [
    "df_12.to_csv('df_12.csv', index=False)"
   ]
  },
  {
   "cell_type": "markdown",
   "metadata": {},
   "source": [
    "# Df_13"
   ]
  },
  {
   "cell_type": "code",
   "execution_count": null,
   "metadata": {},
   "outputs": [],
   "source": [
    "import pandas as pd"
   ]
  },
  {
   "cell_type": "code",
   "execution_count": 420,
   "metadata": {},
   "outputs": [],
   "source": [
    "ruta13 = 'Data/data_13.csv'"
   ]
  },
  {
   "cell_type": "code",
   "execution_count": 421,
   "metadata": {},
   "outputs": [],
   "source": [
    "df_13 = pd.read_csv(ruta13)"
   ]
  },
  {
   "cell_type": "code",
   "execution_count": 422,
   "metadata": {},
   "outputs": [
    {
     "data": {
      "text/html": [
       "<div>\n",
       "<style scoped>\n",
       "    .dataframe tbody tr th:only-of-type {\n",
       "        vertical-align: middle;\n",
       "    }\n",
       "\n",
       "    .dataframe tbody tr th {\n",
       "        vertical-align: top;\n",
       "    }\n",
       "\n",
       "    .dataframe thead th {\n",
       "        text-align: right;\n",
       "    }\n",
       "</style>\n",
       "<table border=\"1\" class=\"dataframe\">\n",
       "  <thead>\n",
       "    <tr style=\"text-align: right;\">\n",
       "      <th></th>\n",
       "      <th>Año</th>\n",
       "      <th>Trimestre</th>\n",
       "      <th>Ingresos (miles de pesos)</th>\n",
       "      <th>Periodo</th>\n",
       "    </tr>\n",
       "  </thead>\n",
       "  <tbody>\n",
       "    <tr>\n",
       "      <th>0</th>\n",
       "      <td>2022</td>\n",
       "      <td>4</td>\n",
       "      <td>72</td>\n",
       "      <td>Oct-Dic 2022</td>\n",
       "    </tr>\n",
       "    <tr>\n",
       "      <th>1</th>\n",
       "      <td>2022</td>\n",
       "      <td>3</td>\n",
       "      <td>64</td>\n",
       "      <td>Jul-Sept 2022</td>\n",
       "    </tr>\n",
       "    <tr>\n",
       "      <th>2</th>\n",
       "      <td>2022</td>\n",
       "      <td>2</td>\n",
       "      <td>60</td>\n",
       "      <td>Abr-Jun 2022</td>\n",
       "    </tr>\n",
       "    <tr>\n",
       "      <th>3</th>\n",
       "      <td>2022</td>\n",
       "      <td>1</td>\n",
       "      <td>55</td>\n",
       "      <td>Ene-Mar 2022</td>\n",
       "    </tr>\n",
       "    <tr>\n",
       "      <th>4</th>\n",
       "      <td>2021</td>\n",
       "      <td>4</td>\n",
       "      <td>45</td>\n",
       "      <td>Oct-Dic 2021</td>\n",
       "    </tr>\n",
       "  </tbody>\n",
       "</table>\n",
       "</div>"
      ],
      "text/plain": [
       "    Año  Trimestre  Ingresos (miles de pesos)        Periodo\n",
       "0  2022          4                         72   Oct-Dic 2022\n",
       "1  2022          3                         64  Jul-Sept 2022\n",
       "2  2022          2                         60   Abr-Jun 2022\n",
       "3  2022          1                         55   Ene-Mar 2022\n",
       "4  2021          4                         45   Oct-Dic 2021"
      ]
     },
     "execution_count": 422,
     "metadata": {},
     "output_type": "execute_result"
    }
   ],
   "source": [
    "df_13.head()"
   ]
  },
  {
   "cell_type": "code",
   "execution_count": 423,
   "metadata": {},
   "outputs": [
    {
     "data": {
      "text/plain": [
       "Año                           int64\n",
       "Trimestre                     int64\n",
       "Ingresos (miles de pesos)     int64\n",
       "Periodo                      object\n",
       "dtype: object"
      ]
     },
     "execution_count": 423,
     "metadata": {},
     "output_type": "execute_result"
    }
   ],
   "source": [
    "df_13.dtypes"
   ]
  },
  {
   "cell_type": "code",
   "execution_count": 424,
   "metadata": {},
   "outputs": [
    {
     "data": {
      "text/plain": [
       "(36, 4)"
      ]
     },
     "execution_count": 424,
     "metadata": {},
     "output_type": "execute_result"
    }
   ],
   "source": [
    "df_13.shape"
   ]
  },
  {
   "cell_type": "code",
   "execution_count": 425,
   "metadata": {},
   "outputs": [
    {
     "data": {
      "text/html": [
       "<div>\n",
       "<style scoped>\n",
       "    .dataframe tbody tr th:only-of-type {\n",
       "        vertical-align: middle;\n",
       "    }\n",
       "\n",
       "    .dataframe tbody tr th {\n",
       "        vertical-align: top;\n",
       "    }\n",
       "\n",
       "    .dataframe thead th {\n",
       "        text-align: right;\n",
       "    }\n",
       "</style>\n",
       "<table border=\"1\" class=\"dataframe\">\n",
       "  <thead>\n",
       "    <tr style=\"text-align: right;\">\n",
       "      <th></th>\n",
       "      <th>Año</th>\n",
       "      <th>Trimestre</th>\n",
       "      <th>Ingresos (miles de pesos)</th>\n",
       "    </tr>\n",
       "  </thead>\n",
       "  <tbody>\n",
       "    <tr>\n",
       "      <th>count</th>\n",
       "      <td>36.000000</td>\n",
       "      <td>36.000000</td>\n",
       "      <td>36.000000</td>\n",
       "    </tr>\n",
       "    <tr>\n",
       "      <th>mean</th>\n",
       "      <td>2018.000000</td>\n",
       "      <td>2.500000</td>\n",
       "      <td>21.888889</td>\n",
       "    </tr>\n",
       "    <tr>\n",
       "      <th>std</th>\n",
       "      <td>2.618615</td>\n",
       "      <td>1.133893</td>\n",
       "      <td>19.239510</td>\n",
       "    </tr>\n",
       "    <tr>\n",
       "      <th>min</th>\n",
       "      <td>2014.000000</td>\n",
       "      <td>1.000000</td>\n",
       "      <td>3.000000</td>\n",
       "    </tr>\n",
       "    <tr>\n",
       "      <th>25%</th>\n",
       "      <td>2016.000000</td>\n",
       "      <td>1.750000</td>\n",
       "      <td>6.750000</td>\n",
       "    </tr>\n",
       "    <tr>\n",
       "      <th>50%</th>\n",
       "      <td>2018.000000</td>\n",
       "      <td>2.500000</td>\n",
       "      <td>14.500000</td>\n",
       "    </tr>\n",
       "    <tr>\n",
       "      <th>75%</th>\n",
       "      <td>2020.000000</td>\n",
       "      <td>3.250000</td>\n",
       "      <td>32.500000</td>\n",
       "    </tr>\n",
       "    <tr>\n",
       "      <th>max</th>\n",
       "      <td>2022.000000</td>\n",
       "      <td>4.000000</td>\n",
       "      <td>72.000000</td>\n",
       "    </tr>\n",
       "  </tbody>\n",
       "</table>\n",
       "</div>"
      ],
      "text/plain": [
       "               Año  Trimestre  Ingresos (miles de pesos)\n",
       "count    36.000000  36.000000                  36.000000\n",
       "mean   2018.000000   2.500000                  21.888889\n",
       "std       2.618615   1.133893                  19.239510\n",
       "min    2014.000000   1.000000                   3.000000\n",
       "25%    2016.000000   1.750000                   6.750000\n",
       "50%    2018.000000   2.500000                  14.500000\n",
       "75%    2020.000000   3.250000                  32.500000\n",
       "max    2022.000000   4.000000                  72.000000"
      ]
     },
     "execution_count": 425,
     "metadata": {},
     "output_type": "execute_result"
    }
   ],
   "source": [
    "df_13.describe()"
   ]
  },
  {
   "cell_type": "code",
   "execution_count": 426,
   "metadata": {},
   "outputs": [
    {
     "name": "stdout",
     "output_type": "stream",
     "text": [
      "<class 'pandas.core.frame.DataFrame'>\n",
      "RangeIndex: 36 entries, 0 to 35\n",
      "Data columns (total 4 columns):\n",
      " #   Column                     Non-Null Count  Dtype \n",
      "---  ------                     --------------  ----- \n",
      " 0   Año                        36 non-null     int64 \n",
      " 1   Trimestre                  36 non-null     int64 \n",
      " 2   Ingresos (miles de pesos)  36 non-null     int64 \n",
      " 3   Periodo                    36 non-null     object\n",
      "dtypes: int64(3), object(1)\n",
      "memory usage: 1.2+ KB\n"
     ]
    }
   ],
   "source": [
    "df_13.info()"
   ]
  },
  {
   "cell_type": "markdown",
   "metadata": {},
   "source": [
    "Ahora le voy a cambiar el nombre a las otras columnas."
   ]
  },
  {
   "cell_type": "code",
   "execution_count": 429,
   "metadata": {},
   "outputs": [],
   "source": [
    "nuevas_columnas = {\n",
    "    'Año': 'anio',\n",
    "    'Trimestre': 'trimestre',\n",
    "    'Periodo': 'periodo'\n",
    "}\n",
    "df_13.rename(columns=nuevas_columnas, inplace=True)"
   ]
  },
  {
   "cell_type": "code",
   "execution_count": 433,
   "metadata": {},
   "outputs": [],
   "source": [
    "import unicodedata\n",
    "\n",
    "for column in df_13.columns:\n",
    "    if df_13[column].dtype == 'object':\n",
    "        df_13[column] = df_13[column].str.lower().apply(lambda x: unicodedata.normalize('NFKD', x).encode('ASCII', 'ignore').decode('utf-8'))"
   ]
  },
  {
   "cell_type": "code",
   "execution_count": 515,
   "metadata": {},
   "outputs": [],
   "source": [
    "df_13.to_csv('df_13.csv', index=False)"
   ]
  },
  {
   "cell_type": "markdown",
   "metadata": {},
   "source": [
    "# Df_14"
   ]
  },
  {
   "cell_type": "code",
   "execution_count": 533,
   "metadata": {},
   "outputs": [],
   "source": [
    "import pandas as pd"
   ]
  },
  {
   "cell_type": "code",
   "execution_count": 534,
   "metadata": {},
   "outputs": [],
   "source": [
    "ruta14 = 'Data/data_14.csv'"
   ]
  },
  {
   "cell_type": "code",
   "execution_count": 535,
   "metadata": {},
   "outputs": [],
   "source": [
    "df_14 = pd.read_csv(ruta14)"
   ]
  },
  {
   "cell_type": "code",
   "execution_count": 536,
   "metadata": {},
   "outputs": [
    {
     "data": {
      "text/html": [
       "<div>\n",
       "<style scoped>\n",
       "    .dataframe tbody tr th:only-of-type {\n",
       "        vertical-align: middle;\n",
       "    }\n",
       "\n",
       "    .dataframe tbody tr th {\n",
       "        vertical-align: top;\n",
       "    }\n",
       "\n",
       "    .dataframe thead th {\n",
       "        text-align: right;\n",
       "    }\n",
       "</style>\n",
       "<table border=\"1\" class=\"dataframe\">\n",
       "  <thead>\n",
       "    <tr style=\"text-align: right;\">\n",
       "      <th></th>\n",
       "      <th>Provincia</th>\n",
       "      <th>Partido</th>\n",
       "      <th>Localidad</th>\n",
       "      <th>Link Indec</th>\n",
       "      <th>Otros</th>\n",
       "      <th>0,256 Mbps</th>\n",
       "      <th>0,375 Mbps</th>\n",
       "      <th>0,5 Mbps</th>\n",
       "      <th>0,512 Mbps</th>\n",
       "      <th>0,625 Mbps</th>\n",
       "      <th>...</th>\n",
       "      <th>61 Mbps</th>\n",
       "      <th>62 Mbps</th>\n",
       "      <th>64 Mbps</th>\n",
       "      <th>65 Mbps</th>\n",
       "      <th>66 Mbps</th>\n",
       "      <th>70 Mbps</th>\n",
       "      <th>75 Mbps</th>\n",
       "      <th>78 Mbps</th>\n",
       "      <th>80 Mbps</th>\n",
       "      <th>83 Mbps</th>\n",
       "    </tr>\n",
       "  </thead>\n",
       "  <tbody>\n",
       "    <tr>\n",
       "      <th>0</th>\n",
       "      <td>BUENOS AIRES</td>\n",
       "      <td>25 de Mayo</td>\n",
       "      <td>25 de Mayo</td>\n",
       "      <td>6854100</td>\n",
       "      <td>NaN</td>\n",
       "      <td>NaN</td>\n",
       "      <td>NaN</td>\n",
       "      <td>2.0</td>\n",
       "      <td>NaN</td>\n",
       "      <td>NaN</td>\n",
       "      <td>...</td>\n",
       "      <td>NaN</td>\n",
       "      <td>NaN</td>\n",
       "      <td>NaN</td>\n",
       "      <td>NaN</td>\n",
       "      <td>NaN</td>\n",
       "      <td>NaN</td>\n",
       "      <td>NaN</td>\n",
       "      <td>NaN</td>\n",
       "      <td>12.0</td>\n",
       "      <td>NaN</td>\n",
       "    </tr>\n",
       "    <tr>\n",
       "      <th>1</th>\n",
       "      <td>BUENOS AIRES</td>\n",
       "      <td>25 de Mayo</td>\n",
       "      <td>Agustín Mosconi</td>\n",
       "      <td>6854010</td>\n",
       "      <td>NaN</td>\n",
       "      <td>NaN</td>\n",
       "      <td>NaN</td>\n",
       "      <td>NaN</td>\n",
       "      <td>NaN</td>\n",
       "      <td>NaN</td>\n",
       "      <td>...</td>\n",
       "      <td>NaN</td>\n",
       "      <td>NaN</td>\n",
       "      <td>NaN</td>\n",
       "      <td>NaN</td>\n",
       "      <td>NaN</td>\n",
       "      <td>NaN</td>\n",
       "      <td>NaN</td>\n",
       "      <td>NaN</td>\n",
       "      <td>NaN</td>\n",
       "      <td>NaN</td>\n",
       "    </tr>\n",
       "    <tr>\n",
       "      <th>2</th>\n",
       "      <td>BUENOS AIRES</td>\n",
       "      <td>25 de Mayo</td>\n",
       "      <td>Del Valle</td>\n",
       "      <td>6854020</td>\n",
       "      <td>NaN</td>\n",
       "      <td>NaN</td>\n",
       "      <td>NaN</td>\n",
       "      <td>1.0</td>\n",
       "      <td>NaN</td>\n",
       "      <td>NaN</td>\n",
       "      <td>...</td>\n",
       "      <td>NaN</td>\n",
       "      <td>NaN</td>\n",
       "      <td>NaN</td>\n",
       "      <td>NaN</td>\n",
       "      <td>NaN</td>\n",
       "      <td>NaN</td>\n",
       "      <td>NaN</td>\n",
       "      <td>NaN</td>\n",
       "      <td>NaN</td>\n",
       "      <td>NaN</td>\n",
       "    </tr>\n",
       "    <tr>\n",
       "      <th>3</th>\n",
       "      <td>BUENOS AIRES</td>\n",
       "      <td>25 de Mayo</td>\n",
       "      <td>Ernestina</td>\n",
       "      <td>6854030</td>\n",
       "      <td>NaN</td>\n",
       "      <td>NaN</td>\n",
       "      <td>NaN</td>\n",
       "      <td>NaN</td>\n",
       "      <td>NaN</td>\n",
       "      <td>NaN</td>\n",
       "      <td>...</td>\n",
       "      <td>NaN</td>\n",
       "      <td>NaN</td>\n",
       "      <td>NaN</td>\n",
       "      <td>NaN</td>\n",
       "      <td>NaN</td>\n",
       "      <td>NaN</td>\n",
       "      <td>NaN</td>\n",
       "      <td>NaN</td>\n",
       "      <td>NaN</td>\n",
       "      <td>NaN</td>\n",
       "    </tr>\n",
       "    <tr>\n",
       "      <th>4</th>\n",
       "      <td>BUENOS AIRES</td>\n",
       "      <td>25 de Mayo</td>\n",
       "      <td>Gobernador Ugarte</td>\n",
       "      <td>6854040</td>\n",
       "      <td>NaN</td>\n",
       "      <td>NaN</td>\n",
       "      <td>NaN</td>\n",
       "      <td>NaN</td>\n",
       "      <td>NaN</td>\n",
       "      <td>NaN</td>\n",
       "      <td>...</td>\n",
       "      <td>NaN</td>\n",
       "      <td>NaN</td>\n",
       "      <td>NaN</td>\n",
       "      <td>1.0</td>\n",
       "      <td>NaN</td>\n",
       "      <td>NaN</td>\n",
       "      <td>NaN</td>\n",
       "      <td>NaN</td>\n",
       "      <td>NaN</td>\n",
       "      <td>NaN</td>\n",
       "    </tr>\n",
       "  </tbody>\n",
       "</table>\n",
       "<p>5 rows × 83 columns</p>\n",
       "</div>"
      ],
      "text/plain": [
       "      Provincia     Partido          Localidad Link Indec  Otros  0,256 Mbps  \\\n",
       "0  BUENOS AIRES  25 de Mayo         25 de Mayo    6854100    NaN         NaN   \n",
       "1  BUENOS AIRES  25 de Mayo    Agustín Mosconi    6854010    NaN         NaN   \n",
       "2  BUENOS AIRES  25 de Mayo          Del Valle    6854020    NaN         NaN   \n",
       "3  BUENOS AIRES  25 de Mayo          Ernestina    6854030    NaN         NaN   \n",
       "4  BUENOS AIRES  25 de Mayo  Gobernador Ugarte    6854040    NaN         NaN   \n",
       "\n",
       "   0,375 Mbps  0,5 Mbps  0,512 Mbps  0,625 Mbps  ...  61 Mbps  62 Mbps  \\\n",
       "0         NaN       2.0         NaN         NaN  ...      NaN      NaN   \n",
       "1         NaN       NaN         NaN         NaN  ...      NaN      NaN   \n",
       "2         NaN       1.0         NaN         NaN  ...      NaN      NaN   \n",
       "3         NaN       NaN         NaN         NaN  ...      NaN      NaN   \n",
       "4         NaN       NaN         NaN         NaN  ...      NaN      NaN   \n",
       "\n",
       "   64 Mbps  65 Mbps  66 Mbps  70 Mbps  75 Mbps  78 Mbps  80 Mbps  83 Mbps  \n",
       "0      NaN      NaN      NaN      NaN      NaN      NaN     12.0      NaN  \n",
       "1      NaN      NaN      NaN      NaN      NaN      NaN      NaN      NaN  \n",
       "2      NaN      NaN      NaN      NaN      NaN      NaN      NaN      NaN  \n",
       "3      NaN      NaN      NaN      NaN      NaN      NaN      NaN      NaN  \n",
       "4      NaN      1.0      NaN      NaN      NaN      NaN      NaN      NaN  \n",
       "\n",
       "[5 rows x 83 columns]"
      ]
     },
     "execution_count": 536,
     "metadata": {},
     "output_type": "execute_result"
    }
   ],
   "source": [
    "df_14.head()"
   ]
  },
  {
   "cell_type": "code",
   "execution_count": 537,
   "metadata": {},
   "outputs": [
    {
     "data": {
      "text/plain": [
       "Provincia      object\n",
       "Partido        object\n",
       "Localidad      object\n",
       "Link Indec     object\n",
       "Otros         float64\n",
       "               ...   \n",
       "70 Mbps       float64\n",
       "75 Mbps       float64\n",
       "78 Mbps       float64\n",
       "80 Mbps       float64\n",
       "83 Mbps       float64\n",
       "Length: 83, dtype: object"
      ]
     },
     "execution_count": 537,
     "metadata": {},
     "output_type": "execute_result"
    }
   ],
   "source": [
    "df_14.dtypes"
   ]
  },
  {
   "cell_type": "code",
   "execution_count": 557,
   "metadata": {},
   "outputs": [
    {
     "data": {
      "text/html": [
       "<div>\n",
       "<style scoped>\n",
       "    .dataframe tbody tr th:only-of-type {\n",
       "        vertical-align: middle;\n",
       "    }\n",
       "\n",
       "    .dataframe tbody tr th {\n",
       "        vertical-align: top;\n",
       "    }\n",
       "\n",
       "    .dataframe thead th {\n",
       "        text-align: right;\n",
       "    }\n",
       "</style>\n",
       "<table border=\"1\" class=\"dataframe\">\n",
       "  <thead>\n",
       "    <tr style=\"text-align: right;\">\n",
       "      <th></th>\n",
       "      <th>hasta_512_kbps</th>\n",
       "      <th>entre_512_kbps_y_1_mbps</th>\n",
       "      <th>entre_1_mbps_y_6_mbps</th>\n",
       "      <th>entre_6_mbps_y_10_mbps</th>\n",
       "      <th>entre_10_mbps_y_20_mbps</th>\n",
       "      <th>entre_20_mbps_y_30_mbps</th>\n",
       "      <th>mas_de_30_mbps</th>\n",
       "    </tr>\n",
       "  </thead>\n",
       "  <tbody>\n",
       "    <tr>\n",
       "      <th>count</th>\n",
       "      <td>3095.000000</td>\n",
       "      <td>3095.000000</td>\n",
       "      <td>3095.000000</td>\n",
       "      <td>3095.000000</td>\n",
       "      <td>3095.000000</td>\n",
       "      <td>3095.000000</td>\n",
       "      <td>3095.000000</td>\n",
       "    </tr>\n",
       "    <tr>\n",
       "      <th>mean</th>\n",
       "      <td>0.964416</td>\n",
       "      <td>3.620778</td>\n",
       "      <td>129.394839</td>\n",
       "      <td>87.732748</td>\n",
       "      <td>125.712325</td>\n",
       "      <td>55.002376</td>\n",
       "      <td>78.700145</td>\n",
       "    </tr>\n",
       "    <tr>\n",
       "      <th>std</th>\n",
       "      <td>10.941770</td>\n",
       "      <td>29.989429</td>\n",
       "      <td>275.478615</td>\n",
       "      <td>190.994871</td>\n",
       "      <td>240.372182</td>\n",
       "      <td>162.342555</td>\n",
       "      <td>232.103555</td>\n",
       "    </tr>\n",
       "    <tr>\n",
       "      <th>min</th>\n",
       "      <td>0.000000</td>\n",
       "      <td>0.000000</td>\n",
       "      <td>0.000000</td>\n",
       "      <td>0.000000</td>\n",
       "      <td>0.000000</td>\n",
       "      <td>0.000000</td>\n",
       "      <td>0.000000</td>\n",
       "    </tr>\n",
       "    <tr>\n",
       "      <th>25%</th>\n",
       "      <td>0.000000</td>\n",
       "      <td>0.000000</td>\n",
       "      <td>0.000000</td>\n",
       "      <td>0.000000</td>\n",
       "      <td>0.000000</td>\n",
       "      <td>0.000000</td>\n",
       "      <td>0.000000</td>\n",
       "    </tr>\n",
       "    <tr>\n",
       "      <th>50%</th>\n",
       "      <td>0.000000</td>\n",
       "      <td>0.000000</td>\n",
       "      <td>12.000000</td>\n",
       "      <td>2.000000</td>\n",
       "      <td>8.000000</td>\n",
       "      <td>0.000000</td>\n",
       "      <td>0.000000</td>\n",
       "    </tr>\n",
       "    <tr>\n",
       "      <th>75%</th>\n",
       "      <td>0.000000</td>\n",
       "      <td>0.000000</td>\n",
       "      <td>118.500000</td>\n",
       "      <td>71.500000</td>\n",
       "      <td>125.292500</td>\n",
       "      <td>18.000000</td>\n",
       "      <td>3.000000</td>\n",
       "    </tr>\n",
       "    <tr>\n",
       "      <th>max</th>\n",
       "      <td>482.000000</td>\n",
       "      <td>909.000000</td>\n",
       "      <td>2910.025000</td>\n",
       "      <td>1878.000000</td>\n",
       "      <td>1836.298000</td>\n",
       "      <td>1735.406000</td>\n",
       "      <td>2534.000000</td>\n",
       "    </tr>\n",
       "  </tbody>\n",
       "</table>\n",
       "</div>"
      ],
      "text/plain": [
       "       hasta_512_kbps  entre_512_kbps_y_1_mbps  entre_1_mbps_y_6_mbps  \\\n",
       "count     3095.000000              3095.000000            3095.000000   \n",
       "mean         0.964416                 3.620778             129.394839   \n",
       "std         10.941770                29.989429             275.478615   \n",
       "min          0.000000                 0.000000               0.000000   \n",
       "25%          0.000000                 0.000000               0.000000   \n",
       "50%          0.000000                 0.000000              12.000000   \n",
       "75%          0.000000                 0.000000             118.500000   \n",
       "max        482.000000               909.000000            2910.025000   \n",
       "\n",
       "       entre_6_mbps_y_10_mbps  entre_10_mbps_y_20_mbps  \\\n",
       "count             3095.000000              3095.000000   \n",
       "mean                87.732748               125.712325   \n",
       "std                190.994871               240.372182   \n",
       "min                  0.000000                 0.000000   \n",
       "25%                  0.000000                 0.000000   \n",
       "50%                  2.000000                 8.000000   \n",
       "75%                 71.500000               125.292500   \n",
       "max               1878.000000              1836.298000   \n",
       "\n",
       "       entre_20_mbps_y_30_mbps  mas_de_30_mbps  \n",
       "count              3095.000000     3095.000000  \n",
       "mean                 55.002376       78.700145  \n",
       "std                 162.342555      232.103555  \n",
       "min                   0.000000        0.000000  \n",
       "25%                   0.000000        0.000000  \n",
       "50%                   0.000000        0.000000  \n",
       "75%                  18.000000        3.000000  \n",
       "max                1735.406000     2534.000000  "
      ]
     },
     "execution_count": 557,
     "metadata": {},
     "output_type": "execute_result"
    }
   ],
   "source": [
    "df_14.describe()"
   ]
  },
  {
   "cell_type": "code",
   "execution_count": 539,
   "metadata": {},
   "outputs": [
    {
     "name": "stdout",
     "output_type": "stream",
     "text": [
      "<class 'pandas.core.frame.DataFrame'>\n",
      "RangeIndex: 3095 entries, 0 to 3094\n",
      "Data columns (total 83 columns):\n",
      " #   Column      Non-Null Count  Dtype  \n",
      "---  ------      --------------  -----  \n",
      " 0   Provincia   3095 non-null   object \n",
      " 1   Partido     3095 non-null   object \n",
      " 2   Localidad   3095 non-null   object \n",
      " 3   Link Indec  3095 non-null   object \n",
      " 4   Otros       962 non-null    float64\n",
      " 5   0,256 Mbps  28 non-null     float64\n",
      " 6   0,375 Mbps  1 non-null      float64\n",
      " 7   0,5 Mbps    643 non-null    float64\n",
      " 8   0,512 Mbps  523 non-null    float64\n",
      " 9   0,625 Mbps  1 non-null      float64\n",
      " 10  0,75 Mbps   284 non-null    float64\n",
      " 11  1 Mbps      891 non-null    float64\n",
      " 12  1,25 Mbps   1 non-null      float64\n",
      " 13  1,5 Mbps    15 non-null     float64\n",
      " 14  2 Mbps      722 non-null    float64\n",
      " 15  2,2 Mbps    1 non-null      float64\n",
      " 16  2,5 Mbps    4 non-null      float64\n",
      " 17  3 Mbps      1351 non-null   float64\n",
      " 18  3,3 Mbps    1 non-null      float64\n",
      " 19  3,5 Mbps    373 non-null    float64\n",
      " 20  4 Mbps      534 non-null    float64\n",
      " 21  4,5 Mbps    1 non-null      float64\n",
      " 22  5 Mbps      1003 non-null   float64\n",
      " 23  6 Mbps      1413 non-null   float64\n",
      " 24  6,4 Mbps    1 non-null      float64\n",
      " 25  7 Mbps      225 non-null    float64\n",
      " 26  7,5 Mbps    4 non-null      float64\n",
      " 27  8 Mbps      630 non-null    float64\n",
      " 28  9 Mbps      50 non-null     float64\n",
      " 29  10 Mbps     1731 non-null   float64\n",
      " 30  10,2 Mbps   1 non-null      float64\n",
      " 31  11 Mbps     27 non-null     float64\n",
      " 32  12 Mbps     306 non-null    float64\n",
      " 33  12,3 Mbps   1 non-null      float64\n",
      " 34  13 Mbps     16 non-null     float64\n",
      " 35  14 Mbps     24 non-null     float64\n",
      " 36  15 Mbps     1061 non-null   float64\n",
      " 37  16 Mbps     16 non-null     float64\n",
      " 38  17 Mbps     1 non-null      float64\n",
      " 39  18 Mbps     20 non-null     float64\n",
      " 40  20 Mbps     1106 non-null   float64\n",
      " 41  20,5 Mbps   1 non-null      float64\n",
      " 42  21 Mbps     5 non-null      float64\n",
      " 43  22 Mbps     2 non-null      float64\n",
      " 44  23 Mbps     2 non-null      float64\n",
      " 45  24 Mbps     19 non-null     float64\n",
      " 46  25 Mbps     457 non-null    float64\n",
      " 47  25,1 Mbps   1 non-null      float64\n",
      " 48  25,5 Mbps   1 non-null      float64\n",
      " 49  26 Mbps     1 non-null      float64\n",
      " 50  27 Mbps     1 non-null      float64\n",
      " 51  30 Mbps     724 non-null    float64\n",
      " 52  31 Mbps     4 non-null      float64\n",
      " 53  32 Mbps     2 non-null      float64\n",
      " 54  34 Mbps     1 non-null      float64\n",
      " 55  35 Mbps     13 non-null     float64\n",
      " 56  36 Mbps     3 non-null      float64\n",
      " 57  38 Mbps     1 non-null      float64\n",
      " 58  39 Mbps     1 non-null      float64\n",
      " 59  40 Mbps     98 non-null     float64\n",
      " 60  41 Mbps     1 non-null      float64\n",
      " 61  45 Mbps     3 non-null      float64\n",
      " 62  46 Mbps     1 non-null      float64\n",
      " 63  48 Mbps     4 non-null      float64\n",
      " 64  49 Mbps     1 non-null      float64\n",
      " 65  50 Mbps     692 non-null    float64\n",
      " 66  50,1 Mbps   1 non-null      float64\n",
      " 67  50,25 Mbps  1 non-null      float64\n",
      " 68  51 Mbps     2 non-null      float64\n",
      " 69  55 Mbps     3 non-null      float64\n",
      " 70  58 Mbps     1 non-null      float64\n",
      " 71  59 Mbps     1 non-null      float64\n",
      " 72  60 Mbps     261 non-null    float64\n",
      " 73  61 Mbps     3 non-null      float64\n",
      " 74  62 Mbps     1 non-null      float64\n",
      " 75  64 Mbps     1 non-null      float64\n",
      " 76  65 Mbps     2 non-null      float64\n",
      " 77  66 Mbps     1 non-null      float64\n",
      " 78  70 Mbps     17 non-null     float64\n",
      " 79  75 Mbps     231 non-null    float64\n",
      " 80  78 Mbps     1 non-null      float64\n",
      " 81  80 Mbps     31 non-null     float64\n",
      " 82  83 Mbps     1 non-null      float64\n",
      "dtypes: float64(79), object(4)\n",
      "memory usage: 2.0+ MB\n"
     ]
    }
   ],
   "source": [
    "df_14.info()"
   ]
  },
  {
   "cell_type": "code",
   "execution_count": 540,
   "metadata": {},
   "outputs": [],
   "source": [
    "import unicodedata\n",
    "\n",
    "for column in df_14.columns:\n",
    "    if df_14[column].dtype == 'object':\n",
    "        df_14[column] = df_14[column].str.lower().apply(lambda x: unicodedata.normalize('NFKD', x).encode('ASCII', 'ignore').decode('utf-8'))"
   ]
  },
  {
   "cell_type": "code",
   "execution_count": 551,
   "metadata": {},
   "outputs": [
    {
     "data": {
      "text/html": [
       "<div>\n",
       "<style scoped>\n",
       "    .dataframe tbody tr th:only-of-type {\n",
       "        vertical-align: middle;\n",
       "    }\n",
       "\n",
       "    .dataframe tbody tr th {\n",
       "        vertical-align: top;\n",
       "    }\n",
       "\n",
       "    .dataframe thead th {\n",
       "        text-align: right;\n",
       "    }\n",
       "</style>\n",
       "<table border=\"1\" class=\"dataframe\">\n",
       "  <thead>\n",
       "    <tr style=\"text-align: right;\">\n",
       "      <th></th>\n",
       "      <th>Provincia</th>\n",
       "      <th>Partido</th>\n",
       "      <th>Localidad</th>\n",
       "      <th>Link Indec</th>\n",
       "      <th>Otros</th>\n",
       "      <th>0,256 Mbps</th>\n",
       "      <th>0,375 Mbps</th>\n",
       "      <th>0,5 Mbps</th>\n",
       "      <th>0,512 Mbps</th>\n",
       "      <th>0,625 Mbps</th>\n",
       "      <th>...</th>\n",
       "      <th>78 Mbps</th>\n",
       "      <th>80 Mbps</th>\n",
       "      <th>83 Mbps</th>\n",
       "      <th>hasta_512_kbps</th>\n",
       "      <th>entre_512_kbps_y_1_mbps</th>\n",
       "      <th>entre_1_mbps_y_6_mbps</th>\n",
       "      <th>entre_6_mbps_y_10_mbps</th>\n",
       "      <th>entre_10_mbps_y_20_mbps</th>\n",
       "      <th>entre_20_mbps_y_30_mbps</th>\n",
       "      <th>mas_de_30_mbps</th>\n",
       "    </tr>\n",
       "  </thead>\n",
       "  <tbody>\n",
       "    <tr>\n",
       "      <th>0</th>\n",
       "      <td>buenos aires</td>\n",
       "      <td>25 de mayo</td>\n",
       "      <td>25 de mayo</td>\n",
       "      <td>6854100</td>\n",
       "      <td>0.0</td>\n",
       "      <td>0.0</td>\n",
       "      <td>0.0</td>\n",
       "      <td>2.0</td>\n",
       "      <td>0.0</td>\n",
       "      <td>0.0</td>\n",
       "      <td>...</td>\n",
       "      <td>0.0</td>\n",
       "      <td>12.0</td>\n",
       "      <td>0.0</td>\n",
       "      <td>2.0</td>\n",
       "      <td>19.0</td>\n",
       "      <td>230.0</td>\n",
       "      <td>493.0</td>\n",
       "      <td>595.965</td>\n",
       "      <td>857.0</td>\n",
       "      <td>146.0</td>\n",
       "    </tr>\n",
       "    <tr>\n",
       "      <th>1</th>\n",
       "      <td>buenos aires</td>\n",
       "      <td>25 de mayo</td>\n",
       "      <td>agustin mosconi</td>\n",
       "      <td>6854010</td>\n",
       "      <td>0.0</td>\n",
       "      <td>0.0</td>\n",
       "      <td>0.0</td>\n",
       "      <td>0.0</td>\n",
       "      <td>0.0</td>\n",
       "      <td>0.0</td>\n",
       "      <td>...</td>\n",
       "      <td>0.0</td>\n",
       "      <td>0.0</td>\n",
       "      <td>0.0</td>\n",
       "      <td>0.0</td>\n",
       "      <td>0.0</td>\n",
       "      <td>0.0</td>\n",
       "      <td>46.0</td>\n",
       "      <td>13.000</td>\n",
       "      <td>0.0</td>\n",
       "      <td>0.0</td>\n",
       "    </tr>\n",
       "    <tr>\n",
       "      <th>2</th>\n",
       "      <td>buenos aires</td>\n",
       "      <td>25 de mayo</td>\n",
       "      <td>del valle</td>\n",
       "      <td>6854020</td>\n",
       "      <td>0.0</td>\n",
       "      <td>0.0</td>\n",
       "      <td>0.0</td>\n",
       "      <td>1.0</td>\n",
       "      <td>0.0</td>\n",
       "      <td>0.0</td>\n",
       "      <td>...</td>\n",
       "      <td>0.0</td>\n",
       "      <td>0.0</td>\n",
       "      <td>0.0</td>\n",
       "      <td>1.0</td>\n",
       "      <td>0.0</td>\n",
       "      <td>181.0</td>\n",
       "      <td>0.0</td>\n",
       "      <td>10.000</td>\n",
       "      <td>0.0</td>\n",
       "      <td>0.0</td>\n",
       "    </tr>\n",
       "    <tr>\n",
       "      <th>3</th>\n",
       "      <td>buenos aires</td>\n",
       "      <td>25 de mayo</td>\n",
       "      <td>ernestina</td>\n",
       "      <td>6854030</td>\n",
       "      <td>0.0</td>\n",
       "      <td>0.0</td>\n",
       "      <td>0.0</td>\n",
       "      <td>0.0</td>\n",
       "      <td>0.0</td>\n",
       "      <td>0.0</td>\n",
       "      <td>...</td>\n",
       "      <td>0.0</td>\n",
       "      <td>0.0</td>\n",
       "      <td>0.0</td>\n",
       "      <td>0.0</td>\n",
       "      <td>0.0</td>\n",
       "      <td>66.0</td>\n",
       "      <td>0.0</td>\n",
       "      <td>0.000</td>\n",
       "      <td>0.0</td>\n",
       "      <td>0.0</td>\n",
       "    </tr>\n",
       "    <tr>\n",
       "      <th>4</th>\n",
       "      <td>buenos aires</td>\n",
       "      <td>25 de mayo</td>\n",
       "      <td>gobernador ugarte</td>\n",
       "      <td>6854040</td>\n",
       "      <td>0.0</td>\n",
       "      <td>0.0</td>\n",
       "      <td>0.0</td>\n",
       "      <td>0.0</td>\n",
       "      <td>0.0</td>\n",
       "      <td>0.0</td>\n",
       "      <td>...</td>\n",
       "      <td>0.0</td>\n",
       "      <td>0.0</td>\n",
       "      <td>0.0</td>\n",
       "      <td>0.0</td>\n",
       "      <td>0.0</td>\n",
       "      <td>172.0</td>\n",
       "      <td>7.0</td>\n",
       "      <td>1.000</td>\n",
       "      <td>0.0</td>\n",
       "      <td>1.0</td>\n",
       "    </tr>\n",
       "  </tbody>\n",
       "</table>\n",
       "<p>5 rows × 90 columns</p>\n",
       "</div>"
      ],
      "text/plain": [
       "      Provincia     Partido          Localidad Link Indec  Otros  0,256 Mbps  \\\n",
       "0  buenos aires  25 de mayo         25 de mayo    6854100    0.0         0.0   \n",
       "1  buenos aires  25 de mayo    agustin mosconi    6854010    0.0         0.0   \n",
       "2  buenos aires  25 de mayo          del valle    6854020    0.0         0.0   \n",
       "3  buenos aires  25 de mayo          ernestina    6854030    0.0         0.0   \n",
       "4  buenos aires  25 de mayo  gobernador ugarte    6854040    0.0         0.0   \n",
       "\n",
       "   0,375 Mbps  0,5 Mbps  0,512 Mbps  0,625 Mbps  ...  78 Mbps  80 Mbps  \\\n",
       "0         0.0       2.0         0.0         0.0  ...      0.0     12.0   \n",
       "1         0.0       0.0         0.0         0.0  ...      0.0      0.0   \n",
       "2         0.0       1.0         0.0         0.0  ...      0.0      0.0   \n",
       "3         0.0       0.0         0.0         0.0  ...      0.0      0.0   \n",
       "4         0.0       0.0         0.0         0.0  ...      0.0      0.0   \n",
       "\n",
       "   83 Mbps  hasta_512_kbps  entre_512_kbps_y_1_mbps  entre_1_mbps_y_6_mbps  \\\n",
       "0      0.0             2.0                     19.0                  230.0   \n",
       "1      0.0             0.0                      0.0                    0.0   \n",
       "2      0.0             1.0                      0.0                  181.0   \n",
       "3      0.0             0.0                      0.0                   66.0   \n",
       "4      0.0             0.0                      0.0                  172.0   \n",
       "\n",
       "   entre_6_mbps_y_10_mbps  entre_10_mbps_y_20_mbps  entre_20_mbps_y_30_mbps  \\\n",
       "0                   493.0                  595.965                    857.0   \n",
       "1                    46.0                   13.000                      0.0   \n",
       "2                     0.0                   10.000                      0.0   \n",
       "3                     0.0                    0.000                      0.0   \n",
       "4                     7.0                    1.000                      0.0   \n",
       "\n",
       "   mas_de_30_mbps  \n",
       "0           146.0  \n",
       "1             0.0  \n",
       "2             0.0  \n",
       "3             0.0  \n",
       "4             1.0  \n",
       "\n",
       "[5 rows x 90 columns]"
      ]
     },
     "execution_count": 551,
     "metadata": {},
     "output_type": "execute_result"
    }
   ],
   "source": [
    "df_14.head()\n"
   ]
  },
  {
   "cell_type": "code",
   "execution_count": 547,
   "metadata": {},
   "outputs": [
    {
     "data": {
      "text/plain": [
       "numpy.float64"
      ]
     },
     "execution_count": 547,
     "metadata": {},
     "output_type": "execute_result"
    }
   ],
   "source": [
    "type(df_14['hasta_512_kbps'][0])"
   ]
  },
  {
   "cell_type": "markdown",
   "metadata": {},
   "source": [
    "Guardo las columnas que quiero conservar en una lista para asignar a mi nuevo DF."
   ]
  },
  {
   "cell_type": "code",
   "execution_count": 552,
   "metadata": {},
   "outputs": [],
   "source": [
    "columnas_14 = ['hasta_512_kbps', 'entre_512_kbps_y_1_mbps', 'entre_1_mbps_y_6_mbps', 'entre_6_mbps_y_10_mbps', 'entre_10_mbps_y_20_mbps', 'entre_20_mbps_y_30_mbps', 'mas_de_30_mbps']\n",
    "df_14 = df_14[columnas_14]"
   ]
  },
  {
   "cell_type": "code",
   "execution_count": 553,
   "metadata": {},
   "outputs": [
    {
     "data": {
      "text/html": [
       "<div>\n",
       "<style scoped>\n",
       "    .dataframe tbody tr th:only-of-type {\n",
       "        vertical-align: middle;\n",
       "    }\n",
       "\n",
       "    .dataframe tbody tr th {\n",
       "        vertical-align: top;\n",
       "    }\n",
       "\n",
       "    .dataframe thead th {\n",
       "        text-align: right;\n",
       "    }\n",
       "</style>\n",
       "<table border=\"1\" class=\"dataframe\">\n",
       "  <thead>\n",
       "    <tr style=\"text-align: right;\">\n",
       "      <th></th>\n",
       "      <th>hasta_512_kbps</th>\n",
       "      <th>entre_512_kbps_y_1_mbps</th>\n",
       "      <th>entre_1_mbps_y_6_mbps</th>\n",
       "      <th>entre_6_mbps_y_10_mbps</th>\n",
       "      <th>entre_10_mbps_y_20_mbps</th>\n",
       "      <th>entre_20_mbps_y_30_mbps</th>\n",
       "      <th>mas_de_30_mbps</th>\n",
       "    </tr>\n",
       "  </thead>\n",
       "  <tbody>\n",
       "    <tr>\n",
       "      <th>0</th>\n",
       "      <td>2.0</td>\n",
       "      <td>19.0</td>\n",
       "      <td>230.0</td>\n",
       "      <td>493.0</td>\n",
       "      <td>595.965</td>\n",
       "      <td>857.0</td>\n",
       "      <td>146.0</td>\n",
       "    </tr>\n",
       "    <tr>\n",
       "      <th>1</th>\n",
       "      <td>0.0</td>\n",
       "      <td>0.0</td>\n",
       "      <td>0.0</td>\n",
       "      <td>46.0</td>\n",
       "      <td>13.000</td>\n",
       "      <td>0.0</td>\n",
       "      <td>0.0</td>\n",
       "    </tr>\n",
       "    <tr>\n",
       "      <th>2</th>\n",
       "      <td>1.0</td>\n",
       "      <td>0.0</td>\n",
       "      <td>181.0</td>\n",
       "      <td>0.0</td>\n",
       "      <td>10.000</td>\n",
       "      <td>0.0</td>\n",
       "      <td>0.0</td>\n",
       "    </tr>\n",
       "    <tr>\n",
       "      <th>3</th>\n",
       "      <td>0.0</td>\n",
       "      <td>0.0</td>\n",
       "      <td>66.0</td>\n",
       "      <td>0.0</td>\n",
       "      <td>0.000</td>\n",
       "      <td>0.0</td>\n",
       "      <td>0.0</td>\n",
       "    </tr>\n",
       "    <tr>\n",
       "      <th>4</th>\n",
       "      <td>0.0</td>\n",
       "      <td>0.0</td>\n",
       "      <td>172.0</td>\n",
       "      <td>7.0</td>\n",
       "      <td>1.000</td>\n",
       "      <td>0.0</td>\n",
       "      <td>1.0</td>\n",
       "    </tr>\n",
       "  </tbody>\n",
       "</table>\n",
       "</div>"
      ],
      "text/plain": [
       "   hasta_512_kbps  entre_512_kbps_y_1_mbps  entre_1_mbps_y_6_mbps  \\\n",
       "0             2.0                     19.0                  230.0   \n",
       "1             0.0                      0.0                    0.0   \n",
       "2             1.0                      0.0                  181.0   \n",
       "3             0.0                      0.0                   66.0   \n",
       "4             0.0                      0.0                  172.0   \n",
       "\n",
       "   entre_6_mbps_y_10_mbps  entre_10_mbps_y_20_mbps  entre_20_mbps_y_30_mbps  \\\n",
       "0                   493.0                  595.965                    857.0   \n",
       "1                    46.0                   13.000                      0.0   \n",
       "2                     0.0                   10.000                      0.0   \n",
       "3                     0.0                    0.000                      0.0   \n",
       "4                     7.0                    1.000                      0.0   \n",
       "\n",
       "   mas_de_30_mbps  \n",
       "0           146.0  \n",
       "1             0.0  \n",
       "2             0.0  \n",
       "3             0.0  \n",
       "4             1.0  "
      ]
     },
     "execution_count": 553,
     "metadata": {},
     "output_type": "execute_result"
    }
   ],
   "source": [
    "df_14.head()"
   ]
  },
  {
   "cell_type": "markdown",
   "metadata": {},
   "source": [
    "Para poder sumar las columnas y así categorizarlas, tengo que pasar los valores Nan a 0."
   ]
  },
  {
   "cell_type": "code",
   "execution_count": 548,
   "metadata": {},
   "outputs": [],
   "source": [
    "for column in df_14.columns:\n",
    "    df_14[column].fillna(0, inplace=True)"
   ]
  },
  {
   "cell_type": "markdown",
   "metadata": {},
   "source": [
    "Creo las columnas nuevas categorizando las columnas anteriores."
   ]
  },
  {
   "cell_type": "code",
   "execution_count": 550,
   "metadata": {},
   "outputs": [],
   "source": [
    "df_14['hasta_512_kbps'] = df_14['0,256 Mbps'] + df_14['0,375 Mbps'] + df_14['0,5 Mbps']\n",
    "df_14['entre_512_kbps_y_1_mbps'] = df_14['0,512 Mbps'] + df_14['0,625 Mbps'] + df_14['0,75 Mbps']\n",
    "df_14['entre_1_mbps_y_6_mbps'] = df_14['1 Mbps'] + df_14['1,25 Mbps'] + df_14['1,5 Mbps'] + df_14['2 Mbps'] + df_14['2,2 Mbps'] + df_14['2,5 Mbps'] + df_14['3 Mbps'] + df_14['3,3 Mbps'] + df_14['3,5 Mbps']  + df_14['4 Mbps'] + df_14['4,5 Mbps']  + df_14['5 Mbps']\n",
    "df_14['entre_6_mbps_y_10_mbps'] =  df_14['6 Mbps'] + df_14['6,4 Mbps'] + df_14['7 Mbps'] + df_14['7,5 Mbps'] + df_14['8 Mbps'] + df_14['9 Mbps']\n",
    "df_14['entre_10_mbps_y_20_mbps'] =  df_14['10 Mbps'] + df_14['10,2 Mbps'] + df_14['11 Mbps'] + df_14['12 Mbps'] + df_14['12,3 Mbps'] + df_14['13 Mbps'] + df_14['14 Mbps'] + df_14['15 Mbps'] + df_14['16 Mbps'] + df_14['17 Mbps'] + df_14['18 Mbps']\n",
    "df_14['entre_20_mbps_y_30_mbps'] = df_14['20 Mbps'] + df_14['20,5 Mbps'] + df_14['21 Mbps'] + df_14['22 Mbps'] + df_14['23 Mbps'] + df_14['24 Mbps'] + df_14['25 Mbps'] + df_14['25,1 Mbps'] + df_14['25,5 Mbps'] + df_14['26 Mbps'] + df_14['27 Mbps'] + df_14['30 Mbps']\n",
    "df_14['mas_de_30_mbps'] = df_14['30 Mbps'] + df_14['31 Mbps'] + df_14['32 Mbps'] + df_14['34 Mbps'] +df_14['35 Mbps'] + df_14['36 Mbps'] + df_14['38 Mbps'] + df_14['39 Mbps'] + df_14['40 Mbps'] + df_14['41 Mbps'] + df_14['45 Mbps'] + df_14['46 Mbps'] + df_14['48 Mbps'] + df_14['49 Mbps'] + df_14['50 Mbps'] + df_14['50,1 Mbps'] + df_14['50,25 Mbps'] + df_14['51 Mbps'] + df_14['55 Mbps'] + df_14['58 Mbps'] + df_14['59 Mbps'] + df_14['60 Mbps'] + df_14['61 Mbps'] + df_14['62 Mbps'] + df_14['64 Mbps'] + df_14['65 Mbps'] + df_14['66 Mbps'] + df_14['70 Mbps'] + df_14['75 Mbps'] + df_14['78 Mbps'] + df_14['80 Mbps'] + df_14['83 Mbps']"
   ]
  },
  {
   "cell_type": "code",
   "execution_count": 554,
   "metadata": {},
   "outputs": [
    {
     "data": {
      "text/plain": [
       "(3095, 7)"
      ]
     },
     "execution_count": 554,
     "metadata": {},
     "output_type": "execute_result"
    }
   ],
   "source": [
    "df_14.shape"
   ]
  },
  {
   "cell_type": "code",
   "execution_count": 555,
   "metadata": {},
   "outputs": [
    {
     "data": {
      "text/plain": [
       "Index(['hasta_512_kbps', 'entre_512_kbps_y_1_mbps', 'entre_1_mbps_y_6_mbps',\n",
       "       'entre_6_mbps_y_10_mbps', 'entre_10_mbps_y_20_mbps',\n",
       "       'entre_20_mbps_y_30_mbps', 'mas_de_30_mbps'],\n",
       "      dtype='object')"
      ]
     },
     "execution_count": 555,
     "metadata": {},
     "output_type": "execute_result"
    }
   ],
   "source": [
    "df_14.columns"
   ]
  },
  {
   "cell_type": "code",
   "execution_count": 556,
   "metadata": {},
   "outputs": [],
   "source": [
    "df_14.to_csv('df_14.csv', index=False)"
   ]
  },
  {
   "cell_type": "markdown",
   "metadata": {},
   "source": [
    "# Df_15."
   ]
  },
  {
   "cell_type": "code",
   "execution_count": null,
   "metadata": {},
   "outputs": [],
   "source": [
    "import pandas as pd"
   ]
  },
  {
   "cell_type": "code",
   "execution_count": 473,
   "metadata": {},
   "outputs": [],
   "source": [
    "ruta15 = 'Data/data_15.csv'"
   ]
  },
  {
   "cell_type": "code",
   "execution_count": 474,
   "metadata": {},
   "outputs": [],
   "source": [
    "df_15 = pd.read_csv(ruta15)"
   ]
  },
  {
   "cell_type": "code",
   "execution_count": 488,
   "metadata": {},
   "outputs": [
    {
     "data": {
      "text/html": [
       "<div>\n",
       "<style scoped>\n",
       "    .dataframe tbody tr th:only-of-type {\n",
       "        vertical-align: middle;\n",
       "    }\n",
       "\n",
       "    .dataframe tbody tr th {\n",
       "        vertical-align: top;\n",
       "    }\n",
       "\n",
       "    .dataframe thead th {\n",
       "        text-align: right;\n",
       "    }\n",
       "</style>\n",
       "<table border=\"1\" class=\"dataframe\">\n",
       "  <thead>\n",
       "    <tr style=\"text-align: right;\">\n",
       "      <th></th>\n",
       "      <th>Provincia</th>\n",
       "      <th>Partido</th>\n",
       "      <th>Localidad</th>\n",
       "      <th>Link Indec</th>\n",
       "      <th>ADSL</th>\n",
       "      <th>CABLEMODEM</th>\n",
       "      <th>DIAL UP</th>\n",
       "      <th>FIBRA OPTICA</th>\n",
       "      <th>OTROS</th>\n",
       "      <th>SATELITAL</th>\n",
       "      <th>WIMAX</th>\n",
       "      <th>WIRELESS</th>\n",
       "      <th>Total general</th>\n",
       "    </tr>\n",
       "  </thead>\n",
       "  <tbody>\n",
       "    <tr>\n",
       "      <th>0</th>\n",
       "      <td>BUENOS AIRES</td>\n",
       "      <td>25 de Mayo</td>\n",
       "      <td>25 de Mayo</td>\n",
       "      <td>6854100</td>\n",
       "      <td>874</td>\n",
       "      <td>4,54</td>\n",
       "      <td>0</td>\n",
       "      <td>3</td>\n",
       "      <td>0</td>\n",
       "      <td>852</td>\n",
       "      <td>0</td>\n",
       "      <td>706</td>\n",
       "      <td>6,98</td>\n",
       "    </tr>\n",
       "    <tr>\n",
       "      <th>1</th>\n",
       "      <td>BUENOS AIRES</td>\n",
       "      <td>25 de Mayo</td>\n",
       "      <td>Del Valle</td>\n",
       "      <td>6854020</td>\n",
       "      <td>181</td>\n",
       "      <td>0</td>\n",
       "      <td>0</td>\n",
       "      <td>0</td>\n",
       "      <td>10</td>\n",
       "      <td>1</td>\n",
       "      <td>0</td>\n",
       "      <td>0</td>\n",
       "      <td>192</td>\n",
       "    </tr>\n",
       "    <tr>\n",
       "      <th>2</th>\n",
       "      <td>BUENOS AIRES</td>\n",
       "      <td>25 de Mayo</td>\n",
       "      <td>Gobernador Ugarte</td>\n",
       "      <td>6854040</td>\n",
       "      <td>0</td>\n",
       "      <td>0</td>\n",
       "      <td>0</td>\n",
       "      <td>0</td>\n",
       "      <td>0</td>\n",
       "      <td>0</td>\n",
       "      <td>0</td>\n",
       "      <td>181</td>\n",
       "      <td>181</td>\n",
       "    </tr>\n",
       "    <tr>\n",
       "      <th>3</th>\n",
       "      <td>BUENOS AIRES</td>\n",
       "      <td>25 de Mayo</td>\n",
       "      <td>Norberto de la Riestra</td>\n",
       "      <td>6854060</td>\n",
       "      <td>0</td>\n",
       "      <td>782</td>\n",
       "      <td>0</td>\n",
       "      <td>6</td>\n",
       "      <td>167</td>\n",
       "      <td>0</td>\n",
       "      <td>0</td>\n",
       "      <td>327</td>\n",
       "      <td>1,28</td>\n",
       "    </tr>\n",
       "    <tr>\n",
       "      <th>4</th>\n",
       "      <td>BUENOS AIRES</td>\n",
       "      <td>25 de Mayo</td>\n",
       "      <td>Lucas Monteverde</td>\n",
       "      <td>6854050</td>\n",
       "      <td>0</td>\n",
       "      <td>0</td>\n",
       "      <td>0</td>\n",
       "      <td>0</td>\n",
       "      <td>0</td>\n",
       "      <td>0</td>\n",
       "      <td>0</td>\n",
       "      <td>6</td>\n",
       "      <td>6</td>\n",
       "    </tr>\n",
       "  </tbody>\n",
       "</table>\n",
       "</div>"
      ],
      "text/plain": [
       "      Provincia     Partido               Localidad Link Indec ADSL  \\\n",
       "0  BUENOS AIRES  25 de Mayo              25 de Mayo    6854100  874   \n",
       "1  BUENOS AIRES  25 de Mayo               Del Valle    6854020  181   \n",
       "2  BUENOS AIRES  25 de Mayo       Gobernador Ugarte    6854040    0   \n",
       "3  BUENOS AIRES  25 de Mayo  Norberto de la Riestra    6854060    0   \n",
       "4  BUENOS AIRES  25 de Mayo        Lucas Monteverde    6854050    0   \n",
       "\n",
       "  CABLEMODEM DIAL UP FIBRA OPTICA OTROS SATELITAL WIMAX WIRELESS Total general  \n",
       "0       4,54       0            3     0       852     0      706          6,98  \n",
       "1          0       0            0    10         1     0        0           192  \n",
       "2          0       0            0     0         0     0      181           181  \n",
       "3        782       0            6   167         0     0      327          1,28  \n",
       "4          0       0            0     0         0     0        6             6  "
      ]
     },
     "execution_count": 488,
     "metadata": {},
     "output_type": "execute_result"
    }
   ],
   "source": [
    "df_15.head()"
   ]
  },
  {
   "cell_type": "code",
   "execution_count": 477,
   "metadata": {},
   "outputs": [
    {
     "data": {
      "text/plain": [
       "Provincia         object\n",
       "Partido           object\n",
       "Localidad         object\n",
       "Link Indec        object\n",
       "ADSL              object\n",
       "CABLEMODEM        object\n",
       "DIAL UP           object\n",
       "FIBRA OPTICA      object\n",
       "OTROS             object\n",
       "SATELITAL         object\n",
       "WIMAX             object\n",
       "WIRELESS          object\n",
       "Total general     object\n",
       "Unnamed: 13      float64\n",
       "dtype: object"
      ]
     },
     "execution_count": 477,
     "metadata": {},
     "output_type": "execute_result"
    }
   ],
   "source": [
    "df_15.dtypes"
   ]
  },
  {
   "cell_type": "code",
   "execution_count": 479,
   "metadata": {},
   "outputs": [
    {
     "data": {
      "text/plain": [
       "(3137, 14)"
      ]
     },
     "execution_count": 479,
     "metadata": {},
     "output_type": "execute_result"
    }
   ],
   "source": [
    "df_15.shape"
   ]
  },
  {
   "cell_type": "code",
   "execution_count": 480,
   "metadata": {},
   "outputs": [
    {
     "name": "stdout",
     "output_type": "stream",
     "text": [
      "<class 'pandas.core.frame.DataFrame'>\n",
      "RangeIndex: 3137 entries, 0 to 3136\n",
      "Data columns (total 14 columns):\n",
      " #   Column         Non-Null Count  Dtype  \n",
      "---  ------         --------------  -----  \n",
      " 0   Provincia      3137 non-null   object \n",
      " 1   Partido        3137 non-null   object \n",
      " 2   Localidad      3137 non-null   object \n",
      " 3   Link Indec     3137 non-null   object \n",
      " 4   ADSL           3137 non-null   object \n",
      " 5   CABLEMODEM     3137 non-null   object \n",
      " 6   DIAL UP        3137 non-null   object \n",
      " 7   FIBRA OPTICA   3137 non-null   object \n",
      " 8   OTROS          3137 non-null   object \n",
      " 9   SATELITAL      3137 non-null   object \n",
      " 10  WIMAX          3137 non-null   object \n",
      " 11  WIRELESS       3137 non-null   object \n",
      " 12  Total general  3137 non-null   object \n",
      " 13  Unnamed: 13    0 non-null      float64\n",
      "dtypes: float64(1), object(13)\n",
      "memory usage: 343.2+ KB\n"
     ]
    }
   ],
   "source": [
    "df_15.info()"
   ]
  },
  {
   "cell_type": "markdown",
   "metadata": {},
   "source": [
    "La columna Unnamed: 13 tiene puros valores nulos, así que la voy a borrar.\n"
   ]
  },
  {
   "cell_type": "code",
   "execution_count": 481,
   "metadata": {},
   "outputs": [],
   "source": [
    "df_15.drop(columns='Unnamed: 13', inplace=True)"
   ]
  },
  {
   "cell_type": "markdown",
   "metadata": {},
   "source": [
    "Ahora quiero reemplazar los valores que sean '- 0' con '0' y las ',' por '.'."
   ]
  },
  {
   "cell_type": "code",
   "execution_count": 489,
   "metadata": {},
   "outputs": [],
   "source": [
    "df_15 = df_15.replace('- 0', '0')"
   ]
  },
  {
   "cell_type": "code",
   "execution_count": 491,
   "metadata": {},
   "outputs": [],
   "source": [
    "df_15 = df_15.applymap(lambda x: x.replace(',', '.') if isinstance(x, str) else x)"
   ]
  },
  {
   "cell_type": "code",
   "execution_count": 496,
   "metadata": {},
   "outputs": [
    {
     "data": {
      "text/html": [
       "<div>\n",
       "<style scoped>\n",
       "    .dataframe tbody tr th:only-of-type {\n",
       "        vertical-align: middle;\n",
       "    }\n",
       "\n",
       "    .dataframe tbody tr th {\n",
       "        vertical-align: top;\n",
       "    }\n",
       "\n",
       "    .dataframe thead th {\n",
       "        text-align: right;\n",
       "    }\n",
       "</style>\n",
       "<table border=\"1\" class=\"dataframe\">\n",
       "  <thead>\n",
       "    <tr style=\"text-align: right;\">\n",
       "      <th></th>\n",
       "      <th>provincia</th>\n",
       "      <th>partido</th>\n",
       "      <th>localidad</th>\n",
       "      <th>link_indec</th>\n",
       "      <th>adsl</th>\n",
       "      <th>cablemodem</th>\n",
       "      <th>dial_up</th>\n",
       "      <th>fibra_optica</th>\n",
       "      <th>otros</th>\n",
       "      <th>satelital</th>\n",
       "      <th>wimax</th>\n",
       "      <th>wireless</th>\n",
       "      <th>total_general</th>\n",
       "    </tr>\n",
       "  </thead>\n",
       "  <tbody>\n",
       "    <tr>\n",
       "      <th>0</th>\n",
       "      <td>buenos aires</td>\n",
       "      <td>25 de mayo</td>\n",
       "      <td>25 de mayo</td>\n",
       "      <td>6854100</td>\n",
       "      <td>874</td>\n",
       "      <td>4.54</td>\n",
       "      <td>0</td>\n",
       "      <td>3</td>\n",
       "      <td>0</td>\n",
       "      <td>852</td>\n",
       "      <td>0</td>\n",
       "      <td>706</td>\n",
       "      <td>6.98</td>\n",
       "    </tr>\n",
       "    <tr>\n",
       "      <th>1</th>\n",
       "      <td>buenos aires</td>\n",
       "      <td>25 de mayo</td>\n",
       "      <td>del valle</td>\n",
       "      <td>6854020</td>\n",
       "      <td>181</td>\n",
       "      <td>0</td>\n",
       "      <td>0</td>\n",
       "      <td>0</td>\n",
       "      <td>10</td>\n",
       "      <td>1</td>\n",
       "      <td>0</td>\n",
       "      <td>0</td>\n",
       "      <td>192</td>\n",
       "    </tr>\n",
       "    <tr>\n",
       "      <th>2</th>\n",
       "      <td>buenos aires</td>\n",
       "      <td>25 de mayo</td>\n",
       "      <td>gobernador ugarte</td>\n",
       "      <td>6854040</td>\n",
       "      <td>0</td>\n",
       "      <td>0</td>\n",
       "      <td>0</td>\n",
       "      <td>0</td>\n",
       "      <td>0</td>\n",
       "      <td>0</td>\n",
       "      <td>0</td>\n",
       "      <td>181</td>\n",
       "      <td>181</td>\n",
       "    </tr>\n",
       "    <tr>\n",
       "      <th>3</th>\n",
       "      <td>buenos aires</td>\n",
       "      <td>25 de mayo</td>\n",
       "      <td>norberto de la riestra</td>\n",
       "      <td>6854060</td>\n",
       "      <td>0</td>\n",
       "      <td>782</td>\n",
       "      <td>0</td>\n",
       "      <td>6</td>\n",
       "      <td>167</td>\n",
       "      <td>0</td>\n",
       "      <td>0</td>\n",
       "      <td>327</td>\n",
       "      <td>1.28</td>\n",
       "    </tr>\n",
       "    <tr>\n",
       "      <th>4</th>\n",
       "      <td>buenos aires</td>\n",
       "      <td>25 de mayo</td>\n",
       "      <td>lucas monteverde</td>\n",
       "      <td>6854050</td>\n",
       "      <td>0</td>\n",
       "      <td>0</td>\n",
       "      <td>0</td>\n",
       "      <td>0</td>\n",
       "      <td>0</td>\n",
       "      <td>0</td>\n",
       "      <td>0</td>\n",
       "      <td>6</td>\n",
       "      <td>6</td>\n",
       "    </tr>\n",
       "  </tbody>\n",
       "</table>\n",
       "</div>"
      ],
      "text/plain": [
       "      provincia     partido               localidad link_indec adsl  \\\n",
       "0  buenos aires  25 de mayo              25 de mayo    6854100  874   \n",
       "1  buenos aires  25 de mayo               del valle    6854020  181   \n",
       "2  buenos aires  25 de mayo       gobernador ugarte    6854040    0   \n",
       "3  buenos aires  25 de mayo  norberto de la riestra    6854060    0   \n",
       "4  buenos aires  25 de mayo        lucas monteverde    6854050    0   \n",
       "\n",
       "  cablemodem dial_up fibra_optica otros satelital wimax wireless total_general  \n",
       "0       4.54       0            3     0       852     0      706          6.98  \n",
       "1          0       0            0    10         1     0        0           192  \n",
       "2          0       0            0     0         0     0      181           181  \n",
       "3        782       0            6   167         0     0      327          1.28  \n",
       "4          0       0            0     0         0     0        6             6  "
      ]
     },
     "execution_count": 496,
     "metadata": {},
     "output_type": "execute_result"
    }
   ],
   "source": [
    "df_15.head()"
   ]
  },
  {
   "cell_type": "markdown",
   "metadata": {},
   "source": [
    "Cambiando nombres de las columnas"
   ]
  },
  {
   "cell_type": "code",
   "execution_count": 493,
   "metadata": {},
   "outputs": [],
   "source": [
    "nuevas_columnas = {\n",
    "    'Provincia': 'provincia',\n",
    "    'Partido': 'partido',\n",
    "    'Localidad': 'localidad',\n",
    "    'Link Indec': 'link_indec',\n",
    "    'ADSL': 'adsl',\n",
    "    'CABLEMODEM': 'cablemodem',\n",
    "    'DIAL UP': 'dial_up',\n",
    "    'FIBRA OPTICA': 'fibra_optica',\n",
    "    'OTROS': 'otros',\n",
    "    'SATELITAL': 'satelital',\n",
    "    'WIMAX': 'wimax',\n",
    "    'WIRELESS': 'wireless',\n",
    "    'Total general': 'total_general'\n",
    "}\n",
    "df_15.rename(columns=nuevas_columnas, inplace=True)"
   ]
  },
  {
   "cell_type": "markdown",
   "metadata": {},
   "source": [
    "Normalizando el texto del df"
   ]
  },
  {
   "cell_type": "code",
   "execution_count": 495,
   "metadata": {},
   "outputs": [],
   "source": [
    "import unicodedata\n",
    "\n",
    "for column in df_15.columns:\n",
    "    if df_15[column].dtype == 'object':\n",
    "        df_15[column] = df_15[column].str.lower().apply(lambda x: unicodedata.normalize('NFKD', x).encode('ASCII', 'ignore').decode('utf-8'))"
   ]
  },
  {
   "cell_type": "code",
   "execution_count": 514,
   "metadata": {},
   "outputs": [],
   "source": [
    "df_15.to_csv('df_15.csv', index=False)"
   ]
  },
  {
   "cell_type": "markdown",
   "metadata": {},
   "source": [
    "Del df_15 me faltaría cambiar la columna de total, ya que supongo que tiene que sumar todas las demas. "
   ]
  },
  {
   "cell_type": "markdown",
   "metadata": {},
   "source": [
    "# Df_16"
   ]
  },
  {
   "cell_type": "code",
   "execution_count": null,
   "metadata": {},
   "outputs": [],
   "source": [
    "import pandas as pd"
   ]
  },
  {
   "cell_type": "code",
   "execution_count": 497,
   "metadata": {},
   "outputs": [],
   "source": [
    "ruta16 = 'Data/data_16.csv'"
   ]
  },
  {
   "cell_type": "code",
   "execution_count": 498,
   "metadata": {},
   "outputs": [],
   "source": [
    "df_16 = pd.read_csv(ruta16)"
   ]
  },
  {
   "cell_type": "code",
   "execution_count": 499,
   "metadata": {},
   "outputs": [
    {
     "data": {
      "text/html": [
       "<div>\n",
       "<style scoped>\n",
       "    .dataframe tbody tr th:only-of-type {\n",
       "        vertical-align: middle;\n",
       "    }\n",
       "\n",
       "    .dataframe tbody tr th {\n",
       "        vertical-align: top;\n",
       "    }\n",
       "\n",
       "    .dataframe thead th {\n",
       "        text-align: right;\n",
       "    }\n",
       "</style>\n",
       "<table border=\"1\" class=\"dataframe\">\n",
       "  <thead>\n",
       "    <tr style=\"text-align: right;\">\n",
       "      <th></th>\n",
       "      <th>Provincia</th>\n",
       "      <th>Partido</th>\n",
       "      <th>Localidad</th>\n",
       "      <th>ADSL</th>\n",
       "      <th>Cablemódem</th>\n",
       "      <th>Dial Up</th>\n",
       "      <th>Fibra óptica</th>\n",
       "      <th>4G</th>\n",
       "      <th>3G</th>\n",
       "      <th>Telefonía Fija</th>\n",
       "      <th>Wireless</th>\n",
       "      <th>Satelital</th>\n",
       "    </tr>\n",
       "  </thead>\n",
       "  <tbody>\n",
       "    <tr>\n",
       "      <th>0</th>\n",
       "      <td>BUENOS AIRES</td>\n",
       "      <td>9 de Julio</td>\n",
       "      <td>Alfredo Demarchi (Est. Facundo Quiroga)</td>\n",
       "      <td>SI</td>\n",
       "      <td>--</td>\n",
       "      <td>--</td>\n",
       "      <td>--</td>\n",
       "      <td>SI</td>\n",
       "      <td>SI</td>\n",
       "      <td>SI</td>\n",
       "      <td>--</td>\n",
       "      <td>--</td>\n",
       "    </tr>\n",
       "    <tr>\n",
       "      <th>1</th>\n",
       "      <td>BUENOS AIRES</td>\n",
       "      <td>9 de Julio</td>\n",
       "      <td>Carlos María Naón</td>\n",
       "      <td>--</td>\n",
       "      <td>--</td>\n",
       "      <td>--</td>\n",
       "      <td>--</td>\n",
       "      <td>SI</td>\n",
       "      <td>SI</td>\n",
       "      <td>SI</td>\n",
       "      <td>--</td>\n",
       "      <td>--</td>\n",
       "    </tr>\n",
       "    <tr>\n",
       "      <th>2</th>\n",
       "      <td>BUENOS AIRES</td>\n",
       "      <td>9 de Julio</td>\n",
       "      <td>Dudignac</td>\n",
       "      <td>--</td>\n",
       "      <td>--</td>\n",
       "      <td>SI</td>\n",
       "      <td>--</td>\n",
       "      <td>SI</td>\n",
       "      <td>SI</td>\n",
       "      <td>SI</td>\n",
       "      <td>SI</td>\n",
       "      <td>--</td>\n",
       "    </tr>\n",
       "    <tr>\n",
       "      <th>3</th>\n",
       "      <td>BUENOS AIRES</td>\n",
       "      <td>9 de Julio</td>\n",
       "      <td>La Aurora (Est. La Niña)</td>\n",
       "      <td>--</td>\n",
       "      <td>--</td>\n",
       "      <td>--</td>\n",
       "      <td>--</td>\n",
       "      <td>SI</td>\n",
       "      <td>--</td>\n",
       "      <td>--</td>\n",
       "      <td>--</td>\n",
       "      <td>--</td>\n",
       "    </tr>\n",
       "    <tr>\n",
       "      <th>4</th>\n",
       "      <td>BUENOS AIRES</td>\n",
       "      <td>9 de Julio</td>\n",
       "      <td>Manuel B. Gonnet (Est. French)</td>\n",
       "      <td>SI</td>\n",
       "      <td>--</td>\n",
       "      <td>--</td>\n",
       "      <td>SI</td>\n",
       "      <td>SI</td>\n",
       "      <td>SI</td>\n",
       "      <td>SI</td>\n",
       "      <td>--</td>\n",
       "      <td>--</td>\n",
       "    </tr>\n",
       "  </tbody>\n",
       "</table>\n",
       "</div>"
      ],
      "text/plain": [
       "      Provincia     Partido                                Localidad ADSL  \\\n",
       "0  BUENOS AIRES  9 de Julio  Alfredo Demarchi (Est. Facundo Quiroga)   SI   \n",
       "1  BUENOS AIRES  9 de Julio                        Carlos María Naón   --   \n",
       "2  BUENOS AIRES  9 de Julio                                 Dudignac   --   \n",
       "3  BUENOS AIRES  9 de Julio                 La Aurora (Est. La Niña)   --   \n",
       "4  BUENOS AIRES  9 de Julio           Manuel B. Gonnet (Est. French)   SI   \n",
       "\n",
       "  Cablemódem Dial Up Fibra óptica  4G  3G Telefonía Fija Wireless Satelital  \n",
       "0         --      --           --  SI  SI             SI       --        --  \n",
       "1         --      --           --  SI  SI             SI       --        --  \n",
       "2         --      SI           --  SI  SI             SI       SI        --  \n",
       "3         --      --           --  SI  --             --       --        --  \n",
       "4         --      --           SI  SI  SI             SI       --        --  "
      ]
     },
     "execution_count": 499,
     "metadata": {},
     "output_type": "execute_result"
    }
   ],
   "source": [
    "df_16.head()"
   ]
  },
  {
   "cell_type": "code",
   "execution_count": 501,
   "metadata": {},
   "outputs": [
    {
     "data": {
      "text/plain": [
       "Provincia         object\n",
       "Partido           object\n",
       "Localidad         object\n",
       "ADSL              object\n",
       "Cablemódem        object\n",
       "Dial Up           object\n",
       "Fibra óptica      object\n",
       "4G                object\n",
       "3G                object\n",
       "Telefonía Fija    object\n",
       "Wireless          object\n",
       "Satelital         object\n",
       "dtype: object"
      ]
     },
     "execution_count": 501,
     "metadata": {},
     "output_type": "execute_result"
    }
   ],
   "source": [
    "df_16.dtypes"
   ]
  },
  {
   "cell_type": "code",
   "execution_count": 503,
   "metadata": {},
   "outputs": [
    {
     "data": {
      "text/plain": [
       "(4311, 12)"
      ]
     },
     "execution_count": 503,
     "metadata": {},
     "output_type": "execute_result"
    }
   ],
   "source": [
    "df_16.shape"
   ]
  },
  {
   "cell_type": "code",
   "execution_count": 505,
   "metadata": {},
   "outputs": [
    {
     "name": "stdout",
     "output_type": "stream",
     "text": [
      "<class 'pandas.core.frame.DataFrame'>\n",
      "RangeIndex: 4311 entries, 0 to 4310\n",
      "Data columns (total 12 columns):\n",
      " #   Column          Non-Null Count  Dtype \n",
      "---  ------          --------------  ----- \n",
      " 0   Provincia       4311 non-null   object\n",
      " 1   Partido         4311 non-null   object\n",
      " 2   Localidad       4311 non-null   object\n",
      " 3   ADSL            4311 non-null   object\n",
      " 4   Cablemódem      4311 non-null   object\n",
      " 5   Dial Up         4311 non-null   object\n",
      " 6   Fibra óptica    4311 non-null   object\n",
      " 7   4G              4311 non-null   object\n",
      " 8   3G              4311 non-null   object\n",
      " 9   Telefonía Fija  4311 non-null   object\n",
      " 10  Wireless        4311 non-null   object\n",
      " 11  Satelital       4311 non-null   object\n",
      "dtypes: object(12)\n",
      "memory usage: 404.3+ KB\n"
     ]
    }
   ],
   "source": [
    "df_16.info()"
   ]
  },
  {
   "cell_type": "markdown",
   "metadata": {},
   "source": [
    "Aparentemente no hay nulos en sí, pero si hay muchos valores '--'."
   ]
  },
  {
   "cell_type": "code",
   "execution_count": 512,
   "metadata": {},
   "outputs": [
    {
     "data": {
      "text/html": [
       "<div>\n",
       "<style scoped>\n",
       "    .dataframe tbody tr th:only-of-type {\n",
       "        vertical-align: middle;\n",
       "    }\n",
       "\n",
       "    .dataframe tbody tr th {\n",
       "        vertical-align: top;\n",
       "    }\n",
       "\n",
       "    .dataframe thead th {\n",
       "        text-align: right;\n",
       "    }\n",
       "</style>\n",
       "<table border=\"1\" class=\"dataframe\">\n",
       "  <thead>\n",
       "    <tr style=\"text-align: right;\">\n",
       "      <th></th>\n",
       "      <th>provincia</th>\n",
       "      <th>partido</th>\n",
       "      <th>localidad</th>\n",
       "      <th>adsl</th>\n",
       "      <th>cablemodem</th>\n",
       "      <th>dial_up</th>\n",
       "      <th>fibra_optica</th>\n",
       "      <th>4g</th>\n",
       "      <th>3g</th>\n",
       "      <th>telefonia_fija</th>\n",
       "      <th>wireless</th>\n",
       "      <th>satelital</th>\n",
       "    </tr>\n",
       "  </thead>\n",
       "  <tbody>\n",
       "    <tr>\n",
       "      <th>0</th>\n",
       "      <td>buenos aires</td>\n",
       "      <td>9 de julio</td>\n",
       "      <td>alfredo demarchi (est. facundo quiroga)</td>\n",
       "      <td>si</td>\n",
       "      <td>--</td>\n",
       "      <td>--</td>\n",
       "      <td>--</td>\n",
       "      <td>si</td>\n",
       "      <td>si</td>\n",
       "      <td>si</td>\n",
       "      <td>--</td>\n",
       "      <td>--</td>\n",
       "    </tr>\n",
       "  </tbody>\n",
       "</table>\n",
       "</div>"
      ],
      "text/plain": [
       "      provincia     partido                                localidad adsl  \\\n",
       "0  buenos aires  9 de julio  alfredo demarchi (est. facundo quiroga)   si   \n",
       "\n",
       "  cablemodem dial_up fibra_optica  4g  3g telefonia_fija wireless satelital  \n",
       "0         --      --           --  si  si             si       --        --  "
      ]
     },
     "execution_count": 512,
     "metadata": {},
     "output_type": "execute_result"
    }
   ],
   "source": [
    "df_16.head(1)"
   ]
  },
  {
   "cell_type": "markdown",
   "metadata": {},
   "source": [
    "Antes de ocuparme de éstos, voy a cambiar el nombre de las columnas."
   ]
  },
  {
   "cell_type": "code",
   "execution_count": 509,
   "metadata": {},
   "outputs": [],
   "source": [
    "nuevas_columnas = {\n",
    "    'Provincia': 'provincia',\n",
    "    'Partido': 'partido',\n",
    "    'Localidad': 'localidad',\n",
    "    'ADSL': 'adsl',\n",
    "    'Cablemódem': 'cablemodem',\n",
    "    'Dial Up': 'dial_up',\n",
    "    'Fibra óptica': 'fibra_optica',\n",
    "    '4G': '4g',\n",
    "    '3G': '3g',\n",
    "    'Telefonía Fija': 'telefonia_fija',\n",
    "    'Wireless': 'wireless',\n",
    "    'Satelital': 'satelital'\n",
    "}\n",
    "df_16.rename(columns=nuevas_columnas, inplace=True)"
   ]
  },
  {
   "cell_type": "markdown",
   "metadata": {},
   "source": [
    "Sacando mayúsculas y tildes"
   ]
  },
  {
   "cell_type": "code",
   "execution_count": 511,
   "metadata": {},
   "outputs": [],
   "source": [
    "import unicodedata\n",
    "\n",
    "for column in df_16.columns:\n",
    "    if df_16[column].dtype == 'object':\n",
    "        df_16[column] = df_16[column].str.lower().apply(lambda x: unicodedata.normalize('NFKD', x).encode('ASCII', 'ignore').decode('utf-8'))"
   ]
  },
  {
   "cell_type": "markdown",
   "metadata": {},
   "source": [
    "Removiendo las ')(' y lo que está adentro de la columna 'localidad'"
   ]
  },
  {
   "cell_type": "code",
   "execution_count": 528,
   "metadata": {},
   "outputs": [],
   "source": [
    "df_16['localidad'] = df_16['localidad'].str.replace(r'\\([^)]*\\)', '', regex=True)"
   ]
  },
  {
   "cell_type": "code",
   "execution_count": 513,
   "metadata": {},
   "outputs": [],
   "source": [
    "df_16.to_csv('df_16.csv', index=False)"
   ]
  }
 ],
 "metadata": {
  "kernelspec": {
   "display_name": "Python 3",
   "language": "python",
   "name": "python3"
  },
  "language_info": {
   "codemirror_mode": {
    "name": "ipython",
    "version": 3
   },
   "file_extension": ".py",
   "mimetype": "text/x-python",
   "name": "python",
   "nbconvert_exporter": "python",
   "pygments_lexer": "ipython3",
   "version": "3.10.6"
  },
  "orig_nbformat": 4
 },
 "nbformat": 4,
 "nbformat_minor": 2
}
