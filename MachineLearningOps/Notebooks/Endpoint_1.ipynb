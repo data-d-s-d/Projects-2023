{
  "cells": [
    {
      "cell_type": "markdown",
      "metadata": {},
      "source": [
        "En este endpoint se nos pide la cantidad de items y porcentaje de contenido Free por año según empresa desarrolladora."
      ]
    },
    {
      "cell_type": "code",
      "execution_count": 1,
      "metadata": {
        "id": "GVKhVN2GimTd"
      },
      "outputs": [],
      "source": [
        "import pandas as pd\n",
        "import pyarrow.parquet as pq"
      ]
    },
    {
      "cell_type": "code",
      "execution_count": 16,
      "metadata": {
        "id": "fNODH_TliHrY"
      },
      "outputs": [],
      "source": [
        "df_steam_games = pq.read_table('Datos/df_steam_games_limpio_final.parquet').to_pandas()"
      ]
    },
    {
      "cell_type": "code",
      "execution_count": 37,
      "metadata": {},
      "outputs": [
        {
          "data": {
            "text/html": [
              "<div>\n",
              "<style scoped>\n",
              "    .dataframe tbody tr th:only-of-type {\n",
              "        vertical-align: middle;\n",
              "    }\n",
              "\n",
              "    .dataframe tbody tr th {\n",
              "        vertical-align: top;\n",
              "    }\n",
              "\n",
              "    .dataframe thead th {\n",
              "        text-align: right;\n",
              "    }\n",
              "</style>\n",
              "<table border=\"1\" class=\"dataframe\">\n",
              "  <thead>\n",
              "    <tr style=\"text-align: right;\">\n",
              "      <th></th>\n",
              "      <th>genres</th>\n",
              "      <th>app_name</th>\n",
              "      <th>tags</th>\n",
              "      <th>specs</th>\n",
              "      <th>price</th>\n",
              "      <th>id</th>\n",
              "      <th>developer</th>\n",
              "      <th>anio</th>\n",
              "    </tr>\n",
              "  </thead>\n",
              "  <tbody>\n",
              "    <tr>\n",
              "      <th>0</th>\n",
              "      <td>action</td>\n",
              "      <td>lost summoner kitty</td>\n",
              "      <td>strategy</td>\n",
              "      <td>single player</td>\n",
              "      <td>4.99</td>\n",
              "      <td>761140</td>\n",
              "      <td>kotoshiro</td>\n",
              "      <td>2018</td>\n",
              "    </tr>\n",
              "    <tr>\n",
              "      <th>1</th>\n",
              "      <td>action</td>\n",
              "      <td>lost summoner kitty</td>\n",
              "      <td>action</td>\n",
              "      <td>single player</td>\n",
              "      <td>4.99</td>\n",
              "      <td>761140</td>\n",
              "      <td>kotoshiro</td>\n",
              "      <td>2018</td>\n",
              "    </tr>\n",
              "    <tr>\n",
              "      <th>2</th>\n",
              "      <td>action</td>\n",
              "      <td>lost summoner kitty</td>\n",
              "      <td>indie</td>\n",
              "      <td>single player</td>\n",
              "      <td>4.99</td>\n",
              "      <td>761140</td>\n",
              "      <td>kotoshiro</td>\n",
              "      <td>2018</td>\n",
              "    </tr>\n",
              "    <tr>\n",
              "      <th>3</th>\n",
              "      <td>action</td>\n",
              "      <td>lost summoner kitty</td>\n",
              "      <td>casual</td>\n",
              "      <td>single player</td>\n",
              "      <td>4.99</td>\n",
              "      <td>761140</td>\n",
              "      <td>kotoshiro</td>\n",
              "      <td>2018</td>\n",
              "    </tr>\n",
              "    <tr>\n",
              "      <th>4</th>\n",
              "      <td>action</td>\n",
              "      <td>lost summoner kitty</td>\n",
              "      <td>simulation</td>\n",
              "      <td>single player</td>\n",
              "      <td>4.99</td>\n",
              "      <td>761140</td>\n",
              "      <td>kotoshiro</td>\n",
              "      <td>2018</td>\n",
              "    </tr>\n",
              "  </tbody>\n",
              "</table>\n",
              "</div>"
            ],
            "text/plain": [
              "   genres             app_name        tags          specs price      id  \\\n",
              "0  action  lost summoner kitty    strategy  single player  4.99  761140   \n",
              "1  action  lost summoner kitty      action  single player  4.99  761140   \n",
              "2  action  lost summoner kitty       indie  single player  4.99  761140   \n",
              "3  action  lost summoner kitty      casual  single player  4.99  761140   \n",
              "4  action  lost summoner kitty  simulation  single player  4.99  761140   \n",
              "\n",
              "   developer  anio  \n",
              "0  kotoshiro  2018  \n",
              "1  kotoshiro  2018  \n",
              "2  kotoshiro  2018  \n",
              "3  kotoshiro  2018  \n",
              "4  kotoshiro  2018  "
            ]
          },
          "execution_count": 37,
          "metadata": {},
          "output_type": "execute_result"
        }
      ],
      "source": [
        "df_steam_games.head(5)"
      ]
    },
    {
      "cell_type": "markdown",
      "metadata": {},
      "source": [
        "Voy a dropear los nulos de las columnas 'id' y 'developer' para que no entorpezcan el desarrollo de la actividad"
      ]
    },
    {
      "cell_type": "code",
      "execution_count": 17,
      "metadata": {
        "colab": {
          "base_uri": "https://localhost:8080/",
          "height": 293
        },
        "id": "WhqxX2ZtjDAz",
        "outputId": "a7b70df4-a297-4fdd-dfe1-e6adfb348506"
      },
      "outputs": [
        {
          "data": {
            "text/html": [
              "<div>\n",
              "<style scoped>\n",
              "    .dataframe tbody tr th:only-of-type {\n",
              "        vertical-align: middle;\n",
              "    }\n",
              "\n",
              "    .dataframe tbody tr th {\n",
              "        vertical-align: top;\n",
              "    }\n",
              "\n",
              "    .dataframe thead th {\n",
              "        text-align: right;\n",
              "    }\n",
              "</style>\n",
              "<table border=\"1\" class=\"dataframe\">\n",
              "  <thead>\n",
              "    <tr style=\"text-align: right;\">\n",
              "      <th></th>\n",
              "      <th>genres</th>\n",
              "      <th>app_name</th>\n",
              "      <th>tags</th>\n",
              "      <th>specs</th>\n",
              "      <th>price</th>\n",
              "      <th>id</th>\n",
              "      <th>developer</th>\n",
              "      <th>anio</th>\n",
              "    </tr>\n",
              "  </thead>\n",
              "  <tbody>\n",
              "    <tr>\n",
              "      <th>2020045</th>\n",
              "      <td>none</td>\n",
              "      <td>maze run vr</td>\n",
              "      <td>vr</td>\n",
              "      <td>htc vive</td>\n",
              "      <td>4.99</td>\n",
              "      <td>681550</td>\n",
              "      <td>none</td>\n",
              "      <td>0</td>\n",
              "    </tr>\n",
              "    <tr>\n",
              "      <th>2020046</th>\n",
              "      <td>none</td>\n",
              "      <td>maze run vr</td>\n",
              "      <td>vr</td>\n",
              "      <td>oculus rift</td>\n",
              "      <td>4.99</td>\n",
              "      <td>681550</td>\n",
              "      <td>none</td>\n",
              "      <td>0</td>\n",
              "    </tr>\n",
              "    <tr>\n",
              "      <th>2020047</th>\n",
              "      <td>none</td>\n",
              "      <td>maze run vr</td>\n",
              "      <td>vr</td>\n",
              "      <td>tracked motion controllers</td>\n",
              "      <td>4.99</td>\n",
              "      <td>681550</td>\n",
              "      <td>none</td>\n",
              "      <td>0</td>\n",
              "    </tr>\n",
              "    <tr>\n",
              "      <th>2020048</th>\n",
              "      <td>none</td>\n",
              "      <td>maze run vr</td>\n",
              "      <td>vr</td>\n",
              "      <td>standing</td>\n",
              "      <td>4.99</td>\n",
              "      <td>681550</td>\n",
              "      <td>none</td>\n",
              "      <td>0</td>\n",
              "    </tr>\n",
              "    <tr>\n",
              "      <th>2020049</th>\n",
              "      <td>none</td>\n",
              "      <td>maze run vr</td>\n",
              "      <td>vr</td>\n",
              "      <td>room scale</td>\n",
              "      <td>4.99</td>\n",
              "      <td>681550</td>\n",
              "      <td>none</td>\n",
              "      <td>0</td>\n",
              "    </tr>\n",
              "  </tbody>\n",
              "</table>\n",
              "</div>"
            ],
            "text/plain": [
              "        genres     app_name tags                       specs price      id  \\\n",
              "2020045   none  maze run vr   vr                    htc vive  4.99  681550   \n",
              "2020046   none  maze run vr   vr                 oculus rift  4.99  681550   \n",
              "2020047   none  maze run vr   vr  tracked motion controllers  4.99  681550   \n",
              "2020048   none  maze run vr   vr                    standing  4.99  681550   \n",
              "2020049   none  maze run vr   vr                  room scale  4.99  681550   \n",
              "\n",
              "        developer  anio  \n",
              "2020045      none     0  \n",
              "2020046      none     0  \n",
              "2020047      none     0  \n",
              "2020048      none     0  \n",
              "2020049      none     0  "
            ]
          },
          "execution_count": 17,
          "metadata": {},
          "output_type": "execute_result"
        }
      ],
      "source": [
        "df_steam_games.dropna(subset=['id'], inplace=True)\n",
        "df_steam_games.dropna(subset=['developer'], inplace=True)\n",
        "\n",
        "df_steam_games.tail(5)"
      ]
    },
    {
      "cell_type": "markdown",
      "metadata": {},
      "source": [
        "Todavía tengo nulos en la columna 'developer'. "
      ]
    },
    {
      "cell_type": "code",
      "execution_count": 40,
      "metadata": {
        "colab": {
          "base_uri": "https://localhost:8080/"
        },
        "id": "pKlUWpl9j-Gr",
        "outputId": "ac77edfd-1d93-4b83-8eed-d279c529076c"
      },
      "outputs": [
        {
          "data": {
            "text/plain": [
              "((86363, 8), (2020050, 8))"
            ]
          },
          "execution_count": 40,
          "metadata": {},
          "output_type": "execute_result"
        }
      ],
      "source": [
        "df_steam_games[df_steam_games['developer'] == 'none'].shape, df_steam_games.shape"
      ]
    },
    {
      "cell_type": "markdown",
      "metadata": {
        "id": "3_VvIljwnVTl"
      },
      "source": [
        "Elimino las filas creadas por el explode"
      ]
    },
    {
      "cell_type": "code",
      "execution_count": 39,
      "metadata": {
        "id": "cwhFqvumktVS"
      },
      "outputs": [],
      "source": [
        "df = df_steam_games.groupby('id').first().reset_index()"
      ]
    },
    {
      "cell_type": "code",
      "execution_count": 21,
      "metadata": {
        "colab": {
          "base_uri": "https://localhost:8080/",
          "height": 206
        },
        "id": "1szoa8OrmBed",
        "outputId": "5a8c5391-09a0-4502-e571-8fe1da16113f"
      },
      "outputs": [
        {
          "data": {
            "text/html": [
              "<div>\n",
              "<style scoped>\n",
              "    .dataframe tbody tr th:only-of-type {\n",
              "        vertical-align: middle;\n",
              "    }\n",
              "\n",
              "    .dataframe tbody tr th {\n",
              "        vertical-align: top;\n",
              "    }\n",
              "\n",
              "    .dataframe thead th {\n",
              "        text-align: right;\n",
              "    }\n",
              "</style>\n",
              "<table border=\"1\" class=\"dataframe\">\n",
              "  <thead>\n",
              "    <tr style=\"text-align: right;\">\n",
              "      <th></th>\n",
              "      <th>id</th>\n",
              "      <th>genres</th>\n",
              "      <th>app_name</th>\n",
              "      <th>tags</th>\n",
              "      <th>specs</th>\n",
              "      <th>price</th>\n",
              "      <th>developer</th>\n",
              "      <th>anio</th>\n",
              "    </tr>\n",
              "  </thead>\n",
              "  <tbody>\n",
              "    <tr>\n",
              "      <th>0</th>\n",
              "      <td>0</td>\n",
              "      <td>none</td>\n",
              "      <td>none</td>\n",
              "      <td>none</td>\n",
              "      <td>none</td>\n",
              "      <td>19.99</td>\n",
              "      <td>none</td>\n",
              "      <td>0</td>\n",
              "    </tr>\n",
              "    <tr>\n",
              "      <th>1</th>\n",
              "      <td>10</td>\n",
              "      <td>action</td>\n",
              "      <td>counter strike</td>\n",
              "      <td>action</td>\n",
              "      <td>multi player</td>\n",
              "      <td>9.99</td>\n",
              "      <td>valve</td>\n",
              "      <td>2000</td>\n",
              "    </tr>\n",
              "    <tr>\n",
              "      <th>2</th>\n",
              "      <td>20</td>\n",
              "      <td>action</td>\n",
              "      <td>team fortress classic</td>\n",
              "      <td>action</td>\n",
              "      <td>multi player</td>\n",
              "      <td>4.99</td>\n",
              "      <td>valve</td>\n",
              "      <td>1999</td>\n",
              "    </tr>\n",
              "    <tr>\n",
              "      <th>3</th>\n",
              "      <td>30</td>\n",
              "      <td>action</td>\n",
              "      <td>day of defeat</td>\n",
              "      <td>fps</td>\n",
              "      <td>multi player</td>\n",
              "      <td>4.99</td>\n",
              "      <td>valve</td>\n",
              "      <td>2003</td>\n",
              "    </tr>\n",
              "    <tr>\n",
              "      <th>4</th>\n",
              "      <td>40</td>\n",
              "      <td>action</td>\n",
              "      <td>deathmatch classic</td>\n",
              "      <td>action</td>\n",
              "      <td>multi player</td>\n",
              "      <td>4.99</td>\n",
              "      <td>valve</td>\n",
              "      <td>2001</td>\n",
              "    </tr>\n",
              "  </tbody>\n",
              "</table>\n",
              "</div>"
            ],
            "text/plain": [
              "   id  genres               app_name    tags         specs  price developer  \\\n",
              "0   0    none                   none    none          none  19.99      none   \n",
              "1  10  action         counter strike  action  multi player   9.99     valve   \n",
              "2  20  action  team fortress classic  action  multi player   4.99     valve   \n",
              "3  30  action          day of defeat     fps  multi player   4.99     valve   \n",
              "4  40  action     deathmatch classic  action  multi player   4.99     valve   \n",
              "\n",
              "   anio  \n",
              "0     0  \n",
              "1  2000  \n",
              "2  1999  \n",
              "3  2003  \n",
              "4  2001  "
            ]
          },
          "execution_count": 21,
          "metadata": {},
          "output_type": "execute_result"
        }
      ],
      "source": [
        "df.head()"
      ]
    },
    {
      "cell_type": "code",
      "execution_count": 41,
      "metadata": {
        "id": "ftFzfzx8t-3C"
      },
      "outputs": [],
      "source": [
        "df['price'] = df['price'].astype(float)"
      ]
    },
    {
      "cell_type": "markdown",
      "metadata": {
        "id": "O6JAjRssnamD"
      },
      "source": [
        "Elimino las columnas que no necesita consultar la query"
      ]
    },
    {
      "cell_type": "code",
      "execution_count": 47,
      "metadata": {
        "id": "S53emtkanepG"
      },
      "outputs": [],
      "source": [
        "df.drop(columns=['genres','app_name','tags','specs'], axis=1, inplace=True)"
      ]
    },
    {
      "cell_type": "code",
      "execution_count": 48,
      "metadata": {
        "id": "r02c7rkni9Y0"
      },
      "outputs": [],
      "source": [
        "import pyarrow.parquet as pq\n",
        "df.to_parquet('df_endpoint1.parquet')"
      ]
    },
    {
      "cell_type": "code",
      "execution_count": 49,
      "metadata": {
        "colab": {
          "base_uri": "https://localhost:8080/"
        },
        "id": "34zQWYI1Acc1",
        "outputId": "f3e7f3c5-ee7b-4343-e538-c49948fa99cf"
      },
      "outputs": [
        {
          "data": {
            "text/plain": [
              "(30756, 4)"
            ]
          },
          "execution_count": 49,
          "metadata": {},
          "output_type": "execute_result"
        }
      ],
      "source": [
        "df.shape"
      ]
    },
    {
      "cell_type": "markdown",
      "metadata": {},
      "source": [
        "Creo dos dataframes. Cantidad muestra la cantidad de juegos desarrollados por el developer por cada año, y cantidad_free muestra la cantidad de juegos gratis desarrollados por éste por cada año."
      ]
    },
    {
      "cell_type": "code",
      "execution_count": 50,
      "metadata": {
        "id": "kgBcdzvrdPkV"
      },
      "outputs": [],
      "source": [
        "cantidad = df[df['developer'] == 'developer'].groupby('anio').count()\n",
        "cantidad_free = df[(df['developer'] == 'developer') & (df['price'] == 0.0)].groupby('anio').count()"
      ]
    },
    {
      "cell_type": "markdown",
      "metadata": {},
      "source": [
        "Voy a probar con un ejemplo de developer 'valve'"
      ]
    },
    {
      "cell_type": "code",
      "execution_count": 51,
      "metadata": {
        "id": "RXHNxng8tGVH"
      },
      "outputs": [],
      "source": [
        "cantidad = df[df['developer'] == 'valve'].groupby('anio').count()\n",
        "cantidad_free = df[(df['developer'] == 'valve') & (df['price'] == 0.0)].groupby('anio').count()"
      ]
    },
    {
      "cell_type": "code",
      "execution_count": 52,
      "metadata": {
        "colab": {
          "base_uri": "https://localhost:8080/"
        },
        "id": "QyoH5nolrXh9",
        "outputId": "b62843e2-fcd8-49df-ce39-7530bdefc915"
      },
      "outputs": [
        {
          "data": {
            "text/plain": [
              "developer\n",
              "valve    25\n",
              "Name: count, dtype: int64"
            ]
          },
          "execution_count": 52,
          "metadata": {},
          "output_type": "execute_result"
        }
      ],
      "source": [
        "df['developer'][df['developer'] == 'valve'].value_counts()"
      ]
    },
    {
      "cell_type": "code",
      "execution_count": 53,
      "metadata": {
        "colab": {
          "base_uri": "https://localhost:8080/",
          "height": 175
        },
        "id": "EhOM3caEtsjV",
        "outputId": "a11e4b81-f6e2-4b5e-abb9-d31e2e4b78d5"
      },
      "outputs": [
        {
          "data": {
            "text/html": [
              "<div>\n",
              "<style scoped>\n",
              "    .dataframe tbody tr th:only-of-type {\n",
              "        vertical-align: middle;\n",
              "    }\n",
              "\n",
              "    .dataframe tbody tr th {\n",
              "        vertical-align: top;\n",
              "    }\n",
              "\n",
              "    .dataframe thead th {\n",
              "        text-align: right;\n",
              "    }\n",
              "</style>\n",
              "<table border=\"1\" class=\"dataframe\">\n",
              "  <thead>\n",
              "    <tr style=\"text-align: right;\">\n",
              "      <th></th>\n",
              "      <th>id</th>\n",
              "      <th>price</th>\n",
              "      <th>developer</th>\n",
              "    </tr>\n",
              "    <tr>\n",
              "      <th>anio</th>\n",
              "      <th></th>\n",
              "      <th></th>\n",
              "      <th></th>\n",
              "    </tr>\n",
              "  </thead>\n",
              "  <tbody>\n",
              "    <tr>\n",
              "      <th>2007</th>\n",
              "      <td>1</td>\n",
              "      <td>1</td>\n",
              "      <td>1</td>\n",
              "    </tr>\n",
              "    <tr>\n",
              "      <th>2010</th>\n",
              "      <td>1</td>\n",
              "      <td>1</td>\n",
              "      <td>1</td>\n",
              "    </tr>\n",
              "    <tr>\n",
              "      <th>2016</th>\n",
              "      <td>1</td>\n",
              "      <td>1</td>\n",
              "      <td>1</td>\n",
              "    </tr>\n",
              "  </tbody>\n",
              "</table>\n",
              "</div>"
            ],
            "text/plain": [
              "      id  price  developer\n",
              "anio                      \n",
              "2007   1      1          1\n",
              "2010   1      1          1\n",
              "2016   1      1          1"
            ]
          },
          "execution_count": 53,
          "metadata": {},
          "output_type": "execute_result"
        }
      ],
      "source": [
        "cantidad_free"
      ]
    },
    {
      "cell_type": "code",
      "execution_count": 54,
      "metadata": {
        "colab": {
          "base_uri": "https://localhost:8080/",
          "height": 551
        },
        "id": "5Epq9JV_sGDy",
        "outputId": "998148b0-6c4d-4ea2-88b7-e2ba3dd93527"
      },
      "outputs": [
        {
          "data": {
            "text/html": [
              "<div>\n",
              "<style scoped>\n",
              "    .dataframe tbody tr th:only-of-type {\n",
              "        vertical-align: middle;\n",
              "    }\n",
              "\n",
              "    .dataframe tbody tr th {\n",
              "        vertical-align: top;\n",
              "    }\n",
              "\n",
              "    .dataframe thead th {\n",
              "        text-align: right;\n",
              "    }\n",
              "</style>\n",
              "<table border=\"1\" class=\"dataframe\">\n",
              "  <thead>\n",
              "    <tr style=\"text-align: right;\">\n",
              "      <th></th>\n",
              "      <th>id</th>\n",
              "      <th>price</th>\n",
              "      <th>developer</th>\n",
              "    </tr>\n",
              "    <tr>\n",
              "      <th>anio</th>\n",
              "      <th></th>\n",
              "      <th></th>\n",
              "      <th></th>\n",
              "    </tr>\n",
              "  </thead>\n",
              "  <tbody>\n",
              "    <tr>\n",
              "      <th>1998</th>\n",
              "      <td>1</td>\n",
              "      <td>1</td>\n",
              "      <td>1</td>\n",
              "    </tr>\n",
              "    <tr>\n",
              "      <th>1999</th>\n",
              "      <td>1</td>\n",
              "      <td>1</td>\n",
              "      <td>1</td>\n",
              "    </tr>\n",
              "    <tr>\n",
              "      <th>2000</th>\n",
              "      <td>2</td>\n",
              "      <td>2</td>\n",
              "      <td>2</td>\n",
              "    </tr>\n",
              "    <tr>\n",
              "      <th>2001</th>\n",
              "      <td>1</td>\n",
              "      <td>1</td>\n",
              "      <td>1</td>\n",
              "    </tr>\n",
              "    <tr>\n",
              "      <th>2003</th>\n",
              "      <td>1</td>\n",
              "      <td>1</td>\n",
              "      <td>1</td>\n",
              "    </tr>\n",
              "    <tr>\n",
              "      <th>2004</th>\n",
              "      <td>5</td>\n",
              "      <td>5</td>\n",
              "      <td>5</td>\n",
              "    </tr>\n",
              "    <tr>\n",
              "      <th>2006</th>\n",
              "      <td>2</td>\n",
              "      <td>2</td>\n",
              "      <td>2</td>\n",
              "    </tr>\n",
              "    <tr>\n",
              "      <th>2007</th>\n",
              "      <td>3</td>\n",
              "      <td>3</td>\n",
              "      <td>3</td>\n",
              "    </tr>\n",
              "    <tr>\n",
              "      <th>2008</th>\n",
              "      <td>1</td>\n",
              "      <td>1</td>\n",
              "      <td>1</td>\n",
              "    </tr>\n",
              "    <tr>\n",
              "      <th>2009</th>\n",
              "      <td>1</td>\n",
              "      <td>1</td>\n",
              "      <td>1</td>\n",
              "    </tr>\n",
              "    <tr>\n",
              "      <th>2010</th>\n",
              "      <td>2</td>\n",
              "      <td>2</td>\n",
              "      <td>2</td>\n",
              "    </tr>\n",
              "    <tr>\n",
              "      <th>2011</th>\n",
              "      <td>1</td>\n",
              "      <td>1</td>\n",
              "      <td>1</td>\n",
              "    </tr>\n",
              "    <tr>\n",
              "      <th>2012</th>\n",
              "      <td>1</td>\n",
              "      <td>1</td>\n",
              "      <td>1</td>\n",
              "    </tr>\n",
              "    <tr>\n",
              "      <th>2016</th>\n",
              "      <td>1</td>\n",
              "      <td>1</td>\n",
              "      <td>1</td>\n",
              "    </tr>\n",
              "    <tr>\n",
              "      <th>2017</th>\n",
              "      <td>2</td>\n",
              "      <td>2</td>\n",
              "      <td>2</td>\n",
              "    </tr>\n",
              "  </tbody>\n",
              "</table>\n",
              "</div>"
            ],
            "text/plain": [
              "      id  price  developer\n",
              "anio                      \n",
              "1998   1      1          1\n",
              "1999   1      1          1\n",
              "2000   2      2          2\n",
              "2001   1      1          1\n",
              "2003   1      1          1\n",
              "2004   5      5          5\n",
              "2006   2      2          2\n",
              "2007   3      3          3\n",
              "2008   1      1          1\n",
              "2009   1      1          1\n",
              "2010   2      2          2\n",
              "2011   1      1          1\n",
              "2012   1      1          1\n",
              "2016   1      1          1\n",
              "2017   2      2          2"
            ]
          },
          "execution_count": 54,
          "metadata": {},
          "output_type": "execute_result"
        }
      ],
      "source": [
        "cantidad"
      ]
    },
    {
      "cell_type": "markdown",
      "metadata": {},
      "source": [
        "Voy a pasar los datos de los dataframes a listas para poder hacer el diccionario al final."
      ]
    },
    {
      "cell_type": "code",
      "execution_count": 55,
      "metadata": {
        "id": "4C7m9q07r0xZ"
      },
      "outputs": [],
      "source": [
        "cantidad_juegos = cantidad['developer'].tolist()\n",
        "cantidad_juegos_free = cantidad_free['developer'].tolist()"
      ]
    },
    {
      "cell_type": "code",
      "execution_count": 56,
      "metadata": {
        "id": "pFktZ8p7q4pa"
      },
      "outputs": [],
      "source": [
        "anio = cantidad.index.tolist()\n",
        "anio_free = cantidad_free.index.tolist()"
      ]
    },
    {
      "cell_type": "code",
      "execution_count": 57,
      "metadata": {
        "colab": {
          "base_uri": "https://localhost:8080/"
        },
        "id": "vdsGmbFfsqVw",
        "outputId": "b52e9c14-1d7f-4b4b-8852-5e396ec3a187"
      },
      "outputs": [
        {
          "data": {
            "text/plain": [
              "([1, 1, 2, 1, 1, 5, 2, 3, 1, 1, 2, 1, 1, 1, 2],\n",
              " [1998,\n",
              "  1999,\n",
              "  2000,\n",
              "  2001,\n",
              "  2003,\n",
              "  2004,\n",
              "  2006,\n",
              "  2007,\n",
              "  2008,\n",
              "  2009,\n",
              "  2010,\n",
              "  2011,\n",
              "  2012,\n",
              "  2016,\n",
              "  2017])"
            ]
          },
          "execution_count": 57,
          "metadata": {},
          "output_type": "execute_result"
        }
      ],
      "source": [
        "cantidad_juegos,anio"
      ]
    },
    {
      "cell_type": "code",
      "execution_count": 58,
      "metadata": {
        "colab": {
          "base_uri": "https://localhost:8080/"
        },
        "id": "iolr5DQD_C_2",
        "outputId": "764217f9-5145-4a67-a982-5ba1dd6d6bf5"
      },
      "outputs": [
        {
          "data": {
            "text/plain": [
              "([1, 1, 1], [2007, 2010, 2016])"
            ]
          },
          "execution_count": 58,
          "metadata": {},
          "output_type": "execute_result"
        }
      ],
      "source": [
        "cantidad_juegos_free,anio_free"
      ]
    },
    {
      "cell_type": "markdown",
      "metadata": {},
      "source": [
        "Este código usa un for loop para recorrer las lsitas y crear un diccionario con el año como clave, la cantidad de juegos desarrollados por el developer como valor y el porcentaje de juegos que son free."
      ]
    },
    {
      "cell_type": "code",
      "execution_count": 59,
      "metadata": {
        "id": "CohE63yFkMkS"
      },
      "outputs": [],
      "source": [
        "porc_cont_free = {}\n",
        "for i in range(len(anio)):\n",
        "  if anio[i] not in anio_free:\n",
        "    porc_cont_free[anio[i]] = [cantidad_juegos[i],\"0%\"]\n",
        "  else:\n",
        "    for j in range(len(anio_free)):\n",
        "      if anio_free[j]==anio[i]:\n",
        "        porc_cont_free[anio[i]] = [cantidad_juegos[i], cantidad_juegos_free[j]/cantidad_juegos[i]*100]"
      ]
    },
    {
      "cell_type": "code",
      "execution_count": 60,
      "metadata": {
        "colab": {
          "base_uri": "https://localhost:8080/"
        },
        "id": "o_0hRSI3oOzk",
        "outputId": "5f79062d-583b-42bd-80ee-1fe6bab93ac2"
      },
      "outputs": [
        {
          "data": {
            "text/plain": [
              "{1998: [1, '0%'],\n",
              " 1999: [1, '0%'],\n",
              " 2000: [2, '0%'],\n",
              " 2001: [1, '0%'],\n",
              " 2003: [1, '0%'],\n",
              " 2004: [5, '0%'],\n",
              " 2006: [2, '0%'],\n",
              " 2007: [3, 33.33333333333333],\n",
              " 2008: [1, '0%'],\n",
              " 2009: [1, '0%'],\n",
              " 2010: [2, 50.0],\n",
              " 2011: [1, '0%'],\n",
              " 2012: [1, '0%'],\n",
              " 2016: [1, 100.0],\n",
              " 2017: [2, '0%']}"
            ]
          },
          "execution_count": 60,
          "metadata": {},
          "output_type": "execute_result"
        }
      ],
      "source": [
        "porc_cont_free"
      ]
    }
  ],
  "metadata": {
    "colab": {
      "provenance": []
    },
    "kernelspec": {
      "display_name": "Python 3",
      "name": "python3"
    },
    "language_info": {
      "codemirror_mode": {
        "name": "ipython",
        "version": 3
      },
      "file_extension": ".py",
      "mimetype": "text/x-python",
      "name": "python",
      "nbconvert_exporter": "python",
      "pygments_lexer": "ipython3",
      "version": "3.10.6"
    }
  },
  "nbformat": 4,
  "nbformat_minor": 0
}
