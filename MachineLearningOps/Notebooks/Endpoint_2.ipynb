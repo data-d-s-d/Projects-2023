{
  "cells": [
    {
      "cell_type": "markdown",
      "metadata": {},
      "source": [
        "Para este endpoint tengo que devolver el usuario que acumula más horas jugadas para el género dado y una lista de la acumulación de horas jugadas por año de lanzamiento."
      ]
    },
    {
      "cell_type": "code",
      "execution_count": 1,
      "metadata": {
        "id": "8XAvCNtJnw-8"
      },
      "outputs": [],
      "source": [
        "import pandas as pd\n",
        "import pyarrow.parquet as pq"
      ]
    },
    {
      "cell_type": "code",
      "execution_count": 2,
      "metadata": {
        "id": "TOz_lUYyn5yJ"
      },
      "outputs": [],
      "source": [
        "df_reviews = pq.read_table('Datos/df_reviews_sentimiento.parquet').to_pandas()\n",
        "df_steam_games = pq.read_table('Datos/df_steam_games_limpio_final.parquet').to_pandas()\n"
      ]
    },
    {
      "cell_type": "markdown",
      "metadata": {},
      "source": [
        "Selecciono las columnas de los dataframes que voy a usar para el análisis"
      ]
    },
    {
      "cell_type": "code",
      "execution_count": 3,
      "metadata": {
        "id": "sIlfIU07oTaT"
      },
      "outputs": [],
      "source": [
        "df_reviews = df_reviews[['user_id','recommend','item_id']]\n",
        "df_steam_games = df_steam_games[['price','id']]"
      ]
    },
    {
      "cell_type": "markdown",
      "metadata": {},
      "source": [
        "Chequeo que las columnas con las que voy a hacer el merge (nuevamente inner join) sean del mismo tipo."
      ]
    },
    {
      "cell_type": "code",
      "execution_count": 4,
      "metadata": {
        "colab": {
          "base_uri": "https://localhost:8080/"
        },
        "id": "3Gph4X2upu_Z",
        "outputId": "1f00e44d-b821-4bbb-f13f-c891d2bf0a65"
      },
      "outputs": [
        {
          "data": {
            "text/plain": [
              "(numpy.int32, numpy.int64)"
            ]
          },
          "execution_count": 4,
          "metadata": {},
          "output_type": "execute_result"
        }
      ],
      "source": [
        "type(df_reviews['item_id'][0]),type(df_steam_games['id'][0])"
      ]
    },
    {
      "cell_type": "markdown",
      "metadata": {},
      "source": [
        "Hago el merge almacenandolo en la variable \"resultado\""
      ]
    },
    {
      "cell_type": "code",
      "execution_count": 5,
      "metadata": {
        "id": "PvkNnz4dop76"
      },
      "outputs": [],
      "source": [
        "resultado = df_reviews.merge(df_steam_games, left_on='item_id', right_on='id', how='inner')"
      ]
    },
    {
      "cell_type": "markdown",
      "metadata": {},
      "source": [
        "Dropeo la columna 'id', ya que no la necesito más"
      ]
    },
    {
      "cell_type": "code",
      "execution_count": 6,
      "metadata": {
        "colab": {
          "base_uri": "https://localhost:8080/"
        },
        "id": "sW813ebvqKze",
        "outputId": "63483b1c-a367-4b48-cb45-bb381aa0c101"
      },
      "outputs": [
        {
          "data": {
            "text/plain": [
              "(17207410, 4)"
            ]
          },
          "execution_count": 6,
          "metadata": {},
          "output_type": "execute_result"
        }
      ],
      "source": [
        "resultado.drop('id',axis=1,inplace=True)\n",
        "resultado.shape"
      ]
    },
    {
      "cell_type": "markdown",
      "metadata": {},
      "source": [
        "Ya que 'resultado' es muy grande , creo un nuev df pero que sólo mantenga las combinaciones únicas de 'user_id' e 'item_id'"
      ]
    },
    {
      "cell_type": "code",
      "execution_count": 7,
      "metadata": {
        "id": "c0Hrvf_rsTtq"
      },
      "outputs": [],
      "source": [
        "df = resultado.drop_duplicates(subset=['user_id', 'item_id'])\n"
      ]
    },
    {
      "cell_type": "code",
      "execution_count": 9,
      "metadata": {},
      "outputs": [
        {
          "data": {
            "text/plain": [
              "(52511, 4)"
            ]
          },
          "execution_count": 9,
          "metadata": {},
          "output_type": "execute_result"
        }
      ],
      "source": [
        "df.shape"
      ]
    },
    {
      "cell_type": "code",
      "execution_count": 14,
      "metadata": {
        "colab": {
          "base_uri": "https://localhost:8080/",
          "height": 206
        },
        "id": "PSUw4F4MtSfz",
        "outputId": "0e5a40c8-2093-4b91-de24-754090dd54fc"
      },
      "outputs": [
        {
          "data": {
            "text/html": [
              "<div>\n",
              "<style scoped>\n",
              "    .dataframe tbody tr th:only-of-type {\n",
              "        vertical-align: middle;\n",
              "    }\n",
              "\n",
              "    .dataframe tbody tr th {\n",
              "        vertical-align: top;\n",
              "    }\n",
              "\n",
              "    .dataframe thead th {\n",
              "        text-align: right;\n",
              "    }\n",
              "</style>\n",
              "<table border=\"1\" class=\"dataframe\">\n",
              "  <thead>\n",
              "    <tr style=\"text-align: right;\">\n",
              "      <th></th>\n",
              "      <th>user_id</th>\n",
              "      <th>recommend</th>\n",
              "      <th>item_id</th>\n",
              "      <th>price</th>\n",
              "    </tr>\n",
              "  </thead>\n",
              "  <tbody>\n",
              "    <tr>\n",
              "      <th>0</th>\n",
              "      <td>76561197970982479</td>\n",
              "      <td>true</td>\n",
              "      <td>1250</td>\n",
              "      <td>19.99</td>\n",
              "    </tr>\n",
              "    <tr>\n",
              "      <th>1</th>\n",
              "      <td>death hunter</td>\n",
              "      <td>true</td>\n",
              "      <td>1250</td>\n",
              "      <td>19.99</td>\n",
              "    </tr>\n",
              "    <tr>\n",
              "      <th>2</th>\n",
              "      <td>djkamber</td>\n",
              "      <td>true</td>\n",
              "      <td>1250</td>\n",
              "      <td>19.99</td>\n",
              "    </tr>\n",
              "    <tr>\n",
              "      <th>3</th>\n",
              "      <td>diego9031</td>\n",
              "      <td>true</td>\n",
              "      <td>1250</td>\n",
              "      <td>19.99</td>\n",
              "    </tr>\n",
              "    <tr>\n",
              "      <th>4</th>\n",
              "      <td>76561198081962345</td>\n",
              "      <td>true</td>\n",
              "      <td>1250</td>\n",
              "      <td>19.99</td>\n",
              "    </tr>\n",
              "  </tbody>\n",
              "</table>\n",
              "</div>"
            ],
            "text/plain": [
              "             user_id recommend  item_id  price\n",
              "0  76561197970982479      true     1250  19.99\n",
              "1       death hunter      true     1250  19.99\n",
              "2           djkamber      true     1250  19.99\n",
              "3          diego9031      true     1250  19.99\n",
              "4  76561198081962345      true     1250  19.99"
            ]
          },
          "execution_count": 14,
          "metadata": {},
          "output_type": "execute_result"
        }
      ],
      "source": [
        "df.head()"
      ]
    },
    {
      "cell_type": "code",
      "execution_count": 11,
      "metadata": {
        "id": "2Suq_Mz81shF"
      },
      "outputs": [],
      "source": [
        "df.reset_index(inplace=True)"
      ]
    },
    {
      "cell_type": "code",
      "execution_count": 13,
      "metadata": {
        "colab": {
          "base_uri": "https://localhost:8080/"
        },
        "id": "BecXZa482C0H",
        "outputId": "9f79dd1d-a951-4e6d-c6f3-2a839807a9b1"
      },
      "outputs": [
        {
          "name": "stderr",
          "output_type": "stream",
          "text": [
            "C:\\Users\\diego\\AppData\\Local\\Temp\\ipykernel_7608\\3666756689.py:1: SettingWithCopyWarning: \n",
            "A value is trying to be set on a copy of a slice from a DataFrame\n",
            "\n",
            "See the caveats in the documentation: https://pandas.pydata.org/pandas-docs/stable/user_guide/indexing.html#returning-a-view-versus-a-copy\n",
            "  df.drop(columns=['index'], axis=1, inplace=True)\n"
          ]
        }
      ],
      "source": [
        "df.drop(columns=['index'], axis=1, inplace=True)"
      ]
    },
    {
      "cell_type": "code",
      "execution_count": null,
      "metadata": {
        "colab": {
          "base_uri": "https://localhost:8080/",
          "height": 36
        },
        "id": "LKLWFhC8K6m_",
        "outputId": "2a52c5a6-cd63-4fb7-c767-d743b2dcfb30"
      },
      "outputs": [
        {
          "data": {
            "application/vnd.google.colaboratory.intrinsic+json": {
              "type": "string"
            },
            "text/plain": [
              "'76561197970982479'"
            ]
          },
          "execution_count": 150,
          "metadata": {},
          "output_type": "execute_result"
        }
      ],
      "source": [
        "df['user_id'][0]"
      ]
    },
    {
      "cell_type": "code",
      "execution_count": 15,
      "metadata": {
        "id": "_eb6dVnSyKj8"
      },
      "outputs": [],
      "source": [
        "import pyarrow.parquet as pq\n",
        "df.to_parquet('df_endpoint3.parquet')"
      ]
    },
    {
      "cell_type": "markdown",
      "metadata": {},
      "source": [
        "Creo dos variables nuevas: cantidad y dinero. Cantidad almacena un recuento de recommend:true y recommend:false, mientras que dinero cuenta la cantidad de dinero gastada por el usuario. Usaría el primer usuario que encuentro para probar que funcione todo, pero me parece mejor probar con alguno que tenga tantos comentarios positivos como negativos"
      ]
    },
    {
      "cell_type": "code",
      "execution_count": 20,
      "metadata": {
        "id": "Ams5aDjXqkq2"
      },
      "outputs": [],
      "source": [
        "cantidad = df[(df['user_id'] == 'mercoledi')].groupby('recommend').count()\n",
        "\n",
        "dinero = df[(df['user_id'] == 'mercoledi')].groupby('price').count()"
      ]
    },
    {
      "cell_type": "code",
      "execution_count": 21,
      "metadata": {
        "colab": {
          "base_uri": "https://localhost:8080/",
          "height": 112
        },
        "id": "xmem_Wofq1Tc",
        "outputId": "8cce1a62-8920-49ff-9c17-5f1890f84de1"
      },
      "outputs": [
        {
          "data": {
            "text/html": [
              "<div>\n",
              "<style scoped>\n",
              "    .dataframe tbody tr th:only-of-type {\n",
              "        vertical-align: middle;\n",
              "    }\n",
              "\n",
              "    .dataframe tbody tr th {\n",
              "        vertical-align: top;\n",
              "    }\n",
              "\n",
              "    .dataframe thead th {\n",
              "        text-align: right;\n",
              "    }\n",
              "</style>\n",
              "<table border=\"1\" class=\"dataframe\">\n",
              "  <thead>\n",
              "    <tr style=\"text-align: right;\">\n",
              "      <th></th>\n",
              "      <th>user_id</th>\n",
              "      <th>item_id</th>\n",
              "      <th>price</th>\n",
              "    </tr>\n",
              "    <tr>\n",
              "      <th>recommend</th>\n",
              "      <th></th>\n",
              "      <th></th>\n",
              "      <th></th>\n",
              "    </tr>\n",
              "  </thead>\n",
              "  <tbody>\n",
              "    <tr>\n",
              "      <th>false</th>\n",
              "      <td>2</td>\n",
              "      <td>2</td>\n",
              "      <td>2</td>\n",
              "    </tr>\n",
              "    <tr>\n",
              "      <th>true</th>\n",
              "      <td>3</td>\n",
              "      <td>3</td>\n",
              "      <td>3</td>\n",
              "    </tr>\n",
              "  </tbody>\n",
              "</table>\n",
              "</div>"
            ],
            "text/plain": [
              "           user_id  item_id  price\n",
              "recommend                         \n",
              "false            2        2      2\n",
              "true             3        3      3"
            ]
          },
          "execution_count": 21,
          "metadata": {},
          "output_type": "execute_result"
        }
      ],
      "source": [
        "cantidad"
      ]
    },
    {
      "cell_type": "code",
      "execution_count": 24,
      "metadata": {
        "colab": {
          "base_uri": "https://localhost:8080/",
          "height": 175
        },
        "id": "-kfruuK4rLHk",
        "outputId": "96fd190d-d72c-4f1e-adf8-8e085f170347"
      },
      "outputs": [
        {
          "data": {
            "text/html": [
              "<div>\n",
              "<style scoped>\n",
              "    .dataframe tbody tr th:only-of-type {\n",
              "        vertical-align: middle;\n",
              "    }\n",
              "\n",
              "    .dataframe tbody tr th {\n",
              "        vertical-align: top;\n",
              "    }\n",
              "\n",
              "    .dataframe thead th {\n",
              "        text-align: right;\n",
              "    }\n",
              "</style>\n",
              "<table border=\"1\" class=\"dataframe\">\n",
              "  <thead>\n",
              "    <tr style=\"text-align: right;\">\n",
              "      <th></th>\n",
              "      <th>user_id</th>\n",
              "      <th>recommend</th>\n",
              "      <th>item_id</th>\n",
              "    </tr>\n",
              "    <tr>\n",
              "      <th>price</th>\n",
              "      <th></th>\n",
              "      <th></th>\n",
              "      <th></th>\n",
              "    </tr>\n",
              "  </thead>\n",
              "  <tbody>\n",
              "    <tr>\n",
              "      <th>0.0</th>\n",
              "      <td>1</td>\n",
              "      <td>1</td>\n",
              "      <td>1</td>\n",
              "    </tr>\n",
              "    <tr>\n",
              "      <th>14.99</th>\n",
              "      <td>1</td>\n",
              "      <td>1</td>\n",
              "      <td>1</td>\n",
              "    </tr>\n",
              "    <tr>\n",
              "      <th>19.99</th>\n",
              "      <td>2</td>\n",
              "      <td>2</td>\n",
              "      <td>2</td>\n",
              "    </tr>\n",
              "    <tr>\n",
              "      <th>9.99</th>\n",
              "      <td>1</td>\n",
              "      <td>1</td>\n",
              "      <td>1</td>\n",
              "    </tr>\n",
              "  </tbody>\n",
              "</table>\n",
              "</div>"
            ],
            "text/plain": [
              "       user_id  recommend  item_id\n",
              "price                             \n",
              "0.0          1          1        1\n",
              "14.99        1          1        1\n",
              "19.99        2          2        2\n",
              "9.99         1          1        1"
            ]
          },
          "execution_count": 24,
          "metadata": {},
          "output_type": "execute_result"
        }
      ],
      "source": [
        "dinero"
      ]
    },
    {
      "cell_type": "markdown",
      "metadata": {},
      "source": [
        "spent es el dinero gastado introducido en una lista"
      ]
    },
    {
      "cell_type": "code",
      "execution_count": 25,
      "metadata": {
        "id": "rbNUE0XmvNhG"
      },
      "outputs": [],
      "source": [
        "spent = dinero.index.tolist()"
      ]
    },
    {
      "cell_type": "code",
      "execution_count": 26,
      "metadata": {
        "id": "Fvm9sZvvuX11"
      },
      "outputs": [],
      "source": [
        "recommend = cantidad.index.tolist()\n",
        "cantidad_items_recom = cantidad['item_id'].tolist()"
      ]
    },
    {
      "cell_type": "code",
      "execution_count": 29,
      "metadata": {
        "colab": {
          "base_uri": "https://localhost:8080/"
        },
        "id": "4UbsV4FauxZ8",
        "outputId": "37faddaf-774f-4bcc-eb90-46694b102950"
      },
      "outputs": [
        {
          "data": {
            "text/plain": [
              "(['false', 'true'], [2, 3], ['0.0', '14.99', '19.99', '9.99'])"
            ]
          },
          "execution_count": 29,
          "metadata": {},
          "output_type": "execute_result"
        }
      ],
      "source": [
        "recommend, cantidad_items_recom, spent"
      ]
    },
    {
      "cell_type": "code",
      "execution_count": 30,
      "metadata": {
        "id": "2IdyIxH6w3-A"
      },
      "outputs": [],
      "source": [
        "spent = [float(value) for value in spent]"
      ]
    },
    {
      "cell_type": "markdown",
      "metadata": {},
      "source": [
        "Estoy probando la cantidad_items_recom[1] (los recommend=True) / la suma de los items * 100 para sacar el porcentaje de recomendación sobre el total, y por otro lado la suma del dinero gastado por el ususario"
      ]
    },
    {
      "cell_type": "code",
      "execution_count": 31,
      "metadata": {
        "colab": {
          "base_uri": "https://localhost:8080/"
        },
        "id": "6YGbQ7wTvrsk",
        "outputId": "a8184907-91e3-45f3-c3ed-9853b6be14cb"
      },
      "outputs": [
        {
          "data": {
            "text/plain": [
              "(60.0, 5, 44.97)"
            ]
          },
          "execution_count": 31,
          "metadata": {},
          "output_type": "execute_result"
        }
      ],
      "source": [
        "cantidad_items_recom[1]/sum(cantidad_items_recom)*100, sum(cantidad_items_recom), sum(spent)"
      ]
    },
    {
      "cell_type": "code",
      "execution_count": 34,
      "metadata": {
        "id": "ZlzrGBWjxx4P"
      },
      "outputs": [],
      "source": [
        "dicc = {\"Usuario X\" : 'mercoledi', \"Dinero gastado\": sum(spent), \"% de recomendación\": cantidad_items_recom[1]/sum(cantidad_items_recom)*100, \"cantidad de items\": sum(cantidad_items_recom)}"
      ]
    },
    {
      "cell_type": "code",
      "execution_count": 35,
      "metadata": {
        "colab": {
          "base_uri": "https://localhost:8080/"
        },
        "id": "6KLeHLRQ0XB4",
        "outputId": "8b731f5c-e2ec-4cf4-9f18-ac30213e1546"
      },
      "outputs": [
        {
          "data": {
            "text/plain": [
              "{'Usuario X': 'mercoledi',\n",
              " 'Dinero gastado': 44.97,\n",
              " '% de recomendación': 60.0,\n",
              " 'cantidad de items': 5}"
            ]
          },
          "execution_count": 35,
          "metadata": {},
          "output_type": "execute_result"
        }
      ],
      "source": [
        "dicc"
      ]
    }
  ],
  "metadata": {
    "colab": {
      "provenance": []
    },
    "kernelspec": {
      "display_name": "Python 3",
      "name": "python3"
    },
    "language_info": {
      "codemirror_mode": {
        "name": "ipython",
        "version": 3
      },
      "file_extension": ".py",
      "mimetype": "text/x-python",
      "name": "python",
      "nbconvert_exporter": "python",
      "pygments_lexer": "ipython3",
      "version": "3.10.6"
    }
  },
  "nbformat": 4,
  "nbformat_minor": 0
}
