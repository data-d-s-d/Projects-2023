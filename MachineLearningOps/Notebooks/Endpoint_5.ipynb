{
  "cells": [
    {
      "cell_type": "markdown",
      "metadata": {},
      "source": [
        "Para este endpoint se nos pide devolver el top 3 de desarrolladores con juegos MÁS recomendados por usuarios para el año dado. (reviews.recommend = True y comentarios positivos). Para esto voy a usar la columna sentiment_analysis creada a partir del modelo de machine learning aplicada a la columna clean_reviews. Sentiment analysis tiene valores 0 para reviews malas, 1 para reviews neutrales o nulas y 2 para reviews buenas."
      ]
    },
    {
      "cell_type": "code",
      "execution_count": 1,
      "metadata": {
        "id": "7mHEKQAfGK4U"
      },
      "outputs": [],
      "source": [
        "import pandas as pd\n",
        "import pyarrow.parquet as pq"
      ]
    },
    {
      "cell_type": "code",
      "execution_count": 2,
      "metadata": {
        "colab": {
          "base_uri": "https://localhost:8080/",
          "height": 504
        },
        "id": "AY-Jx_NDOcjz",
        "outputId": "9f336fb1-b153-481f-c890-619c1eabf7fb"
      },
      "outputs": [
        {
          "data": {
            "text/html": [
              "<div>\n",
              "<style scoped>\n",
              "    .dataframe tbody tr th:only-of-type {\n",
              "        vertical-align: middle;\n",
              "    }\n",
              "\n",
              "    .dataframe tbody tr th {\n",
              "        vertical-align: top;\n",
              "    }\n",
              "\n",
              "    .dataframe thead th {\n",
              "        text-align: right;\n",
              "    }\n",
              "</style>\n",
              "<table border=\"1\" class=\"dataframe\">\n",
              "  <thead>\n",
              "    <tr style=\"text-align: right;\">\n",
              "      <th></th>\n",
              "      <th>user_id</th>\n",
              "      <th>posted</th>\n",
              "      <th>item_id</th>\n",
              "      <th>recommend</th>\n",
              "      <th>review</th>\n",
              "      <th>clean_reviews</th>\n",
              "      <th>sentiment_analysis</th>\n",
              "    </tr>\n",
              "  </thead>\n",
              "  <tbody>\n",
              "    <tr>\n",
              "      <th>0</th>\n",
              "      <td>76561197970982479</td>\n",
              "      <td>2011</td>\n",
              "      <td>1250</td>\n",
              "      <td>true</td>\n",
              "      <td>simple yet with great replayability. in my opi...</td>\n",
              "      <td>simple yet great replayability opinion zombie ...</td>\n",
              "      <td>2</td>\n",
              "    </tr>\n",
              "    <tr>\n",
              "      <th>1</th>\n",
              "      <td>76561197970982479</td>\n",
              "      <td>2011</td>\n",
              "      <td>22200</td>\n",
              "      <td>true</td>\n",
              "      <td>its unique and worth a playthrough.</td>\n",
              "      <td>unique worth playthrough</td>\n",
              "      <td>2</td>\n",
              "    </tr>\n",
              "    <tr>\n",
              "      <th>2</th>\n",
              "      <td>76561197970982479</td>\n",
              "      <td>2011</td>\n",
              "      <td>43110</td>\n",
              "      <td>true</td>\n",
              "      <td>great atmosphere. the gunplay can be a bit chu...</td>\n",
              "      <td>great atmosphere gunplay bit chunky time end d...</td>\n",
              "      <td>2</td>\n",
              "    </tr>\n",
              "    <tr>\n",
              "      <th>3</th>\n",
              "      <td>js41637</td>\n",
              "      <td>2014</td>\n",
              "      <td>251610</td>\n",
              "      <td>true</td>\n",
              "      <td>i know what you think when you see this title ...</td>\n",
              "      <td>know think see title barbie dreamhouse party i...</td>\n",
              "      <td>2</td>\n",
              "    </tr>\n",
              "    <tr>\n",
              "      <th>4</th>\n",
              "      <td>js41637</td>\n",
              "      <td>2013</td>\n",
              "      <td>227300</td>\n",
              "      <td>true</td>\n",
              "      <td>for a simple (its actually not all that simple...</td>\n",
              "      <td>simple actually simple truck driving simulator...</td>\n",
              "      <td>0</td>\n",
              "    </tr>\n",
              "  </tbody>\n",
              "</table>\n",
              "</div>"
            ],
            "text/plain": [
              "             user_id posted  item_id recommend  \\\n",
              "0  76561197970982479   2011     1250      true   \n",
              "1  76561197970982479   2011    22200      true   \n",
              "2  76561197970982479   2011    43110      true   \n",
              "3            js41637   2014   251610      true   \n",
              "4            js41637   2013   227300      true   \n",
              "\n",
              "                                              review  \\\n",
              "0  simple yet with great replayability. in my opi...   \n",
              "1                its unique and worth a playthrough.   \n",
              "2  great atmosphere. the gunplay can be a bit chu...   \n",
              "3  i know what you think when you see this title ...   \n",
              "4  for a simple (its actually not all that simple...   \n",
              "\n",
              "                                       clean_reviews  sentiment_analysis  \n",
              "0  simple yet great replayability opinion zombie ...                   2  \n",
              "1                           unique worth playthrough                   2  \n",
              "2  great atmosphere gunplay bit chunky time end d...                   2  \n",
              "3  know think see title barbie dreamhouse party i...                   2  \n",
              "4  simple actually simple truck driving simulator...                   0  "
            ]
          },
          "execution_count": 2,
          "metadata": {},
          "output_type": "execute_result"
        }
      ],
      "source": [
        "df_reviews = pq.read_table('Datos/df_reviews_sentimiento.parquet').to_pandas()\n",
        "df_reviews.head()"
      ]
    },
    {
      "cell_type": "code",
      "execution_count": 4,
      "metadata": {
        "colab": {
          "base_uri": "https://localhost:8080/"
        },
        "id": "gXiQUz7vO3mq",
        "outputId": "26012453-be24-4a6b-a172-8a632174528c"
      },
      "outputs": [
        {
          "data": {
            "text/plain": [
              "(59305, 7)"
            ]
          },
          "execution_count": 4,
          "metadata": {},
          "output_type": "execute_result"
        }
      ],
      "source": [
        "df_reviews.shape"
      ]
    },
    {
      "cell_type": "markdown",
      "metadata": {},
      "source": [
        "Selecciono las columnas que voy a usar de esta tabla:"
      ]
    },
    {
      "cell_type": "code",
      "execution_count": 6,
      "metadata": {
        "id": "EZkKoLx9QdNO"
      },
      "outputs": [],
      "source": [
        "df_endpoint2 = df_reviews[['item_id','sentiment_analysis']]"
      ]
    },
    {
      "cell_type": "markdown",
      "metadata": {},
      "source": [
        "Sólo voy a usar los valores de sentiment analysis 0 o 2, ya que los neutrales ni los nulos me importan para el análisis."
      ]
    },
    {
      "cell_type": "code",
      "execution_count": 7,
      "metadata": {
        "id": "FHISsrrIQzKd"
      },
      "outputs": [],
      "source": [
        "df_endpoint2 = df_endpoint2[(df_endpoint2['sentiment_analysis'] == 0) | (df_endpoint2['sentiment_analysis'] == 2)]"
      ]
    },
    {
      "cell_type": "code",
      "execution_count": 17,
      "metadata": {
        "colab": {
          "base_uri": "https://localhost:8080/"
        },
        "id": "60-6L5NIRdm6",
        "outputId": "71315d04-5dac-4a03-bd84-cc35afe1f947"
      },
      "outputs": [
        {
          "data": {
            "text/plain": [
              "sentiment_analysis\n",
              "2    31133\n",
              "0    14232\n",
              "Name: count, dtype: int64"
            ]
          },
          "execution_count": 17,
          "metadata": {},
          "output_type": "execute_result"
        }
      ],
      "source": [
        "df_endpoint2['sentiment_analysis'].value_counts()"
      ]
    },
    {
      "cell_type": "markdown",
      "metadata": {},
      "source": [
        "Como tengo que usar también la tabla steam_games, la voy a traer para ver qué datos necesito y poder seguir con la actividad"
      ]
    },
    {
      "cell_type": "code",
      "execution_count": 18,
      "metadata": {
        "id": "IWsC1M2pR2sb"
      },
      "outputs": [],
      "source": [
        "df_steam_games = pq.read_table('df_endpoint1.parquet').to_pandas()"
      ]
    },
    {
      "cell_type": "markdown",
      "metadata": {},
      "source": [
        "Me quedo con las columnas que voy a usar"
      ]
    },
    {
      "cell_type": "code",
      "execution_count": 19,
      "metadata": {
        "id": "zqwdsf5bS8Ey"
      },
      "outputs": [],
      "source": [
        "df_steam_games.drop(columns=['price','anio'], axis=1, inplace=True)"
      ]
    },
    {
      "cell_type": "code",
      "execution_count": 20,
      "metadata": {
        "colab": {
          "base_uri": "https://localhost:8080/",
          "height": 206
        },
        "id": "H1iL306TSGjd",
        "outputId": "c43d651c-95c5-4c2c-9a81-3d54c8a12db3"
      },
      "outputs": [
        {
          "data": {
            "text/html": [
              "<div>\n",
              "<style scoped>\n",
              "    .dataframe tbody tr th:only-of-type {\n",
              "        vertical-align: middle;\n",
              "    }\n",
              "\n",
              "    .dataframe tbody tr th {\n",
              "        vertical-align: top;\n",
              "    }\n",
              "\n",
              "    .dataframe thead th {\n",
              "        text-align: right;\n",
              "    }\n",
              "</style>\n",
              "<table border=\"1\" class=\"dataframe\">\n",
              "  <thead>\n",
              "    <tr style=\"text-align: right;\">\n",
              "      <th></th>\n",
              "      <th>id</th>\n",
              "      <th>developer</th>\n",
              "    </tr>\n",
              "  </thead>\n",
              "  <tbody>\n",
              "    <tr>\n",
              "      <th>0</th>\n",
              "      <td>0</td>\n",
              "      <td>none</td>\n",
              "    </tr>\n",
              "    <tr>\n",
              "      <th>1</th>\n",
              "      <td>10</td>\n",
              "      <td>valve</td>\n",
              "    </tr>\n",
              "    <tr>\n",
              "      <th>2</th>\n",
              "      <td>20</td>\n",
              "      <td>valve</td>\n",
              "    </tr>\n",
              "    <tr>\n",
              "      <th>3</th>\n",
              "      <td>30</td>\n",
              "      <td>valve</td>\n",
              "    </tr>\n",
              "    <tr>\n",
              "      <th>4</th>\n",
              "      <td>40</td>\n",
              "      <td>valve</td>\n",
              "    </tr>\n",
              "  </tbody>\n",
              "</table>\n",
              "</div>"
            ],
            "text/plain": [
              "   id developer\n",
              "0   0      none\n",
              "1  10     valve\n",
              "2  20     valve\n",
              "3  30     valve\n",
              "4  40     valve"
            ]
          },
          "execution_count": 20,
          "metadata": {},
          "output_type": "execute_result"
        }
      ],
      "source": [
        "df_steam_games.head()"
      ]
    },
    {
      "cell_type": "code",
      "execution_count": 21,
      "metadata": {
        "colab": {
          "base_uri": "https://localhost:8080/",
          "height": 206
        },
        "id": "c5b9ZelcS2Jj",
        "outputId": "eca7def3-1e38-40e8-e6ac-e273b42bcd69"
      },
      "outputs": [
        {
          "data": {
            "text/html": [
              "<div>\n",
              "<style scoped>\n",
              "    .dataframe tbody tr th:only-of-type {\n",
              "        vertical-align: middle;\n",
              "    }\n",
              "\n",
              "    .dataframe tbody tr th {\n",
              "        vertical-align: top;\n",
              "    }\n",
              "\n",
              "    .dataframe thead th {\n",
              "        text-align: right;\n",
              "    }\n",
              "</style>\n",
              "<table border=\"1\" class=\"dataframe\">\n",
              "  <thead>\n",
              "    <tr style=\"text-align: right;\">\n",
              "      <th></th>\n",
              "      <th>item_id</th>\n",
              "      <th>sentiment_analysis</th>\n",
              "    </tr>\n",
              "  </thead>\n",
              "  <tbody>\n",
              "    <tr>\n",
              "      <th>0</th>\n",
              "      <td>1250</td>\n",
              "      <td>2</td>\n",
              "    </tr>\n",
              "    <tr>\n",
              "      <th>1</th>\n",
              "      <td>22200</td>\n",
              "      <td>2</td>\n",
              "    </tr>\n",
              "    <tr>\n",
              "      <th>2</th>\n",
              "      <td>43110</td>\n",
              "      <td>2</td>\n",
              "    </tr>\n",
              "    <tr>\n",
              "      <th>3</th>\n",
              "      <td>251610</td>\n",
              "      <td>2</td>\n",
              "    </tr>\n",
              "    <tr>\n",
              "      <th>4</th>\n",
              "      <td>227300</td>\n",
              "      <td>0</td>\n",
              "    </tr>\n",
              "  </tbody>\n",
              "</table>\n",
              "</div>"
            ],
            "text/plain": [
              "   item_id  sentiment_analysis\n",
              "0     1250                   2\n",
              "1    22200                   2\n",
              "2    43110                   2\n",
              "3   251610                   2\n",
              "4   227300                   0"
            ]
          },
          "execution_count": 21,
          "metadata": {},
          "output_type": "execute_result"
        }
      ],
      "source": [
        "df_endpoint2.head()"
      ]
    },
    {
      "cell_type": "markdown",
      "metadata": {},
      "source": [
        "Hago el marge (innter join, ya que quiero solo los resultados que coincidan en ambas tablas) entre las dos tablas con el nombre de variable \"resultado\""
      ]
    },
    {
      "cell_type": "code",
      "execution_count": 22,
      "metadata": {
        "id": "dJtxF8xTTINJ"
      },
      "outputs": [],
      "source": [
        "resultado = df_steam_games.merge(df_endpoint2, left_on='id', right_on='item_id', how='inner')"
      ]
    },
    {
      "cell_type": "code",
      "execution_count": 23,
      "metadata": {
        "colab": {
          "base_uri": "https://localhost:8080/",
          "height": 206
        },
        "id": "V5Dg1yWwTtd4",
        "outputId": "a7e51636-63f8-439d-9aee-092f90ffcf8c"
      },
      "outputs": [
        {
          "data": {
            "text/html": [
              "<div>\n",
              "<style scoped>\n",
              "    .dataframe tbody tr th:only-of-type {\n",
              "        vertical-align: middle;\n",
              "    }\n",
              "\n",
              "    .dataframe tbody tr th {\n",
              "        vertical-align: top;\n",
              "    }\n",
              "\n",
              "    .dataframe thead th {\n",
              "        text-align: right;\n",
              "    }\n",
              "</style>\n",
              "<table border=\"1\" class=\"dataframe\">\n",
              "  <thead>\n",
              "    <tr style=\"text-align: right;\">\n",
              "      <th></th>\n",
              "      <th>id</th>\n",
              "      <th>developer</th>\n",
              "      <th>item_id</th>\n",
              "      <th>sentiment_analysis</th>\n",
              "    </tr>\n",
              "  </thead>\n",
              "  <tbody>\n",
              "    <tr>\n",
              "      <th>0</th>\n",
              "      <td>10</td>\n",
              "      <td>valve</td>\n",
              "      <td>10</td>\n",
              "      <td>0</td>\n",
              "    </tr>\n",
              "    <tr>\n",
              "      <th>1</th>\n",
              "      <td>10</td>\n",
              "      <td>valve</td>\n",
              "      <td>10</td>\n",
              "      <td>0</td>\n",
              "    </tr>\n",
              "    <tr>\n",
              "      <th>2</th>\n",
              "      <td>10</td>\n",
              "      <td>valve</td>\n",
              "      <td>10</td>\n",
              "      <td>2</td>\n",
              "    </tr>\n",
              "    <tr>\n",
              "      <th>3</th>\n",
              "      <td>10</td>\n",
              "      <td>valve</td>\n",
              "      <td>10</td>\n",
              "      <td>2</td>\n",
              "    </tr>\n",
              "    <tr>\n",
              "      <th>4</th>\n",
              "      <td>10</td>\n",
              "      <td>valve</td>\n",
              "      <td>10</td>\n",
              "      <td>0</td>\n",
              "    </tr>\n",
              "  </tbody>\n",
              "</table>\n",
              "</div>"
            ],
            "text/plain": [
              "   id developer  item_id  sentiment_analysis\n",
              "0  10     valve       10                   0\n",
              "1  10     valve       10                   0\n",
              "2  10     valve       10                   2\n",
              "3  10     valve       10                   2\n",
              "4  10     valve       10                   0"
            ]
          },
          "execution_count": 23,
          "metadata": {},
          "output_type": "execute_result"
        }
      ],
      "source": [
        "resultado.head()"
      ]
    },
    {
      "cell_type": "code",
      "execution_count": 15,
      "metadata": {
        "colab": {
          "base_uri": "https://localhost:8080/"
        },
        "id": "73FRtgeATxXv",
        "outputId": "fad1a6cc-11f0-47b3-904c-82e16b0cf606"
      },
      "outputs": [
        {
          "data": {
            "text/plain": [
              "(40781, 4)"
            ]
          },
          "execution_count": 15,
          "metadata": {},
          "output_type": "execute_result"
        }
      ],
      "source": [
        "resultado.shape"
      ]
    },
    {
      "cell_type": "markdown",
      "metadata": {},
      "source": [
        "La columna 'developer' tiene algunos caracteres que quiero quitar:"
      ]
    },
    {
      "cell_type": "code",
      "execution_count": 25,
      "metadata": {
        "colab": {
          "base_uri": "https://localhost:8080/"
        },
        "id": "G4u64GIEUlgI",
        "outputId": "3f9a9c0f-32f9-49c8-f28f-f2db6a23d98e"
      },
      "outputs": [],
      "source": [
        "resultado['developer'] = resultado['developer'].str.replace('   ',' ').str.replace('.','')"
      ]
    },
    {
      "cell_type": "code",
      "execution_count": 26,
      "metadata": {
        "colab": {
          "base_uri": "https://localhost:8080/"
        },
        "id": "JWaH4447WAO2",
        "outputId": "3ddbbdae-f439-475a-f672-263148d06422"
      },
      "outputs": [
        {
          "name": "stdout",
          "output_type": "stream",
          "text": [
            "Collecting unidecode\n",
            "  Downloading Unidecode-1.3.7-py3-none-any.whl (235 kB)\n",
            "     -------------------------------------- 235.5/235.5 kB 1.3 MB/s eta 0:00:00\n",
            "Installing collected packages: unidecode\n",
            "Successfully installed unidecode-1.3.7\n"
          ]
        },
        {
          "name": "stderr",
          "output_type": "stream",
          "text": [
            "\n",
            "[notice] A new release of pip available: 22.2.1 -> 23.3.1\n",
            "[notice] To update, run: python.exe -m pip install --upgrade pip\n"
          ]
        }
      ],
      "source": [
        "!pip install unidecode\n",
        "from unidecode import unidecode\n",
        "resultado['developer'] = resultado['developer'].apply(unidecode)"
      ]
    },
    {
      "cell_type": "markdown",
      "metadata": {},
      "source": [
        "Limpieza general de resultado"
      ]
    },
    {
      "cell_type": "code",
      "execution_count": 27,
      "metadata": {
        "colab": {
          "base_uri": "https://localhost:8080/"
        },
        "id": "RjD52IPzW1gG",
        "outputId": "d3c716fa-284d-490a-ee4a-eda9af436a41"
      },
      "outputs": [],
      "source": [
        "# Reemplaza '-' por ' ' en todas las columnas\n",
        "resultado = resultado.apply(lambda x: x.str.replace('-', ' ') if x.dtype == \"object\" else x)\n",
        "\n",
        "# Reemplaza '!' por '' en todas las columnas\n",
        "resultado = resultado.apply(lambda x: x.str.replace('!', '') if x.dtype == \"object\" else x)\n",
        "\n",
        "# Reemplaza '¡' por '' en todas las columnas\n",
        "resultado = resultado.apply(lambda x: x.str.replace('¡', '') if x.dtype == \"object\" else x)\n",
        "\n",
        "# Reemplaza '?' por '' en todas las columnas\n",
        "resultado = resultado.apply(lambda x: x.str.replace('?', '') if x.dtype == \"object\" else x)\n",
        "\n",
        "# Reemplaza '¿' por '' en todas las columnas\n",
        "resultado = resultado.apply(lambda x: x.str.replace('¿', '') if x.dtype == \"object\" else x)\n",
        "\n",
        "# Reemplaza '\"' por '' en todas las columnas\n",
        "resultado = resultado.apply(lambda x: x.str.replace('\"', '') if x.dtype == \"object\" else x)\n",
        "\n",
        "# Reemplaza ''' por '' en todas las columnas\n",
        "resultado = resultado.apply(lambda x: x.str.replace(\"'\", '') if x.dtype == \"object\" else x)\n",
        "\n",
        "# Reemplaza ',' por '' en todas las columnas\n",
        "resultado = resultado.apply(lambda x: x.str.replace(\",\", '') if x.dtype == \"object\" else x)\n",
        "\n",
        "# Reemplaza '&' por '' en todas las columnas\n",
        "resultado = resultado.apply(lambda x: x.str.replace(\"&\", '') if x.dtype == \"object\" else x)\n",
        "\n",
        "# Reemplaza \"''\" por '' en todas las columnas\n",
        "resultado = resultado.apply(lambda x: x.str.replace(\"''\", '') if x.dtype == \"object\" else x)\n",
        "\n",
        "# Reemplaza \"_\" por '' en todas las columnas\n",
        "resultado = resultado.apply(lambda x: x.str.replace(\"_\", '') if x.dtype == \"object\" else x)\n",
        "\n",
        "# Reemplaza \"_\" por '' en todas las columnas\n",
        "resultado = resultado.apply(lambda x: x.str.replace(\"[\", '') if x.dtype == \"object\" else x)\n",
        "\n",
        "# Reemplaza \"_\" por '' en todas las columnas\n",
        "resultado = resultado.apply(lambda x: x.str.replace(\"]\", '') if x.dtype == \"object\" else x)\n",
        "\n",
        "# Reemplaza \"_\" por '' en todas las columnas\n",
        "resultado = resultado.apply(lambda x: x.str.replace(\";\", '') if x.dtype == \"object\" else x)\n",
        "\n",
        "# Reemplaza \"_\" por '' en todas las columnas\n",
        "resultado = resultado.apply(lambda x: x.str.replace(\"(\", '') if x.dtype == \"object\" else x)\n",
        "\n",
        "# Reemplaza \"_\" por '' en todas las columnas\n",
        "resultado = resultado.apply(lambda x: x.str.replace(\")\", '') if x.dtype == \"object\" else x)"
      ]
    },
    {
      "cell_type": "markdown",
      "metadata": {},
      "source": [
        "Siguiendo con la limpieza, hay developers que quiero corregir. Para esto hago una funcion que retire las palabras seleccionadas. Lo hice de esta manera porque no hay tantas filas que quiera cambiar:"
      ]
    },
    {
      "cell_type": "code",
      "execution_count": 28,
      "metadata": {
        "id": "0TqTOUHgZa0m"
      },
      "outputs": [],
      "source": [
        "words_to_remove = [\n",
        "    ' incferal interactive macferal interactive linux',\n",
        "    ' mac amp linux',\n",
        "    ' interactive mac',\n",
        "    ' interactive macferal interactive linux',\n",
        "    ' gamesaspyr macvirtual programming linux',\n",
        "    ' softwareaspyr mac amp linux',\n",
        "    ' interactive mac/linux',\n",
        "    'incferal interactive macferal interactive linux '\n",
        "]\n",
        "\n",
        "def clean_developer_name(name):\n",
        "    for word in words_to_remove:\n",
        "        name = name.replace(word, '').strip()\n",
        "    return name"
      ]
    },
    {
      "cell_type": "markdown",
      "metadata": {},
      "source": [
        "Creo una nueva columna aplicando la función a la columna 'developer'"
      ]
    },
    {
      "cell_type": "code",
      "execution_count": 32,
      "metadata": {
        "id": "rdEr4SMtZ3zb"
      },
      "outputs": [],
      "source": [
        "resultado['cleaned_developer_column'] = resultado['developer'].apply(clean_developer_name)"
      ]
    },
    {
      "cell_type": "code",
      "execution_count": 33,
      "metadata": {
        "id": "slzkY_t-adKU"
      },
      "outputs": [],
      "source": [
        "resultado['developer'] = resultado['cleaned_developer_column']"
      ]
    },
    {
      "cell_type": "markdown",
      "metadata": {},
      "source": [
        "Reemplazo una por la otra y dropeo la columna nueva. Ahora 'developer' debería estar limpia"
      ]
    },
    {
      "cell_type": "code",
      "execution_count": 34,
      "metadata": {
        "id": "_CNwh69Rair9"
      },
      "outputs": [],
      "source": [
        "resultado.drop('cleaned_developer_column',axis=1, inplace=True)"
      ]
    },
    {
      "cell_type": "markdown",
      "metadata": {},
      "source": [
        "Dropeo item_id tambien porque ya hay una columna con id"
      ]
    },
    {
      "cell_type": "code",
      "execution_count": 35,
      "metadata": {
        "id": "i_YLj8fRau13"
      },
      "outputs": [],
      "source": [
        "resultado.drop('item_id',axis=1, inplace=True)"
      ]
    },
    {
      "cell_type": "code",
      "execution_count": 36,
      "metadata": {
        "colab": {
          "base_uri": "https://localhost:8080/",
          "height": 206
        },
        "id": "OxcjywlMT0e4",
        "outputId": "bc79d0fd-31da-4151-f05a-656efc130703"
      },
      "outputs": [
        {
          "data": {
            "text/html": [
              "<div>\n",
              "<style scoped>\n",
              "    .dataframe tbody tr th:only-of-type {\n",
              "        vertical-align: middle;\n",
              "    }\n",
              "\n",
              "    .dataframe tbody tr th {\n",
              "        vertical-align: top;\n",
              "    }\n",
              "\n",
              "    .dataframe thead th {\n",
              "        text-align: right;\n",
              "    }\n",
              "</style>\n",
              "<table border=\"1\" class=\"dataframe\">\n",
              "  <thead>\n",
              "    <tr style=\"text-align: right;\">\n",
              "      <th></th>\n",
              "      <th>id</th>\n",
              "      <th>developer</th>\n",
              "      <th>sentiment_analysis</th>\n",
              "    </tr>\n",
              "  </thead>\n",
              "  <tbody>\n",
              "    <tr>\n",
              "      <th>0</th>\n",
              "      <td>10</td>\n",
              "      <td>valve</td>\n",
              "      <td>0</td>\n",
              "    </tr>\n",
              "    <tr>\n",
              "      <th>1</th>\n",
              "      <td>10</td>\n",
              "      <td>valve</td>\n",
              "      <td>0</td>\n",
              "    </tr>\n",
              "    <tr>\n",
              "      <th>2</th>\n",
              "      <td>10</td>\n",
              "      <td>valve</td>\n",
              "      <td>2</td>\n",
              "    </tr>\n",
              "    <tr>\n",
              "      <th>3</th>\n",
              "      <td>10</td>\n",
              "      <td>valve</td>\n",
              "      <td>2</td>\n",
              "    </tr>\n",
              "    <tr>\n",
              "      <th>4</th>\n",
              "      <td>10</td>\n",
              "      <td>valve</td>\n",
              "      <td>0</td>\n",
              "    </tr>\n",
              "  </tbody>\n",
              "</table>\n",
              "</div>"
            ],
            "text/plain": [
              "   id developer  sentiment_analysis\n",
              "0  10     valve                   0\n",
              "1  10     valve                   0\n",
              "2  10     valve                   2\n",
              "3  10     valve                   2\n",
              "4  10     valve                   0"
            ]
          },
          "execution_count": 36,
          "metadata": {},
          "output_type": "execute_result"
        }
      ],
      "source": [
        "resultado.head()"
      ]
    },
    {
      "cell_type": "code",
      "execution_count": 44,
      "metadata": {
        "id": "XhZKrWHpbG44"
      },
      "outputs": [],
      "source": [
        "import pyarrow.parquet as pq\n",
        "resultado.to_parquet('df_endpoint2.parquet')"
      ]
    },
    {
      "cell_type": "markdown",
      "metadata": {},
      "source": [
        "La variable \"cantidad\" almacena la cantidad de reviews positivas y negativas por developer. Voy a usar valve nuevamente porque es el primero que veo en el head()"
      ]
    },
    {
      "cell_type": "code",
      "execution_count": 47,
      "metadata": {
        "id": "xklVt6FCgcsE"
      },
      "outputs": [],
      "source": [
        "cantidad = resultado[(resultado['developer'] == 'valve')].groupby('sentiment_analysis').count()"
      ]
    },
    {
      "cell_type": "code",
      "execution_count": 48,
      "metadata": {
        "colab": {
          "base_uri": "https://localhost:8080/",
          "height": 143
        },
        "id": "T_hBzFylgkTz",
        "outputId": "056a008d-59a3-484b-d7c3-507973d218df"
      },
      "outputs": [
        {
          "data": {
            "text/html": [
              "<div>\n",
              "<style scoped>\n",
              "    .dataframe tbody tr th:only-of-type {\n",
              "        vertical-align: middle;\n",
              "    }\n",
              "\n",
              "    .dataframe tbody tr th {\n",
              "        vertical-align: top;\n",
              "    }\n",
              "\n",
              "    .dataframe thead th {\n",
              "        text-align: right;\n",
              "    }\n",
              "</style>\n",
              "<table border=\"1\" class=\"dataframe\">\n",
              "  <thead>\n",
              "    <tr style=\"text-align: right;\">\n",
              "      <th></th>\n",
              "      <th>id</th>\n",
              "      <th>developer</th>\n",
              "    </tr>\n",
              "    <tr>\n",
              "      <th>sentiment_analysis</th>\n",
              "      <th></th>\n",
              "      <th></th>\n",
              "    </tr>\n",
              "  </thead>\n",
              "  <tbody>\n",
              "    <tr>\n",
              "      <th>0</th>\n",
              "      <td>1807</td>\n",
              "      <td>1807</td>\n",
              "    </tr>\n",
              "    <tr>\n",
              "      <th>2</th>\n",
              "      <td>4982</td>\n",
              "      <td>4982</td>\n",
              "    </tr>\n",
              "  </tbody>\n",
              "</table>\n",
              "</div>"
            ],
            "text/plain": [
              "                      id  developer\n",
              "sentiment_analysis                 \n",
              "0                   1807       1807\n",
              "2                   4982       4982"
            ]
          },
          "execution_count": 48,
          "metadata": {},
          "output_type": "execute_result"
        }
      ],
      "source": [
        "cantidad"
      ]
    },
    {
      "cell_type": "markdown",
      "metadata": {},
      "source": [
        "Nuevamente creo dos listas para devolver el resultado en formato diccionario"
      ]
    },
    {
      "cell_type": "code",
      "execution_count": 49,
      "metadata": {
        "id": "V3_lyZvghA2W"
      },
      "outputs": [],
      "source": [
        "cantidad_reviews = cantidad['developer'].tolist()\n",
        "sentimiento = cantidad.index.tolist()"
      ]
    },
    {
      "cell_type": "code",
      "execution_count": 51,
      "metadata": {
        "colab": {
          "base_uri": "https://localhost:8080/"
        },
        "id": "JENaB2AwhOOI",
        "outputId": "fab650d9-2efb-44c4-b4f4-025c59a45267"
      },
      "outputs": [
        {
          "data": {
            "text/plain": [
              "([1807, 4982], [0, 2])"
            ]
          },
          "execution_count": 51,
          "metadata": {},
          "output_type": "execute_result"
        }
      ],
      "source": [
        "cantidad_reviews,sentimiento"
      ]
    },
    {
      "cell_type": "code",
      "execution_count": 52,
      "metadata": {
        "id": "Fvzf-btdig9r"
      },
      "outputs": [],
      "source": [
        "negativos = str(cantidad_reviews[0])\n",
        "negativos = 'Negativos: ' + negativos\n",
        "\n",
        "positivos = str(cantidad_reviews[1])\n",
        "positivos = 'Positivos: ' + positivos"
      ]
    },
    {
      "cell_type": "code",
      "execution_count": 53,
      "metadata": {
        "colab": {
          "base_uri": "https://localhost:8080/"
        },
        "id": "_fiBZWnIiwmQ",
        "outputId": "7d43db72-9e60-405b-979c-128f37a47d5e"
      },
      "outputs": [
        {
          "data": {
            "text/plain": [
              "('Negativos: 1807', 'Positivos: 4982')"
            ]
          },
          "execution_count": 53,
          "metadata": {},
          "output_type": "execute_result"
        }
      ],
      "source": [
        "negativos, positivos"
      ]
    },
    {
      "cell_type": "markdown",
      "metadata": {},
      "source": [
        "Ya tengo los valores que quiero, ahora sólo tengo que hacer el diccionario que sea retornado como resultado"
      ]
    },
    {
      "cell_type": "code",
      "execution_count": 56,
      "metadata": {
        "id": "8f9tGjiWhYcY"
      },
      "outputs": [],
      "source": [
        "dicc = {}\n",
        "dicc['valve'] = [negativos,positivos]"
      ]
    },
    {
      "cell_type": "code",
      "execution_count": 57,
      "metadata": {
        "colab": {
          "base_uri": "https://localhost:8080/"
        },
        "id": "8-3TVlk9hywA",
        "outputId": "50995fef-0cfa-4ac3-facf-e9660c0252b1"
      },
      "outputs": [
        {
          "data": {
            "text/plain": [
              "{'valve': ['Negativos: 1807', 'Positivos: 4982']}"
            ]
          },
          "execution_count": 57,
          "metadata": {},
          "output_type": "execute_result"
        }
      ],
      "source": [
        "dicc"
      ]
    }
  ],
  "metadata": {
    "colab": {
      "provenance": []
    },
    "kernelspec": {
      "display_name": "Python 3",
      "name": "python3"
    },
    "language_info": {
      "codemirror_mode": {
        "name": "ipython",
        "version": 3
      },
      "file_extension": ".py",
      "mimetype": "text/x-python",
      "name": "python",
      "nbconvert_exporter": "python",
      "pygments_lexer": "ipython3",
      "version": "3.10.6"
    }
  },
  "nbformat": 4,
  "nbformat_minor": 0
}
