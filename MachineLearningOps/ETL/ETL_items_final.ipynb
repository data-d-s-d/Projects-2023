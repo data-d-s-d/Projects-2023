{
 "cells": [
  {
   "cell_type": "code",
   "execution_count": 2,
   "metadata": {},
   "outputs": [],
   "source": [
    "import pandas as pd\n",
    "import pyarrow.parquet as pq"
   ]
  },
  {
   "cell_type": "code",
   "execution_count": 3,
   "metadata": {},
   "outputs": [],
   "source": [
    "df_items = pq.read_table('Datos/dfitemsOpen_compr.parquet').to_pandas()"
   ]
  },
  {
   "cell_type": "markdown",
   "metadata": {},
   "source": [
    "Borrando las filas donde los valores de todas las columnas sean nulos."
   ]
  },
  {
   "cell_type": "code",
   "execution_count": 4,
   "metadata": {},
   "outputs": [],
   "source": [
    "df_items = df_items.dropna(how='all')"
   ]
  },
  {
   "cell_type": "code",
   "execution_count": 5,
   "metadata": {},
   "outputs": [
    {
     "data": {
      "text/html": [
       "<div>\n",
       "<style scoped>\n",
       "    .dataframe tbody tr th:only-of-type {\n",
       "        vertical-align: middle;\n",
       "    }\n",
       "\n",
       "    .dataframe tbody tr th {\n",
       "        vertical-align: top;\n",
       "    }\n",
       "\n",
       "    .dataframe thead th {\n",
       "        text-align: right;\n",
       "    }\n",
       "</style>\n",
       "<table border=\"1\" class=\"dataframe\">\n",
       "  <thead>\n",
       "    <tr style=\"text-align: right;\">\n",
       "      <th></th>\n",
       "      <th>user_id</th>\n",
       "      <th>items_count</th>\n",
       "      <th>steam_id</th>\n",
       "      <th>user_url</th>\n",
       "      <th>item_id</th>\n",
       "      <th>item_name</th>\n",
       "      <th>playtime_forever</th>\n",
       "      <th>playtime_2weeks</th>\n",
       "      <th>0</th>\n",
       "    </tr>\n",
       "  </thead>\n",
       "  <tbody>\n",
       "    <tr>\n",
       "      <th>0</th>\n",
       "      <td>76561197970982479</td>\n",
       "      <td>277</td>\n",
       "      <td>76561197970982479</td>\n",
       "      <td>http://steamcommunity.com/profiles/76561197970...</td>\n",
       "      <td>10.0</td>\n",
       "      <td>Counter-Strike</td>\n",
       "      <td>6.0</td>\n",
       "      <td>0.0</td>\n",
       "      <td>NaN</td>\n",
       "    </tr>\n",
       "  </tbody>\n",
       "</table>\n",
       "</div>"
      ],
      "text/plain": [
       "             user_id  items_count           steam_id  \\\n",
       "0  76561197970982479          277  76561197970982479   \n",
       "\n",
       "                                            user_url  item_id       item_name  \\\n",
       "0  http://steamcommunity.com/profiles/76561197970...     10.0  Counter-Strike   \n",
       "\n",
       "   playtime_forever  playtime_2weeks   0  \n",
       "0               6.0              0.0 NaN  "
      ]
     },
     "execution_count": 5,
     "metadata": {},
     "output_type": "execute_result"
    }
   ],
   "source": [
    "df_items.head(1)"
   ]
  },
  {
   "cell_type": "code",
   "execution_count": 6,
   "metadata": {},
   "outputs": [],
   "source": [
    "df_items = df_items.drop(['0'], axis=1)"
   ]
  },
  {
   "cell_type": "code",
   "execution_count": 7,
   "metadata": {},
   "outputs": [
    {
     "data": {
      "text/plain": [
       "(4931615, 8)"
      ]
     },
     "execution_count": 7,
     "metadata": {},
     "output_type": "execute_result"
    }
   ],
   "source": [
    "df_items.shape"
   ]
  },
  {
   "cell_type": "code",
   "execution_count": 10,
   "metadata": {},
   "outputs": [
    {
     "data": {
      "text/plain": [
       "12910"
      ]
     },
     "execution_count": 10,
     "metadata": {},
     "output_type": "execute_result"
    }
   ],
   "source": [
    "df_items['playtime_forever'].isna().sum()"
   ]
  },
  {
   "cell_type": "markdown",
   "metadata": {},
   "source": [
    "Intenté reemplazar los nulos de 'playtime_forever' con los valores de 'playtime_2weeks' si los tenía, pero no reemplazó ninguno, así que voy a borrar directamente los nulos de 'playtime_forever'."
   ]
  },
  {
   "cell_type": "code",
   "execution_count": 9,
   "metadata": {},
   "outputs": [],
   "source": [
    "df_items['playtime_forever'].fillna(df_items['playtime_2weeks'], inplace=True)"
   ]
  },
  {
   "cell_type": "code",
   "execution_count": 11,
   "metadata": {},
   "outputs": [],
   "source": [
    "df_items.dropna(subset=['playtime_forever'], inplace=True)"
   ]
  },
  {
   "cell_type": "markdown",
   "metadata": {},
   "source": [
    "Como no tengo nulos en 'user_id' voy a borrar 'steam_id' y 'user_url'. También voy a cambiar el tipo de dato a int."
   ]
  },
  {
   "cell_type": "code",
   "execution_count": 12,
   "metadata": {},
   "outputs": [],
   "source": [
    "steam_id = df_items['steam_id']\n",
    "user_url = df_items['user_url']"
   ]
  },
  {
   "cell_type": "code",
   "execution_count": 13,
   "metadata": {},
   "outputs": [],
   "source": [
    "df_items.drop(columns=['steam_id', 'user_url'], axis=1, inplace=True)"
   ]
  },
  {
   "cell_type": "code",
   "execution_count": 14,
   "metadata": {},
   "outputs": [],
   "source": [
    "df_items['item_id'] = df_items['item_id'].astype(int)"
   ]
  },
  {
   "cell_type": "code",
   "execution_count": 15,
   "metadata": {},
   "outputs": [
    {
     "data": {
      "text/plain": [
       "numpy.int32"
      ]
     },
     "execution_count": 15,
     "metadata": {},
     "output_type": "execute_result"
    }
   ],
   "source": [
    "type(df_items['item_id'][0])"
   ]
  },
  {
   "cell_type": "markdown",
   "metadata": {},
   "source": [
    "Transformación del texto a todo minúsculas y limpieza de caracteres no alfanumericos."
   ]
  },
  {
   "cell_type": "code",
   "execution_count": 16,
   "metadata": {},
   "outputs": [],
   "source": [
    "df_items = df_items.apply(lambda x: x.astype(str).str.lower() if x.dtype == \"object\" else x)\n",
    "\n",
    "df_items = df_items.apply(lambda x: x.str.replace('-', ' ') if x.dtype == \"object\" else x)\n",
    "\n",
    "df_items = df_items.apply(lambda x: x.str.replace('!', '') if x.dtype == \"object\" else x)\n",
    "\n",
    "df_items = df_items.apply(lambda x: x.str.replace('¡', '') if x.dtype == \"object\" else x)\n",
    "\n",
    "df_items = df_items.apply(lambda x: x.str.replace('?', '') if x.dtype == \"object\" else x)\n",
    "\n",
    "df_items = df_items.apply(lambda x: x.str.replace('¿', '') if x.dtype == \"object\" else x)\n",
    "\n",
    "df_items = df_items.apply(lambda x: x.str.replace('\"', '') if x.dtype == \"object\" else x)\n",
    "\n",
    "df_items = df_items.apply(lambda x: x.str.replace(\"'\", '') if x.dtype == \"object\" else x)\n",
    "\n",
    "df_items = df_items.apply(lambda x: x.str.replace(\",\", '') if x.dtype == \"object\" else x)\n",
    "\n",
    "df_items = df_items.apply(lambda x: x.str.replace(\"&\", '') if x.dtype == \"object\" else x)\n",
    "\n",
    "df_items = df_items.apply(lambda x: x.str.replace(\"''\", '') if x.dtype == \"object\" else x)\n",
    "\n",
    "df_items = df_items.apply(lambda x: x.str.replace(\"_\", '') if x.dtype == \"object\" else x)"
   ]
  },
  {
   "cell_type": "code",
   "execution_count": 17,
   "metadata": {},
   "outputs": [
    {
     "data": {
      "text/html": [
       "<div>\n",
       "<style scoped>\n",
       "    .dataframe tbody tr th:only-of-type {\n",
       "        vertical-align: middle;\n",
       "    }\n",
       "\n",
       "    .dataframe tbody tr th {\n",
       "        vertical-align: top;\n",
       "    }\n",
       "\n",
       "    .dataframe thead th {\n",
       "        text-align: right;\n",
       "    }\n",
       "</style>\n",
       "<table border=\"1\" class=\"dataframe\">\n",
       "  <thead>\n",
       "    <tr style=\"text-align: right;\">\n",
       "      <th></th>\n",
       "      <th>user_id</th>\n",
       "      <th>items_count</th>\n",
       "      <th>item_id</th>\n",
       "      <th>item_name</th>\n",
       "      <th>playtime_forever</th>\n",
       "      <th>playtime_2weeks</th>\n",
       "    </tr>\n",
       "  </thead>\n",
       "  <tbody>\n",
       "    <tr>\n",
       "      <th>0</th>\n",
       "      <td>76561197970982479</td>\n",
       "      <td>277</td>\n",
       "      <td>10</td>\n",
       "      <td>counter strike</td>\n",
       "      <td>6.0</td>\n",
       "      <td>0.0</td>\n",
       "    </tr>\n",
       "    <tr>\n",
       "      <th>1</th>\n",
       "      <td>76561197970982479</td>\n",
       "      <td>277</td>\n",
       "      <td>20</td>\n",
       "      <td>team fortress classic</td>\n",
       "      <td>0.0</td>\n",
       "      <td>0.0</td>\n",
       "    </tr>\n",
       "    <tr>\n",
       "      <th>2</th>\n",
       "      <td>76561197970982479</td>\n",
       "      <td>277</td>\n",
       "      <td>30</td>\n",
       "      <td>day of defeat</td>\n",
       "      <td>7.0</td>\n",
       "      <td>0.0</td>\n",
       "    </tr>\n",
       "  </tbody>\n",
       "</table>\n",
       "</div>"
      ],
      "text/plain": [
       "             user_id  items_count  item_id              item_name  \\\n",
       "0  76561197970982479          277       10         counter strike   \n",
       "1  76561197970982479          277       20  team fortress classic   \n",
       "2  76561197970982479          277       30          day of defeat   \n",
       "\n",
       "   playtime_forever  playtime_2weeks  \n",
       "0               6.0              0.0  \n",
       "1               0.0              0.0  \n",
       "2               7.0              0.0  "
      ]
     },
     "execution_count": 17,
     "metadata": {},
     "output_type": "execute_result"
    }
   ],
   "source": [
    "df_items.head(3)"
   ]
  },
  {
   "cell_type": "markdown",
   "metadata": {},
   "source": [
    "La columna 'playtime_2weeks' ya no me sirve. La voy a borrar."
   ]
  },
  {
   "cell_type": "code",
   "execution_count": 18,
   "metadata": {},
   "outputs": [],
   "source": [
    "playtime_2weeks = df_items['playtime_2weeks']"
   ]
  },
  {
   "cell_type": "code",
   "execution_count": 19,
   "metadata": {},
   "outputs": [],
   "source": [
    "df_items.drop(columns='playtime_2weeks', axis=1, inplace=True)"
   ]
  },
  {
   "cell_type": "markdown",
   "metadata": {},
   "source": [
    "Hay muchos outliers de 'playtime_forever', algunos de los cuales son imposibles. Intenté reemplazarlos con la mediana pero \n",
    "no me funcionó. Voy a borrarlos."
   ]
  },
  {
   "cell_type": "markdown",
   "metadata": {},
   "source": [
    "Hay muchos outliers de 'playtime_forever', algunos de los cuales son imposibles. Los reemplacé con la mediana."
   ]
  },
  {
   "cell_type": "code",
   "execution_count": null,
   "metadata": {},
   "outputs": [],
   "source": [
    "# Detectamos outliers de la columna 'playtime_forever' \n",
    "q1 = df_items['playtime_forever'].quantile(0.25)\n",
    "q3 = df_items['playtime_forever'].quantile(0.75)\n",
    "iqr = q3 - q1"
   ]
  },
  {
   "cell_type": "code",
   "execution_count": null,
   "metadata": {},
   "outputs": [],
   "source": [
    "df_items.loc[df_items['playtime_forever'] > (q3 + 1.5 * iqr), 'playtime_forever'] = df_items['playtime_forever'].median()"
   ]
  },
  {
   "cell_type": "code",
   "execution_count": 21,
   "metadata": {},
   "outputs": [
    {
     "data": {
      "text/plain": [
       "user_id            items_count  item_id  item_name                     playtime_forever\n",
       "x03 suits          141          1900     earth 2160                    1.0                 3\n",
       "76561198081666970  46           407530   ark: survival of the fittest  0.0                 3\n",
       "76561198027488037  53           10       counter strike                0.0                 3\n",
       "76561198094973305  26           324810   toxikk                        0.0                 3\n",
       "                                304930   unturned                      5.0                 3\n",
       "                                                                                          ..\n",
       "76561198073201110  65           319630   life is strange™              118.0               1\n",
       "                                322330   dont starve together          134.0               1\n",
       "                                323370   tera                          520.0               1\n",
       "                                333930   dirty bomb                    13.0                1\n",
       "zzzmidmiss         69           422420   godus wars                    0.0                 1\n",
       "Name: count, Length: 4133126, dtype: int64"
      ]
     },
     "execution_count": 21,
     "metadata": {},
     "output_type": "execute_result"
    }
   ],
   "source": [
    "df_items.value_counts()"
   ]
  },
  {
   "cell_type": "code",
   "execution_count": 24,
   "metadata": {},
   "outputs": [],
   "source": [
    "import pyarrow.parquet as pq\n",
    "df_items.to_parquet('Datos/df_items_limpio_compr.parquet')"
   ]
  }
 ],
 "metadata": {
  "kernelspec": {
   "display_name": "Python 3",
   "language": "python",
   "name": "python3"
  },
  "language_info": {
   "codemirror_mode": {
    "name": "ipython",
    "version": 3
   },
   "file_extension": ".py",
   "mimetype": "text/x-python",
   "name": "python",
   "nbconvert_exporter": "python",
   "pygments_lexer": "ipython3",
   "version": "3.10.6"
  },
  "orig_nbformat": 4
 },
 "nbformat": 4,
 "nbformat_minor": 2
}
